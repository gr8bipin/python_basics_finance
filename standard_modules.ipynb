{
 "cells": [
  {
   "cell_type": "markdown",
   "id": "55277bf2",
   "metadata": {},
   "source": [
    "# 4.1 Standard Modules or Python Standard Library"
   ]
  },
  {
   "cell_type": "code",
   "execution_count": 2,
   "id": "0d063bc4",
   "metadata": {},
   "outputs": [],
   "source": [
    "# we can use sys module to access system level functionality through Python code\n",
    "# functionalities provided by the sys module"
   ]
  },
  {
   "cell_type": "markdown",
   "id": "d6d2be93",
   "metadata": {},
   "source": []
  },
  {
   "cell_type": "code",
   "execution_count": 3,
   "id": "6014104f",
   "metadata": {},
   "outputs": [],
   "source": [
    "# one particular module that deserves attention is sys, which is built into every Python interpreter\n",
    "# this module provides access to variable used or maintained by the interpreter and to functions that interact with the interpreter"
   ]
  },
  {
   "cell_type": "code",
   "execution_count": 4,
   "id": "3533c603",
   "metadata": {},
   "outputs": [],
   "source": [
    "import sys"
   ]
  },
  {
   "cell_type": "code",
   "execution_count": 5,
   "id": "19ce4cb5",
   "metadata": {},
   "outputs": [
    {
     "data": {
      "text/plain": [
       "'Copyright (c) 2001-2023 Python Software Foundation.\\nAll Rights Reserved.\\n\\nCopyright (c) 2000 BeOpen.com.\\nAll Rights Reserved.\\n\\nCopyright (c) 1995-2001 Corporation for National Research Initiatives.\\nAll Rights Reserved.\\n\\nCopyright (c) 1991-1995 Stichting Mathematisch Centrum, Amsterdam.\\nAll Rights Reserved.'"
      ]
     },
     "execution_count": 5,
     "metadata": {},
     "output_type": "execute_result"
    }
   ],
   "source": [
    "sys.copyright"
   ]
  },
  {
   "cell_type": "code",
   "execution_count": 6,
   "id": "2fcf4c02",
   "metadata": {},
   "outputs": [
    {
     "data": {
      "text/plain": [
       "'utf-8'"
      ]
     },
     "execution_count": 6,
     "metadata": {},
     "output_type": "execute_result"
    }
   ],
   "source": [
    "# Return the name of the encoding used to convert between \n",
    "# unicode filenames and bytes filenames\n",
    "sys.getfilesystemencoding()"
   ]
  },
  {
   "cell_type": "code",
   "execution_count": 7,
   "id": "6f65451a",
   "metadata": {},
   "outputs": [
    {
     "data": {
      "text/plain": [
       "namespace(name='cpython',\n",
       "          cache_tag='cpython-312',\n",
       "          version=sys.version_info(major=3, minor=12, micro=3, releaselevel='final', serial=0),\n",
       "          hexversion=51119088,\n",
       "          _multiarch='x86_64-linux-gnu')"
      ]
     },
     "execution_count": 7,
     "metadata": {},
     "output_type": "execute_result"
    }
   ],
   "source": [
    "# Returns information regarding the Python interpreter\n",
    "sys.implementation"
   ]
  },
  {
   "cell_type": "code",
   "execution_count": 8,
   "id": "25b52309",
   "metadata": {},
   "outputs": [
    {
     "data": {
      "text/plain": [
       "'linux'"
      ]
     },
     "execution_count": 8,
     "metadata": {},
     "output_type": "execute_result"
    }
   ],
   "source": [
    "# Returns a string containing a platform identifier\n",
    "sys.platform"
   ]
  },
  {
   "cell_type": "code",
   "execution_count": 9,
   "id": "1d99928b",
   "metadata": {},
   "outputs": [
    {
     "data": {
      "text/plain": [
       "'3.12.3 (main, Feb  4 2025, 14:48:35) [GCC 13.3.0]'"
      ]
     },
     "execution_count": 9,
     "metadata": {},
     "output_type": "execute_result"
    }
   ],
   "source": [
    "# Returns a string containing the version number of the \n",
    "# Python interpreter plus additional information on the \n",
    "# compiler\n",
    "sys.version"
   ]
  }
 ],
 "metadata": {
  "kernelspec": {
   "display_name": "venv",
   "language": "python",
   "name": "python3"
  },
  "language_info": {
   "codemirror_mode": {
    "name": "ipython",
    "version": 3
   },
   "file_extension": ".py",
   "mimetype": "text/x-python",
   "name": "python",
   "nbconvert_exporter": "python",
   "pygments_lexer": "ipython3",
   "version": "3.12.3"
  }
 },
 "nbformat": 4,
 "nbformat_minor": 5
}
