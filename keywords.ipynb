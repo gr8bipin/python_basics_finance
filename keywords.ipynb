{
 "cells": [
  {
   "cell_type": "code",
   "execution_count": 7,
   "id": "3fd6b9c8",
   "metadata": {},
   "outputs": [],
   "source": [
    "# The as keyword is used to create an alias. Consider the following\n",
    "# example where we create an alias for the calendar module as c while\n",
    "# importing it. Once aliased we can refer to the imported module with\n",
    "# its alias."
   ]
  },
  {
   "cell_type": "code",
   "execution_count": 8,
   "id": "5ed5e1d0",
   "metadata": {},
   "outputs": [
    {
     "ename": "ModuleNotFoundError",
     "evalue": "No module named 'calender'",
     "output_type": "error",
     "traceback": [
      "\u001b[31m---------------------------------------------------------------------------\u001b[39m",
      "\u001b[31mModuleNotFoundError\u001b[39m                       Traceback (most recent call last)",
      "\u001b[36mCell\u001b[39m\u001b[36m \u001b[39m\u001b[32mIn[8]\u001b[39m\u001b[32m, line 1\u001b[39m\n\u001b[32m----> \u001b[39m\u001b[32m1\u001b[39m \u001b[38;5;28;01mimport\u001b[39;00m\u001b[38;5;250m \u001b[39m\u001b[34;01mcalender\u001b[39;00m\u001b[38;5;250m \u001b[39m\u001b[38;5;28;01mas\u001b[39;00m\u001b[38;5;250m \u001b[39m\u001b[34;01mc\u001b[39;00m\n\u001b[32m      2\u001b[39m c.isleap(\u001b[32m2019\u001b[39m)\n",
      "\u001b[31mModuleNotFoundError\u001b[39m: No module named 'calender'"
     ]
    }
   ],
   "source": [
    "import calender as c\n",
    "c.isleap(2019)"
   ]
  },
  {
   "cell_type": "code",
   "execution_count": null,
   "id": "e50fbc14",
   "metadata": {},
   "outputs": [],
   "source": [
    "# The assert keyword is used while debugging code. It allows us to\n",
    "# check if a condition in code returns True, if not Python will raise an\n",
    "# AssertionError. If condition returns True, no output is displayed."
   ]
  },
  {
   "cell_type": "code",
   "execution_count": null,
   "id": "fd0dd61b",
   "metadata": {},
   "outputs": [
    {
     "ename": "AssertionError",
     "evalue": "",
     "output_type": "error",
     "traceback": [
      "\u001b[31m---------------------------------------------------------------------------\u001b[39m",
      "\u001b[31mAssertionError\u001b[39m                            Traceback (most recent call last)",
      "\u001b[36mCell\u001b[39m\u001b[36m \u001b[39m\u001b[32mIn[2]\u001b[39m\u001b[32m, line 3\u001b[39m\n\u001b[32m      1\u001b[39m stock = \u001b[33m'\u001b[39m\u001b[33mGOOG\u001b[39m\u001b[33m'\u001b[39m\n\u001b[32m      2\u001b[39m \u001b[38;5;28;01massert\u001b[39;00m stock == \u001b[33m'\u001b[39m\u001b[33mGOOG\u001b[39m\u001b[33m'\u001b[39m\n\u001b[32m----> \u001b[39m\u001b[32m3\u001b[39m \u001b[38;5;28;01massert\u001b[39;00m stock == \u001b[33m'\u001b[39m\u001b[33mAAPL\u001b[39m\u001b[33m'\u001b[39m\n",
      "\u001b[31mAssertionError\u001b[39m: "
     ]
    }
   ],
   "source": [
    "stock = 'GOOG'\n",
    "assert stock == 'GOOG'\n",
    "assert stock == 'AAPL'"
   ]
  },
  {
   "cell_type": "code",
   "execution_count": null,
   "id": "1e58b7d2",
   "metadata": {},
   "outputs": [],
   "source": [
    "# The break keyword is used to break a for loop and while loop."
   ]
  },
  {
   "cell_type": "code",
   "execution_count": null,
   "id": "3e3948c0",
   "metadata": {},
   "outputs": [],
   "source": [
    "# A for loop that will print from 0 to 9\n",
    "# Loop will break when 'i' will be greater than 3"
   ]
  },
  {
   "cell_type": "code",
   "execution_count": 10,
   "id": "e9b26dbb",
   "metadata": {},
   "outputs": [
    {
     "name": "stdout",
     "output_type": "stream",
     "text": [
      "0\n",
      "1\n",
      "2\n",
      "3\n"
     ]
    }
   ],
   "source": [
    "for i in range(10):\n",
    "    if i > 3:\n",
    "        break\n",
    "    print(i)"
   ]
  },
  {
   "cell_type": "code",
   "execution_count": 11,
   "id": "35d5a5d1",
   "metadata": {},
   "outputs": [],
   "source": [
    "# The class keyword is used to create a class."
   ]
  },
  {
   "cell_type": "code",
   "execution_count": 16,
   "id": "a2b89ed1",
   "metadata": {},
   "outputs": [],
   "source": [
    "class stock():\n",
    "    name = 'AAPL'\n",
    "    price = 224.61\n",
    "s1 = stock()"
   ]
  },
  {
   "cell_type": "code",
   "execution_count": 14,
   "id": "54574ef7",
   "metadata": {},
   "outputs": [
    {
     "data": {
      "text/plain": [
       "'AAPL'"
      ]
     },
     "execution_count": 14,
     "metadata": {},
     "output_type": "execute_result"
    }
   ],
   "source": [
    "s1.name"
   ]
  },
  {
   "cell_type": "code",
   "execution_count": 15,
   "id": "25f455fe",
   "metadata": {},
   "outputs": [
    {
     "data": {
      "text/plain": [
       "224.61"
      ]
     },
     "execution_count": 15,
     "metadata": {},
     "output_type": "execute_result"
    }
   ],
   "source": [
    "s1.price"
   ]
  },
  {
   "cell_type": "code",
   "execution_count": 17,
   "id": "8c55adbd",
   "metadata": {},
   "outputs": [],
   "source": [
    "# The continue keyword is used to end the current iteration in a for\n",
    "# loop or while loop, and continues to the next iteration."
   ]
  },
  {
   "cell_type": "code",
   "execution_count": 18,
   "id": "d19b61db",
   "metadata": {},
   "outputs": [],
   "source": [
    "# A for loop to print 0 to 9\n",
    "# When 'i' will be 4, iteration will continue without checking further"
   ]
  },
  {
   "cell_type": "code",
   "execution_count": 19,
   "id": "3a876e35",
   "metadata": {},
   "outputs": [
    {
     "name": "stdout",
     "output_type": "stream",
     "text": [
      "0\n",
      "1\n",
      "2\n",
      "3\n",
      "5\n",
      "6\n",
      "7\n",
      "8\n"
     ]
    }
   ],
   "source": [
    "for i in range(9):\n",
    "    if i == 4:\n",
    "        continue\n",
    "    else:\n",
    "        print(i)"
   ]
  },
  {
   "cell_type": "code",
   "execution_count": 20,
   "id": "728f1d2e",
   "metadata": {},
   "outputs": [],
   "source": [
    "# The def keyword is used to create/ define a function within Python."
   ]
  },
  {
   "cell_type": "code",
   "execution_count": 21,
   "id": "a838f3a6",
   "metadata": {},
   "outputs": [
    {
     "name": "stdout",
     "output_type": "stream",
     "text": [
      "Hello! This is a Python Function.\n"
     ]
    }
   ],
   "source": [
    "def python_function():\n",
    "    print('Hello! This is a Python Function.')\n",
    "\n",
    "python_function()"
   ]
  },
  {
   "cell_type": "code",
   "execution_count": 22,
   "id": "61ec48b4",
   "metadata": {},
   "outputs": [],
   "source": [
    "# The del keyword is used to delete objects. It can also be used to delete\n",
    "# variables, lists, or elements from data structures, etc."
   ]
  },
  {
   "cell_type": "code",
   "execution_count": 23,
   "id": "338063a3",
   "metadata": {},
   "outputs": [],
   "source": [
    "# Define the variable 'a'\n",
    "a = 'Hello'"
   ]
  },
  {
   "cell_type": "code",
   "execution_count": 24,
   "id": "60a73672",
   "metadata": {},
   "outputs": [],
   "source": [
    "# Delete the variable 'a'\n",
    "del(a)"
   ]
  },
  {
   "cell_type": "code",
   "execution_count": 25,
   "id": "f0391c4e",
   "metadata": {},
   "outputs": [
    {
     "ename": "NameError",
     "evalue": "name 'a' is not defined",
     "output_type": "error",
     "traceback": [
      "\u001b[31m---------------------------------------------------------------------------\u001b[39m",
      "\u001b[31mNameError\u001b[39m                                 Traceback (most recent call last)",
      "\u001b[36mCell\u001b[39m\u001b[36m \u001b[39m\u001b[32mIn[25]\u001b[39m\u001b[32m, line 2\u001b[39m\n\u001b[32m      1\u001b[39m \u001b[38;5;66;03m# Print the variable 'a'. Python will throw an error as the variable 'a' does not exist.\u001b[39;00m\n\u001b[32m----> \u001b[39m\u001b[32m2\u001b[39m \u001b[43ma\u001b[49m\n",
      "\u001b[31mNameError\u001b[39m: name 'a' is not defined"
     ]
    }
   ],
   "source": [
    "# Print the variable 'a'. Python will throw an error as the variable 'a' does not exist.\n",
    "a"
   ]
  },
  {
   "cell_type": "code",
   "execution_count": 26,
   "id": "d8b5c36a",
   "metadata": {},
   "outputs": [],
   "source": [
    "# The try keyword is used to define the try...except code block which\n",
    "# will be followed by the code block defined by except keyword.\n",
    "# Python tries to execute the code within try block and if it executes\n",
    "# successfully, it ignores subsequent blocks."
   ]
  },
  {
   "cell_type": "code",
   "execution_count": 27,
   "id": "14cc9802",
   "metadata": {},
   "outputs": [],
   "source": [
    "# The except keyword is used in try...except blocks for handling any\n",
    "# error raised by the try block. It is used to define a code block that will\n",
    "# be executed if the try block fails to execute and raises any error."
   ]
  },
  {
   "cell_type": "code",
   "execution_count": 29,
   "id": "fad09dfc",
   "metadata": {},
   "outputs": [
    {
     "name": "stdout",
     "output_type": "stream",
     "text": [
      "Something went wrong.\n"
     ]
    }
   ],
   "source": [
    "# Python will throw an error here because the variable 'y'\n",
    "# is not defined\n",
    "try:\n",
    "    y > 5\n",
    "except:\n",
    "    print('Something went wrong.')"
   ]
  },
  {
   "cell_type": "code",
   "execution_count": 30,
   "id": "3e0be17e",
   "metadata": {},
   "outputs": [],
   "source": [
    "# The finally keyword is used to try...except block to define a block of\n",
    "# code that will run no matter if the try block raises an error or not. This\n",
    "# can be useful to close objects and clean up resources."
   ]
  },
  {
   "cell_type": "code",
   "execution_count": 32,
   "id": "c10d97b3",
   "metadata": {},
   "outputs": [
    {
     "name": "stdout",
     "output_type": "stream",
     "text": [
      "Something went wrong.\n",
      "The try...except code is finished\n"
     ]
    }
   ],
   "source": [
    "# Code in the 'finally' block will execute whether or not\n",
    "# the code in the 'try' block raises an error\n",
    "try:\n",
    "    y > 5\n",
    "except:\n",
    "    print('Something went wrong.')\n",
    "finally:\n",
    "    print('The try...except code is finished')"
   ]
  },
  {
   "cell_type": "code",
   "execution_count": 33,
   "id": "c4dddb1f",
   "metadata": {},
   "outputs": [
    {
     "data": {
      "text/plain": [
       "0"
      ]
     },
     "execution_count": 33,
     "metadata": {},
     "output_type": "execute_result"
    }
   ],
   "source": [
    "# The False keyword is used to represent the boolean result false. It\n",
    "# evaluates to 0 when it is cast to an integer value.\n",
    "buy_flag = False\n",
    "int(False)"
   ]
  },
  {
   "cell_type": "code",
   "execution_count": 34,
   "id": "a1b6d185",
   "metadata": {},
   "outputs": [
    {
     "name": "stdout",
     "output_type": "stream",
     "text": [
      "0\n",
      "1\n",
      "2\n",
      "3\n",
      "4\n"
     ]
    }
   ],
   "source": [
    "# The for keyword is used to define/create a for loop.\n",
    "for i in range(5):\n",
    "    print(i)"
   ]
  },
  {
   "cell_type": "code",
   "execution_count": 35,
   "id": "2f990bc8",
   "metadata": {},
   "outputs": [],
   "source": [
    "# The import keyword is used to import external libraries and modules\n",
    "# in to current program code.\n",
    "import pandas\n",
    "import numpy"
   ]
  },
  {
   "cell_type": "code",
   "execution_count": 36,
   "id": "7726ab20",
   "metadata": {},
   "outputs": [],
   "source": [
    "# The from keyword is used while importing modules and libraries in\n",
    "# Python. It is used to import specific modules from the libraries."
   ]
  },
  {
   "cell_type": "code",
   "execution_count": 37,
   "id": "67530aab",
   "metadata": {},
   "outputs": [],
   "source": [
    "# Importing DataFrame module from the pandas library\n",
    "from pandas import DataFrame"
   ]
  },
  {
   "cell_type": "code",
   "execution_count": 38,
   "id": "ddf43e8d",
   "metadata": {},
   "outputs": [],
   "source": [
    "# Importing time module from the datetime package\n",
    "from datetime import time"
   ]
  },
  {
   "cell_type": "code",
   "execution_count": 39,
   "id": "c15840e5",
   "metadata": {},
   "outputs": [],
   "source": [
    "# Importing floor function from the math module\n",
    "from math import floor"
   ]
  },
  {
   "cell_type": "code",
   "execution_count": 40,
   "id": "44fd836f",
   "metadata": {},
   "outputs": [
    {
     "name": "stdout",
     "output_type": "stream",
     "text": [
      "MSFT\n"
     ]
    }
   ],
   "source": [
    "# The global keyword is used to declare a global variables to be used\n",
    "# from non-global scope.\n",
    "ticker = 'GOOG'\n",
    "\n",
    "def stocks():\n",
    "    global ticker\n",
    "    # Redeclaring or assigning new value 'MSFT' to global variable 'ticker'\n",
    "    ticker = 'MSFT'\n",
    "\n",
    "stocks()\n",
    "\n",
    "print(ticker)"
   ]
  },
  {
   "cell_type": "code",
   "execution_count": 42,
   "id": "489ce266",
   "metadata": {},
   "outputs": [
    {
     "data": {
      "text/plain": [
       "7"
      ]
     },
     "execution_count": 42,
     "metadata": {},
     "output_type": "execute_result"
    }
   ],
   "source": [
    "# The lambda keyword is used to create a small anonymous function\n",
    "# in Python. It can take multiple arguments but accepts only a single\n",
    "# expression.\n",
    "addition = lambda x, y : x + y\n",
    "addition(5, 2)"
   ]
  },
  {
   "cell_type": "code",
   "execution_count": 43,
   "id": "5df8b497",
   "metadata": {},
   "outputs": [
    {
     "data": {
      "text/plain": [
       "NoneType"
      ]
     },
     "execution_count": 43,
     "metadata": {},
     "output_type": "execute_result"
    }
   ],
   "source": [
    "# The None keyword is used to define a null value, or no value at all. It\n",
    "# is not same as 0, False, or an empty string. None is represented by a\n",
    "# datatype of NoneType.\n",
    "x = None\n",
    "type(x)"
   ]
  },
  {
   "cell_type": "code",
   "execution_count": 44,
   "id": "64346003",
   "metadata": {},
   "outputs": [],
   "source": [
    "# The nonlocal keyword is used to declare a variable that is not local.\n",
    "# It is used to work with variables inside nested functions, where the\n",
    "# variable should not belong to the inner function."
   ]
  },
  {
   "cell_type": "code",
   "execution_count": 45,
   "id": "1c4187ff",
   "metadata": {},
   "outputs": [
    {
     "name": "stdout",
     "output_type": "stream",
     "text": [
      "GOOG\n"
     ]
    }
   ],
   "source": [
    "# Instead of creating a new variable 'x' within the\n",
    "# 'nested_function' block, it will use the variable 'x'\n",
    "# defined in the 'main function'\n",
    "def main_function():\n",
    "    x = \"MSFT\"\n",
    "    def nested_function():\n",
    "        nonlocal x\n",
    "        x = \"GOOG\"\n",
    "    nested_function()\n",
    "    return x\n",
    "\n",
    "print(main_function())"
   ]
  },
  {
   "cell_type": "code",
   "execution_count": 46,
   "id": "e1870102",
   "metadata": {},
   "outputs": [],
   "source": [
    "# The pass keyword is used as a placeholder for a null statement.\n",
    "# It does nothing when used. If we have empty function definition,\n",
    "# Python will return an error. Hence, it can be used as a placeholder in\n",
    "# an empty function."
   ]
  },
  {
   "cell_type": "code",
   "execution_count": 47,
   "id": "4a9b4fa2",
   "metadata": {},
   "outputs": [
    {
     "ename": "IndentationError",
     "evalue": "expected an indented block after function definition on line 1 (3024188740.py, line 3)",
     "output_type": "error",
     "traceback": [
      "  \u001b[36mCell\u001b[39m\u001b[36m \u001b[39m\u001b[32mIn[47]\u001b[39m\u001b[32m, line 3\u001b[39m\n\u001b[31m    \u001b[39m\u001b[31mempty_function()\u001b[39m\n    ^\n\u001b[31mIndentationError\u001b[39m\u001b[31m:\u001b[39m expected an indented block after function definition on line 1\n"
     ]
    }
   ],
   "source": [
    "def empty_function():\n",
    "\n",
    "empty_function()"
   ]
  },
  {
   "cell_type": "code",
   "execution_count": 48,
   "id": "cbdc2d05",
   "metadata": {},
   "outputs": [],
   "source": [
    "def empty_function():\n",
    "    pass\n",
    "\n",
    "empty_function()"
   ]
  },
  {
   "cell_type": "code",
   "execution_count": 49,
   "id": "2e0cd5b0",
   "metadata": {},
   "outputs": [
    {
     "ename": "TypeError",
     "evalue": "Only integers are allowed",
     "output_type": "error",
     "traceback": [
      "\u001b[31m---------------------------------------------------------------------------\u001b[39m",
      "\u001b[31mTypeError\u001b[39m                                 Traceback (most recent call last)",
      "\u001b[36mCell\u001b[39m\u001b[36m \u001b[39m\u001b[32mIn[49]\u001b[39m\u001b[32m, line 4\u001b[39m\n\u001b[32m      2\u001b[39m x = \u001b[33m'\u001b[39m\u001b[33mPython\u001b[39m\u001b[33m'\u001b[39m\n\u001b[32m      3\u001b[39m \u001b[38;5;28;01mif\u001b[39;00m \u001b[38;5;129;01mnot\u001b[39;00m \u001b[38;5;28mtype\u001b[39m(x) \u001b[38;5;129;01mis\u001b[39;00m \u001b[38;5;28mint\u001b[39m:\n\u001b[32m----> \u001b[39m\u001b[32m4\u001b[39m     \u001b[38;5;28;01mraise\u001b[39;00m \u001b[38;5;167;01mTypeError\u001b[39;00m(\u001b[33m'\u001b[39m\u001b[33mOnly integers are allowed\u001b[39m\u001b[33m'\u001b[39m)\n",
      "\u001b[31mTypeError\u001b[39m: Only integers are allowed"
     ]
    }
   ],
   "source": [
    "# The raise keyword is used to raise an error explicitly in a code.\n",
    "x = 'Python'\n",
    "if not type(x) is int:\n",
    "    raise TypeError('Only integers are allowed')"
   ]
  },
  {
   "cell_type": "code",
   "execution_count": 50,
   "id": "7df46fe6",
   "metadata": {},
   "outputs": [
    {
     "data": {
      "text/plain": [
       "5"
      ]
     },
     "execution_count": 50,
     "metadata": {},
     "output_type": "execute_result"
    }
   ],
   "source": [
    "# The return keyword is used to return a value from a function or\n",
    "# method.\n",
    "def addition(a, b):\n",
    "    return a + b\n",
    "\n",
    "addition(2, 3)  "
   ]
  },
  {
   "cell_type": "code",
   "execution_count": 51,
   "id": "70acdc68",
   "metadata": {},
   "outputs": [],
   "source": [
    "# The with keyword is used to wrap the execution of a block with methods defined by a context manager1 . \n",
    "# It simplifies exception handling by encapsulating common preparation and cleanup tasks. \n",
    "# For example, the open() function is a context manager in itself, which allows\n",
    "# opening a file, keeping it open as long as the execution is in context\n",
    "# of the with, and closing it as soon as we leave the context. So simply\n",
    "# put, some resources are acquired by the with statement and released\n",
    "# when we leave the with context."
   ]
  },
  {
   "cell_type": "code",
   "execution_count": 54,
   "id": "c826a4d8",
   "metadata": {},
   "outputs": [
    {
     "name": "stdout",
     "output_type": "stream",
     "text": [
      "Hello Python\n"
     ]
    }
   ],
   "source": [
    "# Open the file 'abc.txt' using the 'with' keyword in the\n",
    "# append mode\n",
    "\n",
    "with open('abc.txt', 'a') as file:\n",
    "    # Append the file\n",
    "    file.write('Hello Python')\n",
    "\n",
    "# We do not need to close the file as it will be called\n",
    "# automatically as soon as we leave the 'with' block\n",
    "# Open the file in the read mode\n",
    "\n",
    "with open('abc.txt', 'r') as file:\n",
    "    print(file.readline())\n"
   ]
  }
 ],
 "metadata": {
  "kernelspec": {
   "display_name": "venv",
   "language": "python",
   "name": "python3"
  },
  "language_info": {
   "codemirror_mode": {
    "name": "ipython",
    "version": 3
   },
   "file_extension": ".py",
   "mimetype": "text/x-python",
   "name": "python",
   "nbconvert_exporter": "python",
   "pygments_lexer": "ipython3",
   "version": "3.12.3"
  }
 },
 "nbformat": 4,
 "nbformat_minor": 5
}
