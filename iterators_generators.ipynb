{
 "cells": [
  {
   "cell_type": "markdown",
   "id": "457f692e",
   "metadata": {},
   "source": [
    "# 8.1 Iterators"
   ]
  },
  {
   "cell_type": "code",
   "execution_count": 16,
   "id": "e2bcfa4f",
   "metadata": {},
   "outputs": [],
   "source": [
    "# 8.1.1 Iterables"
   ]
  },
  {
   "cell_type": "code",
   "execution_count": 1,
   "id": "591cb2e4",
   "metadata": {},
   "outputs": [],
   "source": [
    "stocks = ('AAPL', 'MSFT', 'AMZN')\n",
    "iterator = iter(stocks)"
   ]
  },
  {
   "cell_type": "code",
   "execution_count": 2,
   "id": "8f662e5d",
   "metadata": {},
   "outputs": [
    {
     "data": {
      "text/plain": [
       "'AAPL'"
      ]
     },
     "execution_count": 2,
     "metadata": {},
     "output_type": "execute_result"
    }
   ],
   "source": [
    "next(iterator)"
   ]
  },
  {
   "cell_type": "code",
   "execution_count": 3,
   "id": "ddcf62a3",
   "metadata": {},
   "outputs": [
    {
     "data": {
      "text/plain": [
       "'MSFT'"
      ]
     },
     "execution_count": 3,
     "metadata": {},
     "output_type": "execute_result"
    }
   ],
   "source": [
    "next(iterator)"
   ]
  },
  {
   "cell_type": "code",
   "execution_count": 4,
   "id": "778a652c",
   "metadata": {},
   "outputs": [
    {
     "data": {
      "text/plain": [
       "'AMZN'"
      ]
     },
     "execution_count": 4,
     "metadata": {},
     "output_type": "execute_result"
    }
   ],
   "source": [
    "iterator.__next__()"
   ]
  },
  {
   "cell_type": "code",
   "execution_count": 5,
   "id": "d6640d7c",
   "metadata": {},
   "outputs": [
    {
     "ename": "StopIteration",
     "evalue": "",
     "output_type": "error",
     "traceback": [
      "\u001b[31m---------------------------------------------------------------------------\u001b[39m",
      "\u001b[31mStopIteration\u001b[39m                             Traceback (most recent call last)",
      "\u001b[36mCell\u001b[39m\u001b[36m \u001b[39m\u001b[32mIn[5]\u001b[39m\u001b[32m, line 1\u001b[39m\n\u001b[32m----> \u001b[39m\u001b[32m1\u001b[39m \u001b[38;5;28;43mnext\u001b[39;49m\u001b[43m(\u001b[49m\u001b[43miterator\u001b[49m\u001b[43m)\u001b[49m\n",
      "\u001b[31mStopIteration\u001b[39m: "
     ]
    }
   ],
   "source": [
    "next(iterator)"
   ]
  },
  {
   "cell_type": "code",
   "execution_count": 6,
   "id": "ba5375c3",
   "metadata": {},
   "outputs": [],
   "source": [
    "# We use the next() function to iterate manually through all the items of\n",
    "# an iterator. Also, the next() function will implicitly call the __next__()\n",
    "# method of an iterator as seen in the above example. It will raise\n",
    "# StopIteration error once we reach the end and there is no more data to be\n",
    "# returned."
   ]
  },
  {
   "cell_type": "code",
   "execution_count": null,
   "id": "c7efb426",
   "metadata": {},
   "outputs": [],
   "source": [
    "# We can iterate manually through other iterables like strings and list, in\n",
    "# the manner similar to one we used to iterate over the tuple int the above\n",
    "# example. The more elegant and automated way is to use a for loop. The\n",
    "# for loop actually creates an iterator object and executes the next() method\n",
    "# for each loop."
   ]
  },
  {
   "cell_type": "code",
   "execution_count": 7,
   "id": "b59a31e9",
   "metadata": {},
   "outputs": [],
   "source": [
    "# We are now going to dive a bit deeper into the world of iterators and iter-\n",
    "# ables by looking at some handy functions viz. the enumerate(), zip() and\n",
    "# unzip() functions."
   ]
  },
  {
   "cell_type": "markdown",
   "id": "eaedf09a",
   "metadata": {},
   "source": [
    "# 8.1.2 enumerate() function"
   ]
  },
  {
   "cell_type": "code",
   "execution_count": 15,
   "id": "1fe5aeef",
   "metadata": {},
   "outputs": [],
   "source": [
    "# The enumerate() function takes any iterable such as a list as an argument\n",
    "# and returns a special enumerate object which consists of pairs containing an\n",
    "# element of an original iterable along with their index within the iterable.\n",
    "# We can use the list() function to convert the enumerate object into a list\n",
    "# of tuples. Let’s see this in practice."
   ]
  },
  {
   "cell_type": "code",
   "execution_count": 9,
   "id": "9f8aa9fa",
   "metadata": {},
   "outputs": [
    {
     "data": {
      "text/plain": [
       "<enumerate at 0x7d64184d00e0>"
      ]
     },
     "execution_count": 9,
     "metadata": {},
     "output_type": "execute_result"
    }
   ],
   "source": [
    "stocks = ['AAPL', 'MSFT', 'TSLA']\n",
    "en_object = enumerate(stocks)\n",
    "en_object"
   ]
  },
  {
   "cell_type": "code",
   "execution_count": 10,
   "id": "0ecc87a1",
   "metadata": {},
   "outputs": [
    {
     "data": {
      "text/plain": [
       "[(0, 'AAPL'), (1, 'MSFT'), (2, 'TSLA')]"
      ]
     },
     "execution_count": 10,
     "metadata": {},
     "output_type": "execute_result"
    }
   ],
   "source": [
    "list(en_object)"
   ]
  },
  {
   "cell_type": "code",
   "execution_count": 11,
   "id": "bf3d4aa1",
   "metadata": {},
   "outputs": [
    {
     "name": "stdout",
     "output_type": "stream",
     "text": [
      "0 AAPL\n",
      "1 MSFT\n",
      "2 TSLA\n"
     ]
    }
   ],
   "source": [
    "# The enumerate object itself is also iterable, and we can loop over while unpacking its elements using the following clause.\n",
    "for index, value in enumerate(stocks):\n",
    "    print(index, value)"
   ]
  },
  {
   "cell_type": "code",
   "execution_count": 12,
   "id": "b2b8f5e1",
   "metadata": {},
   "outputs": [],
   "source": [
    "# It is the default behaviour to start an index with 0. We can alter this \n",
    "# behaviour using the start parameter within the enumerate() function."
   ]
  },
  {
   "cell_type": "code",
   "execution_count": 13,
   "id": "d587e18e",
   "metadata": {},
   "outputs": [
    {
     "name": "stdout",
     "output_type": "stream",
     "text": [
      "10 AAPL\n",
      "11 MSFT\n",
      "12 TSLA\n"
     ]
    }
   ],
   "source": [
    "for index, value in enumerate(stocks, start= 10):\n",
    "    print(index, value)"
   ]
  },
  {
   "cell_type": "markdown",
   "id": "3db3a764",
   "metadata": {},
   "source": [
    "# 8.1.3 The zip()function"
   ]
  },
  {
   "cell_type": "code",
   "execution_count": 17,
   "id": "ac8fd0ab",
   "metadata": {},
   "outputs": [],
   "source": [
    "# The zip() function accepts an arbitrary number of iterables and returns a\n",
    "# zip object which is an iterator of tuples. Consider the following example:"
   ]
  },
  {
   "cell_type": "code",
   "execution_count": 18,
   "id": "c381941f",
   "metadata": {},
   "outputs": [
    {
     "name": "stdout",
     "output_type": "stream",
     "text": [
      "<class 'zip'>\n"
     ]
    }
   ],
   "source": [
    "company_names = ['Apple', 'Microsoft', 'Tesla']\n",
    "tickers = ['AAPL', 'MSFT', 'TSLA']\n",
    "\n",
    "z = zip(company_names, tickers)\n",
    "\n",
    "print(type(z))"
   ]
  },
  {
   "cell_type": "code",
   "execution_count": 19,
   "id": "da5f45b8",
   "metadata": {},
   "outputs": [
    {
     "data": {
      "text/plain": [
       "[('Apple', 'AAPL'), ('Microsoft', 'MSFT'), ('Tesla', 'TSLA')]"
      ]
     },
     "execution_count": 19,
     "metadata": {},
     "output_type": "execute_result"
    }
   ],
   "source": [
    "# Here, we have two lists company_names and tickers. Zipping them together creates a zip object which can be \n",
    "# then converted to list and looped over.\n",
    "\n",
    "z_list = list(z)\n",
    "z_list"
   ]
  },
  {
   "cell_type": "code",
   "execution_count": 20,
   "id": "1b738942",
   "metadata": {},
   "outputs": [],
   "source": [
    "# The first element of the z_list is a tuple which contains the first element\n",
    "# of each list that was zipped. The second element in each tuple contains the\n",
    "# corresponding element of each list that was zipped and so on. Alternatively,\n",
    "# we could use a for() loop to iterate over a zip object print the tuples."
   ]
  },
  {
   "cell_type": "code",
   "execution_count": 21,
   "id": "c319225b",
   "metadata": {},
   "outputs": [
    {
     "name": "stdout",
     "output_type": "stream",
     "text": [
      "AAPL = Apple\n",
      "MSFT = Microsoft\n",
      "TSLA = Tesla\n"
     ]
    }
   ],
   "source": [
    "for company, ticker in z_list:\n",
    "    print(f'{ticker} = {company}')"
   ]
  },
  {
   "cell_type": "code",
   "execution_count": 22,
   "id": "1de10a48",
   "metadata": {},
   "outputs": [],
   "source": [
    "# We could also have used the splat operator(*) to print all the elements."
   ]
  },
  {
   "cell_type": "code",
   "execution_count": 24,
   "id": "4dc6ea86",
   "metadata": {},
   "outputs": [
    {
     "name": "stdout",
     "output_type": "stream",
     "text": [
      "('Apple', 'AAPL') ('Microsoft', 'MSFT') ('Tesla', 'TSLA')\n"
     ]
    }
   ],
   "source": [
    "print(*z_list)"
   ]
  }
 ],
 "metadata": {
  "kernelspec": {
   "display_name": "venv",
   "language": "python",
   "name": "python3"
  },
  "language_info": {
   "codemirror_mode": {
    "name": "ipython",
    "version": 3
   },
   "file_extension": ".py",
   "mimetype": "text/x-python",
   "name": "python",
   "nbconvert_exporter": "python",
   "pygments_lexer": "ipython3",
   "version": "3.12.3"
  }
 },
 "nbformat": 4,
 "nbformat_minor": 5
}
