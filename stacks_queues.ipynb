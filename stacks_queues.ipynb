{
 "cells": [
  {
   "cell_type": "markdown",
   "id": "7ce012bc",
   "metadata": {},
   "source": [
    "# 5.4.4 Stacks and Queues"
   ]
  },
  {
   "cell_type": "code",
   "execution_count": 31,
   "id": "0fafdca1",
   "metadata": {},
   "outputs": [],
   "source": [
    "# The list methods make it very easy to use a list as a stack or queue."
   ]
  },
  {
   "cell_type": "code",
   "execution_count": 32,
   "id": "4593d741",
   "metadata": {},
   "outputs": [],
   "source": [
    "# A stack is a data structure (though not available directly in Python) where the last\n",
    "# element added is the first element retrieved, also known as Last In, First Out (LIFO)."
   ]
  },
  {
   "cell_type": "code",
   "execution_count": 33,
   "id": "3802f1d4",
   "metadata": {},
   "outputs": [],
   "source": [
    "# A list can be used as a stack using the append() and pop() method."
   ]
  },
  {
   "cell_type": "code",
   "execution_count": 34,
   "id": "fa178ca9",
   "metadata": {},
   "outputs": [],
   "source": [
    "# To add an item to the top of the stack, we use the append() and to retrieve\n",
    "# an item from the top of the stack, we use the pop() without an explicit index."
   ]
  },
  {
   "cell_type": "markdown",
   "id": "aad1cebb",
   "metadata": {},
   "source": [
    "For example:"
   ]
  },
  {
   "cell_type": "code",
   "execution_count": 35,
   "id": "0028438a",
   "metadata": {},
   "outputs": [],
   "source": [
    "# (Bottom) 1 -> 5 -> 6 (Top)\n",
    "stack = [1, 5, 6]"
   ]
  },
  {
   "cell_type": "code",
   "execution_count": 36,
   "id": "cb6cb2a1",
   "metadata": {},
   "outputs": [],
   "source": [
    "stack.append(4) # 4 is added on top of 6 (Top)"
   ]
  },
  {
   "cell_type": "markdown",
   "id": "2baa11d3",
   "metadata": {},
   "source": []
  },
  {
   "cell_type": "code",
   "execution_count": 37,
   "id": "c96ec0dd",
   "metadata": {},
   "outputs": [],
   "source": [
    "stack.append(5) # 5 is added on top of 4 (Top)"
   ]
  },
  {
   "cell_type": "code",
   "execution_count": 38,
   "id": "122d0f79",
   "metadata": {},
   "outputs": [
    {
     "data": {
      "text/plain": [
       "[1, 5, 6, 4, 5]"
      ]
     },
     "execution_count": 38,
     "metadata": {},
     "output_type": "execute_result"
    }
   ],
   "source": [
    "stack"
   ]
  },
  {
   "cell_type": "code",
   "execution_count": 39,
   "id": "90cfff77",
   "metadata": {},
   "outputs": [
    {
     "data": {
      "text/plain": [
       "5"
      ]
     },
     "execution_count": 39,
     "metadata": {},
     "output_type": "execute_result"
    }
   ],
   "source": [
    "stack.pop()"
   ]
  },
  {
   "cell_type": "code",
   "execution_count": 40,
   "id": "a1e56ea4",
   "metadata": {},
   "outputs": [
    {
     "data": {
      "text/plain": [
       "4"
      ]
     },
     "execution_count": 40,
     "metadata": {},
     "output_type": "execute_result"
    }
   ],
   "source": [
    "stack.pop()"
   ]
  },
  {
   "cell_type": "code",
   "execution_count": 41,
   "id": "a0dd10b3",
   "metadata": {},
   "outputs": [
    {
     "data": {
      "text/plain": [
       "6"
      ]
     },
     "execution_count": 41,
     "metadata": {},
     "output_type": "execute_result"
    }
   ],
   "source": [
    "stack.pop()"
   ]
  },
  {
   "cell_type": "code",
   "execution_count": 42,
   "id": "f4177c93",
   "metadata": {},
   "outputs": [
    {
     "data": {
      "text/plain": [
       "[1, 5]"
      ]
     },
     "execution_count": 42,
     "metadata": {},
     "output_type": "execute_result"
    }
   ],
   "source": [
    "stack"
   ]
  },
  {
   "cell_type": "code",
   "execution_count": 43,
   "id": "18c411b7",
   "metadata": {},
   "outputs": [],
   "source": [
    "# Another data structure that can be built using list methods is queue, where\n",
    "# the first element added is the first element retrieved, also known as First In, First Out (FIFO)."
   ]
  },
  {
   "cell_type": "code",
   "execution_count": 44,
   "id": "72978949",
   "metadata": {},
   "outputs": [],
   "source": [
    "# Consider a queue at a ticket counter where people are\n",
    "# catered according to their arrival sequence and hence the first person to\n",
    "# arrive is also the first to leave."
   ]
  },
  {
   "cell_type": "code",
   "execution_count": 45,
   "id": "f4d183b6",
   "metadata": {},
   "outputs": [],
   "source": [
    "# In order to implement a queue, we need to use the collections.deque module; however, lists are not efficient for this purpose \n",
    "# as it involves heavy memory usage to change the position of every element with each insertion and deletion operation."
   ]
  },
  {
   "cell_type": "code",
   "execution_count": 46,
   "id": "ce7a5b24",
   "metadata": {},
   "outputs": [],
   "source": [
    "# It can be created using the append() and popleft() methods."
   ]
  },
  {
   "cell_type": "markdown",
   "id": "0ec562af",
   "metadata": {},
   "source": [
    "For example,"
   ]
  },
  {
   "cell_type": "code",
   "execution_count": 47,
   "id": "6a5f9ae1",
   "metadata": {},
   "outputs": [],
   "source": [
    "# Import 'deque' module from the 'collections' package\n",
    "from collections import deque"
   ]
  },
  {
   "cell_type": "code",
   "execution_count": 49,
   "id": "c850cc95",
   "metadata": {},
   "outputs": [],
   "source": [
    "# Define initial queue\n",
    "queue = deque(['Perl', 'PHP', 'GO'])"
   ]
  },
  {
   "cell_type": "code",
   "execution_count": 50,
   "id": "d095f781",
   "metadata": {},
   "outputs": [],
   "source": [
    "# 'R' arrives and joins the queue\n",
    "queue.append('R')"
   ]
  },
  {
   "cell_type": "markdown",
   "id": "dbb32c44",
   "metadata": {},
   "source": []
  },
  {
   "cell_type": "code",
   "execution_count": 51,
   "id": "2fb8e05c",
   "metadata": {},
   "outputs": [],
   "source": [
    "# 'Python' arrives and joins the queue\n",
    "queue.append('Python')"
   ]
  },
  {
   "cell_type": "code",
   "execution_count": 52,
   "id": "dbdd6fc1",
   "metadata": {},
   "outputs": [
    {
     "data": {
      "text/plain": [
       "'Perl'"
      ]
     },
     "execution_count": 52,
     "metadata": {},
     "output_type": "execute_result"
    }
   ],
   "source": [
    "# The first to arrive leaves the queue\n",
    "queue.popleft()"
   ]
  },
  {
   "cell_type": "code",
   "execution_count": 53,
   "id": "7a4c4964",
   "metadata": {},
   "outputs": [
    {
     "data": {
      "text/plain": [
       "'PHP'"
      ]
     },
     "execution_count": 53,
     "metadata": {},
     "output_type": "execute_result"
    }
   ],
   "source": [
    "# The second to arrive leaves the queue\n",
    "queue.popleft()"
   ]
  },
  {
   "cell_type": "code",
   "execution_count": 54,
   "id": "edda8bd3",
   "metadata": {},
   "outputs": [
    {
     "data": {
      "text/plain": [
       "deque(['GO', 'R', 'Python'])"
      ]
     },
     "execution_count": 54,
     "metadata": {},
     "output_type": "execute_result"
    }
   ],
   "source": [
    "# The remaining queue in order of arrival\n",
    "queue"
   ]
  }
 ],
 "metadata": {
  "kernelspec": {
   "display_name": "venv",
   "language": "python",
   "name": "python3"
  },
  "language_info": {
   "codemirror_mode": {
    "name": "ipython",
    "version": 3
   },
   "file_extension": ".py",
   "mimetype": "text/x-python",
   "name": "python",
   "nbconvert_exporter": "python",
   "pygments_lexer": "ipython3",
   "version": "3.12.3"
  }
 },
 "nbformat": 4,
 "nbformat_minor": 5
}
