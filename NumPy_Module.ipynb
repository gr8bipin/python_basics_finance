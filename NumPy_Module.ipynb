{
 "cells": [
  {
   "cell_type": "markdown",
   "id": "0bf22d5f",
   "metadata": {},
   "source": [
    "# NumPy Module"
   ]
  },
  {
   "cell_type": "code",
   "execution_count": 1,
   "id": "d1865dbe",
   "metadata": {},
   "outputs": [],
   "source": [
    "# NumPy, an acronym for Numerical Python, is a package to perform scientific\n",
    "# computing in Python efficiently. It includes random number generation\n",
    "# capabilities, functions for basic linear algebra, Fourier transforms as well\n",
    "# as a tool for integrating Fortran and C/C++ code along with a bunch of\n",
    "# other functionalities."
   ]
  },
  {
   "cell_type": "code",
   "execution_count": 2,
   "id": "9d4e978d",
   "metadata": {},
   "outputs": [],
   "source": [
    "# NumPy is an open-source project and a successor to two earlier scientific\n",
    "# Python libraries: Numeric and Numarray."
   ]
  },
  {
   "cell_type": "code",
   "execution_count": 3,
   "id": "22fb8eac",
   "metadata": {},
   "outputs": [],
   "source": [
    "# It can be used as an efficient multi-dimensional container of generic\n",
    "# data. This allows NumPy to integrate with a wide variety of databases\n",
    "# seamlessly. It also features a collection of routines for processing single and\n",
    "# multidimensional vectors known as arrays in programming parlance."
   ]
  },
  {
   "cell_type": "code",
   "execution_count": null,
   "id": "80127464",
   "metadata": {},
   "outputs": [],
   "source": [
    "# NumPy is not a part of the Python Standard Library and hence, as with\n",
    "# any other such library or module, it needs to be installed on a workstation\n",
    "# before it can be used. Based on the Python distribution one uses, it can\n",
    "# be installed via a command prompt, conda prompt, or terminal using the\n",
    "# following command. One point to note is that if we use the Anaconda distri-\n",
    "# bution to install Python, most of the libraries (like NumPy, pandas, scikit-learn,\n",
    "# matplotlib, etc. ) used in the scientific Python ecosystem come pre-installed.\n",
    "\n",
    "# # pip install numpy\n",
    "\n",
    "# Note: If we use the Python or iPython console to install the NumPy library, the command to install it \n",
    "# would be preceded by the character!"
   ]
  },
  {
   "cell_type": "code",
   "execution_count": null,
   "id": "674fdbbc",
   "metadata": {},
   "outputs": [],
   "source": [
    "# Once installed we can use it by importing into our program by using the import statement. The de facto way of importing \n",
    "# is shown below:\n",
    "\n",
    "# # import numpy as np\n",
    "\n",
    "# Here, the NumPy library is imported with an alias of np so that any functionality within it can be used with convenience.\n",
    "# We will be using this form of alias for all examples in this section."
   ]
  },
  {
   "cell_type": "markdown",
   "id": "b4a5859b",
   "metadata": {},
   "source": []
  },
  {
   "cell_type": "markdown",
   "id": "ba878ae3",
   "metadata": {},
   "source": [
    "# 10.1 NumPy Arrays"
   ]
  },
  {
   "cell_type": "markdown",
   "id": "94b0ce1b",
   "metadata": {},
   "source": [
    "# A Python list is a pretty powerful sequential data structure with some nifty\n",
    "# features. For example, it can hold elements of various data types which\n",
    "# can be added, changed or removed as required. Also, it allows index sub-\n",
    "# setting and traversal. But lists lack an important feature that is needed\n",
    "# while performing data analysis tasks. We often want to carry out operations\n",
    "# over an entire collection of elements, and we expect Python to perform this\n",
    "# fast. With lists executing such operations over all elements efficiently is a\n",
    "# problem. For example, let’s consider a case where we calculate PCR (Put\n",
    "# Call Ratio) for the previous 5 days. Say, we have put and call options vol-\n",
    "# ume (in Lacs) stored in lists call_vol and put_vol respectively. We then\n",
    "# compute the PCR by dividing put volume by call volume as illustrated in\n",
    "# the below script:"
   ]
  },
  {
   "cell_type": "code",
   "execution_count": 4,
   "id": "e8a2486d",
   "metadata": {},
   "outputs": [
    {
     "ename": "TypeError",
     "evalue": "unsupported operand type(s) for /: 'list' and 'list'",
     "output_type": "error",
     "traceback": [
      "\u001b[31m---------------------------------------------------------------------------\u001b[39m",
      "\u001b[31mTypeError\u001b[39m                                 Traceback (most recent call last)",
      "\u001b[36mCell\u001b[39m\u001b[36m \u001b[39m\u001b[32mIn[4]\u001b[39m\u001b[32m, line 8\u001b[39m\n\u001b[32m      5\u001b[39m call_vol = [\u001b[32m49.51\u001b[39m, \u001b[32m50.45\u001b[39m, \u001b[32m59.11\u001b[39m, \u001b[32m80.49\u001b[39m, \u001b[32m65.11\u001b[39m]\n\u001b[32m      7\u001b[39m \u001b[38;5;66;03m# Computing Put Call Ratio (PCR)\u001b[39;00m\n\u001b[32m----> \u001b[39m\u001b[32m8\u001b[39m \u001b[43mput_vol\u001b[49m\u001b[43m \u001b[49m\u001b[43m/\u001b[49m\u001b[43m \u001b[49m\u001b[43mcall_vol\u001b[49m\n",
      "\u001b[31mTypeError\u001b[39m: unsupported operand type(s) for /: 'list' and 'list'"
     ]
    }
   ],
   "source": [
    "# put volume in lacs\n",
    "put_vol = [52.89, 45.14, 63.84, 77.1, 74.6]\n",
    "\n",
    "# call volume in lacs\n",
    "call_vol = [49.51, 50.45, 59.11, 80.49, 65.11]\n",
    "\n",
    "# Computing Put Call Ratio (PCR)\n",
    "put_vol / call_vol"
   ]
  },
  {
   "cell_type": "code",
   "execution_count": 5,
   "id": "cbee1001",
   "metadata": {},
   "outputs": [],
   "source": [
    "# Unfortunately, Python threw an error while calculating PCR values as it\n",
    "# has no idea on how to do calculations on lists. We can do this by iterating\n",
    "# over each item in lists and calculating the PCR for each day separately.\n",
    "# However, doing so is inefficient and tiresome too. A way more elegant\n",
    "# solution is to use NumPy arrays, an alternative to the regular Python list."
   ]
  },
  {
   "cell_type": "code",
   "execution_count": 6,
   "id": "c86f0139",
   "metadata": {},
   "outputs": [],
   "source": [
    "# The NumPy array is pretty similar to the list, but has one useful feature: we\n",
    "# can perform operations over entire arrays(all elements in arrays). It’s easy\n",
    "# as well as super fast. Let us start by creating a NumPy array. To do this,\n",
    "# we use array() function from the NumPy package and create the NumPy\n",
    "# version of put_vol and call_vol lists."
   ]
  },
  {
   "cell_type": "code",
   "execution_count": 8,
   "id": "b46b0751",
   "metadata": {},
   "outputs": [
    {
     "data": {
      "text/plain": [
       "array([52.89, 45.14, 63.84, 77.1 , 74.6 ])"
      ]
     },
     "execution_count": 8,
     "metadata": {},
     "output_type": "execute_result"
    }
   ],
   "source": [
    "# Importing NumPy library\n",
    "import numpy as np\n",
    "\n",
    "# Creating arrays\n",
    "n_put_vol = np.array(put_vol)\n",
    "n_call_vol = np.array(call_vol)\n",
    "\n",
    "n_put_vol"
   ]
  },
  {
   "cell_type": "code",
   "execution_count": 9,
   "id": "1d51b37b",
   "metadata": {},
   "outputs": [
    {
     "data": {
      "text/plain": [
       "array([49.51, 50.45, 59.11, 80.49, 65.11])"
      ]
     },
     "execution_count": 9,
     "metadata": {},
     "output_type": "execute_result"
    }
   ],
   "source": [
    "n_call_vol"
   ]
  },
  {
   "cell_type": "code",
   "execution_count": 10,
   "id": "1ec6112b",
   "metadata": {},
   "outputs": [
    {
     "data": {
      "text/plain": [
       "array([1.06826904, 0.89474727, 1.0800203 , 0.95788297, 1.14575334])"
      ]
     },
     "execution_count": 10,
     "metadata": {},
     "output_type": "execute_result"
    }
   ],
   "source": [
    "# Here, we have two arrays n_put_vol and n_call_vol which holds put and\n",
    "# call volume respectively. Now, we can calculate PCR in one line:\n",
    "\n",
    "# Computing Put Call Ratio (PCR)\n",
    "pcr = n_put_vol / n_call_vol\n",
    "\n",
    "pcr"
   ]
  },
  {
   "cell_type": "code",
   "execution_count": 11,
   "id": "ca7f9b8c",
   "metadata": {},
   "outputs": [],
   "source": [
    "# This time it worked, and calculations were performed element-wise. The\n",
    "# first observation in pcr array was calculated by dividing the first element\n",
    "# in n_put_vol by the first element in n_call_vol array. The second element\n",
    "# in pcr was computed using the second element in the respective arrays\n",
    "# and so on."
   ]
  },
  {
   "cell_type": "code",
   "execution_count": 12,
   "id": "bbc120c8",
   "metadata": {},
   "outputs": [
    {
     "data": {
      "text/plain": [
       "array(['1', 'Python', 'True'], dtype='<U21')"
      ]
     },
     "execution_count": 12,
     "metadata": {},
     "output_type": "execute_result"
    }
   ],
   "source": [
    "# First, when we tried to compute PCR with regular lists, we got an error, be-\n",
    "# cause Python cannot do calculations with lists like we want it to. Then\n",
    "# we converted these regular lists to NumPy arrays and the same opera-\n",
    "# tion worked without any problem. NumPy work with arrays as if they\n",
    "# are scalars. But we need to pay attention here. NumPy can do this easily\n",
    "# because it assumes that array can only contain values of a single type. It’s\n",
    "# either an array of integers, floats or booleans and so on. If we try to cre-\n",
    "# ate an array of different types like the one mentioned below, the resulting\n",
    "# NumPy array will contain a single type only. String in the below case:\n",
    "\n",
    "np.array([1, 'Python', True])"
   ]
  },
  {
   "cell_type": "code",
   "execution_count": null,
   "id": "16737f78",
   "metadata": {},
   "outputs": [],
   "source": [
    "# NOTE : NumPy arrays are made to be created as homogeneous\n",
    "# arrays, considering the mathematical operations that can be per-\n",
    "# formed on them. It would not be possible with heterogeneous\n",
    "# data sets."
   ]
  },
  {
   "cell_type": "code",
   "execution_count": null,
   "id": "17054e90",
   "metadata": {},
   "outputs": [],
   "source": [
    "# In the example given above, an integer and a boolean were both converted\n",
    "# to strings. NumPy array is a new type of data structure type like the Python\n",
    "# list type that we have seen before. This also means that it comes with its\n",
    "# own methods, which will behave differently from other types. Let us im-\n",
    "# plement the + operation on the Python list and NumPy arrays and see how\n",
    "# they differ."
   ]
  },
  {
   "cell_type": "code",
   "execution_count": null,
   "id": "a587fae6",
   "metadata": {},
   "outputs": [
    {
     "data": {
      "text/plain": [
       "[1, 2, 3, 5, 6, 4]"
      ]
     },
     "execution_count": 13,
     "metadata": {},
     "output_type": "execute_result"
    }
   ],
   "source": [
    "# Creating lists\n",
    "list_1 = [1, 2, 3]\n",
    "list_2 = [5, 6, 4]\n",
    "\n",
    "# Adding two lists\n",
    "list_1 + list_2"
   ]
  },
  {
   "cell_type": "code",
   "execution_count": 15,
   "id": "12314dce",
   "metadata": {},
   "outputs": [
    {
     "data": {
      "text/plain": [
       "array([6, 8, 7])"
      ]
     },
     "execution_count": 15,
     "metadata": {},
     "output_type": "execute_result"
    }
   ],
   "source": [
    "# Creating arrays\n",
    "arr_1 = np.array([1, 2, 3])\n",
    "arr_2 = np.array([5, 6, 4])\n",
    "\n",
    "# Adding two arrays\n",
    "arr_1 + arr_2"
   ]
  },
  {
   "cell_type": "code",
   "execution_count": 16,
   "id": "77ac1076",
   "metadata": {},
   "outputs": [],
   "source": [
    "# As can be seen in the above example, performing the + operation with\n",
    "# list_1 and list_2, the list elements are pasted together, generating a list\n",
    "# with 6 elements. On the other hand, if we do this with NumPy arrays,\n",
    "# Python will do an element-wise sum of the arrays."
   ]
  },
  {
   "cell_type": "markdown",
   "id": "bf0d8347",
   "metadata": {},
   "source": [
    "# 10.1.1 N-dimensional arrays"
   ]
  },
  {
   "cell_type": "code",
   "execution_count": 17,
   "id": "58aef0d7",
   "metadata": {},
   "outputs": [
    {
     "data": {
      "text/plain": [
       "numpy.ndarray"
      ]
     },
     "execution_count": 17,
     "metadata": {},
     "output_type": "execute_result"
    }
   ],
   "source": [
    "# Until now we have worked with two arrays: n_put_vol and n_call_vol. If\n",
    "# we are to check its type using type(), Python tells us that they are of type\n",
    "# numpy.ndarray as shown below:\n",
    "\n",
    "# Checking array type\n",
    "type(n_put_vol)"
   ]
  },
  {
   "cell_type": "code",
   "execution_count": 18,
   "id": "51855014",
   "metadata": {},
   "outputs": [],
   "source": [
    "# Based on the output we got, it can be inferred that they are of data type\n",
    "# ndarray which stands for n-dimensional array within NumPy. These arrays\n",
    "# are one-dimensional arrays, but NumPy also allows us to create two dimen-\n",
    "# sional, three dimensional and so on. We will stick to two dimensional for\n",
    "# our learning purpose in this module. We can create a 2D (two dimensional)\n",
    "# NumPy array from a regular Python list of lists. Let us create one array for\n",
    "# all put and call volumes."
   ]
  },
  {
   "cell_type": "code",
   "execution_count": 19,
   "id": "95809f45",
   "metadata": {},
   "outputs": [
    {
     "data": {
      "text/plain": [
       "[52.89, 45.14, 63.84, 77.1, 74.6]"
      ]
     },
     "execution_count": 19,
     "metadata": {},
     "output_type": "execute_result"
    }
   ],
   "source": [
    "# Recalling put and call volumes lists\n",
    "put_vol"
   ]
  },
  {
   "cell_type": "code",
   "execution_count": 20,
   "id": "c9fe5658",
   "metadata": {},
   "outputs": [
    {
     "data": {
      "text/plain": [
       "[49.51, 50.45, 59.11, 80.49, 65.11]"
      ]
     },
     "execution_count": 20,
     "metadata": {},
     "output_type": "execute_result"
    }
   ],
   "source": [
    "call_vol"
   ]
  },
  {
   "cell_type": "code",
   "execution_count": 21,
   "id": "f3a81e32",
   "metadata": {},
   "outputs": [
    {
     "data": {
      "text/plain": [
       "array([[52.89, 45.14, 63.84, 77.1 , 74.6 ],\n",
       "       [49.51, 50.45, 59.11, 80.49, 65.11]])"
      ]
     },
     "execution_count": 21,
     "metadata": {},
     "output_type": "execute_result"
    }
   ],
   "source": [
    "# Creating a two-dimensional array\n",
    "n_2d = np.array([put_vol, call_vol])\n",
    "n_2d"
   ]
  },
  {
   "cell_type": "code",
   "execution_count": null,
   "id": "7cf6807d",
   "metadata": {},
   "outputs": [],
   "source": [
    "# We see that n_2d array is a rectangular data structure. Each list pro-\n",
    "# vided in the np.array creation function corresponds to a row in the two-\n",
    "# dimensional NumPy array. Also for 2D arrays, the NumPy rule applies: an\n",
    "# array can only contain a single type. If we change one float value in the\n",
    "# above array definition, all the array elements will be coerced to strings, to\n",
    "# end up with a homogeneous array. We can think of a 2D array as an ad-\n",
    "# vanced version of lists of a list. We can perform element-wise operation\n",
    "# with 2D as we had seen for a single dimensional array."
   ]
  },
  {
   "cell_type": "markdown",
   "id": "a026cd02",
   "metadata": {},
   "source": []
  }
 ],
 "metadata": {
  "kernelspec": {
   "display_name": "venv",
   "language": "python",
   "name": "python3"
  },
  "language_info": {
   "codemirror_mode": {
    "name": "ipython",
    "version": 3
   },
   "file_extension": ".py",
   "mimetype": "text/x-python",
   "name": "python",
   "nbconvert_exporter": "python",
   "pygments_lexer": "ipython3",
   "version": "3.12.3"
  }
 },
 "nbformat": 4,
 "nbformat_minor": 5
}
