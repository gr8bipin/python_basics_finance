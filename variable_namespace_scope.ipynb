{
 "cells": [
  {
   "cell_type": "markdown",
   "id": "bb5a171b",
   "metadata": {},
   "source": [
    "# 9.3 Variable Namespace and Scope"
   ]
  },
  {
   "cell_type": "code",
   "execution_count": 1,
   "id": "88f2c94d",
   "metadata": {},
   "outputs": [],
   "source": [
    "# If we read the The Zen of Python (try import this in Python console), the\n",
    "# last line states Namespaces are one honking great idea -- let’s do more of those!\n",
    "# Let’s try to understand what these mysterious namespaces are. However,\n",
    "# before that, it will be worth spending some time understanding names in\n",
    "# the context of Python."
   ]
  },
  {
   "cell_type": "markdown",
   "id": "72ac307a",
   "metadata": {},
   "source": [
    "# 9.3.1 Names in the Python world"
   ]
  },
  {
   "cell_type": "markdown",
   "id": "061cdfdd",
   "metadata": {},
   "source": []
  },
  {
   "cell_type": "code",
   "execution_count": 2,
   "id": "7aed3a5e",
   "metadata": {},
   "outputs": [],
   "source": [
    "# A name (also known as an identifier) is simply a name given to an object.\n",
    "# From Python basics, we know that everything in Python are objects. And\n",
    "# a name is a way to access the underlying object. Let us create a new vari-\n",
    "# able with a name price having a value 144, and check the memory location\n",
    "# identifier accessible by the function id."
   ]
  },
  {
   "cell_type": "code",
   "execution_count": 3,
   "id": "e2b0e9d3",
   "metadata": {},
   "outputs": [],
   "source": [
    "# Creating new variable \n",
    "price = 144"
   ]
  },
  {
   "cell_type": "code",
   "execution_count": 4,
   "id": "87a84a71",
   "metadata": {},
   "outputs": [
    {
     "name": "stdout",
     "output_type": "stream",
     "text": [
      "11758472\n"
     ]
    }
   ],
   "source": [
    "# Case 1: Print memory id of the variable price\n",
    "print(id(price))"
   ]
  },
  {
   "cell_type": "code",
   "execution_count": 5,
   "id": "3083ec90",
   "metadata": {},
   "outputs": [
    {
     "name": "stdout",
     "output_type": "stream",
     "text": [
      "11758472\n"
     ]
    }
   ],
   "source": [
    "# Case 2: Print memory id of the absolute value 144\n",
    "print(id(144))"
   ]
  },
  {
   "cell_type": "code",
   "execution_count": 6,
   "id": "67540e25",
   "metadata": {},
   "outputs": [
    {
     "name": "stdout",
     "output_type": "stream",
     "text": [
      "145\n"
     ]
    }
   ],
   "source": [
    "# Interestingly we see that the memory location of both cases (the variable\n",
    "# and its assigned value) is the same. In other words, both refer to the same\n",
    "# integer object. If you would execute the above code on your workstation,\n",
    "# memory location would almost certainly be different, but it would be the\n",
    "# same for both the variable and value. Let’s add more fun to it. Consider the\n",
    "# following code:\n",
    "\n",
    "# Assign price to old_price\n",
    "old_price = price\n",
    "\n",
    "# Assign new value to price\n",
    "price = price + 1\n",
    "\n",
    "# Print price\n",
    "print(price)"
   ]
  },
  {
   "cell_type": "code",
   "execution_count": 7,
   "id": "ff2b9c97",
   "metadata": {},
   "outputs": [
    {
     "name": "stdout",
     "output_type": "stream",
     "text": [
      "Memory location of price: 11758504\n",
      "Memory location of 145: 11758504\n"
     ]
    }
   ],
   "source": [
    "# Print memory location of price and 145\n",
    "print('Memory location of price:', id(price))\n",
    "print('Memory location of 145:', id(145))"
   ]
  },
  {
   "cell_type": "code",
   "execution_count": 8,
   "id": "5f65dfcb",
   "metadata": {},
   "outputs": [
    {
     "name": "stdout",
     "output_type": "stream",
     "text": [
      "Memory location of old_price: 11758472\n",
      "Memory location of 144: 11758472\n"
     ]
    }
   ],
   "source": [
    "# Print memory location of old_price and 144\n",
    "print('Memory location of old_price:', id(old_price))\n",
    "print('Memory location of 144:', id(144))"
   ]
  },
  {
   "cell_type": "code",
   "execution_count": 9,
   "id": "3547b446",
   "metadata": {},
   "outputs": [],
   "source": [
    "# We increased the value of a variable price by 1 unit and see that the mem-\n",
    "# ory location of it got changed. As you may have guessed, the memory loca-\n",
    "# tion of an integer object 145 would also be the same as that of price. How-\n",
    "# ever, if we check the memory location of a variable old_price, it would\n",
    "# point to the memory location of integer object 144. This is efficient as\n",
    "# Python does not need to create duplicate objects. This also makes Python\n",
    "# powerful in a sense that a name could refer to any object, even functions.\n",
    "# Note that functions are also objects in Python. Now that we are aware of\n",
    "# the nitty-gritty of names in Python, we are ready to examine namespaces\n",
    "# closely."
   ]
  },
  {
   "cell_type": "markdown",
   "id": "a2db1a0a",
   "metadata": {},
   "source": [
    "# 9.3.2 Namespace"
   ]
  },
  {
   "cell_type": "code",
   "execution_count": 10,
   "id": "38c65f34",
   "metadata": {},
   "outputs": [],
   "source": [
    "# Name conflicts happen all the time in real life. For example, we often see\n",
    "# that there are multiple students with the same name X in a classroom. If\n",
    "# someone has to call the student X, there would be a conflicting situation for\n",
    "# determining which student X is actually being called. While calling, one\n",
    "# might use the last name along with the student’s first name to ensure that\n",
    "# the call is made to the correct student X."
   ]
  },
  {
   "cell_type": "markdown",
   "id": "97811e53",
   "metadata": {},
   "source": []
  },
  {
   "cell_type": "code",
   "execution_count": 11,
   "id": "481cf404",
   "metadata": {},
   "outputs": [],
   "source": [
    "# Similarly, such conflicts also arise in programming. It is easy and manage-\n",
    "# able to have unique names when programs are small without any external\n",
    "# dependencies. Things start becoming complex when programs become\n",
    "# larger and external modules are incorporated. It becomes difficult and\n",
    "# wearisome to have unique names for all objects in the program when it\n",
    "# spans hundreds of lines."
   ]
  },
  {
   "cell_type": "code",
   "execution_count": 12,
   "id": "e911e9dd",
   "metadata": {},
   "outputs": [],
   "source": [
    "# A namespace can be thought of a naming system to avoid ambiguity be-\n",
    "# tween names and ensures that all the names in a program are unique and\n",
    "# can be used without any conflict. Most namespaces are implemented as a\n",
    "# dictionary in Python. There is a name to object mapping, with names as\n",
    "# keys and objects as values. Multiple namespaces can use the same name\n",
    "# and map it to a different object. Namespaces are created at different mo-\n",
    "# ments and have different lifetimes."
   ]
  },
  {
   "cell_type": "code",
   "execution_count": 13,
   "id": "54346dfb",
   "metadata": {},
   "outputs": [],
   "source": [
    "# Examples of namespaces are:\n",
    "# • The set of built-in names: It includes built-in functions and built-in\n",
    "# exception names.\n",
    "# • The global names in a module: It includes names from various mod-\n",
    "# ules imported in a program.\n",
    "# • The local names in a function: It includes names inside a function. It is\n",
    "# created when a function is called and lasts until the function returns."
   ]
  },
  {
   "cell_type": "code",
   "execution_count": null,
   "id": "6e088883",
   "metadata": {},
   "outputs": [],
   "source": [
    "# The important thing to know about namespaces is that there is absolutely\n",
    "# no relation between names in different namespaces; that is, two differ-\n",
    "# ent modules can contain a function sum without any conflict or confusion.\n",
    "# However, they must be prefixed with the module name when used."
   ]
  },
  {
   "cell_type": "markdown",
   "id": "4b5761b2",
   "metadata": {},
   "source": [
    "# 9.3.3 Scopes"
   ]
  },
  {
   "cell_type": "code",
   "execution_count": 14,
   "id": "108910cb",
   "metadata": {},
   "outputs": [],
   "source": [
    "# Until now we’ve been using objects anywhere in a program. However, an\n",
    "# important thing to note is not all objects are always accessible everywhere\n",
    "# in a program. This is where the concept of scope comes into the picture.\n",
    "# A scope is a region of a Python program where a namespace is directly\n",
    "# accessible. That is when a reference to a name (lists, tuples, variables, etc.)\n",
    "# is made, Python attempts to find the name in the namespace. The different\n",
    "# types of scopes are:"
   ]
  },
  {
   "cell_type": "code",
   "execution_count": 16,
   "id": "b7aa10b2",
   "metadata": {},
   "outputs": [
    {
     "name": "stdout",
     "output_type": "stream",
     "text": [
      "Within function: Number is 10\n"
     ]
    },
    {
     "ename": "NameError",
     "evalue": "name 'n' is not defined",
     "output_type": "error",
     "traceback": [
      "\u001b[31m---------------------------------------------------------------------------\u001b[39m",
      "\u001b[31mNameError\u001b[39m                                 Traceback (most recent call last)",
      "\u001b[36mCell\u001b[39m\u001b[36m \u001b[39m\u001b[32mIn[16]\u001b[39m\u001b[32m, line 16\u001b[39m\n\u001b[32m     12\u001b[39m     \u001b[38;5;28mprint\u001b[39m(\u001b[33m'\u001b[39m\u001b[33mWithin function: Number is\u001b[39m\u001b[33m'\u001b[39m, n)\n\u001b[32m     14\u001b[39m print_number()\n\u001b[32m---> \u001b[39m\u001b[32m16\u001b[39m \u001b[38;5;28mprint\u001b[39m(\u001b[33m'\u001b[39m\u001b[33mOutside function: Number is\u001b[39m\u001b[33m'\u001b[39m, \u001b[43mn\u001b[49m)\n",
      "\u001b[31mNameError\u001b[39m: name 'n' is not defined"
     ]
    }
   ],
   "source": [
    "# Local scope: Names that are defined within a local scope means they are de-\n",
    "# fined inside a function. They are accessible only within a function. Names\n",
    "# defined within a function cannot be accessed outside of it. Once the execu-\n",
    "# tion of a function is over, names within the local scope cease to exist. This\n",
    "# is illustrated below:\n",
    "\n",
    "# Defining a function\n",
    "def print_number():\n",
    "    # This is local scope\n",
    "    n = 10\n",
    "    # Printing number\n",
    "    print('Within function: Number is', n)\n",
    "\n",
    "print_number()\n",
    "\n",
    "print('Outside function: Number is', n)"
   ]
  },
  {
   "cell_type": "markdown",
   "id": "81b7dba3",
   "metadata": {},
   "source": []
  },
  {
   "cell_type": "code",
   "execution_count": 17,
   "id": "f5ebc3ac",
   "metadata": {},
   "outputs": [
    {
     "name": "stdout",
     "output_type": "stream",
     "text": [
      "Number is 10\n"
     ]
    }
   ],
   "source": [
    "# Enclosing scope: Names in the enclosing scope refer to the names defined\n",
    "# within enclosing functions. When there is a reference to a name that is not\n",
    "# available within the local scope, it will be searched within the enclosing\n",
    "# scope. This is known as scope resolution. The following example helps us\n",
    "# understand this better:\n",
    "\n",
    "# This is enclosing / outer function\n",
    "def outer():\n",
    "    number = 10\n",
    "\n",
    "    # This is nested / inner function\n",
    "    def inner():\n",
    "        print('Number is', number)\n",
    "\n",
    "    inner()\n",
    "\n",
    "outer()"
   ]
  },
  {
   "cell_type": "code",
   "execution_count": 18,
   "id": "6bc14d06",
   "metadata": {},
   "outputs": [],
   "source": [
    "# We try to print the variable number from within the inner function where\n",
    "# it is not defined. Hence, Python tries to find the variable in the outer\n",
    "# function which works as an enclosing function. What if the variable is not\n",
    "# found within the enclosing scope as well? Python will try to find it in the\n",
    "# global scope which we discuss next."
   ]
  },
  {
   "cell_type": "code",
   "execution_count": 19,
   "id": "7a704a55",
   "metadata": {},
   "outputs": [
    {
     "name": "stdout",
     "output_type": "stream",
     "text": [
      "First statement:  0\n",
      "Second statement:  3\n"
     ]
    }
   ],
   "source": [
    "# Global scope: Names in the global scope means they are defined within the\n",
    "# main script of a program. They are accessible almost everywhere within\n",
    "# the program. Consider the following example where we define a variable n\n",
    "# before a function definition (that is, within global scope) and define another\n",
    "# variable with the same name n within the function.\n",
    "\n",
    "# Global variable \n",
    "n = 3\n",
    "\n",
    "def relu(val):\n",
    "    # Local variable\n",
    "    n = max(0, val)\n",
    "    return n\n",
    "\n",
    "print('First statement: ', relu(-3))\n",
    "print('Second statement: ', n)"
   ]
  },
  {
   "cell_type": "code",
   "execution_count": 20,
   "id": "36607b19",
   "metadata": {},
   "outputs": [],
   "source": [
    "# Here, the first print statement calls the relu function with a value of -3\n",
    "# which evaluates the maximum number to 0 and assigns the maximum\n",
    "# number to the variable n which in turn gets returned thereby printing 0.\n",
    "# Next, we attempt to print the n and Python prints 3. This is because Python\n",
    "# now refers to the variable n defined outside the function (within the global\n",
    "# scope). Hence, we got two different values of n as they reside in different\n",
    "# scopes. This brings us to one obvious question, what if the variable is not\n",
    "# defined within the local scope, but available in the globals scope and we\n",
    "# try to access that global variable? The answer is intuitive, we will be able\n",
    "# to access it within the function. However, it would be a read-only variable\n",
    "# and hence we won’t be able to modify it. An attempt to modify a global\n",
    "# variable result in the error as shown below:"
   ]
  },
  {
   "cell_type": "code",
   "execution_count": 22,
   "id": "3e58e315",
   "metadata": {},
   "outputs": [
    {
     "ename": "UnboundLocalError",
     "evalue": "cannot access local variable 'number' where it is not associated with a value",
     "output_type": "error",
     "traceback": [
      "\u001b[31m---------------------------------------------------------------------------\u001b[39m",
      "\u001b[31mUnboundLocalError\u001b[39m                         Traceback (most recent call last)",
      "\u001b[36mCell\u001b[39m\u001b[36m \u001b[39m\u001b[32mIn[22]\u001b[39m\u001b[32m, line 10\u001b[39m\n\u001b[32m      7\u001b[39m     \u001b[38;5;28mprint\u001b[39m(\u001b[33m'\u001b[39m\u001b[33mWithin function: Number is\u001b[39m\u001b[33m'\u001b[39m, number)\n\u001b[32m      9\u001b[39m \u001b[38;5;66;03m# Calling the function\u001b[39;00m\n\u001b[32m---> \u001b[39m\u001b[32m10\u001b[39m \u001b[43mupdate_number\u001b[49m\u001b[43m(\u001b[49m\u001b[43m)\u001b[49m\n\u001b[32m     12\u001b[39m \u001b[38;5;28mprint\u001b[39m(\u001b[33m'\u001b[39m\u001b[33mOutside function: Number is\u001b[39m\u001b[33m'\u001b[39m, number)\n",
      "\u001b[36mCell\u001b[39m\u001b[36m \u001b[39m\u001b[32mIn[22]\u001b[39m\u001b[32m, line 6\u001b[39m, in \u001b[36mupdate_number\u001b[39m\u001b[34m()\u001b[39m\n\u001b[32m      5\u001b[39m \u001b[38;5;28;01mdef\u001b[39;00m\u001b[38;5;250m \u001b[39m\u001b[34mupdate_number\u001b[39m():\n\u001b[32m----> \u001b[39m\u001b[32m6\u001b[39m     number = \u001b[43mnumber\u001b[49m + \u001b[32m2\u001b[39m\n\u001b[32m      7\u001b[39m     \u001b[38;5;28mprint\u001b[39m(\u001b[33m'\u001b[39m\u001b[33mWithin function: Number is\u001b[39m\u001b[33m'\u001b[39m, number)\n",
      "\u001b[31mUnboundLocalError\u001b[39m: cannot access local variable 'number' where it is not associated with a value"
     ]
    }
   ],
   "source": [
    "# Global variable \n",
    "number = 5\n",
    "\n",
    "# Function that updates the global variable\n",
    "def update_number():\n",
    "    number = number + 2\n",
    "    print('Within function: Number is', number)\n",
    "\n",
    "# Calling the function\n",
    "update_number()\n",
    "\n",
    "print('Outside function: Number is', number)"
   ]
  },
  {
   "cell_type": "code",
   "execution_count": 23,
   "id": "de4e9db7",
   "metadata": {},
   "outputs": [
    {
     "name": "stdout",
     "output_type": "stream",
     "text": [
      "Within function: Number is 7\n",
      "Outside function: Number is 7\n"
     ]
    }
   ],
   "source": [
    "# To handle such a situation which demands modification of a global name,\n",
    "# we define the global name within the function followed by the global key-\n",
    "# word. The global keywords allow us to access the global name within the\n",
    "# local scope. Let us run the above code, but with the global keyword.\n",
    "\n",
    "# Global variable\n",
    "number = 5\n",
    "\n",
    "# Function that updates the global variable\n",
    "def update_number():\n",
    "    global number\n",
    "    number = number + 2\n",
    "    print('Within function: Number is', number)\n",
    "\n",
    "# Calling the function\n",
    "update_number()\n",
    "\n",
    "print('Outside function: Number is', number)"
   ]
  },
  {
   "cell_type": "code",
   "execution_count": 24,
   "id": "3ad5075d",
   "metadata": {},
   "outputs": [],
   "source": [
    "# The global keyword allowed us to modify the global variable from\n",
    "# the local scope without any issues. This is very similar to the keyword\n",
    "# non-local which allows us to modify variables defined in the enclosing\n",
    "# scope."
   ]
  },
  {
   "cell_type": "code",
   "execution_count": 25,
   "id": "edfe20e4",
   "metadata": {},
   "outputs": [],
   "source": [
    "# Built-in scope: This scope consists of names predefined within built-ins\n",
    "# module in Python such as sum, print, type, etc. Though we neither define\n",
    "# these functions anywhere in our program nor we import them from any\n",
    "# external module they are always available to use."
   ]
  },
  {
   "cell_type": "code",
   "execution_count": 26,
   "id": "d93df3f9",
   "metadata": {},
   "outputs": [],
   "source": [
    "# To summarize, when executing a Python code, names are searched in various scopes in the following order:\n",
    "# 1. Local\n",
    "# 2. Enclosing\n",
    "# 3. Global\n",
    "# 4. Built-in\n",
    "\n",
    "# If they are not found in any scope, Python will throw an error."
   ]
  }
 ],
 "metadata": {
  "kernelspec": {
   "display_name": "venv",
   "language": "python",
   "name": "python3"
  },
  "language_info": {
   "codemirror_mode": {
    "name": "ipython",
    "version": 3
   },
   "file_extension": ".py",
   "mimetype": "text/x-python",
   "name": "python",
   "nbconvert_exporter": "python",
   "pygments_lexer": "ipython3",
   "version": "3.12.3"
  }
 },
 "nbformat": 4,
 "nbformat_minor": 5
}
