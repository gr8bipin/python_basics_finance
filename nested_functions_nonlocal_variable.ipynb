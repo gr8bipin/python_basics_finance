{
 "cells": [
  {
   "cell_type": "markdown",
   "id": "8d116e6f",
   "metadata": {},
   "source": [
    "# 9.2.6 Nested functions and non-local variable"
   ]
  },
  {
   "cell_type": "code",
   "execution_count": 1,
   "id": "cdbfc559",
   "metadata": {},
   "outputs": [],
   "source": [
    "# A nested function is a function that is defined inside another function. The\n",
    "# syntax for the nested function is the same as that of any other function.\n",
    "# Though the applications of nested functions are complex in nature and limited at times,\n",
    "#  even in the quant domain, it is worth mentioning it, as we\n",
    "# might encounter this out there in the wild. Below is an example which\n",
    "# demonstrates the nested functions."
   ]
  },
  {
   "cell_type": "code",
   "execution_count": 2,
   "id": "f7b246a4",
   "metadata": {},
   "outputs": [],
   "source": [
    "# Defining nested function\n",
    "def outer():\n",
    "    \"\"\"This is an enclosing function\"\"\"\n",
    "    def inner():\n",
    "        \"\"\"This is a nested function\"\"\"\n",
    "        print('Got printed from the nested function.')\n",
    "\n",
    "    print('Got printed from the outer function.')\n",
    "    inner()"
   ]
  },
  {
   "cell_type": "code",
   "execution_count": 3,
   "id": "3bf2750a",
   "metadata": {},
   "outputs": [],
   "source": [
    "# We define the function outer which nests another function inner within\n",
    "# it. The outer function is referred to as an enclosing function and inner is\n",
    "# known as nested function. They are also referred to as inner functions some-\n",
    "# times. Upon calling the outer function, Python will, in turn, call the inner\n",
    "# function nested inside it and execute it."
   ]
  },
  {
   "cell_type": "code",
   "execution_count": 4,
   "id": "9eb4d247",
   "metadata": {},
   "outputs": [
    {
     "name": "stdout",
     "output_type": "stream",
     "text": [
      "Got printed from the outer function.\n",
      "Got printed from the nested function.\n"
     ]
    }
   ],
   "source": [
    "# Calling the 'outer' function\n",
    "outer()"
   ]
  },
  {
   "cell_type": "code",
   "execution_count": 5,
   "id": "107377a3",
   "metadata": {},
   "outputs": [],
   "source": [
    "# The output we got here is intuitive. First, the print statement within the\n",
    "# outer function got executed, followed by the print statement in the inner\n",
    "# function. Additionally, nested functions can access variables of the enclos-\n",
    "# ing functions. i.e. variables defined in the outer function can be accessed\n",
    "# by the inner function. However, the inner or the nested function cannot\n",
    "# modify the variables defined in the outer or enclosing function."
   ]
  },
  {
   "cell_type": "code",
   "execution_count": 6,
   "id": "0ec4893f",
   "metadata": {},
   "outputs": [
    {
     "name": "stdout",
     "output_type": "stream",
     "text": [
      "Number = 5\n"
     ]
    }
   ],
   "source": [
    "def outer(n):\n",
    "    number = n\n",
    "\n",
    "    def inner():\n",
    "        print('Number =', number)\n",
    "\n",
    "    inner()\n",
    "\n",
    "outer(5)"
   ]
  },
  {
   "cell_type": "code",
   "execution_count": 10,
   "id": "15eb1b25",
   "metadata": {},
   "outputs": [],
   "source": [
    "# Though the variable number is not defined within inner function, it is able\n",
    "# to access and print the number. This is possible because of scope mechanism\n",
    "# that Python provided. We discuss more on this in the following section.\n",
    "# Now consider, what if we want the nested function to modify the variable\n",
    "# that is declared in the enclosing function. The default behavior of Python\n",
    "# does not allow this. If we try to modify it, we will be presented with an\n",
    "# error. To handle such a situation, the keyword nonlocal comes to the\n",
    "# rescue."
   ]
  },
  {
   "cell_type": "code",
   "execution_count": 9,
   "id": "681dddc0",
   "metadata": {},
   "outputs": [
    {
     "name": "stdout",
     "output_type": "stream",
     "text": [
      "Number = 3\n",
      "Square of number = 9\n",
      "Number = 9\n"
     ]
    }
   ],
   "source": [
    "# In the nested function, we use the keyword nonlocal to create and change\n",
    "# the variables defined in the enclosing function. In the example that follows,\n",
    "# we alter the value of the variable number.\n",
    "\n",
    "def outer(n):\n",
    "    number = n\n",
    "    def inner():\n",
    "        nonlocal number\n",
    "        number = number ** 2\n",
    "        print('Square of number =', number)\n",
    "\n",
    "    print('Number =', number)\n",
    "    inner()\n",
    "    print('Number =', number)\n",
    "outer(3)"
   ]
  },
  {
   "cell_type": "markdown",
   "id": "2eece30b",
   "metadata": {},
   "source": []
  }
 ],
 "metadata": {
  "kernelspec": {
   "display_name": "venv",
   "language": "python",
   "name": "python3"
  },
  "language_info": {
   "codemirror_mode": {
    "name": "ipython",
    "version": 3
   },
   "file_extension": ".py",
   "mimetype": "text/x-python",
   "name": "python",
   "nbconvert_exporter": "python",
   "pygments_lexer": "ipython3",
   "version": "3.12.3"
  }
 },
 "nbformat": 4,
 "nbformat_minor": 5
}
