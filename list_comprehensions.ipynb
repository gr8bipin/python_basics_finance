{
 "cells": [
  {
   "cell_type": "code",
   "execution_count": 1,
   "id": "a31f3179",
   "metadata": {},
   "outputs": [],
   "source": [
    "# List comprehension is an elegant way to define and create a list in Python. \n",
    "# It is used to create a new list from another sequence, just like a mathematical\n",
    "# set notation in a single line. Consider the following set notation:\n",
    "\n",
    "# {i^3: i is a natural number less than 10}"
   ]
  },
  {
   "cell_type": "code",
   "execution_count": 2,
   "id": "97d3d657",
   "metadata": {},
   "outputs": [
    {
     "data": {
      "text/plain": [
       "[0, 1, 8, 27, 64, 125, 216, 343, 512, 729]"
      ]
     },
     "execution_count": 2,
     "metadata": {},
     "output_type": "execute_result"
    }
   ],
   "source": [
    "# The output of the above set notation will be cubes of all natural numbers\n",
    "# less than 10. Now let’s look at the corresponding Python code implementing list comprehension.\n",
    "\n",
    "[i**3 for i in range(0,10)]"
   ]
  },
  {
   "cell_type": "code",
   "execution_count": 3,
   "id": "1981b697",
   "metadata": {},
   "outputs": [],
   "source": [
    "# As we see in the Python code above, list comprehension starts and ends\n",
    "# with square brackets to help us remember that the output will be a list. If\n",
    "# we look closely, it is a for loop embedded in the square bracket. In a general\n",
    "# sense, a for loop works as follows:\n",
    "\n",
    "# for item in sequence:\n",
    "    # if condition:\n",
    "        # output expression\n",
    "\n",
    "# The same gets implemented in a simple list comprehension construct in a single line as:\n",
    "\n",
    "# [output expression for item in sequence if condition]"
   ]
  },
  {
   "cell_type": "code",
   "execution_count": null,
   "id": "e090bcad",
   "metadata": {},
   "outputs": [],
   "source": [
    "# As shown above, the syntax for list comprehension starts with the opening\n",
    "# square bracket [ followed by output expression, for loop, and optional\n",
    "# if condition. It has to be ended with the closing square bracket ]."
   ]
  },
  {
   "cell_type": "code",
   "execution_count": 5,
   "id": "0f6459db",
   "metadata": {},
   "outputs": [],
   "source": [
    "# The set defined above can also be implemented using the for loop in the\n",
    "# following way:\n",
    "\n",
    "# Input\n",
    "cube_list = []\n",
    "\n",
    "for i in range(0, 10):\n",
    "    cube_list.append(i**3)"
   ]
  },
  {
   "cell_type": "code",
   "execution_count": 6,
   "id": "359d2c6a",
   "metadata": {},
   "outputs": [
    {
     "data": {
      "text/plain": [
       "[0, 1, 8, 27, 64, 125, 216, 343, 512, 729]"
      ]
     },
     "execution_count": 6,
     "metadata": {},
     "output_type": "execute_result"
    }
   ],
   "source": [
    "# The corresponding list comprehension is constructed in the following way:\n",
    "\n",
    "# Input\n",
    "[i**3 for i in range(0, 10)]"
   ]
  },
  {
   "cell_type": "code",
   "execution_count": 7,
   "id": "5596eb2d",
   "metadata": {},
   "outputs": [],
   "source": [
    "# We can filter the output produced by a list comprehension using the condition part in its construct. \n",
    "# Consider the revised set notation given below:\n",
    "\n",
    "# {i^3: i is a whole number less than 20, i is even}"
   ]
  },
  {
   "cell_type": "code",
   "execution_count": 8,
   "id": "51967e97",
   "metadata": {},
   "outputs": [
    {
     "name": "stdout",
     "output_type": "stream",
     "text": [
      "[8, 64, 216, 512, 1000, 1728, 2744, 4096, 5832]\n"
     ]
    }
   ],
   "source": [
    "# The set defined above contains cubes of all whole numbers which are less\n",
    "# than 20 and even. It can be implemented using the for loop as given below:\n",
    "\n",
    "# Input\n",
    "cube_list = []\n",
    "\n",
    "for i in range(1, 20):\n",
    "    if i % 2 == 0:\n",
    "        cube_list.append(i**3)\n",
    "\n",
    "print(cube_list)"
   ]
  },
  {
   "cell_type": "code",
   "execution_count": 10,
   "id": "296bcaa9",
   "metadata": {},
   "outputs": [],
   "source": [
    "# The output we got is in line with the set defined above and the for loop\n",
    "# defined above can be implemented in a single line using the List Comprehension construct."
   ]
  },
  {
   "cell_type": "code",
   "execution_count": 11,
   "id": "0cfe784d",
   "metadata": {},
   "outputs": [
    {
     "data": {
      "text/plain": [
       "[8, 64, 216, 512, 1000, 1728, 2744, 4096, 5832]"
      ]
     },
     "execution_count": 11,
     "metadata": {},
     "output_type": "execute_result"
    }
   ],
   "source": [
    "# Input\n",
    "[i**3 for i in range(1, 20) if i % 2 == 0]"
   ]
  },
  {
   "cell_type": "code",
   "execution_count": 12,
   "id": "2523807b",
   "metadata": {},
   "outputs": [],
   "source": [
    "# With a list comprehension, it does not have to be a single condition. We can\n",
    "# have multiple conditions to filter the output produced by it. Suppose, we\n",
    "# want to have a list of all positive numbers less than 20 which are divisible\n",
    "# by 2 and 3 both. Such a list can be generated as follows:"
   ]
  },
  {
   "cell_type": "code",
   "execution_count": 13,
   "id": "c6d53d95",
   "metadata": {},
   "outputs": [
    {
     "data": {
      "text/plain": [
       "[0, 6, 12, 18]"
      ]
     },
     "execution_count": 13,
     "metadata": {},
     "output_type": "execute_result"
    }
   ],
   "source": [
    "# Input\n",
    "[i for i in range(0, 20) if i % 2 == 0 if i % 3 == 0]"
   ]
  },
  {
   "cell_type": "code",
   "execution_count": 14,
   "id": "9fb3b6a2",
   "metadata": {},
   "outputs": [],
   "source": [
    "# Python provides a flexible way to integrate if conditions within a list comprehension. \n",
    "# It also allows us to embed the if...else condition. Let us segregate a list of positive numbers into Odd and \n",
    "# Even using a comprehension construct."
   ]
  },
  {
   "cell_type": "code",
   "execution_count": 15,
   "id": "914c8d19",
   "metadata": {},
   "outputs": [
    {
     "data": {
      "text/plain": [
       "['0: Even', '1: Odd', '2: Even', '3: Odd', '4: Even', '5: Odd']"
      ]
     },
     "execution_count": 15,
     "metadata": {},
     "output_type": "execute_result"
    }
   ],
   "source": [
    "# Input\n",
    "[str(i) + ': Even' if i % 2 == 0 else str(i) + ': Odd' for i in range(0,6)]"
   ]
  },
  {
   "cell_type": "code",
   "execution_count": 16,
   "id": "a9f74f1a",
   "metadata": {},
   "outputs": [],
   "source": [
    "# Finally, we can use a list comprehension to write a nested for loop. We\n",
    "# resort to normal for loop and implement the multiplication table of 7 using\n",
    "# the nested for loops in the following example:"
   ]
  },
  {
   "cell_type": "code",
   "execution_count": 17,
   "id": "7adeb69d",
   "metadata": {},
   "outputs": [
    {
     "name": "stdout",
     "output_type": "stream",
     "text": [
      "7 * 1 = 7\n",
      "7 * 2 = 14\n",
      "7 * 3 = 21\n",
      "7 * 4 = 28\n",
      "7 * 5 = 35\n",
      "7 * 6 = 42\n",
      "7 * 7 = 49\n",
      "7 * 8 = 56\n",
      "7 * 9 = 63\n",
      "7 * 10 = 70\n"
     ]
    }
   ],
   "source": [
    "# Input\n",
    "for i in range(7, 8):\n",
    "    for j in range(1, 11):\n",
    "        print(f'{i} * {j} = {i * j}')"
   ]
  },
  {
   "cell_type": "code",
   "execution_count": 18,
   "id": "93f5f050",
   "metadata": {},
   "outputs": [
    {
     "data": {
      "text/plain": [
       "[7, 14, 21, 28, 35, 42, 49, 56, 63, 70]"
      ]
     },
     "execution_count": 18,
     "metadata": {},
     "output_type": "execute_result"
    }
   ],
   "source": [
    "# Such nested for loops can be implemented using a comprehension in the\n",
    "# following way:\n",
    "\n",
    "[i * j for j in range(1, 11) for i in range(7, 8)]"
   ]
  }
 ],
 "metadata": {
  "kernelspec": {
   "display_name": "venv",
   "language": "python",
   "name": "python3"
  },
  "language_info": {
   "codemirror_mode": {
    "name": "ipython",
    "version": 3
   },
   "file_extension": ".py",
   "mimetype": "text/x-python",
   "name": "python",
   "nbconvert_exporter": "python",
   "pygments_lexer": "ipython3",
   "version": "3.12.3"
  }
 },
 "nbformat": 4,
 "nbformat_minor": 5
}
