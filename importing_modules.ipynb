{
 "cells": [
  {
   "cell_type": "markdown",
   "id": "9055126e",
   "metadata": {},
   "source": [
    "# 4.4 Importing modules"
   ]
  },
  {
   "cell_type": "code",
   "execution_count": 256,
   "id": "9ca25cca",
   "metadata": {},
   "outputs": [],
   "source": [
    "# importing an internal module\n",
    "import math"
   ]
  },
  {
   "cell_type": "code",
   "execution_count": 257,
   "id": "ddab119b",
   "metadata": {},
   "outputs": [],
   "source": [
    "# importing an external library\n",
    "import pandas"
   ]
  },
  {
   "cell_type": "code",
   "execution_count": 258,
   "id": "96f81467",
   "metadata": {},
   "outputs": [
    {
     "data": {
      "text/plain": [
       "3.141592653589793"
      ]
     },
     "execution_count": 258,
     "metadata": {},
     "output_type": "execute_result"
    }
   ],
   "source": [
    "# Accessing the 'pi' attribute of the 'math' module\n",
    "math.pi"
   ]
  },
  {
   "cell_type": "code",
   "execution_count": 259,
   "id": "cbe88caf",
   "metadata": {},
   "outputs": [
    {
     "data": {
      "text/plain": [
       "<function math.floor(x, /)>"
      ]
     },
     "execution_count": 259,
     "metadata": {},
     "output_type": "execute_result"
    }
   ],
   "source": [
    "# Accessing the 'floor' function from the 'math' module\n",
    "math.floor"
   ]
  },
  {
   "cell_type": "code",
   "execution_count": 260,
   "id": "b8883b57",
   "metadata": {},
   "outputs": [
    {
     "data": {
      "text/plain": [
       "10"
      ]
     },
     "execution_count": 260,
     "metadata": {},
     "output_type": "execute_result"
    }
   ],
   "source": [
    "# Accessing the 'floor' method from the 'math'\n",
    "math.floor(10.8)"
   ]
  },
  {
   "cell_type": "code",
   "execution_count": 261,
   "id": "f1f93cfb",
   "metadata": {},
   "outputs": [
    {
     "data": {
      "text/plain": [
       "pandas.core.frame.DataFrame"
      ]
     },
     "execution_count": 261,
     "metadata": {},
     "output_type": "execute_result"
    }
   ],
   "source": [
    "# Accessing the 'DataFrame' module from the 'pandas'\n",
    "# library\n",
    "pandas.DataFrame"
   ]
  },
  {
   "cell_type": "code",
   "execution_count": 262,
   "id": "3e6a2089",
   "metadata": {},
   "outputs": [],
   "source": [
    "# Aliasing math as 'm'\n",
    "import math as m"
   ]
  },
  {
   "cell_type": "code",
   "execution_count": 263,
   "id": "c8a3ad3a",
   "metadata": {},
   "outputs": [],
   "source": [
    "# Aliasing pandas as 'pd'\n",
    "import pandas as pd"
   ]
  },
  {
   "cell_type": "code",
   "execution_count": 264,
   "id": "d3a631b3",
   "metadata": {},
   "outputs": [],
   "source": [
    "# Aliasing numpy as 'np' \n",
    "import numpy as np"
   ]
  },
  {
   "cell_type": "code",
   "execution_count": 265,
   "id": "f69121d7",
   "metadata": {},
   "outputs": [],
   "source": [
    "# an alias can be used in the same way as the module name"
   ]
  },
  {
   "cell_type": "code",
   "execution_count": 266,
   "id": "977a1974",
   "metadata": {},
   "outputs": [
    {
     "data": {
      "text/plain": [
       "3.141592653589793"
      ]
     },
     "execution_count": 266,
     "metadata": {},
     "output_type": "execute_result"
    }
   ],
   "source": [
    "m.pi"
   ]
  },
  {
   "cell_type": "code",
   "execution_count": 267,
   "id": "38286161",
   "metadata": {},
   "outputs": [
    {
     "data": {
      "text/plain": [
       "2.718281828459045"
      ]
     },
     "execution_count": 267,
     "metadata": {},
     "output_type": "execute_result"
    }
   ],
   "source": [
    "m.e"
   ]
  },
  {
   "cell_type": "code",
   "execution_count": 268,
   "id": "17c5c498",
   "metadata": {},
   "outputs": [
    {
     "data": {
      "text/plain": [
       "<function math.gamma(x, /)>"
      ]
     },
     "execution_count": 268,
     "metadata": {},
     "output_type": "execute_result"
    }
   ],
   "source": [
    "m.gamma"
   ]
  },
  {
   "cell_type": "markdown",
   "id": "11adb2ec",
   "metadata": {},
   "source": [
    "# 4.4.2 Selective imports"
   ]
  },
  {
   "cell_type": "code",
   "execution_count": 269,
   "id": "4407bdf1",
   "metadata": {},
   "outputs": [],
   "source": [
    "# import all definitions of math module\n",
    "from math import *"
   ]
  },
  {
   "cell_type": "code",
   "execution_count": 270,
   "id": "2e2fd671",
   "metadata": {},
   "outputs": [],
   "source": [
    "# import all definitions from pyplot module of matplotlib \n",
    "# library\n",
    "\n",
    "from matplotlib.pyplot import *"
   ]
  },
  {
   "cell_type": "markdown",
   "id": "1a787917",
   "metadata": {},
   "source": [
    "# when definitions are directly imported from any module, we\n",
    "# need not use the module name along with the dot operator to access them\n",
    "# we can directly use the definition name itself"
   ]
  },
  {
   "cell_type": "code",
   "execution_count": 271,
   "id": "632c5f67",
   "metadata": {},
   "outputs": [
    {
     "data": {
      "text/plain": [
       "3.141592653589793"
      ]
     },
     "execution_count": 271,
     "metadata": {},
     "output_type": "execute_result"
    }
   ],
   "source": [
    "# Accessing definitions directly without module name\n",
    "pi"
   ]
  },
  {
   "cell_type": "code",
   "execution_count": 272,
   "id": "598c755b",
   "metadata": {},
   "outputs": [
    {
     "data": {
      "text/plain": [
       "2.718281828459045"
      ]
     },
     "execution_count": 272,
     "metadata": {},
     "output_type": "execute_result"
    }
   ],
   "source": [
    "e"
   ]
  },
  {
   "cell_type": "code",
   "execution_count": 273,
   "id": "d1fe5e53",
   "metadata": {},
   "outputs": [
    {
     "data": {
      "text/plain": [
       "10"
      ]
     },
     "execution_count": 273,
     "metadata": {},
     "output_type": "execute_result"
    }
   ],
   "source": [
    "floor(10.8)"
   ]
  },
  {
   "cell_type": "markdown",
   "id": "57d996a4",
   "metadata": {},
   "source": [
    "# it is also possible to import the specific definition that we intend to use, instead of importing all definitions"
   ]
  },
  {
   "cell_type": "code",
   "execution_count": 274,
   "id": "f54062f1",
   "metadata": {},
   "outputs": [
    {
     "data": {
      "text/plain": [
       "10"
      ]
     },
     "execution_count": 274,
     "metadata": {},
     "output_type": "execute_result"
    }
   ],
   "source": [
    "# selective import\n",
    "# import only floor from math module\n",
    "\n",
    "from math import floor\n",
    "floor(10.8)"
   ]
  },
  {
   "cell_type": "markdown",
   "id": "e5b17eae",
   "metadata": {},
   "source": [
    "# error line as ceil is not imported from math module\n",
    "ceil(10.2)\n",
    "\n",
    "math.ceil(10.2)"
   ]
  },
  {
   "cell_type": "code",
   "execution_count": 275,
   "id": "6de24a5a",
   "metadata": {},
   "outputs": [],
   "source": [
    "# 4.4.3 The Module Search Path \n",
    "# Let’s say we have a module called vwap_module.py which is inside the\n",
    "# folder strategy. We also have a script called backtesting.py in a directory\n",
    "# called backtest."
   ]
  },
  {
   "cell_type": "code",
   "execution_count": 276,
   "id": "34eeb9b7",
   "metadata": {},
   "outputs": [
    {
     "name": "stdout",
     "output_type": "stream",
     "text": [
      "Running strategy logic\n"
     ]
    }
   ],
   "source": [
    "# We want to be able to import the code in vwap_module.py to use in backtesting.py.\n",
    "# We do so by writing import vwap_module in backtesting.py. The content might look like this:\n",
    "\n",
    "# Content of strategy/ vwap_module.py\n",
    "def run_strategy():\n",
    "    print('Running strategy logic')\n",
    "\n",
    "# Content of backtest/ backtesting.py\n",
    "import vwap_module\n",
    "\n",
    "vwap_module.run_strategy()"
   ]
  },
  {
   "cell_type": "code",
   "execution_count": 277,
   "id": "e20a8271",
   "metadata": {},
   "outputs": [],
   "source": [
    "# When Python hits the line import vwap_module, it tries to find a package\n",
    "# or a module called vwap_module. A module is a file with a matching\n",
    "# extension, such as .py. Here, Python is looking for a file vwap_module.py\n",
    "# in the same directory where backtesting.py exists, and not finding it."
   ]
  },
  {
   "cell_type": "markdown",
   "id": "ea99163d",
   "metadata": {},
   "source": [
    "# Python has a simple algorithm for finding a module with a given name,\n",
    "# such as vwap_module. It looks for a file called vwap_module.py in the directories listed in the variable sys.path."
   ]
  },
  {
   "cell_type": "code",
   "execution_count": 278,
   "id": "f32143a3",
   "metadata": {},
   "outputs": [],
   "source": [
    "import sys"
   ]
  },
  {
   "cell_type": "code",
   "execution_count": 279,
   "id": "4f0cafbf",
   "metadata": {},
   "outputs": [
    {
     "data": {
      "text/plain": [
       "list"
      ]
     },
     "execution_count": 279,
     "metadata": {},
     "output_type": "execute_result"
    }
   ],
   "source": [
    "type(sys.path)"
   ]
  },
  {
   "cell_type": "code",
   "execution_count": 280,
   "id": "b85de607",
   "metadata": {},
   "outputs": [
    {
     "name": "stdout",
     "output_type": "stream",
     "text": [
      "/usr/lib/python312.zip\n",
      "/usr/lib/python3.12\n",
      "/usr/lib/python3.12/lib-dynload\n",
      "\n",
      "/home/bipinhyoju/virtual_environment_directory/venv/lib/python3.12/site-packages\n",
      "strategy\n",
      "strategy\n",
      "strategy\n"
     ]
    }
   ],
   "source": [
    "for path in sys.path:\n",
    "    print(path)"
   ]
  },
  {
   "cell_type": "code",
   "execution_count": 281,
   "id": "689c1140",
   "metadata": {},
   "outputs": [],
   "source": [
    "# In the above code snippet, we print paths present in the sys.path. The\n",
    "# vwap_strategy.py file is in the strategy directory, and this directory is not\n",
    "# in the sys.path list."
   ]
  },
  {
   "cell_type": "code",
   "execution_count": 282,
   "id": "ffda1be0",
   "metadata": {},
   "outputs": [],
   "source": [
    "# Because sys.path is just a Python list, we can make the import statement\n",
    "# work by appending the strategy directory to the list."
   ]
  },
  {
   "cell_type": "code",
   "execution_count": 283,
   "id": "50a5064c",
   "metadata": {},
   "outputs": [],
   "source": [
    "import sys\n",
    "sys.path.append('strategy')"
   ]
  },
  {
   "cell_type": "code",
   "execution_count": 284,
   "id": "5bbe5d9b",
   "metadata": {},
   "outputs": [],
   "source": [
    "# Now the import statement will work\n",
    "import vwap_strategy"
   ]
  },
  {
   "cell_type": "code",
   "execution_count": null,
   "id": "34870269",
   "metadata": {},
   "outputs": [],
   "source": [
    "# There are various ways of making sure a directory is always on the\n",
    "# sys.path list when you run Python. Some of them are\n",
    "# • Keep the directory into the contents of the PYTHONPATH environment\n",
    "# variable.\n",
    "# • Make the module part of an installable package, and install it.\n",
    "# As a crude hack, we can keep the module in the same directory as the code file."
   ]
  }
 ],
 "metadata": {
  "kernelspec": {
   "display_name": "venv",
   "language": "python",
   "name": "python3"
  },
  "language_info": {
   "codemirror_mode": {
    "name": "ipython",
    "version": 3
   },
   "file_extension": ".py",
   "mimetype": "text/x-python",
   "name": "python",
   "nbconvert_exporter": "python",
   "pygments_lexer": "ipython3",
   "version": "3.12.3"
  }
 },
 "nbformat": 4,
 "nbformat_minor": 5
}
