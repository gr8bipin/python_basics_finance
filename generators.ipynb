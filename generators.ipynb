{
 "cells": [
  {
   "cell_type": "markdown",
   "id": "889e7bd7",
   "metadata": {},
   "source": [
    "# 8.2 Generators"
   ]
  },
  {
   "cell_type": "markdown",
   "id": "b36330f5",
   "metadata": {},
   "source": [
    "# Python generator gives us an easier way to create iterators. But before we\n",
    "# make an attempt to learn what generators in Python are, let us recall the list\n",
    "# comprehension we learned in the previous section. To create a list of the\n",
    "# first 10 even digits, we can use the comprehension as shown below:"
   ]
  },
  {
   "cell_type": "code",
   "execution_count": 1,
   "id": "b16006d0",
   "metadata": {},
   "outputs": [
    {
     "data": {
      "text/plain": [
       "[0, 2, 4, 6, 8, 10, 12, 14, 16, 18]"
      ]
     },
     "execution_count": 1,
     "metadata": {},
     "output_type": "execute_result"
    }
   ],
   "source": [
    "[number * 2 for number in range(10)]"
   ]
  },
  {
   "cell_type": "markdown",
   "id": "5fe39566",
   "metadata": {},
   "source": []
  },
  {
   "cell_type": "markdown",
   "id": "7b97695b",
   "metadata": {},
   "source": [
    "# Now, if we replace the square brackets [] in the above list comprehension\n",
    "# with the round parenthesis (), Python returns something called generator\n",
    "# objects."
   ]
  },
  {
   "cell_type": "code",
   "execution_count": 2,
   "id": "29b34769",
   "metadata": {},
   "outputs": [
    {
     "data": {
      "text/plain": [
       "<generator object <genexpr> at 0x7bab50366dc0>"
      ]
     },
     "execution_count": 2,
     "metadata": {},
     "output_type": "execute_result"
    }
   ],
   "source": [
    "(number * 2 for number in range(10))"
   ]
  },
  {
   "cell_type": "markdown",
   "id": "8db2bd1f",
   "metadata": {},
   "source": []
  },
  {
   "cell_type": "markdown",
   "id": "6a57aaf8",
   "metadata": {},
   "source": [
    "# But what are actually generator objects? Well, a generator object is like\n",
    "# list comprehension except it does not store the list in memory; it does not\n",
    "# construct the list but is an object we can iterate over to produce elements of\n",
    "# the list as required. For example:"
   ]
  },
  {
   "cell_type": "code",
   "execution_count": 3,
   "id": "283c42ab",
   "metadata": {},
   "outputs": [
    {
     "data": {
      "text/plain": [
       "generator"
      ]
     },
     "execution_count": 3,
     "metadata": {},
     "output_type": "execute_result"
    }
   ],
   "source": [
    "numbers = (number for number in range(10))\n",
    "type(numbers)"
   ]
  },
  {
   "cell_type": "code",
   "execution_count": 4,
   "id": "dcd44985",
   "metadata": {},
   "outputs": [
    {
     "name": "stdout",
     "output_type": "stream",
     "text": [
      "0\n",
      "1\n",
      "2\n",
      "3\n",
      "4\n",
      "5\n",
      "6\n",
      "7\n",
      "8\n",
      "9\n"
     ]
    }
   ],
   "source": [
    "for nums in numbers:\n",
    "    print(nums)"
   ]
  },
  {
   "cell_type": "markdown",
   "id": "a7a0ac5b",
   "metadata": {},
   "source": []
  },
  {
   "cell_type": "markdown",
   "id": "5f2e1b1a",
   "metadata": {},
   "source": [
    "# Here we can see that looping over a generator object produces the elements\n",
    "# of the analogous list. We can also pass the generator to the function list() to\n",
    "# print the list."
   ]
  },
  {
   "cell_type": "code",
   "execution_count": 5,
   "id": "681a0496",
   "metadata": {},
   "outputs": [
    {
     "data": {
      "text/plain": [
       "[0, 1, 2, 3, 4, 5, 6, 7, 8, 9]"
      ]
     },
     "execution_count": 5,
     "metadata": {},
     "output_type": "execute_result"
    }
   ],
   "source": [
    "numbers = (number for number in range(10))\n",
    "list(numbers)"
   ]
  },
  {
   "cell_type": "markdown",
   "id": "b3082169",
   "metadata": {},
   "source": []
  },
  {
   "cell_type": "markdown",
   "id": "8c7a4d53",
   "metadata": {},
   "source": [
    "# Moreover, like any other iterator, we can pass a generator to the function\n",
    "# next() to iterate through its elements."
   ]
  },
  {
   "cell_type": "code",
   "execution_count": 6,
   "id": "0cc84ef7",
   "metadata": {},
   "outputs": [
    {
     "data": {
      "text/plain": [
       "0"
      ]
     },
     "execution_count": 6,
     "metadata": {},
     "output_type": "execute_result"
    }
   ],
   "source": [
    "numbers = (number for number in range(5))\n",
    "next(numbers)"
   ]
  },
  {
   "cell_type": "code",
   "execution_count": 7,
   "id": "59eb0da0",
   "metadata": {},
   "outputs": [
    {
     "data": {
      "text/plain": [
       "1"
      ]
     },
     "execution_count": 7,
     "metadata": {},
     "output_type": "execute_result"
    }
   ],
   "source": [
    "next(numbers)"
   ]
  },
  {
   "cell_type": "markdown",
   "id": "10e81529",
   "metadata": {},
   "source": [
    "# This is known as lazy evaluation, whereby the evaluation of the expression\n",
    "# is delayed until its value is needed. This can help a great deal when we are\n",
    "# working with extremely large sequences as we don’t want to store the entire\n",
    "# list in memory, which is what comprehensions do; we want to generate\n",
    "# elements of the sequences on the fly.\n",
    "# We also have generator functions that produce generator objects when\n",
    "# called. They are written with the syntax of any other user-defined func-\n",
    "# tion, however, instead of returning values using the keyword return, they\n",
    "# yield sequences of values using the keyword yield. Let us see it in practice."
   ]
  },
  {
   "cell_type": "code",
   "execution_count": 8,
   "id": "91341e16",
   "metadata": {},
   "outputs": [],
   "source": [
    "def counter(start, end):\n",
    "    \"\"\"Generate values from start to end.\"\"\"\n",
    "    while start <= end:\n",
    "        yield start\n",
    "        start += 1"
   ]
  },
  {
   "cell_type": "markdown",
   "id": "139af8b7",
   "metadata": {},
   "source": [
    "# In the above function, the while loop is true until start is less than or equal\n",
    "# to end and then the generator ceases to yield values. Calling the above\n",
    "# function will return a generator object."
   ]
  },
  {
   "cell_type": "code",
   "execution_count": 9,
   "id": "235b19d2",
   "metadata": {},
   "outputs": [
    {
     "data": {
      "text/plain": [
       "generator"
      ]
     },
     "execution_count": 9,
     "metadata": {},
     "output_type": "execute_result"
    }
   ],
   "source": [
    "c = counter(1, 5)\n",
    "type(c)"
   ]
  },
  {
   "cell_type": "markdown",
   "id": "81644d80",
   "metadata": {},
   "source": [
    "# And again, as seen above, we can call the list() function or run a loop\n",
    "# over generator object to traverse through its elements. Here, we pass the\n",
    "# object c to the list() function."
   ]
  },
  {
   "cell_type": "markdown",
   "id": "f8a14b0a",
   "metadata": {},
   "source": []
  },
  {
   "cell_type": "code",
   "execution_count": 10,
   "id": "498273ef",
   "metadata": {},
   "outputs": [
    {
     "data": {
      "text/plain": [
       "[1, 2, 3, 4, 5]"
      ]
     },
     "execution_count": 10,
     "metadata": {},
     "output_type": "execute_result"
    }
   ],
   "source": [
    "list(c)"
   ]
  },
  {
   "cell_type": "markdown",
   "id": "62f06da6",
   "metadata": {},
   "source": [
    "# This brings us to an end of this section. Iterators are a powerful and useful tool in Python \n",
    "# and generators are a good approach to work with lots of\n",
    "# data. If we don’t want to load all the data in the memory, we can use a generator which will pass us each piece of data \n",
    "# at a time. Using the generator implementation saves memory."
   ]
  },
  {
   "cell_type": "code",
   "execution_count": 12,
   "id": "8f23e895",
   "metadata": {},
   "outputs": [],
   "source": [
    "# # 8.3 Key Takeaways\n",
    "\n",
    "# 1. An iterator is an object which can be iterated upon and will return\n",
    "# data, one element at a time. It implements the iterator protocol, that\n",
    "# is, __next__() and __iter__() methods.\n",
    "\n",
    "# 2. An iterable is an object that can return an iterator.\n",
    "\n",
    "# 3. Lists, Tuples, Strings, Dictionaries, etc. are iterables in Python. Directly or indirectly \n",
    "# they implement the above-mentioned two methods.\n",
    "\n",
    "# 4. Iterables have an iter() method which returns an iterator.\n",
    "\n",
    "# 5. The next() method is used to iterate manually through all the items\n",
    "# of an iterator.\n",
    "\n",
    "# 6. The enumerate() function takes an iterable as an input and returns\n",
    "# the enumerate object containing a pair of index and elements.\n",
    "\n",
    "# 7. The zip() function accepts an arbitrary number of iterables and returns zip object which can be iterated upon.\n",
    "\n",
    "# 8. Generators provides an easy way to create and implement iterators.\n",
    "\n",
    "# 9. The syntax for generators is very similar to list comprehension, except\n",
    "# that it uses a parentheses ().\n",
    "\n",
    "# 10. Generators do not store elements in the memory and often creates the\n",
    "# elements on the fly as required.\n",
    "\n",
    "# 11. The list() method is used to convert generators to lists."
   ]
  }
 ],
 "metadata": {
  "kernelspec": {
   "display_name": "venv",
   "language": "python",
   "name": "python3"
  },
  "language_info": {
   "codemirror_mode": {
    "name": "ipython",
    "version": 3
   },
   "file_extension": ".py",
   "mimetype": "text/x-python",
   "name": "python",
   "nbconvert_exporter": "python",
   "pygments_lexer": "ipython3",
   "version": "3.12.3"
  }
 },
 "nbformat": 4,
 "nbformat_minor": 5
}
