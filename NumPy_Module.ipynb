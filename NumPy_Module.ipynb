{
 "cells": [
  {
   "cell_type": "markdown",
   "id": "0bf22d5f",
   "metadata": {},
   "source": [
    "# NumPy Module"
   ]
  },
  {
   "cell_type": "code",
   "execution_count": 83,
   "id": "d1865dbe",
   "metadata": {},
   "outputs": [],
   "source": [
    "# NumPy, an acronym for Numerical Python, is a package to perform scientific\n",
    "# computing in Python efficiently. It includes random number generation\n",
    "# capabilities, functions for basic linear algebra, Fourier transforms as well\n",
    "# as a tool for integrating Fortran and C/C++ code along with a bunch of\n",
    "# other functionalities."
   ]
  },
  {
   "cell_type": "code",
   "execution_count": 84,
   "id": "9d4e978d",
   "metadata": {},
   "outputs": [],
   "source": [
    "# NumPy is an open-source project and a successor to two earlier scientific\n",
    "# Python libraries: Numeric and Numarray."
   ]
  },
  {
   "cell_type": "code",
   "execution_count": 85,
   "id": "22fb8eac",
   "metadata": {},
   "outputs": [],
   "source": [
    "# It can be used as an efficient multi-dimensional container of generic\n",
    "# data. This allows NumPy to integrate with a wide variety of databases\n",
    "# seamlessly. It also features a collection of routines for processing single and\n",
    "# multidimensional vectors known as arrays in programming parlance."
   ]
  },
  {
   "cell_type": "code",
   "execution_count": 86,
   "id": "80127464",
   "metadata": {},
   "outputs": [],
   "source": [
    "# NumPy is not a part of the Python Standard Library and hence, as with\n",
    "# any other such library or module, it needs to be installed on a workstation\n",
    "# before it can be used. Based on the Python distribution one uses, it can\n",
    "# be installed via a command prompt, conda prompt, or terminal using the\n",
    "# following command. One point to note is that if we use the Anaconda distri-\n",
    "# bution to install Python, most of the libraries (like NumPy, pandas, scikit-learn,\n",
    "# matplotlib, etc. ) used in the scientific Python ecosystem come pre-installed.\n",
    "\n",
    "# # pip install numpy\n",
    "\n",
    "# Note: If we use the Python or iPython console to install the NumPy library, the command to install it \n",
    "# would be preceded by the character!"
   ]
  },
  {
   "cell_type": "code",
   "execution_count": 87,
   "id": "674fdbbc",
   "metadata": {},
   "outputs": [],
   "source": [
    "# Once installed we can use it by importing into our program by using the import statement. The de facto way of importing \n",
    "# is shown below:\n",
    "\n",
    "# # import numpy as np\n",
    "\n",
    "# Here, the NumPy library is imported with an alias of np so that any functionality within it can be used with convenience.\n",
    "# We will be using this form of alias for all examples in this section."
   ]
  },
  {
   "cell_type": "markdown",
   "id": "b4a5859b",
   "metadata": {},
   "source": []
  },
  {
   "cell_type": "markdown",
   "id": "ba878ae3",
   "metadata": {},
   "source": [
    "# 10.1 NumPy Arrays"
   ]
  },
  {
   "cell_type": "code",
   "execution_count": 89,
   "id": "94b0ce1b",
   "metadata": {},
   "outputs": [],
   "source": [
    "# A Python list is a pretty powerful sequential data structure with some nifty\n",
    "# features. For example, it can hold elements of various data types which\n",
    "# can be added, changed or removed as required. Also, it allows index sub-\n",
    "# setting and traversal. But lists lack an important feature that is needed\n",
    "# while performing data analysis tasks. We often want to carry out operations\n",
    "# over an entire collection of elements, and we expect Python to perform this\n",
    "# fast. With lists executing such operations over all elements efficiently is a\n",
    "# problem. For example, let’s consider a case where we calculate PCR (Put\n",
    "# Call Ratio) for the previous 5 days. Say, we have put and call options vol-\n",
    "# ume (in Lacs) stored in lists call_vol and put_vol respectively. We then\n",
    "# compute the PCR by dividing put volume by call volume as illustrated in\n",
    "# the below script:"
   ]
  },
  {
   "cell_type": "code",
   "execution_count": 88,
   "id": "e8a2486d",
   "metadata": {},
   "outputs": [
    {
     "ename": "TypeError",
     "evalue": "unsupported operand type(s) for /: 'list' and 'list'",
     "output_type": "error",
     "traceback": [
      "\u001b[31m---------------------------------------------------------------------------\u001b[39m",
      "\u001b[31mTypeError\u001b[39m                                 Traceback (most recent call last)",
      "\u001b[36mCell\u001b[39m\u001b[36m \u001b[39m\u001b[32mIn[88]\u001b[39m\u001b[32m, line 8\u001b[39m\n\u001b[32m      5\u001b[39m call_vol = [\u001b[32m49.51\u001b[39m, \u001b[32m50.45\u001b[39m, \u001b[32m59.11\u001b[39m, \u001b[32m80.49\u001b[39m, \u001b[32m65.11\u001b[39m]\n\u001b[32m      7\u001b[39m \u001b[38;5;66;03m# Computing Put Call Ratio (PCR)\u001b[39;00m\n\u001b[32m----> \u001b[39m\u001b[32m8\u001b[39m \u001b[43mput_vol\u001b[49m\u001b[43m \u001b[49m\u001b[43m/\u001b[49m\u001b[43m \u001b[49m\u001b[43mcall_vol\u001b[49m\n",
      "\u001b[31mTypeError\u001b[39m: unsupported operand type(s) for /: 'list' and 'list'"
     ]
    }
   ],
   "source": [
    "# put volume in lacs\n",
    "put_vol = [52.89, 45.14, 63.84, 77.1, 74.6]\n",
    "\n",
    "# call volume in lacs\n",
    "call_vol = [49.51, 50.45, 59.11, 80.49, 65.11]\n",
    "\n",
    "# Computing Put Call Ratio (PCR)\n",
    "put_vol / call_vol"
   ]
  },
  {
   "cell_type": "code",
   "execution_count": null,
   "id": "cbee1001",
   "metadata": {},
   "outputs": [],
   "source": [
    "# Unfortunately, Python threw an error while calculating PCR values as it\n",
    "# has no idea on how to do calculations on lists. We can do this by iterating\n",
    "# over each item in lists and calculating the PCR for each day separately.\n",
    "# However, doing so is inefficient and tiresome too. A way more elegant\n",
    "# solution is to use NumPy arrays, an alternative to the regular Python list."
   ]
  },
  {
   "cell_type": "code",
   "execution_count": null,
   "id": "c86f0139",
   "metadata": {},
   "outputs": [],
   "source": [
    "# The NumPy array is pretty similar to the list, but has one useful feature: we\n",
    "# can perform operations over entire arrays(all elements in arrays). It’s easy\n",
    "# as well as super fast. Let us start by creating a NumPy array. To do this,\n",
    "# we use array() function from the NumPy package and create the NumPy\n",
    "# version of put_vol and call_vol lists."
   ]
  },
  {
   "cell_type": "code",
   "execution_count": null,
   "id": "b46b0751",
   "metadata": {},
   "outputs": [
    {
     "data": {
      "text/plain": [
       "array([52.89, 45.14, 63.84, 77.1 , 74.6 ])"
      ]
     },
     "execution_count": 8,
     "metadata": {},
     "output_type": "execute_result"
    }
   ],
   "source": [
    "# Importing NumPy library\n",
    "import numpy as np\n",
    "\n",
    "# Creating arrays\n",
    "n_put_vol = np.array(put_vol)\n",
    "n_call_vol = np.array(call_vol)\n",
    "\n",
    "n_put_vol"
   ]
  },
  {
   "cell_type": "code",
   "execution_count": null,
   "id": "1d51b37b",
   "metadata": {},
   "outputs": [
    {
     "data": {
      "text/plain": [
       "array([49.51, 50.45, 59.11, 80.49, 65.11])"
      ]
     },
     "execution_count": 9,
     "metadata": {},
     "output_type": "execute_result"
    }
   ],
   "source": [
    "n_call_vol"
   ]
  },
  {
   "cell_type": "code",
   "execution_count": null,
   "id": "1ec6112b",
   "metadata": {},
   "outputs": [
    {
     "data": {
      "text/plain": [
       "array([1.06826904, 0.89474727, 1.0800203 , 0.95788297, 1.14575334])"
      ]
     },
     "execution_count": 10,
     "metadata": {},
     "output_type": "execute_result"
    }
   ],
   "source": [
    "# Here, we have two arrays n_put_vol and n_call_vol which holds put and\n",
    "# call volume respectively. Now, we can calculate PCR in one line:\n",
    "\n",
    "# Computing Put Call Ratio (PCR)\n",
    "pcr = n_put_vol / n_call_vol\n",
    "\n",
    "pcr"
   ]
  },
  {
   "cell_type": "code",
   "execution_count": null,
   "id": "ca7f9b8c",
   "metadata": {},
   "outputs": [],
   "source": [
    "# This time it worked, and calculations were performed element-wise. The\n",
    "# first observation in pcr array was calculated by dividing the first element\n",
    "# in n_put_vol by the first element in n_call_vol array. The second element\n",
    "# in pcr was computed using the second element in the respective arrays\n",
    "# and so on."
   ]
  },
  {
   "cell_type": "code",
   "execution_count": null,
   "id": "bbc120c8",
   "metadata": {},
   "outputs": [
    {
     "data": {
      "text/plain": [
       "array(['1', 'Python', 'True'], dtype='<U21')"
      ]
     },
     "execution_count": 12,
     "metadata": {},
     "output_type": "execute_result"
    }
   ],
   "source": [
    "# First, when we tried to compute PCR with regular lists, we got an error, be-\n",
    "# cause Python cannot do calculations with lists like we want it to. Then\n",
    "# we converted these regular lists to NumPy arrays and the same opera-\n",
    "# tion worked without any problem. NumPy work with arrays as if they\n",
    "# are scalars. But we need to pay attention here. NumPy can do this easily\n",
    "# because it assumes that array can only contain values of a single type. It’s\n",
    "# either an array of integers, floats or booleans and so on. If we try to cre-\n",
    "# ate an array of different types like the one mentioned below, the resulting\n",
    "# NumPy array will contain a single type only. String in the below case:\n",
    "\n",
    "np.array([1, 'Python', True])"
   ]
  },
  {
   "cell_type": "code",
   "execution_count": null,
   "id": "16737f78",
   "metadata": {},
   "outputs": [],
   "source": [
    "# NOTE : NumPy arrays are made to be created as homogeneous\n",
    "# arrays, considering the mathematical operations that can be per-\n",
    "# formed on them. It would not be possible with heterogeneous\n",
    "# data sets."
   ]
  },
  {
   "cell_type": "code",
   "execution_count": null,
   "id": "17054e90",
   "metadata": {},
   "outputs": [],
   "source": [
    "# In the example given above, an integer and a boolean were both converted\n",
    "# to strings. NumPy array is a new type of data structure type like the Python\n",
    "# list type that we have seen before. This also means that it comes with its\n",
    "# own methods, which will behave differently from other types. Let us im-\n",
    "# plement the + operation on the Python list and NumPy arrays and see how\n",
    "# they differ."
   ]
  },
  {
   "cell_type": "code",
   "execution_count": null,
   "id": "a587fae6",
   "metadata": {},
   "outputs": [
    {
     "data": {
      "text/plain": [
       "[1, 2, 3, 5, 6, 4]"
      ]
     },
     "execution_count": 13,
     "metadata": {},
     "output_type": "execute_result"
    }
   ],
   "source": [
    "# Creating lists\n",
    "list_1 = [1, 2, 3]\n",
    "list_2 = [5, 6, 4]\n",
    "\n",
    "# Adding two lists\n",
    "list_1 + list_2"
   ]
  },
  {
   "cell_type": "code",
   "execution_count": null,
   "id": "12314dce",
   "metadata": {},
   "outputs": [
    {
     "data": {
      "text/plain": [
       "array([6, 8, 7])"
      ]
     },
     "execution_count": 15,
     "metadata": {},
     "output_type": "execute_result"
    }
   ],
   "source": [
    "# Creating arrays\n",
    "arr_1 = np.array([1, 2, 3])\n",
    "arr_2 = np.array([5, 6, 4])\n",
    "\n",
    "# Adding two arrays\n",
    "arr_1 + arr_2"
   ]
  },
  {
   "cell_type": "code",
   "execution_count": null,
   "id": "77ac1076",
   "metadata": {},
   "outputs": [],
   "source": [
    "# As can be seen in the above example, performing the + operation with\n",
    "# list_1 and list_2, the list elements are pasted together, generating a list\n",
    "# with 6 elements. On the other hand, if we do this with NumPy arrays,\n",
    "# Python will do an element-wise sum of the arrays."
   ]
  },
  {
   "cell_type": "markdown",
   "id": "bf0d8347",
   "metadata": {},
   "source": [
    "# 10.1.1 N-dimensional arrays"
   ]
  },
  {
   "cell_type": "code",
   "execution_count": null,
   "id": "58aef0d7",
   "metadata": {},
   "outputs": [
    {
     "data": {
      "text/plain": [
       "numpy.ndarray"
      ]
     },
     "execution_count": 17,
     "metadata": {},
     "output_type": "execute_result"
    }
   ],
   "source": [
    "# Until now we have worked with two arrays: n_put_vol and n_call_vol. If\n",
    "# we are to check its type using type(), Python tells us that they are of type\n",
    "# numpy.ndarray as shown below:\n",
    "\n",
    "# Checking array type\n",
    "type(n_put_vol)"
   ]
  },
  {
   "cell_type": "code",
   "execution_count": null,
   "id": "51855014",
   "metadata": {},
   "outputs": [],
   "source": [
    "# Based on the output we got, it can be inferred that they are of data type\n",
    "# ndarray which stands for n-dimensional array within NumPy. These arrays\n",
    "# are one-dimensional arrays, but NumPy also allows us to create two dimen-\n",
    "# sional, three dimensional and so on. We will stick to two dimensional for\n",
    "# our learning purpose in this module. We can create a 2D (two dimensional)\n",
    "# NumPy array from a regular Python list of lists. Let us create one array for\n",
    "# all put and call volumes."
   ]
  },
  {
   "cell_type": "code",
   "execution_count": null,
   "id": "95809f45",
   "metadata": {},
   "outputs": [
    {
     "data": {
      "text/plain": [
       "[52.89, 45.14, 63.84, 77.1, 74.6]"
      ]
     },
     "execution_count": 19,
     "metadata": {},
     "output_type": "execute_result"
    }
   ],
   "source": [
    "# Recalling put and call volumes lists\n",
    "put_vol"
   ]
  },
  {
   "cell_type": "code",
   "execution_count": null,
   "id": "c9fe5658",
   "metadata": {},
   "outputs": [
    {
     "data": {
      "text/plain": [
       "[49.51, 50.45, 59.11, 80.49, 65.11]"
      ]
     },
     "execution_count": 20,
     "metadata": {},
     "output_type": "execute_result"
    }
   ],
   "source": [
    "call_vol"
   ]
  },
  {
   "cell_type": "code",
   "execution_count": null,
   "id": "f3a81e32",
   "metadata": {},
   "outputs": [
    {
     "data": {
      "text/plain": [
       "array([[52.89, 45.14, 63.84, 77.1 , 74.6 ],\n",
       "       [49.51, 50.45, 59.11, 80.49, 65.11]])"
      ]
     },
     "execution_count": 21,
     "metadata": {},
     "output_type": "execute_result"
    }
   ],
   "source": [
    "# Creating a two-dimensional array\n",
    "n_2d = np.array([put_vol, call_vol])\n",
    "n_2d"
   ]
  },
  {
   "cell_type": "code",
   "execution_count": null,
   "id": "7cf6807d",
   "metadata": {},
   "outputs": [],
   "source": [
    "# We see that n_2d array is a rectangular data structure. Each list pro-\n",
    "# vided in the np.array creation function corresponds to a row in the two-\n",
    "# dimensional NumPy array. Also for 2D arrays, the NumPy rule applies: an\n",
    "# array can only contain a single type. If we change one float value in the\n",
    "# above array definition, all the array elements will be coerced to strings, to\n",
    "# end up with a homogeneous array. We can think of a 2D array as an ad-\n",
    "# vanced version of lists of a list. We can perform element-wise operation\n",
    "# with 2D as we had seen for a single dimensional array."
   ]
  },
  {
   "cell_type": "markdown",
   "id": "73abc61c",
   "metadata": {},
   "source": [
    "# 10.2 Array creation using built-in functions"
   ]
  },
  {
   "cell_type": "code",
   "execution_count": null,
   "id": "e2ee9a80",
   "metadata": {},
   "outputs": [],
   "source": [
    "# An explicit input has been provided while creating n_call_vol and\n",
    "# n_put_vol arrays. In contrast, NumPy provides various built-in functions\n",
    "# to create arrays and input to them will be produced by NumPy. Below we\n",
    "# discuss a handful of such functions:"
   ]
  },
  {
   "cell_type": "code",
   "execution_count": null,
   "id": "de7906d6",
   "metadata": {},
   "outputs": [],
   "source": [
    "# zeros(shape, dtype=float) returns an array of a given shape and\n",
    "# type, filled with zeros. If the dtype is not provided as an input, the\n",
    "# default type for the array would be float."
   ]
  },
  {
   "cell_type": "markdown",
   "id": "a026cd02",
   "metadata": {},
   "source": []
  },
  {
   "cell_type": "code",
   "execution_count": null,
   "id": "76721619",
   "metadata": {},
   "outputs": [],
   "source": [
    "import numpy as np"
   ]
  },
  {
   "cell_type": "code",
   "execution_count": null,
   "id": "e0f253b6",
   "metadata": {},
   "outputs": [
    {
     "data": {
      "text/plain": [
       "array([0., 0., 0., 0., 0.])"
      ]
     },
     "execution_count": 5,
     "metadata": {},
     "output_type": "execute_result"
    }
   ],
   "source": [
    "# Creating a one-dimensional array\n",
    "np.zeros(5)"
   ]
  },
  {
   "cell_type": "code",
   "execution_count": null,
   "id": "009bdd4b",
   "metadata": {},
   "outputs": [
    {
     "data": {
      "text/plain": [
       "array([[0., 0., 0., 0., 0.],\n",
       "       [0., 0., 0., 0., 0.],\n",
       "       [0., 0., 0., 0., 0.]])"
      ]
     },
     "execution_count": 6,
     "metadata": {},
     "output_type": "execute_result"
    }
   ],
   "source": [
    "# Creating a two-dimensional array\n",
    "np.zeros((3, 5))"
   ]
  },
  {
   "cell_type": "code",
   "execution_count": null,
   "id": "1ca4ae96",
   "metadata": {},
   "outputs": [
    {
     "data": {
      "text/plain": [
       "array([0, 0, 0, 0, 0])"
      ]
     },
     "execution_count": 8,
     "metadata": {},
     "output_type": "execute_result"
    }
   ],
   "source": [
    "# Creating a one-dimensional array of integer type\n",
    "np.zeros(5, dtype= int)"
   ]
  },
  {
   "cell_type": "code",
   "execution_count": null,
   "id": "19c77021",
   "metadata": {},
   "outputs": [],
   "source": [
    "# ones(shape, dtype= float) returns an array of a given shape and type, filled with ones. \n",
    "# If dtype is not provided as an input, the default type for the array would be float."
   ]
  },
  {
   "cell_type": "code",
   "execution_count": null,
   "id": "b00c6310",
   "metadata": {},
   "outputs": [
    {
     "data": {
      "text/plain": [
       "array([1., 1., 1., 1., 1.])"
      ]
     },
     "execution_count": 22,
     "metadata": {},
     "output_type": "execute_result"
    }
   ],
   "source": [
    "# Creating a one-dimensional array\n",
    "np.ones(5)"
   ]
  },
  {
   "cell_type": "code",
   "execution_count": null,
   "id": "57682df8",
   "metadata": {},
   "outputs": [
    {
     "data": {
      "text/plain": [
       "array([1, 1, 1, 1, 1])"
      ]
     },
     "execution_count": 23,
     "metadata": {},
     "output_type": "execute_result"
    }
   ],
   "source": [
    "# Creating a one-dimensional array of integer type\n",
    "np.ones(5, dtype= int)"
   ]
  },
  {
   "cell_type": "code",
   "execution_count": null,
   "id": "33cdf2a7",
   "metadata": {},
   "outputs": [],
   "source": [
    "# full(shape, fill_value, dtype= None) returns an array of a given shape and type, \n",
    "# fill with fill_value given in input parameters."
   ]
  },
  {
   "cell_type": "code",
   "execution_count": null,
   "id": "8870560b",
   "metadata": {},
   "outputs": [
    {
     "data": {
      "text/plain": [
       "array([12, 12, 12, 12, 12])"
      ]
     },
     "execution_count": 24,
     "metadata": {},
     "output_type": "execute_result"
    }
   ],
   "source": [
    "# Creating a one-dimensional array with value as 12\n",
    "np.full(5, 12)"
   ]
  },
  {
   "cell_type": "code",
   "execution_count": null,
   "id": "918cf2bd",
   "metadata": {},
   "outputs": [
    {
     "data": {
      "text/plain": [
       "array([[9, 9, 9],\n",
       "       [9, 9, 9]])"
      ]
     },
     "execution_count": 25,
     "metadata": {},
     "output_type": "execute_result"
    }
   ],
   "source": [
    "# Creating a one-dimensional array with value as 12\n",
    "np.full((2, 3), 9)"
   ]
  },
  {
   "cell_type": "code",
   "execution_count": null,
   "id": "3d1fae6b",
   "metadata": {},
   "outputs": [],
   "source": [
    "# arange([start, ]stop, [step]) returns an array with evenly\n",
    "# spaced values within a given interval. Here the start and step param-\n",
    "# eters are optional. If they are provided NumPy will consider them\n",
    "# while computing the output. Otherwise, range computation starts\n",
    "# from 0. For all cases, stop value will be excluded in the output."
   ]
  },
  {
   "cell_type": "code",
   "execution_count": null,
   "id": "1992c101",
   "metadata": {},
   "outputs": [
    {
     "data": {
      "text/plain": [
       "array([0, 1, 2, 3, 4])"
      ]
     },
     "execution_count": 27,
     "metadata": {},
     "output_type": "execute_result"
    }
   ],
   "source": [
    "# Creating an array with only stop argument\n",
    "np.arange(5)"
   ]
  },
  {
   "cell_type": "code",
   "execution_count": null,
   "id": "778db79e",
   "metadata": {},
   "outputs": [
    {
     "data": {
      "text/plain": [
       "array([3, 4, 5, 6, 7])"
      ]
     },
     "execution_count": 28,
     "metadata": {},
     "output_type": "execute_result"
    }
   ],
   "source": [
    "# Creating an array with start and stop arguments\n",
    "np.arange(3, 8)"
   ]
  },
  {
   "cell_type": "code",
   "execution_count": null,
   "id": "79d0fa7f",
   "metadata": {},
   "outputs": [
    {
     "data": {
      "text/plain": [
       "array([3. , 3.5, 4. , 4.5, 5. , 5.5, 6. , 6.5, 7. , 7.5])"
      ]
     },
     "execution_count": 29,
     "metadata": {},
     "output_type": "execute_result"
    }
   ],
   "source": [
    "# Creating an array with given interval and step value as 0.5\n",
    "np.arange(3, 8, 0.5)"
   ]
  },
  {
   "cell_type": "code",
   "execution_count": null,
   "id": "3d871d00",
   "metadata": {},
   "outputs": [],
   "source": [
    "# linspace(start, stop, num=50, endpoint=True) returns evenly\n",
    "# spaced numbers over a specified interval. The number of samples\n",
    "# to be returned is specified by the num parameter. The endpoint of the\n",
    "# interval can optionally be excluded."
   ]
  },
  {
   "cell_type": "code",
   "execution_count": null,
   "id": "f6be057d",
   "metadata": {},
   "outputs": [
    {
     "data": {
      "text/plain": [
       "array([2.  , 2.25, 2.5 , 2.75, 3.  ])"
      ]
     },
     "execution_count": 31,
     "metadata": {},
     "output_type": "execute_result"
    }
   ],
   "source": [
    "# Creating an evenly spaced array with five numbers within\n",
    "# interval 2 to 3\n",
    "np.linspace(2.0, 3.0, num=5)"
   ]
  },
  {
   "cell_type": "code",
   "execution_count": null,
   "id": "bc671ecc",
   "metadata": {},
   "outputs": [
    {
     "data": {
      "text/plain": [
       "array([2. , 2.2, 2.4, 2.6, 2.8])"
      ]
     },
     "execution_count": 32,
     "metadata": {},
     "output_type": "execute_result"
    }
   ],
   "source": [
    "# Creating an array excluding end value\n",
    "np.linspace(2.0, 3.0, num=5, endpoint=False)"
   ]
  },
  {
   "cell_type": "code",
   "execution_count": null,
   "id": "08dd8eff",
   "metadata": {},
   "outputs": [
    {
     "data": {
      "text/plain": [
       "array([11., 12., 13., 14., 15., 16., 17., 18., 19., 20.])"
      ]
     },
     "execution_count": 33,
     "metadata": {},
     "output_type": "execute_result"
    }
   ],
   "source": [
    "# Creating an array with ten values within the specified interval\n",
    "np.linspace(11, 20, num=10)"
   ]
  },
  {
   "cell_type": "markdown",
   "id": "136eec0a",
   "metadata": {},
   "source": [
    "# 10.3 Random Sampling in NumPy"
   ]
  },
  {
   "cell_type": "code",
   "execution_count": null,
   "id": "bee7189e",
   "metadata": {},
   "outputs": [],
   "source": [
    "# In addition to built-in functions discussed above, we have a random sub-\n",
    "# module within the NumPy that provides handy functions to generate data\n",
    "# randomly and draw samples from various distributions. Some of the\n",
    "# widely used such functions are discussed here."
   ]
  },
  {
   "cell_type": "code",
   "execution_count": null,
   "id": "9a7793fb",
   "metadata": {},
   "outputs": [],
   "source": [
    "# rand([d0, d1, ..., dn]) is used to create an array of a given shape\n",
    "# and populate it with random samples from a uniform distribution over\n",
    "# [0, 1). It takes only positive arguments. If no argument is provided,\n",
    "# a single float value is returned."
   ]
  },
  {
   "cell_type": "code",
   "execution_count": null,
   "id": "d5d0d2e0",
   "metadata": {},
   "outputs": [
    {
     "data": {
      "text/plain": [
       "0.26791944329962647"
      ]
     },
     "execution_count": 36,
     "metadata": {},
     "output_type": "execute_result"
    }
   ],
   "source": [
    "# Generated single random number\n",
    "np.random.rand()"
   ]
  },
  {
   "cell_type": "code",
   "execution_count": null,
   "id": "e8b009e7",
   "metadata": {},
   "outputs": [
    {
     "data": {
      "text/plain": [
       "array([0.39483532, 0.49911609, 0.05620498, 0.56357015])"
      ]
     },
     "execution_count": 37,
     "metadata": {},
     "output_type": "execute_result"
    }
   ],
   "source": [
    "# Generating a one-dimensional array with four random values\n",
    "np.random.rand(4)"
   ]
  },
  {
   "cell_type": "code",
   "execution_count": null,
   "id": "855eb146",
   "metadata": {},
   "outputs": [
    {
     "data": {
      "text/plain": [
       "array([[0.52927428, 0.81157128, 0.35037124],\n",
       "       [0.57447097, 0.43755264, 0.4870666 ]])"
      ]
     },
     "execution_count": 38,
     "metadata": {},
     "output_type": "execute_result"
    }
   ],
   "source": [
    "# Generating a two-dimensional array\n",
    "np.random.rand(2, 3)"
   ]
  },
  {
   "cell_type": "code",
   "execution_count": null,
   "id": "71fa3f5d",
   "metadata": {},
   "outputs": [],
   "source": [
    "# randn([d0, d1, ..., dn]) is used to create an array of the given\n",
    "# shape and populate it with random samples from a standard normal\n",
    "# distributions. It takes only positive arguments and generates an ar-\n",
    "# ray of shape (d0, d1, ..., dn) filled with random floats sampled\n",
    "# from a univariate normal distribution of mean 0 and variance 1. If\n",
    "# no argument is provided, a single float randomly sampled from the\n",
    "# distribution is returned."
   ]
  },
  {
   "cell_type": "code",
   "execution_count": null,
   "id": "784d75a1",
   "metadata": {},
   "outputs": [
    {
     "data": {
      "text/plain": [
       "1.1186134492185638"
      ]
     },
     "execution_count": 41,
     "metadata": {},
     "output_type": "execute_result"
    }
   ],
   "source": [
    "# Generating a random sample\n",
    "np.random.randn()"
   ]
  },
  {
   "cell_type": "code",
   "execution_count": null,
   "id": "5e25cfe5",
   "metadata": {},
   "outputs": [
    {
     "data": {
      "text/plain": [
       "array([[-0.62514104, -0.42623826,  0.08744184],\n",
       "       [-0.21471799,  0.56173377, -0.68651587]])"
      ]
     },
     "execution_count": 42,
     "metadata": {},
     "output_type": "execute_result"
    }
   ],
   "source": [
    "# Generating a two-dimensional array over N(0, 1)\n",
    "np.random.randn(2, 3)"
   ]
  },
  {
   "cell_type": "code",
   "execution_count": null,
   "id": "9654440f",
   "metadata": {},
   "outputs": [
    {
     "data": {
      "text/plain": [
       "array([[0.79077225, 0.72728173, 4.04497893],\n",
       "       [2.59684037, 4.30974112, 6.2259094 ]])"
      ]
     },
     "execution_count": 43,
     "metadata": {},
     "output_type": "execute_result"
    }
   ],
   "source": [
    "# Generating a two-dimensional array over N(3, 2.25)\n",
    "1.5 * np.random.randn(2, 3) + 3"
   ]
  },
  {
   "cell_type": "code",
   "execution_count": null,
   "id": "0495a74a",
   "metadata": {},
   "outputs": [],
   "source": [
    "# randint(low, high=None, size=None) returns a random integer\n",
    "# from a discrete uniform distribution with limits of low (inclusive) and\n",
    "# high (exclusive). If high is None (the default), then results are from 0\n",
    "# to low. If the size is specified, it returns an array of the specified size."
   ]
  },
  {
   "cell_type": "code",
   "execution_count": null,
   "id": "17fb1749",
   "metadata": {},
   "outputs": [
    {
     "data": {
      "text/plain": [
       "7"
      ]
     },
     "execution_count": 45,
     "metadata": {},
     "output_type": "execute_result"
    }
   ],
   "source": [
    "# Generating a random integer between 0 and 6\n",
    "np.random.randint(6, 9)"
   ]
  },
  {
   "cell_type": "code",
   "execution_count": null,
   "id": "34fa5efd",
   "metadata": {},
   "outputs": [
    {
     "data": {
      "text/plain": [
       "array([3, 7, 4, 7, 4])"
      ]
     },
     "execution_count": 46,
     "metadata": {},
     "output_type": "execute_result"
    }
   ],
   "source": [
    "# Generating a one-dimensional array with values between 3 and 9\n",
    "np.random.randint(3, 9, size=5)"
   ]
  },
  {
   "cell_type": "code",
   "execution_count": null,
   "id": "04f88b17",
   "metadata": {},
   "outputs": [
    {
     "data": {
      "text/plain": [
       "array([[3, 7, 3, 7, 7],\n",
       "       [5, 8, 5, 3, 4]])"
      ]
     },
     "execution_count": 47,
     "metadata": {},
     "output_type": "execute_result"
    }
   ],
   "source": [
    "# Generating a two-dimensional array with values between 3 and 9\n",
    "np.random.randint(3, 9, size=(2, 5))"
   ]
  },
  {
   "cell_type": "code",
   "execution_count": null,
   "id": "fdf76de9",
   "metadata": {},
   "outputs": [
    {
     "data": {
      "text/plain": [
       "0.6647452902317377"
      ]
     },
     "execution_count": 50,
     "metadata": {},
     "output_type": "execute_result"
    }
   ],
   "source": [
    "# random(size= None) returns a random float value between 0 and 1 which is drawn from the continuous uniform distribution.\n",
    "\n",
    "# Generating a random float\n",
    "np.random.random()"
   ]
  },
  {
   "cell_type": "code",
   "execution_count": null,
   "id": "dace617c",
   "metadata": {},
   "outputs": [
    {
     "data": {
      "text/plain": [
       "array([0.19732981, 0.05407799, 0.10462027])"
      ]
     },
     "execution_count": 52,
     "metadata": {},
     "output_type": "execute_result"
    }
   ],
   "source": [
    "# Generating a one-dimensional array\n",
    "np.random.random(3)"
   ]
  },
  {
   "cell_type": "code",
   "execution_count": null,
   "id": "7511b5fb",
   "metadata": {},
   "outputs": [
    {
     "data": {
      "text/plain": [
       "array([[0.79954293, 0.21986599],\n",
       "       [0.24765303, 0.69261002],\n",
       "       [0.88887064, 0.25671919]])"
      ]
     },
     "execution_count": 53,
     "metadata": {},
     "output_type": "execute_result"
    }
   ],
   "source": [
    "# Generating a two-dimensional array\n",
    "np.random.random((3, 2))"
   ]
  },
  {
   "cell_type": "code",
   "execution_count": null,
   "id": "d1bce3e0",
   "metadata": {},
   "outputs": [],
   "source": [
    "# binomial(n, p, size=None) returns samples drawn from a binomial\n",
    "# distribution with n trials and p probability of success where n is\n",
    "# greater than 0 and p is in the interval of 0 and 1."
   ]
  },
  {
   "cell_type": "code",
   "execution_count": null,
   "id": "975c7466",
   "metadata": {},
   "outputs": [],
   "source": [
    "# Number of trials, probability of each trial\n",
    "n, p = 1, .5"
   ]
  },
  {
   "cell_type": "code",
   "execution_count": null,
   "id": "b5fe0734",
   "metadata": {},
   "outputs": [
    {
     "data": {
      "text/plain": [
       "array([1, 0, 1, 1, 0, 0, 0, 0, 1, 1, 0, 0, 0, 1, 0, 1, 1, 1, 1, 1, 0, 1,\n",
       "       0, 1, 0, 1, 1, 0, 1, 1, 0, 1, 1, 1, 0, 0, 1, 0, 0, 1, 1, 0, 0, 1,\n",
       "       0, 0, 0, 0, 0, 1])"
      ]
     },
     "execution_count": 56,
     "metadata": {},
     "output_type": "execute_result"
    }
   ],
   "source": [
    "# Flipping a coin 1 time for 50 times\n",
    "samples = np.random.binomial(n, p, 50)\n",
    "samples"
   ]
  },
  {
   "cell_type": "code",
   "execution_count": null,
   "id": "4ee9847e",
   "metadata": {},
   "outputs": [],
   "source": [
    "# normal(mu=0.0, sigma=1.0, size=None) draws random samples\n",
    "# from a normal (Gaussian) distribution. If no arguments provided, a\n",
    "# sample will be drawn from N(0, 1)."
   ]
  },
  {
   "cell_type": "code",
   "execution_count": null,
   "id": "8135cef9",
   "metadata": {},
   "outputs": [],
   "source": [
    "# Initialize mu and sigma\n",
    "mu, sigma = 0, 0.1"
   ]
  },
  {
   "cell_type": "code",
   "execution_count": null,
   "id": "a288d5c0",
   "metadata": {},
   "outputs": [
    {
     "data": {
      "text/plain": [
       "array([-0.02228195, -0.22987121,  0.12097913,  0.22561973,  0.00547722])"
      ]
     },
     "execution_count": 60,
     "metadata": {},
     "output_type": "execute_result"
    }
   ],
   "source": [
    "# Drawing 5 samples in a one-dimensional array\n",
    "np.random.normal(mu, sigma, 5)"
   ]
  },
  {
   "cell_type": "code",
   "execution_count": null,
   "id": "6aa2cba6",
   "metadata": {},
   "outputs": [
    {
     "data": {
      "text/plain": [
       "array([[-0.15964562, -0.10294193, -0.08267347, -0.01824829, -0.03777221],\n",
       "       [ 0.10762057,  0.13743631, -0.11737602,  0.02130311,  0.13789648]])"
      ]
     },
     "execution_count": 61,
     "metadata": {},
     "output_type": "execute_result"
    }
   ],
   "source": [
    "# Drawing 10 samples in a two-dimensional array of shape (2, 5)\n",
    "np.random.normal(mu, sigma, (2, 5))"
   ]
  },
  {
   "cell_type": "code",
   "execution_count": null,
   "id": "76c09b82",
   "metadata": {},
   "outputs": [],
   "source": [
    "# uniform(low=0.0, high=1.0, size=None) draws samples from a\n",
    "# uniform distribution over the interval 0 (including) and 1 (excluding),\n",
    "# if no arguments are provided. In other words, any value drawn is\n",
    "# equally likely within the interval."
   ]
  },
  {
   "cell_type": "code",
   "execution_count": null,
   "id": "9e0741c3",
   "metadata": {},
   "outputs": [
    {
     "data": {
      "text/plain": [
       "array([-0.30567842, -0.01770339, -0.47054152, -0.25987772, -0.32227457,\n",
       "       -0.21989057, -0.6040749 , -0.31867413, -0.69462102, -0.3730445 ])"
      ]
     },
     "execution_count": 64,
     "metadata": {},
     "output_type": "execute_result"
    }
   ],
   "source": [
    "# Creating a one-dimensional array with samples drawn within [-1, 0)\n",
    "np.random.uniform(-1, 0, 10)"
   ]
  },
  {
   "cell_type": "code",
   "execution_count": null,
   "id": "682b8d20",
   "metadata": {},
   "outputs": [
    {
     "data": {
      "text/plain": [
       "array([[0.52143119, 0.38338293],\n",
       "       [0.33505819, 0.36311708],\n",
       "       [0.6283989 , 0.01638512],\n",
       "       [0.79169372, 0.46725573],\n",
       "       [0.74667709, 0.90470879]])"
      ]
     },
     "execution_count": 65,
     "metadata": {},
     "output_type": "execute_result"
    }
   ],
   "source": [
    "# Creating a two-dimensional array with samples drawn within [0, 1)\n",
    "np.random.uniform(size=(5, 2))"
   ]
  },
  {
   "cell_type": "code",
   "execution_count": null,
   "id": "5a8cfda1",
   "metadata": {},
   "outputs": [],
   "source": [
    "# In addition to functions shown above, we can draw samples from vari-\n",
    "# ous other distributions such as Poisson, Gamma, Exponential, etc. using\n",
    "# NumPy."
   ]
  },
  {
   "cell_type": "markdown",
   "id": "683e23a3",
   "metadata": {},
   "source": [
    "# 10.4 Array Attributes and Methods"
   ]
  },
  {
   "cell_type": "code",
   "execution_count": null,
   "id": "601e63fd",
   "metadata": {},
   "outputs": [],
   "source": [
    "# We now have some idea about the working of NumPy arrays. Let us now\n",
    "# explore the functionalities provided by them. As with any Python object,\n",
    "# NumPy arrays also have a rich set of attributes and methods which sim-\n",
    "# plifies the data analysis process to a great extent. Following are the most\n",
    "# useful array attributes. For illustration purpose, we will be using previ-\n",
    "# ously defined arrays."
   ]
  },
  {
   "cell_type": "code",
   "execution_count": 115,
   "id": "6721413a",
   "metadata": {},
   "outputs": [],
   "source": [
    "# ndim attribute displays the number of dimensions of an array. Using\n",
    "# this attribute on n_call_vol and pcr, we expect dimensions to be 1\n",
    "# and 2 respectively. Let’s check.\n",
    "\n",
    "# Importing NumPy library\n",
    "import numpy as np\n",
    "\n",
    "# Creating arrays\n",
    "n_put_vol = np.array(put_vol)\n",
    "n_call_vol = np.array(call_vol)"
   ]
  },
  {
   "cell_type": "code",
   "execution_count": 117,
   "id": "da1a9c52",
   "metadata": {},
   "outputs": [],
   "source": [
    "# put volume in lacs\n",
    "put_vol = [52.89, 45.14, 63.84, 77.1, 74.6]\n",
    "\n",
    "# call volume in lacs\n",
    "call_vol = [49.51, 50.45, 59.11, 80.49, 65.11]"
   ]
  },
  {
   "cell_type": "code",
   "execution_count": 114,
   "id": "2993a45b",
   "metadata": {},
   "outputs": [
    {
     "data": {
      "text/plain": [
       "1"
      ]
     },
     "execution_count": 114,
     "metadata": {},
     "output_type": "execute_result"
    }
   ],
   "source": [
    "# Checking dimensions for n_put_vol array\n",
    "n_put_vol.ndim"
   ]
  },
  {
   "cell_type": "code",
   "execution_count": 112,
   "id": "182f5834",
   "metadata": {},
   "outputs": [
    {
     "data": {
      "text/plain": [
       "1"
      ]
     },
     "execution_count": 112,
     "metadata": {},
     "output_type": "execute_result"
    }
   ],
   "source": [
    "# Checking dimensions for n_call_vol array\n",
    "n_call_vol.ndim"
   ]
  },
  {
   "cell_type": "code",
   "execution_count": 110,
   "id": "7054d8e7",
   "metadata": {},
   "outputs": [
    {
     "data": {
      "text/plain": [
       "array([[52.89, 45.14, 63.84, 77.1 , 74.6 ],\n",
       "       [49.51, 50.45, 59.11, 80.49, 65.11]])"
      ]
     },
     "execution_count": 110,
     "metadata": {},
     "output_type": "execute_result"
    }
   ],
   "source": [
    "# Creating a two-dimensional array\n",
    "n_2d = np.array([put_vol, call_vol])\n",
    "n_2d"
   ]
  },
  {
   "cell_type": "code",
   "execution_count": 113,
   "id": "dc087988",
   "metadata": {},
   "outputs": [
    {
     "data": {
      "text/plain": [
       "2"
      ]
     },
     "execution_count": 113,
     "metadata": {},
     "output_type": "execute_result"
    }
   ],
   "source": [
    "n_2d.ndim"
   ]
  },
  {
   "cell_type": "code",
   "execution_count": 116,
   "id": "b56c3717",
   "metadata": {},
   "outputs": [
    {
     "data": {
      "text/plain": [
       "(5,)"
      ]
     },
     "execution_count": 116,
     "metadata": {},
     "output_type": "execute_result"
    }
   ],
   "source": [
    "# shape returns a tuple with the dimensions of the array. \n",
    "# It may also be used to reshape the array in-place by assigning a tuple of array dimensions to it.\n",
    "\n",
    "# Checking the shape of the one-dimensional array\n",
    "n_put_vol.shape "
   ]
  },
  {
   "cell_type": "code",
   "execution_count": 118,
   "id": "7c759529",
   "metadata": {},
   "outputs": [
    {
     "data": {
      "text/plain": [
       "(2, 5)"
      ]
     },
     "execution_count": 118,
     "metadata": {},
     "output_type": "execute_result"
    }
   ],
   "source": [
    "# Checking shape of the two-dimensional array\n",
    "n_2d.shape"
   ]
  },
  {
   "cell_type": "code",
   "execution_count": 119,
   "id": "b4a59cb5",
   "metadata": {},
   "outputs": [
    {
     "data": {
      "text/plain": [
       "array([[52.89, 45.14, 63.84, 77.1 , 74.6 ],\n",
       "       [49.51, 50.45, 59.11, 80.49, 65.11]])"
      ]
     },
     "execution_count": 119,
     "metadata": {},
     "output_type": "execute_result"
    }
   ],
   "source": [
    "# Printing n_2d with 2 rows and 5 columns\n",
    "n_2d"
   ]
  },
  {
   "cell_type": "code",
   "execution_count": 120,
   "id": "3e49c63d",
   "metadata": {},
   "outputs": [],
   "source": [
    "# Reshaping n_2d using the shape attribute\n",
    "n_2d.shape = (5, 2)"
   ]
  },
  {
   "cell_type": "code",
   "execution_count": 121,
   "id": "d5b90619",
   "metadata": {},
   "outputs": [
    {
     "data": {
      "text/plain": [
       "array([[52.89, 45.14],\n",
       "       [63.84, 77.1 ],\n",
       "       [74.6 , 49.51],\n",
       "       [50.45, 59.11],\n",
       "       [80.49, 65.11]])"
      ]
     },
     "execution_count": 121,
     "metadata": {},
     "output_type": "execute_result"
    }
   ],
   "source": [
    "# Printing reshaped array\n",
    "n_2d"
   ]
  },
  {
   "cell_type": "code",
   "execution_count": 122,
   "id": "14fb35e3",
   "metadata": {},
   "outputs": [
    {
     "data": {
      "text/plain": [
       "5"
      ]
     },
     "execution_count": 122,
     "metadata": {},
     "output_type": "execute_result"
    }
   ],
   "source": [
    "# size returns the number of elements in the array\n",
    "n_call_vol.size"
   ]
  },
  {
   "cell_type": "code",
   "execution_count": 123,
   "id": "43f5da4b",
   "metadata": {},
   "outputs": [
    {
     "data": {
      "text/plain": [
       "10"
      ]
     },
     "execution_count": 123,
     "metadata": {},
     "output_type": "execute_result"
    }
   ],
   "source": [
    "n_2d.size"
   ]
  },
  {
   "cell_type": "code",
   "execution_count": 124,
   "id": "5e31b552",
   "metadata": {},
   "outputs": [],
   "source": [
    "# dtype returns the data-type of the array’s elements. As we learned\n",
    "# above, NumPy comes with its own data type just like regular built-in\n",
    "# data types such as int, float, str, etc."
   ]
  },
  {
   "cell_type": "code",
   "execution_count": 125,
   "id": "d51914b9",
   "metadata": {},
   "outputs": [
    {
     "data": {
      "text/plain": [
       "dtype('float64')"
      ]
     },
     "execution_count": 125,
     "metadata": {},
     "output_type": "execute_result"
    }
   ],
   "source": [
    "n_put_vol.dtype"
   ]
  },
  {
   "cell_type": "code",
   "execution_count": null,
   "id": "15d69eb9",
   "metadata": {},
   "outputs": [],
   "source": [
    "# A typical first step in analyzing a data is getting to the data in the first\n",
    "# place. In an ideal data analysis process, we generally have thousands of\n",
    "# numbers which need to be analyzed. Simply staring at these numbers\n",
    "# won’t provide us with any insights. Instead, what we can do is generate\n",
    "# summary statistics of the data. Among many useful features, NumPy\n",
    "# also provides various statistical functions which are good to perform such\n",
    "# statistics on arrays."
   ]
  },
  {
   "cell_type": "code",
   "execution_count": 126,
   "id": "8abc7fe2",
   "metadata": {},
   "outputs": [],
   "source": [
    "# Let us create a samples array and populate it with samples drawn from\n",
    "# a normal distribution with a mean of 5 and standard deviation of 1.5 and\n",
    "# compute various statistics on it."
   ]
  },
  {
   "cell_type": "code",
   "execution_count": 127,
   "id": "285a2868",
   "metadata": {},
   "outputs": [],
   "source": [
    "# Creating a one-dimensional array with 1000 samples drawn\n",
    "# from a normal distribution\n",
    "samples = np.random.normal(5, 1.5, 1000)"
   ]
  },
  {
   "cell_type": "code",
   "execution_count": 128,
   "id": "e7af66e8",
   "metadata": {},
   "outputs": [
    {
     "data": {
      "text/plain": [
       "array([[1.74924621, 7.45419839, 4.43699559, 5.91413008, 6.10340514],\n",
       "       [7.50161365, 6.53405977, 2.59141374, 8.63804508, 2.41274865],\n",
       "       [5.64104835, 7.14932188, 3.2021724 , 2.53053485, 6.87074725],\n",
       "       [6.31962229, 3.18905625, 5.30346892, 6.8994307 , 5.44185957],\n",
       "       [7.85464811, 4.00792303, 5.66690793, 6.11190731, 5.19042367]])"
      ]
     },
     "execution_count": 128,
     "metadata": {},
     "output_type": "execute_result"
    }
   ],
   "source": [
    "# Creating from a normal distribution\n",
    "samples_2d = np.random.normal(5, 1.5, size=(5, 5))\n",
    "samples_2d"
   ]
  },
  {
   "cell_type": "code",
   "execution_count": 129,
   "id": "3e32771a",
   "metadata": {},
   "outputs": [],
   "source": [
    "# mean(a, axis=None) returns the average of the array elements. The\n",
    "# average is computed over the flattened array by default, otherwise\n",
    "# over the specified axis."
   ]
  },
  {
   "cell_type": "code",
   "execution_count": 130,
   "id": "99f9716e",
   "metadata": {},
   "outputs": [],
   "source": [
    "# average(a, axis=None) returns the average of the array elements\n",
    "# and works similar to that of mean()."
   ]
  },
  {
   "cell_type": "code",
   "execution_count": 131,
   "id": "edafee4c",
   "metadata": {},
   "outputs": [
    {
     "data": {
      "text/plain": [
       "np.float64(5.12989378374621)"
      ]
     },
     "execution_count": 131,
     "metadata": {},
     "output_type": "execute_result"
    }
   ],
   "source": [
    "# Computing mean\n",
    "np.mean(samples)"
   ]
  },
  {
   "cell_type": "code",
   "execution_count": 132,
   "id": "24fae14b",
   "metadata": {},
   "outputs": [
    {
     "data": {
      "text/plain": [
       "np.float64(5.12989378374621)"
      ]
     },
     "execution_count": 132,
     "metadata": {},
     "output_type": "execute_result"
    }
   ],
   "source": [
    "np.average(samples)"
   ]
  },
  {
   "cell_type": "code",
   "execution_count": 133,
   "id": "2b3d99fa",
   "metadata": {},
   "outputs": [
    {
     "data": {
      "text/plain": [
       "array([5.13159508, 5.53557618, 5.07876495, 5.43068755, 5.76636201])"
      ]
     },
     "execution_count": 133,
     "metadata": {},
     "output_type": "execute_result"
    }
   ],
   "source": [
    "# Computing mean with axis=1 (over each row)\n",
    "np.mean(samples_2d, axis=1)"
   ]
  },
  {
   "cell_type": "code",
   "execution_count": 134,
   "id": "9cc8e624",
   "metadata": {},
   "outputs": [
    {
     "data": {
      "text/plain": [
       "array([5.13159508, 5.53557618, 5.07876495, 5.43068755, 5.76636201])"
      ]
     },
     "execution_count": 134,
     "metadata": {},
     "output_type": "execute_result"
    }
   ],
   "source": [
    "np.average(samples_2d, axis=1)"
   ]
  },
  {
   "cell_type": "code",
   "execution_count": 135,
   "id": "cd4e447d",
   "metadata": {},
   "outputs": [],
   "source": [
    "# max(a, axis=None) returns the maximum of an array or maximum along an axis."
   ]
  },
  {
   "cell_type": "code",
   "execution_count": 139,
   "id": "8b400266",
   "metadata": {},
   "outputs": [
    {
     "data": {
      "text/plain": [
       "np.float64(10.219773289479416)"
      ]
     },
     "execution_count": 139,
     "metadata": {},
     "output_type": "execute_result"
    }
   ],
   "source": [
    "np.max(samples)"
   ]
  },
  {
   "cell_type": "code",
   "execution_count": 138,
   "id": "6a763bce",
   "metadata": {},
   "outputs": [
    {
     "data": {
      "text/plain": [
       "array([7.45419839, 8.63804508, 7.14932188, 6.8994307 , 7.85464811])"
      ]
     },
     "execution_count": 138,
     "metadata": {},
     "output_type": "execute_result"
    }
   ],
   "source": [
    "np.max(samples_2d, axis=1)"
   ]
  },
  {
   "cell_type": "code",
   "execution_count": 141,
   "id": "ba5b5dce",
   "metadata": {},
   "outputs": [],
   "source": [
    "# var(a, axis=None) returns the variance of an array or along the specified axis."
   ]
  },
  {
   "cell_type": "code",
   "execution_count": 142,
   "id": "424df81f",
   "metadata": {},
   "outputs": [
    {
     "data": {
      "text/plain": [
       "np.float64(2.325402405381643)"
      ]
     },
     "execution_count": 142,
     "metadata": {},
     "output_type": "execute_result"
    }
   ],
   "source": [
    "np.var(samples)"
   ]
  },
  {
   "cell_type": "code",
   "execution_count": 143,
   "id": "3e9ea985",
   "metadata": {},
   "outputs": [
    {
     "data": {
      "text/plain": [
       "np.float64(3.4861879919166716)"
      ]
     },
     "execution_count": 143,
     "metadata": {},
     "output_type": "execute_result"
    }
   ],
   "source": [
    "np.var(samples_2d)"
   ]
  },
  {
   "cell_type": "code",
   "execution_count": 144,
   "id": "05fe9f6d",
   "metadata": {},
   "outputs": [
    {
     "data": {
      "text/plain": [
       "array([4.76401424, 3.00717809, 1.40015245, 3.96471475, 2.28696429])"
      ]
     },
     "execution_count": 144,
     "metadata": {},
     "output_type": "execute_result"
    }
   ],
   "source": [
    "# The variance is computed over each column of numbers\n",
    "np.var(samples_2d, axis=0)"
   ]
  },
  {
   "cell_type": "code",
   "execution_count": 145,
   "id": "8f632043",
   "metadata": {},
   "outputs": [],
   "source": [
    "# std(a, axis=None) returns the standard deviation of an array or along the specified axis."
   ]
  },
  {
   "cell_type": "code",
   "execution_count": 146,
   "id": "60d7af2b",
   "metadata": {},
   "outputs": [
    {
     "data": {
      "text/plain": [
       "np.float64(1.524927016411488)"
      ]
     },
     "execution_count": 146,
     "metadata": {},
     "output_type": "execute_result"
    }
   ],
   "source": [
    "np.std(samples)"
   ]
  },
  {
   "cell_type": "code",
   "execution_count": 147,
   "id": "76da91f2",
   "metadata": {},
   "outputs": [
    {
     "data": {
      "text/plain": [
       "np.float64(1.8671336299035137)"
      ]
     },
     "execution_count": 147,
     "metadata": {},
     "output_type": "execute_result"
    }
   ],
   "source": [
    "np.std(samples_2d)"
   ]
  },
  {
   "cell_type": "code",
   "execution_count": 148,
   "id": "18b67fac",
   "metadata": {},
   "outputs": [],
   "source": [
    "# sum(a, axis=None) returns the sum of array elements."
   ]
  },
  {
   "cell_type": "code",
   "execution_count": 149,
   "id": "e69fdbdd",
   "metadata": {},
   "outputs": [
    {
     "data": {
      "text/plain": [
       "array([52.89, 45.14, 63.84, 77.1 , 74.6 ])"
      ]
     },
     "execution_count": 149,
     "metadata": {},
     "output_type": "execute_result"
    }
   ],
   "source": [
    "# Recalling the array n_put_vol\n",
    "n_put_vol"
   ]
  },
  {
   "cell_type": "code",
   "execution_count": 150,
   "id": "f5c1d4ac",
   "metadata": {},
   "outputs": [
    {
     "data": {
      "text/plain": [
       "np.float64(313.57)"
      ]
     },
     "execution_count": 150,
     "metadata": {},
     "output_type": "execute_result"
    }
   ],
   "source": [
    "# Computing sum of all elements within n_put_vol\n",
    "np.sum(n_put_vol)"
   ]
  },
  {
   "cell_type": "code",
   "execution_count": 151,
   "id": "40e3a2ef",
   "metadata": {},
   "outputs": [
    {
     "data": {
      "text/plain": [
       "array([25.6579754 , 27.67788089, 25.39382474, 27.15343773, 28.83181004])"
      ]
     },
     "execution_count": 151,
     "metadata": {},
     "output_type": "execute_result"
    }
   ],
   "source": [
    "# Computing sum of all array over each row\n",
    "np.sum(samples_2d, axis=1)"
   ]
  },
  {
   "cell_type": "code",
   "execution_count": 152,
   "id": "7ae12199",
   "metadata": {},
   "outputs": [],
   "source": [
    "# cumsum(a, axis=None) returns the cumulative sum of the elements along a given axis."
   ]
  },
  {
   "cell_type": "code",
   "execution_count": 153,
   "id": "c05c3b36",
   "metadata": {},
   "outputs": [
    {
     "data": {
      "text/plain": [
       "array([ 52.89,  98.03, 161.87, 238.97, 313.57])"
      ]
     },
     "execution_count": 153,
     "metadata": {},
     "output_type": "execute_result"
    }
   ],
   "source": [
    "np.cumsum(n_put_vol)"
   ]
  },
  {
   "cell_type": "code",
   "execution_count": 154,
   "id": "d781ff3e",
   "metadata": {},
   "outputs": [],
   "source": [
    "# The methods discussed above can also be directly called upon NumPy ob-\n",
    "# jects such as samples, n_put_vol, samples_2d, etc. instead of using the np.\n",
    "# format as shown below. The output will be the same in both cases."
   ]
  },
  {
   "cell_type": "code",
   "execution_count": 155,
   "id": "d841b1e4",
   "metadata": {},
   "outputs": [
    {
     "data": {
      "text/plain": [
       "np.float64(5129.89378374621)"
      ]
     },
     "execution_count": 155,
     "metadata": {},
     "output_type": "execute_result"
    }
   ],
   "source": [
    "# Using np format to compute the sum\n",
    "np.sum(samples)"
   ]
  },
  {
   "cell_type": "code",
   "execution_count": 156,
   "id": "6db7b93d",
   "metadata": {},
   "outputs": [
    {
     "data": {
      "text/plain": [
       "np.float64(5129.89378374621)"
      ]
     },
     "execution_count": 156,
     "metadata": {},
     "output_type": "execute_result"
    }
   ],
   "source": [
    "# Calling sum() directly on a NumPy object \n",
    "samples.sum()"
   ]
  },
  {
   "cell_type": "markdown",
   "id": "94da6bc1",
   "metadata": {},
   "source": [
    "# 10.5 Array Manipulation"
   ]
  },
  {
   "cell_type": "code",
   "execution_count": null,
   "id": "eb40ace8",
   "metadata": {},
   "outputs": [],
   "source": [
    "# NumPy defines a new data type called ndarray for the array object it cre-\n",
    "# ates. This also means that various operators such as arithmetic operators,\n",
    "# logical operator, boolean operators, etc. work in ways unique to it as we’ve\n",
    "# seen so far. There’s a flexible and useful array manipulation technique that\n",
    "# NumPy provides to use on its data structure using broadcasting."
   ]
  },
  {
   "cell_type": "code",
   "execution_count": null,
   "id": "ca7cccfb",
   "metadata": {},
   "outputs": [],
   "source": [
    "# The term broadcasting describes how NumPy treats arrays with different\n",
    "# shapes during arithmetic operations (with certain constraints). The smaller\n",
    "# array is ’broadcast’ across the larger array so that they have compatible\n",
    "# shapes. It also provides a mean of vectorizing array operations."
   ]
  },
  {
   "cell_type": "code",
   "execution_count": null,
   "id": "e0789b90",
   "metadata": {},
   "outputs": [],
   "source": [
    "# NumPy operations are usually done on pairs of arrays on an element-by-\n",
    "# element basis. In the simplest case, the two arrays must have exactly the\n",
    "# same shape as in the following example."
   ]
  },
  {
   "cell_type": "code",
   "execution_count": 2,
   "id": "c8918202",
   "metadata": {},
   "outputs": [
    {
     "data": {
      "text/plain": [
       "array([3, 6, 9])"
      ]
     },
     "execution_count": 2,
     "metadata": {},
     "output_type": "execute_result"
    }
   ],
   "source": [
    "import numpy as np\n",
    "\n",
    "a = np.array([1, 2, 3])\n",
    "b = np.array([3, 3, 3])\n",
    "a * b"
   ]
  },
  {
   "cell_type": "code",
   "execution_count": 3,
   "id": "ae06b447",
   "metadata": {},
   "outputs": [
    {
     "data": {
      "text/plain": [
       "array([3, 6, 9])"
      ]
     },
     "execution_count": 3,
     "metadata": {},
     "output_type": "execute_result"
    }
   ],
   "source": [
    "# NumPy’s broadcasting rule relaxes this constraint when the array’s shapes\n",
    "# meet certain constraints. The simplest broadcasting example occurs when\n",
    "# an array and a scalar value are combined in operation as depicted below:\n",
    "a = np.array([1, 2, 3])\n",
    "b = 3\n",
    "a * b"
   ]
  },
  {
   "cell_type": "code",
   "execution_count": 4,
   "id": "49227889",
   "metadata": {},
   "outputs": [],
   "source": [
    "# The result is equivalent to the previous example where b was an array.\n",
    "# We can think of the scalar b in the above example being stretched during\n",
    "# the arithmetic operation into an array with the same shape as a. The\n",
    "# new elements in b are simply copies of the original scalar. Here, the\n",
    "# stretching analogy is only conceptual. NumPy is smart enough to use\n",
    "# the original scalar value without actually making copies so that broad-\n",
    "# casting operations are as memory and computationally efficient as possible."
   ]
  },
  {
   "cell_type": "code",
   "execution_count": 5,
   "id": "db6d4b99",
   "metadata": {},
   "outputs": [],
   "source": [
    "# The code in the last example is more efficient because broadcasting moves\n",
    "# less memory around during the multiplication than that of its counter-\n",
    "# part defined above it. Along with efficient number processing capabili-\n",
    "# ties, NumPy also provides various methods for array manipulation thereby\n",
    "# proving versatility. We discuss some of them here."
   ]
  },
  {
   "cell_type": "code",
   "execution_count": 6,
   "id": "aee93328",
   "metadata": {},
   "outputs": [
    {
     "data": {
      "text/plain": [
       "array([ 2.71828183,  7.3890561 , 20.08553692])"
      ]
     },
     "execution_count": 6,
     "metadata": {},
     "output_type": "execute_result"
    }
   ],
   "source": [
    "# exp(*args) returns the exponential of all elements in the input array.\n",
    "# The numbers will be raised to e also known as Euler’s number.\n",
    "\n",
    "# Computing exponentials for the array 'a'\n",
    "np.exp(a)"
   ]
  },
  {
   "cell_type": "code",
   "execution_count": 7,
   "id": "ce4536ac",
   "metadata": {},
   "outputs": [
    {
     "data": {
      "text/plain": [
       "array([1., 2., 3., 4., 5.])"
      ]
     },
     "execution_count": 7,
     "metadata": {},
     "output_type": "execute_result"
    }
   ],
   "source": [
    "# sqrt(*args) returns the positive square-root of an array, element-wise.\n",
    "\n",
    "# Computing square roots of a given array\n",
    "np.sqrt([1, 4, 9, 16, 25])"
   ]
  },
  {
   "cell_type": "code",
   "execution_count": 8,
   "id": "724436be",
   "metadata": {},
   "outputs": [
    {
     "data": {
      "text/plain": [
       "array([ 0,  1,  2,  3,  4,  5,  6,  7,  8,  9, 10, 11])"
      ]
     },
     "execution_count": 8,
     "metadata": {},
     "output_type": "execute_result"
    }
   ],
   "source": [
    "# reshape(new_shape) gives a new shape to an array without changing its data.\n",
    "res = np.arange(12)\n",
    "res"
   ]
  },
  {
   "cell_type": "code",
   "execution_count": 9,
   "id": "228fcfb5",
   "metadata": {},
   "outputs": [
    {
     "data": {
      "text/plain": [
       "array([[ 0,  1,  2,  3],\n",
       "       [ 4,  5,  6,  7],\n",
       "       [ 8,  9, 10, 11]])"
      ]
     },
     "execution_count": 9,
     "metadata": {},
     "output_type": "execute_result"
    }
   ],
   "source": [
    "# Reshaping the 'res' array to 2-dimensional array\n",
    "np.reshape(res, (3, 4))"
   ]
  },
  {
   "cell_type": "code",
   "execution_count": 10,
   "id": "f618b87f",
   "metadata": {},
   "outputs": [],
   "source": [
    "# resize(a, new_shape) return a new array with the specified shape.\n",
    "# If the new array is larger than the original array, then the new array is\n",
    "# filled with repeated copies of a."
   ]
  },
  {
   "cell_type": "code",
   "execution_count": null,
   "id": "20fdedaf",
   "metadata": {},
   "outputs": [],
   "source": []
  }
 ],
 "metadata": {
  "kernelspec": {
   "display_name": "venv",
   "language": "python",
   "name": "python3"
  },
  "language_info": {
   "codemirror_mode": {
    "name": "ipython",
    "version": 3
   },
   "file_extension": ".py",
   "mimetype": "text/x-python",
   "name": "python",
   "nbconvert_exporter": "python",
   "pygments_lexer": "ipython3",
   "version": "3.12.3"
  }
 },
 "nbformat": 4,
 "nbformat_minor": 5
}
