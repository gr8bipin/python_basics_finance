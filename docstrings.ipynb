{
 "cells": [
  {
   "cell_type": "markdown",
   "id": "1baa3402",
   "metadata": {},
   "source": [
    "# 9.2.5 DocStrings"
   ]
  },
  {
   "cell_type": "code",
   "execution_count": null,
   "id": "c067f1a3",
   "metadata": {},
   "outputs": [],
   "source": [
    "# Python has a nifty feature called documentation string, usually referred to by\n",
    "# its shorter name docstrings.\n",
    "# This is an important but not required tool that\n",
    "# should be used every time we write a program since it helps to document\n",
    "# the program better and makes it easier to understand."
   ]
  },
  {
   "cell_type": "code",
   "execution_count": null,
   "id": "25bd539e",
   "metadata": {},
   "outputs": [],
   "source": [
    "# Docstrings are written within triple single/ double quotes just after definition header. \n",
    "# They are written on the first logical line of a function. Doc-strings are not limited to functions only; \n",
    "# they also apply to modules and classes. The convention followed for a docstring is a multi-line string where\n",
    "# the first line starts with a capital letter and ends with a dot. The second line\n",
    "# is blank followed by any detailed explanation starting from the third line.\n",
    "# It is strongly advised to follow this convention for all docstrings."
   ]
  },
  {
   "cell_type": "code",
   "execution_count": null,
   "id": "e3a325a2",
   "metadata": {},
   "outputs": [],
   "source": [
    "def power(x, y):\n",
    "    \"\"\"\n",
    "Equivalent to x**y or built-in pow() with two\n",
    "arguments.\n",
    "\n",
    "x and y should be numerical values else an appropriate\n",
    "error will be thrown for incompatible types.\n",
    "\n",
    "Parameters:\n",
    "x (int or float): Base value for the power operation.\n",
    "y (int or float): Power to which base value should be\n",
    "raised.\n",
    "\n",
    "Returns:\n",
    "int or float: It returns x raised to the power of y.\n",
    "\"\"\"\n",
    "\n",
    "    try:\n",
    "        return x ** y\n",
    "    except Exception as e:\n",
    "        print(e)"
   ]
  },
  {
   "cell_type": "code",
   "execution_count": 5,
   "id": "98b3a1fc",
   "metadata": {},
   "outputs": [],
   "source": [
    "# The function power defined above returns the raised value of the argument\n",
    "# x powered to y. The thing of our interest is the docstring written within '''\n",
    "# which documents the function. We can access a docstring of any function\n",
    "# using the __doc__ attribute (notice the double underscores) of that function."
   ]
  },
  {
   "cell_type": "code",
   "execution_count": 6,
   "id": "9f4028b6",
   "metadata": {},
   "outputs": [
    {
     "name": "stdout",
     "output_type": "stream",
     "text": [
      "\n",
      "Equivalent to x**y or built-in pow() with two\n",
      "arguments.\n",
      "x and y should be numerical values else an appropriate\n",
      "error will be thrown for incompatible types.\n",
      "Parameters:\n",
      "x (int or float): Base value for the power operation.\n",
      "y (int or float): Power to which base value should be\n",
      "raised.\n",
      "Returns:\n",
      "int or float: It returns x raised to the power of y.\n",
      "\n"
     ]
    }
   ],
   "source": [
    "# The docstring for the power function can be accessed with the following\n",
    "# code:\n",
    "\n",
    "print(power.__doc__)"
   ]
  },
  {
   "cell_type": "code",
   "execution_count": 3,
   "id": "607a5470",
   "metadata": {},
   "outputs": [
    {
     "name": "stdout",
     "output_type": "stream",
     "text": [
      "Help on function power in module __main__:\n",
      "\n",
      "power(x, y)\n",
      "    Equivalent to x**y or built-in pow() with two\n",
      "    arguments.\n",
      "    x and y should be numerical values else an appropriate\n",
      "    error will be thrown for incompatible types.\n",
      "    Parameters:\n",
      "    x (int or float): Base value for the power operation.\n",
      "    y (int or float): Power to which base value should be\n",
      "    raised.\n",
      "    Returns:\n",
      "    int or float: It returns x raised to the power of y.\n",
      "\n",
      "None\n"
     ]
    }
   ],
   "source": [
    "print(help(power))"
   ]
  }
 ],
 "metadata": {
  "kernelspec": {
   "display_name": "venv",
   "language": "python",
   "name": "python3"
  },
  "language_info": {
   "codemirror_mode": {
    "name": "ipython",
    "version": 3
   },
   "file_extension": ".py",
   "mimetype": "text/x-python",
   "name": "python",
   "nbconvert_exporter": "python",
   "pygments_lexer": "ipython3",
   "version": "3.12.3"
  }
 },
 "nbformat": 4,
 "nbformat_minor": 5
}
