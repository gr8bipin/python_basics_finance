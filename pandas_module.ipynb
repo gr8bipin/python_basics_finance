{
 "cells": [
  {
   "cell_type": "markdown",
   "id": "d3ce3404",
   "metadata": {},
   "source": [
    "# Chapter 11 Pandas Module"
   ]
  },
  {
   "cell_type": "code",
   "execution_count": 2,
   "id": "5c4b627e",
   "metadata": {},
   "outputs": [],
   "source": [
    "# Pandas is a Python library to deal with sequential and tabular data. It in-\n",
    "# cludes many tools to manage, analyze and manipulate data in a convenient\n",
    "# and efficient manner. We can think of its data structures as akin to database\n",
    "# tables or spreadsheets. "
   ]
  },
  {
   "cell_type": "code",
   "execution_count": 3,
   "id": "31bf188d",
   "metadata": {},
   "outputs": [],
   "source": [
    "# Pandas is built on top of the Numpy library and has two primary data struc-\n",
    "# tures viz. Series (1-dimensional) and DataFrame (2- dimensional). It can\n",
    "# handle both homogeneous and heterogeneous data, and some of its many\n",
    "# capabilities are:\n",
    "# • ETL tools (Extraction, Transformation and Load tools)\n",
    "# • Dealing with missing data (NaN)\n",
    "# • Dealing with data files (csv, xls, db, hdf5, etc.)\n",
    "# • Time-series manipulation tools\n",
    "# In the Python ecosystem, Pandas is the best choice to retrieve, manipulate,\n",
    "# analyze and transform financial data."
   ]
  },
  {
   "cell_type": "markdown",
   "id": "92273293",
   "metadata": {},
   "source": [
    "# 11.1 Pandas Installation"
   ]
  },
  {
   "cell_type": "code",
   "execution_count": 4,
   "id": "fe08ee24",
   "metadata": {},
   "outputs": [],
   "source": [
    "# The official documentation1 has a detailed explanation that spans over sev-\n",
    "# eral pages on installing Pandas. We summarize it below."
   ]
  },
  {
   "cell_type": "markdown",
   "id": "5eb13c78",
   "metadata": {},
   "source": [
    "# 11.1.1 Installing with pip"
   ]
  },
  {
   "cell_type": "code",
   "execution_count": 5,
   "id": "7129e840",
   "metadata": {},
   "outputs": [],
   "source": [
    "# The simplest way to install Pandas is from PyPI.\n",
    "# In a terminal window, run the following command.\n",
    "\n",
    "## pip install pandas\n",
    "\n",
    "# In your code, you can use the escape character ’!’ to install pandas directly\n",
    "# from your Python console.\n",
    "\n",
    "## !pip install pandas\n",
    "\n",
    "# Pip is a useful tool to manage Python’s packages and it is worth investing\n",
    "# some time in knowing it better.\n",
    "\n",
    "## pip help"
   ]
  },
  {
   "cell_type": "markdown",
   "id": "ebe7bd15",
   "metadata": {},
   "source": [
    "# 11.1.2 Installing with Conda environments"
   ]
  },
  {
   "cell_type": "code",
   "execution_count": 6,
   "id": "19e80e7f",
   "metadata": {},
   "outputs": [],
   "source": [
    "# For advanced users, who like to work with Python environments for each\n",
    "# project, you can create a new environment and install pandas as shown\n",
    "# below.\n",
    "\n",
    "## conda create -n EPAT python\n",
    "## source activate EPAT\n",
    "## conda install pandas"
   ]
  },
  {
   "cell_type": "markdown",
   "id": "4f0cac2d",
   "metadata": {},
   "source": [
    "# 11.1.3 Testing Pandas installation"
   ]
  },
  {
   "cell_type": "code",
   "execution_count": 7,
   "id": "15221d15",
   "metadata": {},
   "outputs": [],
   "source": [
    "# To check the installation, Pandas comes with a test suite to test almost all of\n",
    "# the codebase and verify that everything is working.\n",
    "\n",
    "## import pandas as pd\n",
    "## pd.test()"
   ]
  },
  {
   "cell_type": "markdown",
   "id": "74a4ffe1",
   "metadata": {},
   "source": [
    "# 11.2 What problem does Pandas solve?"
   ]
  },
  {
   "cell_type": "code",
   "execution_count": 8,
   "id": "a3120def",
   "metadata": {},
   "outputs": [],
   "source": [
    "# Pandas works with homogeneous data series (1-Dimension) and heteroge-\n",
    "# neous tabular data series (2-Dimensions). It includes a multitude of tools to\n",
    "# work with these data types, such as:\n",
    "\n",
    "# • Indexes and labels.\n",
    "# • Searching of elements.\n",
    "# • Insertion, deletion and modification of elements.\n",
    "# • Apply set techniques, such as grouping, joining, selecting, etc.\n",
    "# • Data processing and cleaning.\n",
    "# • Work with time series.\n",
    "# • Make statistical calculations\n",
    "# • Draw graphics\n",
    "# • Connectors for multiple data file formats, such as, csv, xlsx, hdf5, etc."
   ]
  },
  {
   "cell_type": "markdown",
   "id": "4c33fa7a",
   "metadata": {},
   "source": [
    "# 11.3 Pandas Series"
   ]
  },
  {
   "cell_type": "code",
   "execution_count": 9,
   "id": "596da5d5",
   "metadata": {},
   "outputs": [],
   "source": [
    "# The first data structure in Pandas that we are going to see is the Series.\n",
    "# They are homogeneous one-dimensional objects, that is, all data are of the\n",
    "# same type and are implicitly labeled with an index."
   ]
  },
  {
   "cell_type": "code",
   "execution_count": 10,
   "id": "86daf735",
   "metadata": {},
   "outputs": [],
   "source": [
    "# For example, we can have a Series of integers, real numbers, characters,\n",
    "# strings, dictionaries, etc. We can conveniently manipulate these series\n",
    "# performing operations like adding, deleting, ordering, joining, filtering,\n",
    "# vectorized operations, statistical analysis, plotting, etc."
   ]
  },
  {
   "cell_type": "code",
   "execution_count": 11,
   "id": "71ad2027",
   "metadata": {},
   "outputs": [
    {
     "name": "stdout",
     "output_type": "stream",
     "text": [
      "Series([], dtype: object)\n"
     ]
    }
   ],
   "source": [
    "# Let’s see some examples of how to create and manipulate a Pandas Series:\n",
    "import pandas as pd\n",
    "s = pd.Series()\n",
    "print(s)"
   ]
  },
  {
   "cell_type": "code",
   "execution_count": 12,
   "id": "1c994741",
   "metadata": {},
   "outputs": [
    {
     "name": "stdout",
     "output_type": "stream",
     "text": [
      "0    1\n",
      "1    2\n",
      "2    3\n",
      "3    4\n",
      "4    5\n",
      "5    6\n",
      "6    7\n",
      "dtype: int64\n"
     ]
    }
   ],
   "source": [
    "# Let’s create a Pandas Series of integers and print it:\n",
    "import pandas as pd\n",
    "s = pd.Series([1, 2, 3, 4, 5, 6, 7])\n",
    "print(s)"
   ]
  },
  {
   "cell_type": "code",
   "execution_count": 13,
   "id": "6ee7b259",
   "metadata": {},
   "outputs": [
    {
     "name": "stdout",
     "output_type": "stream",
     "text": [
      "0    a\n",
      "1    b\n",
      "2    c\n",
      "3    d\n",
      "4    e\n",
      "dtype: object\n"
     ]
    }
   ],
   "source": [
    "# Let’s create a Pandas Series of characters:\n",
    "import pandas as pd\n",
    "s = pd.Series(['a', 'b', 'c', 'd', 'e'])\n",
    "print(s)"
   ]
  },
  {
   "cell_type": "code",
   "execution_count": 14,
   "id": "93b315a7",
   "metadata": {},
   "outputs": [
    {
     "name": "stdout",
     "output_type": "stream",
     "text": [
      "0    0.904613\n",
      "1    2.330340\n",
      "2    1.386693\n",
      "3   -1.081357\n",
      "4    0.085286\n",
      "dtype: float64\n"
     ]
    }
   ],
   "source": [
    "# Let’s create a random Pandas Series of float numbers:\n",
    "import pandas as pd\n",
    "import numpy as np\n",
    "s = pd.Series(np.random.randn(5))\n",
    "print(s)"
   ]
  },
  {
   "cell_type": "code",
   "execution_count": 15,
   "id": "f2b2bdfe",
   "metadata": {},
   "outputs": [
    {
     "data": {
      "text/plain": [
       "RangeIndex(start=0, stop=5, step=1)"
      ]
     },
     "execution_count": 15,
     "metadata": {},
     "output_type": "execute_result"
    }
   ],
   "source": [
    "# In all these examples, we have allowed the index label to appear by default\n",
    "# (without explicitly programming it). It starts at 0, and we can check the\n",
    "# index as:\n",
    "\n",
    "s.index"
   ]
  },
  {
   "cell_type": "code",
   "execution_count": 16,
   "id": "afc1596b",
   "metadata": {},
   "outputs": [
    {
     "name": "stdout",
     "output_type": "stream",
     "text": [
      "a   -0.597548\n",
      "b    1.329840\n",
      "c   -0.668726\n",
      "d    1.100999\n",
      "e    1.071416\n",
      "dtype: float64\n"
     ]
    }
   ],
   "source": [
    "# But we can also specify the index we need, for example:\n",
    "s = pd.Series(np.random.randn(5), index= ['a', 'b', 'c', 'd', 'e'])\n",
    "print(s)"
   ]
  },
  {
   "cell_type": "code",
   "execution_count": 17,
   "id": "0b93d235",
   "metadata": {},
   "outputs": [
    {
     "name": "stdout",
     "output_type": "stream",
     "text": [
      "a    1\n",
      "b    2\n",
      "c    3\n",
      "d    4\n",
      "e    5\n",
      "dtype: int64\n"
     ]
    }
   ],
   "source": [
    "# Let's create a Pandas Series from a dictionary:\n",
    "import pandas as pd\n",
    "dictionary = {'a':1, 'b':2, 'c':3, 'd':4, 'e':5}\n",
    "s =pd.Series(dictionary)\n",
    "print(s)"
   ]
  },
  {
   "cell_type": "code",
   "execution_count": 18,
   "id": "2185321f",
   "metadata": {},
   "outputs": [],
   "source": [
    "# In this case, the Pandas Series is created with the dictonary keys as index\n",
    "# unless we specify any other index."
   ]
  },
  {
   "cell_type": "markdown",
   "id": "a82c4df2",
   "metadata": {},
   "source": [
    "# 11.3.1 Simple operations with Pandas Series"
   ]
  },
  {
   "cell_type": "code",
   "execution_count": 19,
   "id": "6b7d7173",
   "metadata": {},
   "outputs": [],
   "source": [
    "# When we have a Pandas Series, we can perform several simple operations\n",
    "# on it. For example, let’s create two Series. One from a dictionary and the\n",
    "# other from an array of integers:"
   ]
  },
  {
   "cell_type": "code",
   "execution_count": 20,
   "id": "5f2fefa2",
   "metadata": {},
   "outputs": [
    {
     "name": "stdout",
     "output_type": "stream",
     "text": [
      "a    1\n",
      "b    2\n",
      "c    3\n",
      "d    4\n",
      "e    5\n",
      "dtype: int64\n",
      "0    1\n",
      "1    2\n",
      "2    3\n",
      "3    4\n",
      "4    5\n",
      "dtype: int64\n"
     ]
    }
   ],
   "source": [
    "import pandas as pd\n",
    "dictionary = {'a': 1, 'b': 2, 'c': 3, 'd': 4, 'e': 5}\n",
    "s1 = pd.Series(dictionary)\n",
    "print(s1)\n",
    "\n",
    "array = [1, 2, 3, 4, 5]\n",
    "s2 = pd.Series(array)\n",
    "print(s2)"
   ]
  },
  {
   "cell_type": "code",
   "execution_count": 21,
   "id": "a3bfbe28",
   "metadata": {},
   "outputs": [
    {
     "name": "stderr",
     "output_type": "stream",
     "text": [
      "/tmp/ipykernel_7652/4031512513.py:4: FutureWarning: Series.__getitem__ treating keys as positions is deprecated. In a future version, integer keys will always be treated as labels (consistent with DataFrame behavior). To access a value by position, use `ser.iloc[pos]`\n",
      "  s1[0]\n"
     ]
    },
    {
     "data": {
      "text/plain": [
       "np.int64(1)"
      ]
     },
     "execution_count": 21,
     "metadata": {},
     "output_type": "execute_result"
    }
   ],
   "source": [
    "# We can perform operations similar to Numpy arrays:\n",
    "# Selecting one item from the Pandas Series by means of its index:\n",
    "\n",
    "s1[0]"
   ]
  },
  {
   "cell_type": "markdown",
   "id": "f841f807",
   "metadata": {},
   "source": []
  },
  {
   "cell_type": "code",
   "execution_count": 22,
   "id": "2d838962",
   "metadata": {},
   "outputs": [
    {
     "data": {
      "text/plain": [
       "np.int64(1)"
      ]
     },
     "execution_count": 22,
     "metadata": {},
     "output_type": "execute_result"
    }
   ],
   "source": [
    "s1['a']"
   ]
  },
  {
   "cell_type": "code",
   "execution_count": 23,
   "id": "cd5d75ec",
   "metadata": {},
   "outputs": [
    {
     "data": {
      "text/plain": [
       "np.int64(1)"
      ]
     },
     "execution_count": 23,
     "metadata": {},
     "output_type": "execute_result"
    }
   ],
   "source": [
    "s2[0]"
   ]
  },
  {
   "cell_type": "code",
   "execution_count": 24,
   "id": "9e7dd245",
   "metadata": {},
   "outputs": [
    {
     "name": "stderr",
     "output_type": "stream",
     "text": [
      "/tmp/ipykernel_7652/3810037830.py:2: FutureWarning: Series.__getitem__ treating keys as positions is deprecated. In a future version, integer keys will always be treated as labels (consistent with DataFrame behavior). To access a value by position, use `ser.iloc[pos]`\n",
      "  s1[[1, 4]]\n"
     ]
    },
    {
     "data": {
      "text/plain": [
       "b    2\n",
       "e    5\n",
       "dtype: int64"
      ]
     },
     "execution_count": 24,
     "metadata": {},
     "output_type": "execute_result"
    }
   ],
   "source": [
    "# Selecting several items from the Pandas Series by means of its index:\n",
    "s1[[1, 4]]"
   ]
  },
  {
   "cell_type": "code",
   "execution_count": 25,
   "id": "5fbc5dfc",
   "metadata": {},
   "outputs": [
    {
     "data": {
      "text/plain": [
       "b    2\n",
       "e    5\n",
       "dtype: int64"
      ]
     },
     "execution_count": 25,
     "metadata": {},
     "output_type": "execute_result"
    }
   ],
   "source": [
    "s1[['b', 'e']]"
   ]
  },
  {
   "cell_type": "code",
   "execution_count": 26,
   "id": "9a35dd44",
   "metadata": {},
   "outputs": [
    {
     "data": {
      "text/plain": [
       "1    2\n",
       "4    5\n",
       "dtype: int64"
      ]
     },
     "execution_count": 26,
     "metadata": {},
     "output_type": "execute_result"
    }
   ],
   "source": [
    "s2[[1, 4]]"
   ]
  },
  {
   "cell_type": "code",
   "execution_count": 27,
   "id": "dde36937",
   "metadata": {},
   "outputs": [
    {
     "data": {
      "text/plain": [
       "c    3\n",
       "d    4\n",
       "e    5\n",
       "dtype: int64"
      ]
     },
     "execution_count": 27,
     "metadata": {},
     "output_type": "execute_result"
    }
   ],
   "source": [
    "# Get the series starting from an element:\n",
    "s1[2:]"
   ]
  },
  {
   "cell_type": "code",
   "execution_count": 28,
   "id": "563ec468",
   "metadata": {},
   "outputs": [
    {
     "data": {
      "text/plain": [
       "2    3\n",
       "3    4\n",
       "4    5\n",
       "dtype: int64"
      ]
     },
     "execution_count": 28,
     "metadata": {},
     "output_type": "execute_result"
    }
   ],
   "source": [
    "s2[2:]"
   ]
  },
  {
   "cell_type": "code",
   "execution_count": 29,
   "id": "43998fce",
   "metadata": {},
   "outputs": [
    {
     "data": {
      "text/plain": [
       "c    3\n",
       "d    4\n",
       "e    5\n",
       "dtype: int64"
      ]
     },
     "execution_count": 29,
     "metadata": {},
     "output_type": "execute_result"
    }
   ],
   "source": [
    "# Get the series up to one element:\n",
    "s1[2:]"
   ]
  },
  {
   "cell_type": "code",
   "execution_count": 30,
   "id": "76712c3f",
   "metadata": {},
   "outputs": [
    {
     "data": {
      "text/plain": [
       "0    1\n",
       "1    2\n",
       "dtype: int64"
      ]
     },
     "execution_count": 30,
     "metadata": {},
     "output_type": "execute_result"
    }
   ],
   "source": [
    "s2[:2]"
   ]
  },
  {
   "cell_type": "code",
   "execution_count": 31,
   "id": "2f5f023b",
   "metadata": {},
   "outputs": [],
   "source": [
    "# We can perform operations like a dictionary:"
   ]
  },
  {
   "cell_type": "code",
   "execution_count": 32,
   "id": "be38d9a9",
   "metadata": {},
   "outputs": [
    {
     "name": "stdout",
     "output_type": "stream",
     "text": [
      "a     1\n",
      "b    99\n",
      "c     3\n",
      "d     4\n",
      "e     5\n",
      "dtype: int64\n"
     ]
    },
    {
     "name": "stderr",
     "output_type": "stream",
     "text": [
      "/tmp/ipykernel_7652/2971197163.py:2: FutureWarning: Series.__setitem__ treating keys as positions is deprecated. In a future version, integer keys will always be treated as labels (consistent with DataFrame behavior). To set a value by position, use `ser.iloc[pos] = value`\n",
      "  s1[1] = 99\n"
     ]
    }
   ],
   "source": [
    "# Assign a value:\n",
    "s1[1] = 99\n",
    "print(s1)"
   ]
  },
  {
   "cell_type": "code",
   "execution_count": 33,
   "id": "5f997d04",
   "metadata": {},
   "outputs": [
    {
     "name": "stdout",
     "output_type": "stream",
     "text": [
      "0     1\n",
      "1    99\n",
      "2     3\n",
      "3     4\n",
      "4     5\n",
      "dtype: int64\n"
     ]
    }
   ],
   "source": [
    "s2[1] = 99\n",
    "print(s2)"
   ]
  },
  {
   "cell_type": "code",
   "execution_count": 34,
   "id": "03c12561",
   "metadata": {},
   "outputs": [
    {
     "name": "stdout",
     "output_type": "stream",
     "text": [
      "a    1\n",
      "b    2\n",
      "c    3\n",
      "d    4\n",
      "e    5\n",
      "dtype: int64\n"
     ]
    },
    {
     "data": {
      "text/plain": [
       "np.int64(2)"
      ]
     },
     "execution_count": 34,
     "metadata": {},
     "output_type": "execute_result"
    }
   ],
   "source": [
    "# Get a value by index (like dictionary key):\n",
    "print(s)\n",
    "s.get('b')"
   ]
  },
  {
   "cell_type": "code",
   "execution_count": 35,
   "id": "b0ca0767",
   "metadata": {},
   "outputs": [],
   "source": [
    "# Here are some powerful vectorized operations that let us perform quickly calculations,for example:\n",
    "# Add, subtract, multiply, divide, power, and almost any NumPy function that accepts NumPy arrays.\n",
    "## s1 + 2\n",
    "## s1 - 2\n",
    "## s1 * 2\n",
    "## s1 / 2\n",
    "## s1 ** 2\n",
    "## np.exp(s1)"
   ]
  },
  {
   "cell_type": "code",
   "execution_count": 36,
   "id": "dd7035b0",
   "metadata": {},
   "outputs": [
    {
     "name": "stdout",
     "output_type": "stream",
     "text": [
      "a    1\n",
      "b    2\n",
      "c    3\n",
      "d    4\n",
      "e    5\n",
      "dtype: int64\n",
      "0    1\n",
      "1    2\n",
      "2    3\n",
      "3    4\n",
      "4    5\n",
      "dtype: int64\n"
     ]
    }
   ],
   "source": [
    "# We can perform the same operations over two Pandas Series although\n",
    "# these must be aligned, that is, to have the same index, in other case,\n",
    "# perform a Union operation.\n",
    "\n",
    "import pandas as pd\n",
    "dictionary = {'a': 1, 'b': 2, 'c': 3, 'd': 4, 'e': 5}\n",
    "s1 = pd.Series(dictionary)\n",
    "print(s1)\n",
    "\n",
    "array = [1, 2, 3, 4, 5]\n",
    "s2 = pd.Series(array)\n",
    "print(s2)"
   ]
  },
  {
   "cell_type": "code",
   "execution_count": 37,
   "id": "00893e3d",
   "metadata": {},
   "outputs": [
    {
     "name": "stdout",
     "output_type": "stream",
     "text": [
      "a     2\n",
      "b     4\n",
      "c     6\n",
      "d     8\n",
      "e    10\n",
      "dtype: int64\n"
     ]
    }
   ],
   "source": [
    "s1 + s1 # The indices are aligned\n",
    "print(s1 + s1)"
   ]
  },
  {
   "cell_type": "code",
   "execution_count": 38,
   "id": "747f93b5",
   "metadata": {},
   "outputs": [
    {
     "name": "stdout",
     "output_type": "stream",
     "text": [
      "a   NaN\n",
      "b   NaN\n",
      "c   NaN\n",
      "d   NaN\n",
      "e   NaN\n",
      "0   NaN\n",
      "1   NaN\n",
      "2   NaN\n",
      "3   NaN\n",
      "4   NaN\n",
      "dtype: float64\n"
     ]
    }
   ],
   "source": [
    "s1 + s2 # The indices are unaligned\n",
    "print(s1 + s2)"
   ]
  },
  {
   "cell_type": "markdown",
   "id": "188018db",
   "metadata": {},
   "source": [
    "# 11.4 Pandas DataFrame"
   ]
  },
  {
   "cell_type": "code",
   "execution_count": 39,
   "id": "c26dfb63",
   "metadata": {},
   "outputs": [],
   "source": [
    "# The second data structure in Pandas that we are going to see is the DataFrame."
   ]
  },
  {
   "cell_type": "code",
   "execution_count": 40,
   "id": "e32b577e",
   "metadata": {},
   "outputs": [],
   "source": [
    "# Pandas DataFrame is a heterogeneous two-dimensional object, that is, the\n",
    "# data are of the same type within each column but it could be a different\n",
    "# data type for each column and are implicitly or explicitly labeled with an\n",
    "# index."
   ]
  },
  {
   "cell_type": "code",
   "execution_count": 41,
   "id": "de72e6d1",
   "metadata": {},
   "outputs": [],
   "source": [
    "# We can think of a DataFrame as a database table, in which we store heterogeneous data. For example, \n",
    "# a DataFrame with one column for the first name, another for the last name and a third column for the phone \n",
    "# number, or a dataframe with columns to store the opening price, close price, high, low, volume, and so on."
   ]
  },
  {
   "cell_type": "code",
   "execution_count": 42,
   "id": "4062658d",
   "metadata": {},
   "outputs": [],
   "source": [
    "# The index can be implicit, starting with zero or we can specify it ourselves,\n",
    "# even working with dates and times as indexes as well. Let’s see some examples \n",
    "# of how to create and manipulate a Pandas DataFrame."
   ]
  },
  {
   "cell_type": "code",
   "execution_count": 43,
   "id": "bff0785f",
   "metadata": {},
   "outputs": [
    {
     "name": "stdout",
     "output_type": "stream",
     "text": [
      "Empty DataFrame\n",
      "Columns: []\n",
      "Index: []\n"
     ]
    }
   ],
   "source": [
    "# Creating an empty DataFrame:\n",
    "import pandas as pd\n",
    "s = pd.DataFrame()\n",
    "print(s)"
   ]
  },
  {
   "cell_type": "code",
   "execution_count": 44,
   "id": "5a4771b6",
   "metadata": {},
   "outputs": [
    {
     "name": "stdout",
     "output_type": "stream",
     "text": [
      "     A    B    C    D    E\n",
      "1  NaN  NaN  NaN  NaN  NaN\n",
      "2  NaN  NaN  NaN  NaN  NaN\n",
      "3  NaN  NaN  NaN  NaN  NaN\n",
      "4  NaN  NaN  NaN  NaN  NaN\n",
      "5  NaN  NaN  NaN  NaN  NaN\n"
     ]
    }
   ],
   "source": [
    "# Creating an empty structure DataFrame:\n",
    "import pandas as pd\n",
    "s = pd.DataFrame(columns=['A', 'B', 'C', 'D', 'E'], index=range(1, 6))\n",
    "print(s)"
   ]
  },
  {
   "cell_type": "code",
   "execution_count": 45,
   "id": "0eba33d2",
   "metadata": {},
   "outputs": [
    {
     "data": {
      "text/html": [
       "<div>\n",
       "<style scoped>\n",
       "    .dataframe tbody tr th:only-of-type {\n",
       "        vertical-align: middle;\n",
       "    }\n",
       "\n",
       "    .dataframe tbody tr th {\n",
       "        vertical-align: top;\n",
       "    }\n",
       "\n",
       "    .dataframe thead th {\n",
       "        text-align: right;\n",
       "    }\n",
       "</style>\n",
       "<table border=\"1\" class=\"dataframe\">\n",
       "  <thead>\n",
       "    <tr style=\"text-align: right;\">\n",
       "      <th></th>\n",
       "      <th>A</th>\n",
       "      <th>B</th>\n",
       "    </tr>\n",
       "  </thead>\n",
       "  <tbody>\n",
       "    <tr>\n",
       "      <th>0</th>\n",
       "      <td>1</td>\n",
       "      <td>4</td>\n",
       "    </tr>\n",
       "    <tr>\n",
       "      <th>1</th>\n",
       "      <td>2</td>\n",
       "      <td>3</td>\n",
       "    </tr>\n",
       "    <tr>\n",
       "      <th>2</th>\n",
       "      <td>3</td>\n",
       "      <td>2</td>\n",
       "    </tr>\n",
       "    <tr>\n",
       "      <th>3</th>\n",
       "      <td>4</td>\n",
       "      <td>1</td>\n",
       "    </tr>\n",
       "  </tbody>\n",
       "</table>\n",
       "</div>"
      ],
      "text/plain": [
       "   A  B\n",
       "0  1  4\n",
       "1  2  3\n",
       "2  3  2\n",
       "3  4  1"
      ]
     },
     "execution_count": 45,
     "metadata": {},
     "output_type": "execute_result"
    }
   ],
   "source": [
    "# Creating a DataFrame passing a NumPy array:\n",
    "array = {'A' : [1, 2, 3, 4],\n",
    "         'B' : [4, 3, 2, 1]}\n",
    "pd.DataFrame(array)"
   ]
  },
  {
   "cell_type": "code",
   "execution_count": 46,
   "id": "d0cda05e",
   "metadata": {},
   "outputs": [
    {
     "data": {
      "text/html": [
       "<div>\n",
       "<style scoped>\n",
       "    .dataframe tbody tr th:only-of-type {\n",
       "        vertical-align: middle;\n",
       "    }\n",
       "\n",
       "    .dataframe tbody tr th {\n",
       "        vertical-align: top;\n",
       "    }\n",
       "\n",
       "    .dataframe thead th {\n",
       "        text-align: right;\n",
       "    }\n",
       "</style>\n",
       "<table border=\"1\" class=\"dataframe\">\n",
       "  <thead>\n",
       "    <tr style=\"text-align: right;\">\n",
       "      <th></th>\n",
       "      <th>A</th>\n",
       "      <th>B</th>\n",
       "    </tr>\n",
       "  </thead>\n",
       "  <tbody>\n",
       "    <tr>\n",
       "      <th>2018-12-01</th>\n",
       "      <td>1</td>\n",
       "      <td>4</td>\n",
       "    </tr>\n",
       "    <tr>\n",
       "      <th>2018-12-02</th>\n",
       "      <td>2</td>\n",
       "      <td>3</td>\n",
       "    </tr>\n",
       "    <tr>\n",
       "      <th>2018-12-03</th>\n",
       "      <td>3</td>\n",
       "      <td>2</td>\n",
       "    </tr>\n",
       "    <tr>\n",
       "      <th>2018-12-04</th>\n",
       "      <td>4</td>\n",
       "      <td>1</td>\n",
       "    </tr>\n",
       "  </tbody>\n",
       "</table>\n",
       "</div>"
      ],
      "text/plain": [
       "            A  B\n",
       "2018-12-01  1  4\n",
       "2018-12-02  2  3\n",
       "2018-12-03  3  2\n",
       "2018-12-04  4  1"
      ]
     },
     "execution_count": 46,
     "metadata": {},
     "output_type": "execute_result"
    }
   ],
   "source": [
    "# Creating a DataFrame passing a NumPy array, with datetime index:\n",
    "import pandas as pd \n",
    "array = {'A': [1, 2, 3, 4], 'B': [4, 3, 2, 1]}\n",
    "index = pd.DatetimeIndex(['2018-12-01', '2018-12-02', '2018-12-03', '2018-12-04'])\n",
    "pd.DataFrame(array, index=index)"
   ]
  },
  {
   "cell_type": "code",
   "execution_count": 47,
   "id": "e4f22f3d",
   "metadata": {},
   "outputs": [
    {
     "data": {
      "text/html": [
       "<div>\n",
       "<style scoped>\n",
       "    .dataframe tbody tr th:only-of-type {\n",
       "        vertical-align: middle;\n",
       "    }\n",
       "\n",
       "    .dataframe tbody tr th {\n",
       "        vertical-align: top;\n",
       "    }\n",
       "\n",
       "    .dataframe thead th {\n",
       "        text-align: right;\n",
       "    }\n",
       "</style>\n",
       "<table border=\"1\" class=\"dataframe\">\n",
       "  <thead>\n",
       "    <tr style=\"text-align: right;\">\n",
       "      <th></th>\n",
       "      <th>a</th>\n",
       "      <th>b</th>\n",
       "      <th>c</th>\n",
       "      <th>d</th>\n",
       "      <th>e</th>\n",
       "    </tr>\n",
       "  </thead>\n",
       "  <tbody>\n",
       "    <tr>\n",
       "      <th>0</th>\n",
       "      <td>1</td>\n",
       "      <td>2</td>\n",
       "      <td>3</td>\n",
       "      <td>4</td>\n",
       "      <td>5</td>\n",
       "    </tr>\n",
       "  </tbody>\n",
       "</table>\n",
       "</div>"
      ],
      "text/plain": [
       "   a  b  c  d  e\n",
       "0  1  2  3  4  5"
      ]
     },
     "execution_count": 47,
     "metadata": {},
     "output_type": "execute_result"
    }
   ],
   "source": [
    "# Creating a DataFrame passing a Dictionary:\n",
    "import pandas as pd\n",
    "dictionary = {'a': 1, 'b': 2, 'c': 3, 'd': 4, 'e': 5}\n",
    "pd.DataFrame([dictionary])"
   ]
  },
  {
   "cell_type": "code",
   "execution_count": 48,
   "id": "539202a5",
   "metadata": {},
   "outputs": [
    {
     "data": {
      "text/html": [
       "<div>\n",
       "<style scoped>\n",
       "    .dataframe tbody tr th:only-of-type {\n",
       "        vertical-align: middle;\n",
       "    }\n",
       "\n",
       "    .dataframe tbody tr th {\n",
       "        vertical-align: top;\n",
       "    }\n",
       "\n",
       "    .dataframe thead th {\n",
       "        text-align: right;\n",
       "    }\n",
       "</style>\n",
       "<table border=\"1\" class=\"dataframe\">\n",
       "  <thead>\n",
       "    <tr style=\"text-align: right;\">\n",
       "      <th></th>\n",
       "      <th>A</th>\n",
       "      <th>B</th>\n",
       "      <th>C</th>\n",
       "    </tr>\n",
       "  </thead>\n",
       "  <tbody>\n",
       "    <tr>\n",
       "      <th>0</th>\n",
       "      <td>-0.115255</td>\n",
       "      <td>0.725032</td>\n",
       "      <td>-0.512907</td>\n",
       "    </tr>\n",
       "    <tr>\n",
       "      <th>1</th>\n",
       "      <td>-1.135256</td>\n",
       "      <td>-0.187519</td>\n",
       "      <td>-1.958583</td>\n",
       "    </tr>\n",
       "    <tr>\n",
       "      <th>2</th>\n",
       "      <td>0.728137</td>\n",
       "      <td>0.084009</td>\n",
       "      <td>0.701224</td>\n",
       "    </tr>\n",
       "    <tr>\n",
       "      <th>3</th>\n",
       "      <td>-0.639946</td>\n",
       "      <td>0.789538</td>\n",
       "      <td>-0.969800</td>\n",
       "    </tr>\n",
       "    <tr>\n",
       "      <th>4</th>\n",
       "      <td>-1.733467</td>\n",
       "      <td>0.880339</td>\n",
       "      <td>0.338776</td>\n",
       "    </tr>\n",
       "    <tr>\n",
       "      <th>5</th>\n",
       "      <td>-0.316618</td>\n",
       "      <td>-1.087781</td>\n",
       "      <td>0.773003</td>\n",
       "    </tr>\n",
       "    <tr>\n",
       "      <th>6</th>\n",
       "      <td>-2.928715</td>\n",
       "      <td>0.447762</td>\n",
       "      <td>-1.375594</td>\n",
       "    </tr>\n",
       "    <tr>\n",
       "      <th>7</th>\n",
       "      <td>1.695077</td>\n",
       "      <td>-0.505442</td>\n",
       "      <td>1.172897</td>\n",
       "    </tr>\n",
       "    <tr>\n",
       "      <th>8</th>\n",
       "      <td>-1.200760</td>\n",
       "      <td>-1.435355</td>\n",
       "      <td>0.193307</td>\n",
       "    </tr>\n",
       "    <tr>\n",
       "      <th>9</th>\n",
       "      <td>-0.658945</td>\n",
       "      <td>0.078839</td>\n",
       "      <td>1.102058</td>\n",
       "    </tr>\n",
       "  </tbody>\n",
       "</table>\n",
       "</div>"
      ],
      "text/plain": [
       "          A         B         C\n",
       "0 -0.115255  0.725032 -0.512907\n",
       "1 -1.135256 -0.187519 -1.958583\n",
       "2  0.728137  0.084009  0.701224\n",
       "3 -0.639946  0.789538 -0.969800\n",
       "4 -1.733467  0.880339  0.338776\n",
       "5 -0.316618 -1.087781  0.773003\n",
       "6 -2.928715  0.447762 -1.375594\n",
       "7  1.695077 -0.505442  1.172897\n",
       "8 -1.200760 -1.435355  0.193307\n",
       "9 -0.658945  0.078839  1.102058"
      ]
     },
     "execution_count": 48,
     "metadata": {},
     "output_type": "execute_result"
    }
   ],
   "source": [
    "# Viewing a DataFrame: We can use some methods to explore the Pandas DataFrame:\n",
    "# First, we go to create a Pandas DataFrame to work with it.\n",
    "import pandas as pd\n",
    "pd.DataFrame({'A': np.random.randn(10),\n",
    "              'B': np.random.randn(10),\n",
    "              'C': np.random.randn(10)})"
   ]
  },
  {
   "cell_type": "code",
   "execution_count": 49,
   "id": "89841258",
   "metadata": {},
   "outputs": [
    {
     "data": {
      "text/html": [
       "<div>\n",
       "<style scoped>\n",
       "    .dataframe tbody tr th:only-of-type {\n",
       "        vertical-align: middle;\n",
       "    }\n",
       "\n",
       "    .dataframe tbody tr th {\n",
       "        vertical-align: top;\n",
       "    }\n",
       "\n",
       "    .dataframe thead th {\n",
       "        text-align: right;\n",
       "    }\n",
       "</style>\n",
       "<table border=\"1\" class=\"dataframe\">\n",
       "  <thead>\n",
       "    <tr style=\"text-align: right;\">\n",
       "      <th></th>\n",
       "      <th>A</th>\n",
       "      <th>B</th>\n",
       "      <th>C</th>\n",
       "    </tr>\n",
       "  </thead>\n",
       "  <tbody>\n",
       "    <tr>\n",
       "      <th>0</th>\n",
       "      <td>0.397701</td>\n",
       "      <td>0.990562</td>\n",
       "      <td>1.163514</td>\n",
       "    </tr>\n",
       "    <tr>\n",
       "      <th>1</th>\n",
       "      <td>0.959700</td>\n",
       "      <td>-0.011037</td>\n",
       "      <td>-1.661046</td>\n",
       "    </tr>\n",
       "    <tr>\n",
       "      <th>2</th>\n",
       "      <td>0.323207</td>\n",
       "      <td>1.842709</td>\n",
       "      <td>-1.608458</td>\n",
       "    </tr>\n",
       "  </tbody>\n",
       "</table>\n",
       "</div>"
      ],
      "text/plain": [
       "          A         B         C\n",
       "0  0.397701  0.990562  1.163514\n",
       "1  0.959700 -0.011037 -1.661046\n",
       "2  0.323207  1.842709 -1.608458"
      ]
     },
     "execution_count": 49,
     "metadata": {},
     "output_type": "execute_result"
    }
   ],
   "source": [
    "# Get the first three rows:\n",
    "import pandas as pd\n",
    "df = pd.DataFrame({'A': np.random.randn(10),\n",
    "                  'B': np.random.randn(10),\n",
    "                  'C': np.random.randn(10)})\n",
    "df.head(3)"
   ]
  },
  {
   "cell_type": "code",
   "execution_count": 50,
   "id": "c670820a",
   "metadata": {},
   "outputs": [
    {
     "data": {
      "text/html": [
       "<div>\n",
       "<style scoped>\n",
       "    .dataframe tbody tr th:only-of-type {\n",
       "        vertical-align: middle;\n",
       "    }\n",
       "\n",
       "    .dataframe tbody tr th {\n",
       "        vertical-align: top;\n",
       "    }\n",
       "\n",
       "    .dataframe thead th {\n",
       "        text-align: right;\n",
       "    }\n",
       "</style>\n",
       "<table border=\"1\" class=\"dataframe\">\n",
       "  <thead>\n",
       "    <tr style=\"text-align: right;\">\n",
       "      <th></th>\n",
       "      <th>A</th>\n",
       "      <th>B</th>\n",
       "      <th>C</th>\n",
       "    </tr>\n",
       "  </thead>\n",
       "  <tbody>\n",
       "    <tr>\n",
       "      <th>7</th>\n",
       "      <td>0.278565</td>\n",
       "      <td>-0.752109</td>\n",
       "      <td>0.850734</td>\n",
       "    </tr>\n",
       "    <tr>\n",
       "      <th>8</th>\n",
       "      <td>-0.438471</td>\n",
       "      <td>-0.745357</td>\n",
       "      <td>0.019313</td>\n",
       "    </tr>\n",
       "    <tr>\n",
       "      <th>9</th>\n",
       "      <td>-0.964203</td>\n",
       "      <td>0.577769</td>\n",
       "      <td>-1.004516</td>\n",
       "    </tr>\n",
       "  </tbody>\n",
       "</table>\n",
       "</div>"
      ],
      "text/plain": [
       "          A         B         C\n",
       "7  0.278565 -0.752109  0.850734\n",
       "8 -0.438471 -0.745357  0.019313\n",
       "9 -0.964203  0.577769 -1.004516"
      ]
     },
     "execution_count": 50,
     "metadata": {},
     "output_type": "execute_result"
    }
   ],
   "source": [
    "# Get the last three rows:\n",
    "import pandas as pd\n",
    "df = pd.DataFrame({'A': np.random.randn(10),\n",
    "                  'B': np.random.randn(10),\n",
    "                  'C': np.random.randn(10)})\n",
    "df.tail(3)"
   ]
  },
  {
   "cell_type": "code",
   "execution_count": 51,
   "id": "8b25e3bf",
   "metadata": {},
   "outputs": [
    {
     "data": {
      "text/plain": [
       "RangeIndex(start=0, stop=10, step=1)"
      ]
     },
     "execution_count": 51,
     "metadata": {},
     "output_type": "execute_result"
    }
   ],
   "source": [
    "# Get the DataFrame's index:\n",
    "import pandas as pd\n",
    "df = pd.DataFrame({'A': np.random.randn(10),\n",
    "                   'B': np.random.randn(10),\n",
    "                   'C': np.random.randn(10)})\n",
    "df.index"
   ]
  },
  {
   "cell_type": "code",
   "execution_count": 52,
   "id": "5f8c7574",
   "metadata": {},
   "outputs": [
    {
     "data": {
      "text/plain": [
       "Index(['A', 'B', 'C'], dtype='object')"
      ]
     },
     "execution_count": 52,
     "metadata": {},
     "output_type": "execute_result"
    }
   ],
   "source": [
    "# Get the DataFrame's columns:\n",
    "import pandas as pd \n",
    "df = pd.DataFrame({'A': np.random.randn(10),\n",
    "                   'B': np.random.randn(10),\n",
    "                   'C': np.random.randn(10)})\n",
    "df.columns"
   ]
  },
  {
   "cell_type": "code",
   "execution_count": 53,
   "id": "92b972bf",
   "metadata": {},
   "outputs": [
    {
     "data": {
      "text/plain": [
       "array([[ 0.67039894, -0.40319856,  2.28744725],\n",
       "       [ 0.64685963,  0.25427199, -0.52460685],\n",
       "       [ 0.01214969,  0.40760016,  0.22523932],\n",
       "       [ 0.72302843,  0.81797198,  1.09979482],\n",
       "       [ 0.84375436,  0.32250556, -1.40422084],\n",
       "       [ 0.58342615, -1.01545244, -0.73427537],\n",
       "       [ 0.43392786,  0.1224972 ,  0.47536438],\n",
       "       [ 0.5818388 , -0.63935871, -0.50348102],\n",
       "       [ 0.38328059, -0.68692037,  0.36744373],\n",
       "       [ 0.25842745,  0.15072303, -0.05348445]])"
      ]
     },
     "execution_count": 53,
     "metadata": {},
     "output_type": "execute_result"
    }
   ],
   "source": [
    "# Get the DataFrame's values:\n",
    "import pandas as pd\n",
    "df = pd.DataFrame({'A': np.random.rand(10),\n",
    "                   'B': np.random.randn(10),\n",
    "                   'C': np.random.randn(10)})\n",
    "df.values"
   ]
  },
  {
   "cell_type": "markdown",
   "id": "ee9c5ee5",
   "metadata": {},
   "source": [
    "# 11.5 Importing data in Pandas"
   ]
  },
  {
   "cell_type": "code",
   "execution_count": 54,
   "id": "238b5d0d",
   "metadata": {},
   "outputs": [],
   "source": [
    "# Pandas DataFrame is able to read several data formats, some of the most\n",
    "# used are: CSV, JSON, Excel, HDF5, SQL, etc."
   ]
  },
  {
   "cell_type": "markdown",
   "id": "45587383",
   "metadata": {},
   "source": [
    "# 11.5.1 Importing data from CSV file"
   ]
  },
  {
   "cell_type": "markdown",
   "id": "5f2ca29b",
   "metadata": {},
   "source": []
  },
  {
   "cell_type": "code",
   "execution_count": 55,
   "id": "2c065b20",
   "metadata": {},
   "outputs": [
    {
     "data": {
      "text/plain": [
       "pandas.core.frame.DataFrame"
      ]
     },
     "execution_count": 55,
     "metadata": {},
     "output_type": "execute_result"
    }
   ],
   "source": [
    "# One of the most useful functions is read_csv that allows us to read csv files\n",
    "# with almost any format and load it into our DataFrame to work with it.\n",
    "# Let’s see how to work with csv files:\n",
    "\n",
    "import pandas as pd\n",
    "df = pd.read_csv('/home/bipinhyoju/Downloads/csv files/names.csv')\n",
    "type(df)"
   ]
  },
  {
   "cell_type": "code",
   "execution_count": 56,
   "id": "76f27e21",
   "metadata": {},
   "outputs": [],
   "source": [
    "# This simple operation, loads the csv file into the Pandas DataFrame after\n",
    "# which we can explore it as we have seen before."
   ]
  },
  {
   "cell_type": "markdown",
   "id": "23490dfa",
   "metadata": {},
   "source": [
    "# 11.5.2 Customizing pandas import"
   ]
  },
  {
   "cell_type": "code",
   "execution_count": 57,
   "id": "e0298908",
   "metadata": {},
   "outputs": [
    {
     "name": "stdout",
     "output_type": "stream",
     "text": [
      "                         first_name,last_name,email\n",
      "0                  John,Doe,john-doe@bogusemail.com\n",
      "1     Mary,Smith-Robinson,maryjacobs@bogusemail.com\n",
      "2               Dave,Smith,davesmith@bogusemail.com\n",
      "3             Jane,Stuart,janestuart@bogusemail.com\n",
      "4               Tom,Wright,tomwright@bogusemail.com\n",
      "5       Steve,Robinson,steverobinson@bogusemail.com\n",
      "6         Nicole,Jacobs,nicolejacobs@bogusemail.com\n",
      "7             Jane,Wright,janewright@bogusemail.com\n",
      "8                   Jane,Doe,janedoe@bogusemail.com\n",
      "9             Kurt,Wright,kurtwright@bogusemail.com\n",
      "10        Kurt,Robinson,kurtrobinson@bogusemail.com\n",
      "11          Jane,Jenkins,janejenkins@bogusemail.com\n",
      "12        Neil,Robinson,neilrobinson@bogusemail.com\n",
      "13        Tom,Patterson,tompatterson@bogusemail.com\n",
      "14            Sam,Jenkins,samjenkins@bogusemail.com\n",
      "15          Steve,Stuart,stevestuart@bogusemail.com\n",
      "16  Maggie,Patterson,maggiepatterson@bogusemail.com\n",
      "17        Maggie,Stuart,maggiestuart@bogusemail.com\n",
      "18                  Jane,Doe,janedoe@bogusemail.com\n",
      "19    Steve,Patterson,stevepatterson@bogusemail.com\n",
      "20              Dave,Smith,davesmith@bogusemail.com\n",
      "21                Sam,Wilks,samwilks@bogusemail.com\n",
      "22      Kurt,Jefferson,kurtjefferson@bogusemail.com\n",
      "23              Sam,Stuart,samstuart@bogusemail.com\n",
      "24            Jane,Stuart,janestuart@bogusemail.com\n",
      "25              Dave,Davis,davedavis@bogusemail.com\n",
      "26        Sam,Patterson,sampatterson@bogusemail.com\n",
      "27        Tom,Jefferson,tomjefferson@bogusemail.com\n",
      "28            Jane,Stuart,janestuart@bogusemail.com\n",
      "29  Maggie,Jefferson,maggiejefferson@bogusemail.com\n",
      "30              Mary,Wilks,marywilks@bogusemail.com\n",
      "31      Neil,Patterson,neilpatterson@bogusemail.com\n",
      "32            Corey,Davis,coreydavis@bogusemail.com\n",
      "33          Steve,Jacobs,stevejacobs@bogusemail.com\n",
      "34          Jane,Jenkins,janejenkins@bogusemail.com\n",
      "35            John,Jacobs,johnjacobs@bogusemail.com\n",
      "36              Neil,Smith,neilsmith@bogusemail.com\n",
      "37            Corey,Wilks,coreywilks@bogusemail.com\n",
      "38            Corey,Smith,coreysmith@bogusemail.com\n",
      "39      Mary,Patterson,marypatterson@bogusemail.com\n",
      "40            Jane,Stuart,janestuart@bogusemail.com\n",
      "41        Travis,Arnold,travisarnold@bogusemail.com\n",
      "42        John,Robinson,johnrobinson@bogusemail.com\n",
      "43        Travis,Arnold,travisarnold@bogusemail.com\n",
      "   invoice_no customer_id         category  quantity    price invoice_date\n",
      "0     I138884     C241288         Clothing         5  1500.40   05-08-2022\n",
      "1     I317333     C111565            Shoes         3  1800.51   12-12-2021\n",
      "2     I127801     C266599         Clothing         1   300.08   09-11-2021\n",
      "3     I173702     C988172            Shoes         5  3000.85   16-05-2021\n",
      "4     I337046     C189076            Books         4    60.60   24-10-2021\n",
      "..        ...         ...              ...       ...      ...          ...\n",
      "95    I172458     C277842         Clothing         2   600.16   17-12-2021\n",
      "96    I297270     C183011         Clothing         5  1500.40   31-12-2022\n",
      "97    I153930     C567813  Food & Beverage         3    15.69   09-08-2022\n",
      "98    I282854     C282974         Clothing         3   900.24   31-07-2022\n",
      "99    I869144     C181972  Food & Beverage         4    20.92   04-05-2021\n",
      "\n",
      "[100 rows x 6 columns]\n"
     ]
    },
    {
     "name": "stderr",
     "output_type": "stream",
     "text": [
      "<>:6: SyntaxWarning: invalid escape sequence '\\s'\n",
      "<>:6: SyntaxWarning: invalid escape sequence '\\s'\n",
      "/tmp/ipykernel_7652/3313490042.py:6: SyntaxWarning: invalid escape sequence '\\s'\n",
      "  df = pd.read_csv('/home/bipinhyoju/Downloads/csv files/names.csv', sep='\\s+', engine='python')\n"
     ]
    }
   ],
   "source": [
    "# Sometimes the format of the csv file come with a particular separator or we\n",
    "# need specific columns or rows. We will now see some ways to deal with this.\n",
    "# In this example, we want to load a csv file with blank space as separator:\n",
    "\n",
    "import pandas as pd\n",
    "df = pd.read_csv('/home/bipinhyoju/Downloads/csv files/names.csv', sep='\\s+', engine='python')\n",
    "print(df)\n",
    "\n",
    "# In this example, we want to load columns from 0 and 5 and the first 100 rows:\n",
    "\n",
    "import pandas as pd\n",
    "df = pd.read_csv('/home/bipinhyoju/Downloads/csv files/sales_data.csv', usecols=[0, 1, 2, 3, 4, 5], nrows=100)\n",
    "print(df)\n",
    "\n",
    "# It’s possible to customize the headers, convert the columns or rows names\n",
    "# and carry out a good number of other operations."
   ]
  },
  {
   "cell_type": "markdown",
   "id": "a92a4f04",
   "metadata": {},
   "source": [
    "# 11.5.3 Importing data from Excel files"
   ]
  },
  {
   "cell_type": "code",
   "execution_count": 58,
   "id": "f53d0776",
   "metadata": {},
   "outputs": [
    {
     "name": "stdout",
     "output_type": "stream",
     "text": [
      "WARNING *** OLE2 inconsistency: SSCS size is 0 but SSAT size is non-zero\n",
      "   Year (Col.1)  Geographical Area (Col.2)  \\\n",
      "0       2000-01                     328726   \n",
      "1       2001-02                     328726   \n",
      "2       2002-03                     328726   \n",
      "3       2003-04                     328726   \n",
      "4       2004-05                     328726   \n",
      "5       2005-06                     328726   \n",
      "6       2006-07                     328726   \n",
      "7       2007-08                     328726   \n",
      "8       2008-09                     328726   \n",
      "9       2009-10                     328726   \n",
      "10      2010-11                     328726   \n",
      "11      2011-12                     328726   \n",
      "12      2012-13                     328726   \n",
      "13      2013-14                     328726   \n",
      "14      2014-15                     328726   \n",
      "\n",
      "    Reporting area for Land utilisation statistics (Col.3 = Col.4+Col.7+ Col.11+Col.14+Col.15)  \\\n",
      "0                                              305195                                            \n",
      "1                                              305127                                            \n",
      "2                                              305358                                            \n",
      "3                                              305567                                            \n",
      "4                                              305587                                            \n",
      "5                                              306884                                            \n",
      "6                                              307088                                            \n",
      "7                                              307232                                            \n",
      "8                                              307408                                            \n",
      "9                                              307408                                            \n",
      "10                                             307483                                            \n",
      "11                                             307392                                            \n",
      "12                                             307491                                            \n",
      "13                                             307796                                            \n",
      "14                                             307818                                            \n",
      "\n",
      "    Forests (Col.4)  \\\n",
      "0             69843   \n",
      "1             69720   \n",
      "2             69821   \n",
      "3             69968   \n",
      "4             69960   \n",
      "5             71431   \n",
      "6             71463   \n",
      "7             71529   \n",
      "8             71543   \n",
      "9             71555   \n",
      "10            71593   \n",
      "11            71599   \n",
      "12            71573   \n",
      "13            71828   \n",
      "14            71794   \n",
      "\n",
      "    Not available for cultivation - Area under non-agricultural uses (Col.5)  \\\n",
      "0                                               23752                          \n",
      "1                                               23914                          \n",
      "2                                               24119                          \n",
      "3                                               24516                          \n",
      "4                                               24761                          \n",
      "5                                               24993                          \n",
      "6                                               25445                          \n",
      "7                                               25882                          \n",
      "8                                               26211                          \n",
      "9                                               26158                          \n",
      "10                                              26400                          \n",
      "11                                              26308                          \n",
      "12                                              26504                          \n",
      "13                                              26913                          \n",
      "14                                              26883                          \n",
      "\n",
      "    Not available for cultivation - Barren and unculturable Land (Col.6)  \\\n",
      "0                                               17483                      \n",
      "1                                               17414                      \n",
      "2                                               17517                      \n",
      "3                                               17466                      \n",
      "4                                               17468                      \n",
      "5                                               17331                      \n",
      "6                                               17287                      \n",
      "7                                               17020                      \n",
      "8                                               16851                      \n",
      "9                                               17177                      \n",
      "10                                              17175                      \n",
      "11                                              17217                      \n",
      "12                                              17072                      \n",
      "13                                              16948                      \n",
      "14                                              16996                      \n",
      "\n",
      "    Not available for cultivation - Total (Col.7 = Col.5+Col.6)  \\\n",
      "0                                               41235             \n",
      "1                                               41328             \n",
      "2                                               41636             \n",
      "3                                               41982             \n",
      "4                                               42229             \n",
      "5                                               42323             \n",
      "6                                               42732             \n",
      "7                                               42902             \n",
      "8                                               43062             \n",
      "9                                               43334             \n",
      "10                                              43575             \n",
      "11                                              43525             \n",
      "12                                              43577             \n",
      "13                                              43861             \n",
      "14                                              43880             \n",
      "\n",
      "    Other uncultivated Land excluding Fallow Land - Permanent pastures & other Grazing Lands (Col.8)  \\\n",
      "0                                               10662                                                  \n",
      "1                                               10528                                                  \n",
      "2                                               10450                                                  \n",
      "3                                               10484                                                  \n",
      "4                                               10452                                                  \n",
      "5                                               10444                                                  \n",
      "6                                               10418                                                  \n",
      "7                                               10362                                                  \n",
      "8                                               10344                                                  \n",
      "9                                               10340                                                  \n",
      "10                                              10305                                                  \n",
      "11                                              10314                                                  \n",
      "12                                              10256                                                  \n",
      "13                                              10258                                                  \n",
      "14                                              10258                                                  \n",
      "\n",
      "    Other uncultivated Land excluding Fallow Land - Land under Misc. tree crops & groves (not incl. in net area sown) (Col.9)  \\\n",
      "0                                                3445                                                                           \n",
      "1                                                3442                                                                           \n",
      "2                                                3431                                                                           \n",
      "3                                                3381                                                                           \n",
      "4                                                3362                                                                           \n",
      "5                                                3391                                                                           \n",
      "6                                                3351                                                                           \n",
      "7                                                3400                                                                           \n",
      "8                                                3343                                                                           \n",
      "9                                                3214                                                                           \n",
      "10                                               3200                                                                           \n",
      "11                                               3161                                                                           \n",
      "12                                               3182                                                                           \n",
      "13                                               3187                                                                           \n",
      "14                                               3104                                                                           \n",
      "\n",
      "    Other uncultivated Land excluding Fallow Land - Culturable waste Land (Col.10)  \\\n",
      "0                                               13631                                \n",
      "1                                               13520                                \n",
      "2                                               13651                                \n",
      "3                                               13241                                \n",
      "4                                               13272                                \n",
      "5                                               13225                                \n",
      "6                                               13274                                \n",
      "7                                               13044                                \n",
      "8                                               12735                                \n",
      "9                                               12945                                \n",
      "10                                              12647                                \n",
      "11                                              12637                                \n",
      "12                                              12643                                \n",
      "13                                              12388                                \n",
      "14                                              12469                                \n",
      "\n",
      "    Other uncultivated Land excluding Fallow Land - Total (Col.11 = Col.8 to Col.10)  \\\n",
      "0                                               27737                                  \n",
      "1                                               27489                                  \n",
      "2                                               27532                                  \n",
      "3                                               27106                                  \n",
      "4                                               27086                                  \n",
      "5                                               27060                                  \n",
      "6                                               27042                                  \n",
      "7                                               26806                                  \n",
      "8                                               26423                                  \n",
      "9                                               26499                                  \n",
      "10                                              26152                                  \n",
      "11                                              26111                                  \n",
      "12                                              26082                                  \n",
      "13                                              25832                                  \n",
      "14                                              25832                                  \n",
      "\n",
      "    Fallow Lands - Fallow Lands other than current fallows (Col.12)  \\\n",
      "0                                               10267                 \n",
      "1                                               10513                 \n",
      "2                                               11966                 \n",
      "3                                               11313                 \n",
      "4                                               10878                 \n",
      "5                                               10696                 \n",
      "6                                               10516                 \n",
      "7                                               10333                 \n",
      "8                                               10290                 \n",
      "9                                               10838                 \n",
      "10                                              10323                 \n",
      "11                                              10665                 \n",
      "12                                              11037                 \n",
      "13                                              10694                 \n",
      "14                                              11092                 \n",
      "\n",
      "    Fallow Lands - Current fallows (Col.13)  \\\n",
      "0                                     14777   \n",
      "1                                     15343   \n",
      "2                                     22459   \n",
      "3                                     14489   \n",
      "4                                     14792   \n",
      "5                                     14213   \n",
      "6                                     15512   \n",
      "7                                     14646   \n",
      "8                                     14192   \n",
      "9                                     16009   \n",
      "10                                    14277   \n",
      "11                                    14512   \n",
      "12                                    15287   \n",
      "13                                    14154   \n",
      "14                                    15091   \n",
      "\n",
      "    Fallow Lands - Total Col.14 = (Col.12+Col.13)  Net area Sown (Col.15)  \\\n",
      "0                                           25044                  141336   \n",
      "1                                           25856                  140734   \n",
      "2                                           34426                  131943   \n",
      "3                                           25802                  140708   \n",
      "4                                           25670                  140642   \n",
      "5                                           24908                  141162   \n",
      "6                                           26028                  139823   \n",
      "7                                           24979                  141016   \n",
      "8                                           24482                  141899   \n",
      "9                                           26847                  139173   \n",
      "10                                          24600                  141563   \n",
      "11                                          25177                  140980   \n",
      "12                                          26324                  139936   \n",
      "13                                          24848                  141427   \n",
      "14                                          26182                  140130   \n",
      "\n",
      "    Total cropped area (Col.16)  \\\n",
      "0                        185340   \n",
      "1                        188014   \n",
      "2                        173889   \n",
      "3                        189661   \n",
      "4                        191103   \n",
      "5                        192737   \n",
      "6                        192381   \n",
      "7                        195223   \n",
      "8                        195328   \n",
      "9                        189188   \n",
      "10                       197683   \n",
      "11                       195796   \n",
      "12                       194246   \n",
      "13                       200950   \n",
      "14                       198360   \n",
      "\n",
      "    Area sown more than once (Col.17 = Col.16-Col.15)  \\\n",
      "0                                               44005   \n",
      "1                                               47280   \n",
      "2                                               41947   \n",
      "3                                               48953   \n",
      "4                                               50461   \n",
      "5                                               51575   \n",
      "6                                               52558   \n",
      "7                                               54207   \n",
      "8                                               53429   \n",
      "9                                               50015   \n",
      "10                                              56120   \n",
      "11                                              54816   \n",
      "12                                              54310   \n",
      "13                                              59523   \n",
      "14                                              58230   \n",
      "\n",
      "    Agricultural Land/Cultivable Land/Culturable Land/Arable Land (Col.18 = Col.9+Col.10+Col.14+Col.15)  \\\n",
      "0                                              183455                                                     \n",
      "1                                              183552                                                     \n",
      "2                                              183450                                                     \n",
      "3                                              183132                                                     \n",
      "4                                              182946                                                     \n",
      "5                                              182686                                                     \n",
      "6                                              182476                                                     \n",
      "7                                              182438                                                     \n",
      "8                                              182459                                                     \n",
      "9                                              182179                                                     \n",
      "10                                             182010                                                     \n",
      "11                                             181955                                                     \n",
      "12                                             182085                                                     \n",
      "13                                             181850                                                     \n",
      "14                                             181886                                                     \n",
      "\n",
      "    Cultivated Land (Col.19 = Col.13+Col.15)  \\\n",
      "0                                     156113   \n",
      "1                                     156077   \n",
      "2                                     154402   \n",
      "3                                     155198   \n",
      "4                                     155434   \n",
      "5                                     155375   \n",
      "6                                     155334   \n",
      "7                                     155662   \n",
      "8                                     156091   \n",
      "9                                     155182   \n",
      "10                                    155840   \n",
      "11                                    155492   \n",
      "12                                    155223   \n",
      "13                                    155581   \n",
      "14                                    155221   \n",
      "\n",
      "    Cropping Intensity (Col.20 = % of Col.16 over Col.15)  \n",
      "0                                               131.1      \n",
      "1                                               133.6      \n",
      "2                                               131.8      \n",
      "3                                               134.8      \n",
      "4                                               135.9      \n",
      "5                                               136.5      \n",
      "6                                               137.6      \n",
      "7                                               138.4      \n",
      "8                                               137.7      \n",
      "9                                               135.9      \n",
      "10                                              139.6      \n",
      "11                                              138.9      \n",
      "12                                              138.8      \n",
      "13                                              142.0      \n",
      "14                                              141.6      \n"
     ]
    }
   ],
   "source": [
    "# In the same way that we have worked with csv files, we can work with\n",
    "# Excel file with the read_excel function, let’s see some examples:\n",
    "\n",
    "# In this example, we want to load the sheet 1 from an Excel file:\n",
    "\n",
    "import pandas as pd\n",
    "\n",
    "df = pd.read_excel('/home/bipinhyoju/Downloads/xls files/datafile.xls', sheet_name='Worksheet')\n",
    "\n",
    "print(df) \n",
    "\n",
    "# This simple operation, loads the Sheet 1 from the Excel file into the Pandas DataFrame."
   ]
  },
  {
   "cell_type": "markdown",
   "id": "90bb0c70",
   "metadata": {},
   "source": [
    "# 11.6 Indexing and Subsetting"
   ]
  },
  {
   "cell_type": "code",
   "execution_count": 59,
   "id": "e74a4d83",
   "metadata": {},
   "outputs": [],
   "source": [
    "# Once we have the Pandas DataFrame prepared, independent of the source\n",
    "# of our data (csv, Excel, hdf5, etc.) we can work with it, as if it were a\n",
    "# database table, selecting the elements that interest us. We will work with\n",
    "# some examples on how to index and extract subsets of data."
   ]
  },
  {
   "cell_type": "code",
   "execution_count": 60,
   "id": "e28a3db0",
   "metadata": {},
   "outputs": [],
   "source": [
    "# Let’s begin with loading a csv file having details of a market instrument."
   ]
  },
  {
   "cell_type": "code",
   "execution_count": 61,
   "id": "6a96c8b7",
   "metadata": {},
   "outputs": [
    {
     "name": "stdout",
     "output_type": "stream",
     "text": [
      "         Date   Open   High    Low  Close    Volume  Adj. Close*\n",
      "0   19-Sep-03  29.76  29.97  29.52  29.96  92433800        29.79\n",
      "1   18-Sep-03  28.49  29.51  28.42  29.50  67268096        29.34\n",
      "2   17-Sep-03  28.76  28.95  28.47  28.50  47221600        28.34\n",
      "3   16-Sep-03  28.41  28.95  28.32  28.90  52060600        28.74\n",
      "4   15-Sep-03  28.37  28.61  28.33  28.36  41432300        28.20\n",
      "..        ...    ...    ...    ...    ...       ...          ...\n",
      "60  25-Jun-03  25.64  25.99  25.14  25.26  60483500        25.12\n",
      "61  24-Jun-03  25.65  26.04  25.52  25.70  51820300        25.56\n",
      "62  23-Jun-03  26.14  26.24  25.49  25.78  52584500        25.64\n",
      "63  20-Jun-03  26.34  26.38  26.01  26.33  86048896        26.18\n",
      "64  19-Jun-03  26.09  26.39  26.01  26.07  63626900        25.92\n",
      "\n",
      "[65 rows x 7 columns]\n"
     ]
    }
   ],
   "source": [
    "import pandas as pd\n",
    "df=pd.read_csv('/home/bipinhyoju/Downloads/csv files/msft.csv')\n",
    "print(df)"
   ]
  },
  {
   "cell_type": "code",
   "execution_count": 62,
   "id": "1a34f4d0",
   "metadata": {},
   "outputs": [
    {
     "name": "stdout",
     "output_type": "stream",
     "text": [
      "         Date   Open   High    Low  Close\n",
      "0   19-Sep-03  29.76  29.97  29.52  29.96\n",
      "1   18-Sep-03  28.49  29.51  28.42  29.50\n",
      "2   17-Sep-03  28.76  28.95  28.47  28.50\n",
      "3   16-Sep-03  28.41  28.95  28.32  28.90\n",
      "4   15-Sep-03  28.37  28.61  28.33  28.36\n",
      "..        ...    ...    ...    ...    ...\n",
      "60  25-Jun-03  25.64  25.99  25.14  25.26\n",
      "61  24-Jun-03  25.65  26.04  25.52  25.70\n",
      "62  23-Jun-03  26.14  26.24  25.49  25.78\n",
      "63  20-Jun-03  26.34  26.38  26.01  26.33\n",
      "64  19-Jun-03  26.09  26.39  26.01  26.07\n",
      "\n",
      "[65 rows x 5 columns]\n"
     ]
    }
   ],
   "source": [
    "import pandas as pd\n",
    "df=pd.read_csv('/home/bipinhyoju/Downloads/csv files/msft.csv', usecols=[0, 1, 2, 3, 4])\n",
    "print(df)"
   ]
  },
  {
   "cell_type": "code",
   "execution_count": 63,
   "id": "d46b2a9b",
   "metadata": {},
   "outputs": [
    {
     "data": {
      "text/html": [
       "<div>\n",
       "<style scoped>\n",
       "    .dataframe tbody tr th:only-of-type {\n",
       "        vertical-align: middle;\n",
       "    }\n",
       "\n",
       "    .dataframe tbody tr th {\n",
       "        vertical-align: top;\n",
       "    }\n",
       "\n",
       "    .dataframe thead th {\n",
       "        text-align: right;\n",
       "    }\n",
       "</style>\n",
       "<table border=\"1\" class=\"dataframe\">\n",
       "  <thead>\n",
       "    <tr style=\"text-align: right;\">\n",
       "      <th></th>\n",
       "      <th>Date</th>\n",
       "      <th>Open</th>\n",
       "      <th>High</th>\n",
       "      <th>Low</th>\n",
       "      <th>Close</th>\n",
       "    </tr>\n",
       "  </thead>\n",
       "  <tbody>\n",
       "    <tr>\n",
       "      <th>0</th>\n",
       "      <td>19-Sep-03</td>\n",
       "      <td>29.76</td>\n",
       "      <td>29.97</td>\n",
       "      <td>29.52</td>\n",
       "      <td>29.96</td>\n",
       "    </tr>\n",
       "    <tr>\n",
       "      <th>1</th>\n",
       "      <td>18-Sep-03</td>\n",
       "      <td>28.49</td>\n",
       "      <td>29.51</td>\n",
       "      <td>28.42</td>\n",
       "      <td>29.50</td>\n",
       "    </tr>\n",
       "    <tr>\n",
       "      <th>2</th>\n",
       "      <td>17-Sep-03</td>\n",
       "      <td>28.76</td>\n",
       "      <td>28.95</td>\n",
       "      <td>28.47</td>\n",
       "      <td>28.50</td>\n",
       "    </tr>\n",
       "    <tr>\n",
       "      <th>3</th>\n",
       "      <td>16-Sep-03</td>\n",
       "      <td>28.41</td>\n",
       "      <td>28.95</td>\n",
       "      <td>28.32</td>\n",
       "      <td>28.90</td>\n",
       "    </tr>\n",
       "    <tr>\n",
       "      <th>4</th>\n",
       "      <td>15-Sep-03</td>\n",
       "      <td>28.37</td>\n",
       "      <td>28.61</td>\n",
       "      <td>28.33</td>\n",
       "      <td>28.36</td>\n",
       "    </tr>\n",
       "  </tbody>\n",
       "</table>\n",
       "</div>"
      ],
      "text/plain": [
       "        Date   Open   High    Low  Close\n",
       "0  19-Sep-03  29.76  29.97  29.52  29.96\n",
       "1  18-Sep-03  28.49  29.51  28.42  29.50\n",
       "2  17-Sep-03  28.76  28.95  28.47  28.50\n",
       "3  16-Sep-03  28.41  28.95  28.32  28.90\n",
       "4  15-Sep-03  28.37  28.61  28.33  28.36"
      ]
     },
     "execution_count": 63,
     "metadata": {},
     "output_type": "execute_result"
    }
   ],
   "source": [
    "import pandas as pd\n",
    "df=pd.read_csv('/home/bipinhyoju/Downloads/csv files/msft.csv', usecols=[0, 1, 2, 3, 4])\n",
    "df.head()"
   ]
  },
  {
   "cell_type": "code",
   "execution_count": 64,
   "id": "e3d4df15",
   "metadata": {},
   "outputs": [
    {
     "data": {
      "text/plain": [
       "(65, 5)"
      ]
     },
     "execution_count": 64,
     "metadata": {},
     "output_type": "execute_result"
    }
   ],
   "source": [
    "import pandas as pd\n",
    "df=pd.read_csv('/home/bipinhyoju/Downloads/csv files/msft.csv', usecols=[0, 1, 2, 3, 4])\n",
    "df.shape"
   ]
  },
  {
   "cell_type": "code",
   "execution_count": 65,
   "id": "b507c86b",
   "metadata": {},
   "outputs": [],
   "source": [
    "# Here, we have read a csv file, of which we only need the columns of date,\n",
    "# opening, closing, high and low (the first 5 columns) and we check the form\n",
    "# of the DataFrame that has 1000 rows and 5 columns."
   ]
  },
  {
   "cell_type": "markdown",
   "id": "2f09ae99",
   "metadata": {},
   "source": []
  },
  {
   "cell_type": "markdown",
   "id": "71daf772",
   "metadata": {},
   "source": [
    "# 11.6.1 Selecting a single column"
   ]
  },
  {
   "cell_type": "code",
   "execution_count": 66,
   "id": "1c82572d",
   "metadata": {},
   "outputs": [],
   "source": [
    "# In the previous code, we have read directly the first 5 columns from the\n",
    "# csv file. This is a filter that we applied, because we were only interested in\n",
    "# those columns.\n",
    "# We can apply selection filters to the DataFrame itself, to select one column\n",
    "# to work with. For example, we could need the Close column:"
   ]
  },
  {
   "cell_type": "code",
   "execution_count": 67,
   "id": "291d8789",
   "metadata": {},
   "outputs": [
    {
     "data": {
      "text/plain": [
       "0    29.96\n",
       "1    29.50\n",
       "2    28.50\n",
       "3    28.90\n",
       "4    28.36\n",
       "Name: Close, dtype: float64"
      ]
     },
     "execution_count": 67,
     "metadata": {},
     "output_type": "execute_result"
    }
   ],
   "source": [
    "close = df['Close']\n",
    "close.head()"
   ]
  },
  {
   "cell_type": "markdown",
   "id": "54958c02",
   "metadata": {},
   "source": [
    "# 11.6.2 Selecting multiple columns"
   ]
  },
  {
   "cell_type": "code",
   "execution_count": 68,
   "id": "035e2113",
   "metadata": {},
   "outputs": [
    {
     "name": "stdout",
     "output_type": "stream",
     "text": [
      "         Date   Open   High    Low  Close    Volume  Adj. Close*\n",
      "0   19-Sep-03  29.76  29.97  29.52  29.96  92433800        29.79\n",
      "1   18-Sep-03  28.49  29.51  28.42  29.50  67268096        29.34\n",
      "2   17-Sep-03  28.76  28.95  28.47  28.50  47221600        28.34\n",
      "3   16-Sep-03  28.41  28.95  28.32  28.90  52060600        28.74\n",
      "4   15-Sep-03  28.37  28.61  28.33  28.36  41432300        28.20\n",
      "..        ...    ...    ...    ...    ...       ...          ...\n",
      "60  25-Jun-03  25.64  25.99  25.14  25.26  60483500        25.12\n",
      "61  24-Jun-03  25.65  26.04  25.52  25.70  51820300        25.56\n",
      "62  23-Jun-03  26.14  26.24  25.49  25.78  52584500        25.64\n",
      "63  20-Jun-03  26.34  26.38  26.01  26.33  86048896        26.18\n",
      "64  19-Jun-03  26.09  26.39  26.01  26.07  63626900        25.92\n",
      "\n",
      "[65 rows x 7 columns]\n"
     ]
    }
   ],
   "source": [
    "import pandas as pd\n",
    "df=pd.read_csv('/home/bipinhyoju/Downloads/csv files/msft.csv')\n",
    "print(df)"
   ]
  },
  {
   "cell_type": "markdown",
   "id": "9ba79ba8",
   "metadata": {},
   "source": []
  },
  {
   "cell_type": "code",
   "execution_count": 69,
   "id": "9e04d21d",
   "metadata": {},
   "outputs": [
    {
     "data": {
      "text/html": [
       "<div>\n",
       "<style scoped>\n",
       "    .dataframe tbody tr th:only-of-type {\n",
       "        vertical-align: middle;\n",
       "    }\n",
       "\n",
       "    .dataframe tbody tr th {\n",
       "        vertical-align: top;\n",
       "    }\n",
       "\n",
       "    .dataframe thead th {\n",
       "        text-align: right;\n",
       "    }\n",
       "</style>\n",
       "<table border=\"1\" class=\"dataframe\">\n",
       "  <thead>\n",
       "    <tr style=\"text-align: right;\">\n",
       "      <th></th>\n",
       "      <th>Close</th>\n",
       "      <th>Volume</th>\n",
       "    </tr>\n",
       "  </thead>\n",
       "  <tbody>\n",
       "    <tr>\n",
       "      <th>0</th>\n",
       "      <td>29.96</td>\n",
       "      <td>92433800</td>\n",
       "    </tr>\n",
       "    <tr>\n",
       "      <th>1</th>\n",
       "      <td>29.50</td>\n",
       "      <td>67268096</td>\n",
       "    </tr>\n",
       "    <tr>\n",
       "      <th>2</th>\n",
       "      <td>28.50</td>\n",
       "      <td>47221600</td>\n",
       "    </tr>\n",
       "    <tr>\n",
       "      <th>3</th>\n",
       "      <td>28.90</td>\n",
       "      <td>52060600</td>\n",
       "    </tr>\n",
       "    <tr>\n",
       "      <th>4</th>\n",
       "      <td>28.36</td>\n",
       "      <td>41432300</td>\n",
       "    </tr>\n",
       "  </tbody>\n",
       "</table>\n",
       "</div>"
      ],
      "text/plain": [
       "   Close    Volume\n",
       "0  29.96  92433800\n",
       "1  29.50  67268096\n",
       "2  28.50  47221600\n",
       "3  28.90  52060600\n",
       "4  28.36  41432300"
      ]
     },
     "execution_count": 69,
     "metadata": {},
     "output_type": "execute_result"
    }
   ],
   "source": [
    "# We can select multiple columns too:\n",
    "closevol = df[['Close', 'Volume']]\n",
    "closevol.head()"
   ]
  },
  {
   "cell_type": "code",
   "execution_count": 70,
   "id": "955318dc",
   "metadata": {},
   "outputs": [
    {
     "data": {
      "text/html": [
       "<div>\n",
       "<style scoped>\n",
       "    .dataframe tbody tr th:only-of-type {\n",
       "        vertical-align: middle;\n",
       "    }\n",
       "\n",
       "    .dataframe tbody tr th {\n",
       "        vertical-align: top;\n",
       "    }\n",
       "\n",
       "    .dataframe thead th {\n",
       "        text-align: right;\n",
       "    }\n",
       "</style>\n",
       "<table border=\"1\" class=\"dataframe\">\n",
       "  <thead>\n",
       "    <tr style=\"text-align: right;\">\n",
       "      <th></th>\n",
       "      <th>Date</th>\n",
       "      <th>Open</th>\n",
       "      <th>High</th>\n",
       "      <th>Low</th>\n",
       "      <th>Close</th>\n",
       "      <th>Volume</th>\n",
       "      <th>Dividends</th>\n",
       "      <th>Stock Splits</th>\n",
       "    </tr>\n",
       "  </thead>\n",
       "  <tbody>\n",
       "    <tr>\n",
       "      <th>100</th>\n",
       "      <td>2019-10-11</td>\n",
       "      <td>49.430000</td>\n",
       "      <td>50.216000</td>\n",
       "      <td>49.362000</td>\n",
       "      <td>49.577999</td>\n",
       "      <td>42377000</td>\n",
       "      <td>0</td>\n",
       "      <td>0.0</td>\n",
       "    </tr>\n",
       "    <tr>\n",
       "      <th>101</th>\n",
       "      <td>2019-10-14</td>\n",
       "      <td>49.580002</td>\n",
       "      <td>51.709999</td>\n",
       "      <td>49.425999</td>\n",
       "      <td>51.391998</td>\n",
       "      <td>51025000</td>\n",
       "      <td>0</td>\n",
       "      <td>0.0</td>\n",
       "    </tr>\n",
       "    <tr>\n",
       "      <th>102</th>\n",
       "      <td>2019-10-15</td>\n",
       "      <td>51.540001</td>\n",
       "      <td>52.000000</td>\n",
       "      <td>50.824001</td>\n",
       "      <td>51.577999</td>\n",
       "      <td>32164000</td>\n",
       "      <td>0</td>\n",
       "      <td>0.0</td>\n",
       "    </tr>\n",
       "    <tr>\n",
       "      <th>103</th>\n",
       "      <td>2019-10-16</td>\n",
       "      <td>51.478001</td>\n",
       "      <td>52.419998</td>\n",
       "      <td>51.383999</td>\n",
       "      <td>51.950001</td>\n",
       "      <td>33420500</td>\n",
       "      <td>0</td>\n",
       "      <td>0.0</td>\n",
       "    </tr>\n",
       "    <tr>\n",
       "      <th>104</th>\n",
       "      <td>2019-10-17</td>\n",
       "      <td>52.500000</td>\n",
       "      <td>52.956001</td>\n",
       "      <td>52.034000</td>\n",
       "      <td>52.394001</td>\n",
       "      <td>23846500</td>\n",
       "      <td>0</td>\n",
       "      <td>0.0</td>\n",
       "    </tr>\n",
       "    <tr>\n",
       "      <th>105</th>\n",
       "      <td>2019-10-18</td>\n",
       "      <td>52.139999</td>\n",
       "      <td>52.560001</td>\n",
       "      <td>51.020000</td>\n",
       "      <td>51.389999</td>\n",
       "      <td>28749000</td>\n",
       "      <td>0</td>\n",
       "      <td>0.0</td>\n",
       "    </tr>\n",
       "    <tr>\n",
       "      <th>106</th>\n",
       "      <td>2019-10-21</td>\n",
       "      <td>51.666000</td>\n",
       "      <td>51.900002</td>\n",
       "      <td>50.035999</td>\n",
       "      <td>50.700001</td>\n",
       "      <td>25101500</td>\n",
       "      <td>0</td>\n",
       "      <td>0.0</td>\n",
       "    </tr>\n",
       "    <tr>\n",
       "      <th>107</th>\n",
       "      <td>2019-10-22</td>\n",
       "      <td>50.863998</td>\n",
       "      <td>51.666000</td>\n",
       "      <td>50.169998</td>\n",
       "      <td>51.116001</td>\n",
       "      <td>23004000</td>\n",
       "      <td>0</td>\n",
       "      <td>0.0</td>\n",
       "    </tr>\n",
       "    <tr>\n",
       "      <th>108</th>\n",
       "      <td>2019-10-23</td>\n",
       "      <td>50.900002</td>\n",
       "      <td>51.228001</td>\n",
       "      <td>50.270000</td>\n",
       "      <td>50.936001</td>\n",
       "      <td>26305500</td>\n",
       "      <td>0</td>\n",
       "      <td>0.0</td>\n",
       "    </tr>\n",
       "    <tr>\n",
       "      <th>109</th>\n",
       "      <td>2019-10-24</td>\n",
       "      <td>59.674000</td>\n",
       "      <td>60.986000</td>\n",
       "      <td>57.840000</td>\n",
       "      <td>59.936001</td>\n",
       "      <td>148604500</td>\n",
       "      <td>0</td>\n",
       "      <td>0.0</td>\n",
       "    </tr>\n",
       "  </tbody>\n",
       "</table>\n",
       "</div>"
      ],
      "text/plain": [
       "           Date       Open       High        Low      Close     Volume  \\\n",
       "100  2019-10-11  49.430000  50.216000  49.362000  49.577999   42377000   \n",
       "101  2019-10-14  49.580002  51.709999  49.425999  51.391998   51025000   \n",
       "102  2019-10-15  51.540001  52.000000  50.824001  51.577999   32164000   \n",
       "103  2019-10-16  51.478001  52.419998  51.383999  51.950001   33420500   \n",
       "104  2019-10-17  52.500000  52.956001  52.034000  52.394001   23846500   \n",
       "105  2019-10-18  52.139999  52.560001  51.020000  51.389999   28749000   \n",
       "106  2019-10-21  51.666000  51.900002  50.035999  50.700001   25101500   \n",
       "107  2019-10-22  50.863998  51.666000  50.169998  51.116001   23004000   \n",
       "108  2019-10-23  50.900002  51.228001  50.270000  50.936001   26305500   \n",
       "109  2019-10-24  59.674000  60.986000  57.840000  59.936001  148604500   \n",
       "\n",
       "     Dividends  Stock Splits  \n",
       "100          0           0.0  \n",
       "101          0           0.0  \n",
       "102          0           0.0  \n",
       "103          0           0.0  \n",
       "104          0           0.0  \n",
       "105          0           0.0  \n",
       "106          0           0.0  \n",
       "107          0           0.0  \n",
       "108          0           0.0  \n",
       "109          0           0.0  "
      ]
     },
     "execution_count": 70,
     "metadata": {},
     "output_type": "execute_result"
    }
   ],
   "source": [
    "# 11.6.3 Selecting rows via []\n",
    "# We can select a set of rows by index:\n",
    "import pandas as pd \n",
    "df= pd.read_csv('/home/bipinhyoju/Downloads/csv files/TSLA.csv')\n",
    "df[100:110]"
   ]
  },
  {
   "cell_type": "code",
   "execution_count": 71,
   "id": "676bcc5b",
   "metadata": {},
   "outputs": [
    {
     "data": {
      "text/html": [
       "<div>\n",
       "<style scoped>\n",
       "    .dataframe tbody tr th:only-of-type {\n",
       "        vertical-align: middle;\n",
       "    }\n",
       "\n",
       "    .dataframe tbody tr th {\n",
       "        vertical-align: top;\n",
       "    }\n",
       "\n",
       "    .dataframe thead th {\n",
       "        text-align: right;\n",
       "    }\n",
       "</style>\n",
       "<table border=\"1\" class=\"dataframe\">\n",
       "  <thead>\n",
       "    <tr style=\"text-align: right;\">\n",
       "      <th></th>\n",
       "      <th>Close</th>\n",
       "      <th>Volume</th>\n",
       "    </tr>\n",
       "  </thead>\n",
       "  <tbody>\n",
       "    <tr>\n",
       "      <th>100</th>\n",
       "      <td>49.577999</td>\n",
       "      <td>42377000</td>\n",
       "    </tr>\n",
       "    <tr>\n",
       "      <th>101</th>\n",
       "      <td>51.391998</td>\n",
       "      <td>51025000</td>\n",
       "    </tr>\n",
       "    <tr>\n",
       "      <th>102</th>\n",
       "      <td>51.577999</td>\n",
       "      <td>32164000</td>\n",
       "    </tr>\n",
       "    <tr>\n",
       "      <th>103</th>\n",
       "      <td>51.950001</td>\n",
       "      <td>33420500</td>\n",
       "    </tr>\n",
       "    <tr>\n",
       "      <th>104</th>\n",
       "      <td>52.394001</td>\n",
       "      <td>23846500</td>\n",
       "    </tr>\n",
       "    <tr>\n",
       "      <th>105</th>\n",
       "      <td>51.389999</td>\n",
       "      <td>28749000</td>\n",
       "    </tr>\n",
       "    <tr>\n",
       "      <th>106</th>\n",
       "      <td>50.700001</td>\n",
       "      <td>25101500</td>\n",
       "    </tr>\n",
       "    <tr>\n",
       "      <th>107</th>\n",
       "      <td>51.116001</td>\n",
       "      <td>23004000</td>\n",
       "    </tr>\n",
       "    <tr>\n",
       "      <th>108</th>\n",
       "      <td>50.936001</td>\n",
       "      <td>26305500</td>\n",
       "    </tr>\n",
       "    <tr>\n",
       "      <th>109</th>\n",
       "      <td>59.936001</td>\n",
       "      <td>148604500</td>\n",
       "    </tr>\n",
       "  </tbody>\n",
       "</table>\n",
       "</div>"
      ],
      "text/plain": [
       "         Close     Volume\n",
       "100  49.577999   42377000\n",
       "101  51.391998   51025000\n",
       "102  51.577999   32164000\n",
       "103  51.950001   33420500\n",
       "104  52.394001   23846500\n",
       "105  51.389999   28749000\n",
       "106  50.700001   25101500\n",
       "107  51.116001   23004000\n",
       "108  50.936001   26305500\n",
       "109  59.936001  148604500"
      ]
     },
     "execution_count": 71,
     "metadata": {},
     "output_type": "execute_result"
    }
   ],
   "source": [
    "# Or we can select a set of rows and columns:\n",
    "df[100:110][['Close', 'Volume']]"
   ]
  },
  {
   "cell_type": "code",
   "execution_count": 72,
   "id": "56d8f227",
   "metadata": {},
   "outputs": [
    {
     "data": {
      "text/html": [
       "<div>\n",
       "<style scoped>\n",
       "    .dataframe tbody tr th:only-of-type {\n",
       "        vertical-align: middle;\n",
       "    }\n",
       "\n",
       "    .dataframe tbody tr th {\n",
       "        vertical-align: top;\n",
       "    }\n",
       "\n",
       "    .dataframe thead th {\n",
       "        text-align: right;\n",
       "    }\n",
       "</style>\n",
       "<table border=\"1\" class=\"dataframe\">\n",
       "  <thead>\n",
       "    <tr style=\"text-align: right;\">\n",
       "      <th></th>\n",
       "      <th>Date</th>\n",
       "      <th>Open</th>\n",
       "      <th>High</th>\n",
       "      <th>Low</th>\n",
       "      <th>Close</th>\n",
       "      <th>Volume</th>\n",
       "      <th>Dividends</th>\n",
       "      <th>Stock Splits</th>\n",
       "    </tr>\n",
       "  </thead>\n",
       "  <tbody>\n",
       "    <tr>\n",
       "      <th>100</th>\n",
       "      <td>2019-10-11</td>\n",
       "      <td>49.430000</td>\n",
       "      <td>50.216000</td>\n",
       "      <td>49.362000</td>\n",
       "      <td>49.577999</td>\n",
       "      <td>42377000</td>\n",
       "      <td>0</td>\n",
       "      <td>0.0</td>\n",
       "    </tr>\n",
       "    <tr>\n",
       "      <th>101</th>\n",
       "      <td>2019-10-14</td>\n",
       "      <td>49.580002</td>\n",
       "      <td>51.709999</td>\n",
       "      <td>49.425999</td>\n",
       "      <td>51.391998</td>\n",
       "      <td>51025000</td>\n",
       "      <td>0</td>\n",
       "      <td>0.0</td>\n",
       "    </tr>\n",
       "    <tr>\n",
       "      <th>102</th>\n",
       "      <td>2019-10-15</td>\n",
       "      <td>51.540001</td>\n",
       "      <td>52.000000</td>\n",
       "      <td>50.824001</td>\n",
       "      <td>51.577999</td>\n",
       "      <td>32164000</td>\n",
       "      <td>0</td>\n",
       "      <td>0.0</td>\n",
       "    </tr>\n",
       "    <tr>\n",
       "      <th>103</th>\n",
       "      <td>2019-10-16</td>\n",
       "      <td>51.478001</td>\n",
       "      <td>52.419998</td>\n",
       "      <td>51.383999</td>\n",
       "      <td>51.950001</td>\n",
       "      <td>33420500</td>\n",
       "      <td>0</td>\n",
       "      <td>0.0</td>\n",
       "    </tr>\n",
       "    <tr>\n",
       "      <th>104</th>\n",
       "      <td>2019-10-17</td>\n",
       "      <td>52.500000</td>\n",
       "      <td>52.956001</td>\n",
       "      <td>52.034000</td>\n",
       "      <td>52.394001</td>\n",
       "      <td>23846500</td>\n",
       "      <td>0</td>\n",
       "      <td>0.0</td>\n",
       "    </tr>\n",
       "    <tr>\n",
       "      <th>105</th>\n",
       "      <td>2019-10-18</td>\n",
       "      <td>52.139999</td>\n",
       "      <td>52.560001</td>\n",
       "      <td>51.020000</td>\n",
       "      <td>51.389999</td>\n",
       "      <td>28749000</td>\n",
       "      <td>0</td>\n",
       "      <td>0.0</td>\n",
       "    </tr>\n",
       "    <tr>\n",
       "      <th>106</th>\n",
       "      <td>2019-10-21</td>\n",
       "      <td>51.666000</td>\n",
       "      <td>51.900002</td>\n",
       "      <td>50.035999</td>\n",
       "      <td>50.700001</td>\n",
       "      <td>25101500</td>\n",
       "      <td>0</td>\n",
       "      <td>0.0</td>\n",
       "    </tr>\n",
       "    <tr>\n",
       "      <th>107</th>\n",
       "      <td>2019-10-22</td>\n",
       "      <td>50.863998</td>\n",
       "      <td>51.666000</td>\n",
       "      <td>50.169998</td>\n",
       "      <td>51.116001</td>\n",
       "      <td>23004000</td>\n",
       "      <td>0</td>\n",
       "      <td>0.0</td>\n",
       "    </tr>\n",
       "    <tr>\n",
       "      <th>108</th>\n",
       "      <td>2019-10-23</td>\n",
       "      <td>50.900002</td>\n",
       "      <td>51.228001</td>\n",
       "      <td>50.270000</td>\n",
       "      <td>50.936001</td>\n",
       "      <td>26305500</td>\n",
       "      <td>0</td>\n",
       "      <td>0.0</td>\n",
       "    </tr>\n",
       "    <tr>\n",
       "      <th>109</th>\n",
       "      <td>2019-10-24</td>\n",
       "      <td>59.674000</td>\n",
       "      <td>60.986000</td>\n",
       "      <td>57.840000</td>\n",
       "      <td>59.936001</td>\n",
       "      <td>148604500</td>\n",
       "      <td>0</td>\n",
       "      <td>0.0</td>\n",
       "    </tr>\n",
       "    <tr>\n",
       "      <th>110</th>\n",
       "      <td>2019-10-25</td>\n",
       "      <td>59.543999</td>\n",
       "      <td>66.000000</td>\n",
       "      <td>59.222000</td>\n",
       "      <td>65.625999</td>\n",
       "      <td>150030500</td>\n",
       "      <td>0</td>\n",
       "      <td>0.0</td>\n",
       "    </tr>\n",
       "  </tbody>\n",
       "</table>\n",
       "</div>"
      ],
      "text/plain": [
       "           Date       Open       High        Low      Close     Volume  \\\n",
       "100  2019-10-11  49.430000  50.216000  49.362000  49.577999   42377000   \n",
       "101  2019-10-14  49.580002  51.709999  49.425999  51.391998   51025000   \n",
       "102  2019-10-15  51.540001  52.000000  50.824001  51.577999   32164000   \n",
       "103  2019-10-16  51.478001  52.419998  51.383999  51.950001   33420500   \n",
       "104  2019-10-17  52.500000  52.956001  52.034000  52.394001   23846500   \n",
       "105  2019-10-18  52.139999  52.560001  51.020000  51.389999   28749000   \n",
       "106  2019-10-21  51.666000  51.900002  50.035999  50.700001   25101500   \n",
       "107  2019-10-22  50.863998  51.666000  50.169998  51.116001   23004000   \n",
       "108  2019-10-23  50.900002  51.228001  50.270000  50.936001   26305500   \n",
       "109  2019-10-24  59.674000  60.986000  57.840000  59.936001  148604500   \n",
       "110  2019-10-25  59.543999  66.000000  59.222000  65.625999  150030500   \n",
       "\n",
       "     Dividends  Stock Splits  \n",
       "100          0           0.0  \n",
       "101          0           0.0  \n",
       "102          0           0.0  \n",
       "103          0           0.0  \n",
       "104          0           0.0  \n",
       "105          0           0.0  \n",
       "106          0           0.0  \n",
       "107          0           0.0  \n",
       "108          0           0.0  \n",
       "109          0           0.0  \n",
       "110          0           0.0  "
      ]
     },
     "execution_count": 72,
     "metadata": {},
     "output_type": "execute_result"
    }
   ],
   "source": [
    "# 11.6.4 Selecting via .loc[] (By label)\n",
    "\n",
    "# With df.loc we can do the same selections using labels:\n",
    "# To select a set of rows, we can code the following using the index number as label:\n",
    "\n",
    "df.loc[100:110]"
   ]
  },
  {
   "cell_type": "code",
   "execution_count": 73,
   "id": "d04b85b6",
   "metadata": {},
   "outputs": [
    {
     "data": {
      "text/html": [
       "<div>\n",
       "<style scoped>\n",
       "    .dataframe tbody tr th:only-of-type {\n",
       "        vertical-align: middle;\n",
       "    }\n",
       "\n",
       "    .dataframe tbody tr th {\n",
       "        vertical-align: top;\n",
       "    }\n",
       "\n",
       "    .dataframe thead th {\n",
       "        text-align: right;\n",
       "    }\n",
       "</style>\n",
       "<table border=\"1\" class=\"dataframe\">\n",
       "  <thead>\n",
       "    <tr style=\"text-align: right;\">\n",
       "      <th></th>\n",
       "      <th>Close</th>\n",
       "      <th>Volume</th>\n",
       "    </tr>\n",
       "  </thead>\n",
       "  <tbody>\n",
       "    <tr>\n",
       "      <th>100</th>\n",
       "      <td>49.577999</td>\n",
       "      <td>42377000</td>\n",
       "    </tr>\n",
       "    <tr>\n",
       "      <th>101</th>\n",
       "      <td>51.391998</td>\n",
       "      <td>51025000</td>\n",
       "    </tr>\n",
       "    <tr>\n",
       "      <th>102</th>\n",
       "      <td>51.577999</td>\n",
       "      <td>32164000</td>\n",
       "    </tr>\n",
       "    <tr>\n",
       "      <th>103</th>\n",
       "      <td>51.950001</td>\n",
       "      <td>33420500</td>\n",
       "    </tr>\n",
       "    <tr>\n",
       "      <th>104</th>\n",
       "      <td>52.394001</td>\n",
       "      <td>23846500</td>\n",
       "    </tr>\n",
       "    <tr>\n",
       "      <th>105</th>\n",
       "      <td>51.389999</td>\n",
       "      <td>28749000</td>\n",
       "    </tr>\n",
       "    <tr>\n",
       "      <th>106</th>\n",
       "      <td>50.700001</td>\n",
       "      <td>25101500</td>\n",
       "    </tr>\n",
       "    <tr>\n",
       "      <th>107</th>\n",
       "      <td>51.116001</td>\n",
       "      <td>23004000</td>\n",
       "    </tr>\n",
       "    <tr>\n",
       "      <th>108</th>\n",
       "      <td>50.936001</td>\n",
       "      <td>26305500</td>\n",
       "    </tr>\n",
       "    <tr>\n",
       "      <th>109</th>\n",
       "      <td>59.936001</td>\n",
       "      <td>148604500</td>\n",
       "    </tr>\n",
       "    <tr>\n",
       "      <th>110</th>\n",
       "      <td>65.625999</td>\n",
       "      <td>150030500</td>\n",
       "    </tr>\n",
       "  </tbody>\n",
       "</table>\n",
       "</div>"
      ],
      "text/plain": [
       "         Close     Volume\n",
       "100  49.577999   42377000\n",
       "101  51.391998   51025000\n",
       "102  51.577999   32164000\n",
       "103  51.950001   33420500\n",
       "104  52.394001   23846500\n",
       "105  51.389999   28749000\n",
       "106  50.700001   25101500\n",
       "107  51.116001   23004000\n",
       "108  50.936001   26305500\n",
       "109  59.936001  148604500\n",
       "110  65.625999  150030500"
      ]
     },
     "execution_count": 73,
     "metadata": {},
     "output_type": "execute_result"
    }
   ],
   "source": [
    "# Or we can select a set of rows and columns like before:\n",
    "df.loc[100:110, ['Close', 'Volume']]"
   ]
  },
  {
   "cell_type": "markdown",
   "id": "c743d584",
   "metadata": {},
   "source": [
    "# 11.6.5 Selecting via .iloc[] (By position)"
   ]
  },
  {
   "cell_type": "code",
   "execution_count": 74,
   "id": "d43118b1",
   "metadata": {},
   "outputs": [
    {
     "data": {
      "text/html": [
       "<div>\n",
       "<style scoped>\n",
       "    .dataframe tbody tr th:only-of-type {\n",
       "        vertical-align: middle;\n",
       "    }\n",
       "\n",
       "    .dataframe tbody tr th {\n",
       "        vertical-align: top;\n",
       "    }\n",
       "\n",
       "    .dataframe thead th {\n",
       "        text-align: right;\n",
       "    }\n",
       "</style>\n",
       "<table border=\"1\" class=\"dataframe\">\n",
       "  <thead>\n",
       "    <tr style=\"text-align: right;\">\n",
       "      <th></th>\n",
       "      <th>Date</th>\n",
       "      <th>Open</th>\n",
       "      <th>High</th>\n",
       "      <th>Low</th>\n",
       "      <th>Close</th>\n",
       "      <th>Volume</th>\n",
       "      <th>Dividends</th>\n",
       "      <th>Stock Splits</th>\n",
       "    </tr>\n",
       "  </thead>\n",
       "  <tbody>\n",
       "    <tr>\n",
       "      <th>100</th>\n",
       "      <td>2019-10-11</td>\n",
       "      <td>49.430000</td>\n",
       "      <td>50.216000</td>\n",
       "      <td>49.362000</td>\n",
       "      <td>49.577999</td>\n",
       "      <td>42377000</td>\n",
       "      <td>0</td>\n",
       "      <td>0.0</td>\n",
       "    </tr>\n",
       "    <tr>\n",
       "      <th>101</th>\n",
       "      <td>2019-10-14</td>\n",
       "      <td>49.580002</td>\n",
       "      <td>51.709999</td>\n",
       "      <td>49.425999</td>\n",
       "      <td>51.391998</td>\n",
       "      <td>51025000</td>\n",
       "      <td>0</td>\n",
       "      <td>0.0</td>\n",
       "    </tr>\n",
       "    <tr>\n",
       "      <th>102</th>\n",
       "      <td>2019-10-15</td>\n",
       "      <td>51.540001</td>\n",
       "      <td>52.000000</td>\n",
       "      <td>50.824001</td>\n",
       "      <td>51.577999</td>\n",
       "      <td>32164000</td>\n",
       "      <td>0</td>\n",
       "      <td>0.0</td>\n",
       "    </tr>\n",
       "    <tr>\n",
       "      <th>103</th>\n",
       "      <td>2019-10-16</td>\n",
       "      <td>51.478001</td>\n",
       "      <td>52.419998</td>\n",
       "      <td>51.383999</td>\n",
       "      <td>51.950001</td>\n",
       "      <td>33420500</td>\n",
       "      <td>0</td>\n",
       "      <td>0.0</td>\n",
       "    </tr>\n",
       "    <tr>\n",
       "      <th>104</th>\n",
       "      <td>2019-10-17</td>\n",
       "      <td>52.500000</td>\n",
       "      <td>52.956001</td>\n",
       "      <td>52.034000</td>\n",
       "      <td>52.394001</td>\n",
       "      <td>23846500</td>\n",
       "      <td>0</td>\n",
       "      <td>0.0</td>\n",
       "    </tr>\n",
       "    <tr>\n",
       "      <th>105</th>\n",
       "      <td>2019-10-18</td>\n",
       "      <td>52.139999</td>\n",
       "      <td>52.560001</td>\n",
       "      <td>51.020000</td>\n",
       "      <td>51.389999</td>\n",
       "      <td>28749000</td>\n",
       "      <td>0</td>\n",
       "      <td>0.0</td>\n",
       "    </tr>\n",
       "    <tr>\n",
       "      <th>106</th>\n",
       "      <td>2019-10-21</td>\n",
       "      <td>51.666000</td>\n",
       "      <td>51.900002</td>\n",
       "      <td>50.035999</td>\n",
       "      <td>50.700001</td>\n",
       "      <td>25101500</td>\n",
       "      <td>0</td>\n",
       "      <td>0.0</td>\n",
       "    </tr>\n",
       "    <tr>\n",
       "      <th>107</th>\n",
       "      <td>2019-10-22</td>\n",
       "      <td>50.863998</td>\n",
       "      <td>51.666000</td>\n",
       "      <td>50.169998</td>\n",
       "      <td>51.116001</td>\n",
       "      <td>23004000</td>\n",
       "      <td>0</td>\n",
       "      <td>0.0</td>\n",
       "    </tr>\n",
       "    <tr>\n",
       "      <th>108</th>\n",
       "      <td>2019-10-23</td>\n",
       "      <td>50.900002</td>\n",
       "      <td>51.228001</td>\n",
       "      <td>50.270000</td>\n",
       "      <td>50.936001</td>\n",
       "      <td>26305500</td>\n",
       "      <td>0</td>\n",
       "      <td>0.0</td>\n",
       "    </tr>\n",
       "    <tr>\n",
       "      <th>109</th>\n",
       "      <td>2019-10-24</td>\n",
       "      <td>59.674000</td>\n",
       "      <td>60.986000</td>\n",
       "      <td>57.840000</td>\n",
       "      <td>59.936001</td>\n",
       "      <td>148604500</td>\n",
       "      <td>0</td>\n",
       "      <td>0.0</td>\n",
       "    </tr>\n",
       "  </tbody>\n",
       "</table>\n",
       "</div>"
      ],
      "text/plain": [
       "           Date       Open       High        Low      Close     Volume  \\\n",
       "100  2019-10-11  49.430000  50.216000  49.362000  49.577999   42377000   \n",
       "101  2019-10-14  49.580002  51.709999  49.425999  51.391998   51025000   \n",
       "102  2019-10-15  51.540001  52.000000  50.824001  51.577999   32164000   \n",
       "103  2019-10-16  51.478001  52.419998  51.383999  51.950001   33420500   \n",
       "104  2019-10-17  52.500000  52.956001  52.034000  52.394001   23846500   \n",
       "105  2019-10-18  52.139999  52.560001  51.020000  51.389999   28749000   \n",
       "106  2019-10-21  51.666000  51.900002  50.035999  50.700001   25101500   \n",
       "107  2019-10-22  50.863998  51.666000  50.169998  51.116001   23004000   \n",
       "108  2019-10-23  50.900002  51.228001  50.270000  50.936001   26305500   \n",
       "109  2019-10-24  59.674000  60.986000  57.840000  59.936001  148604500   \n",
       "\n",
       "     Dividends  Stock Splits  \n",
       "100          0           0.0  \n",
       "101          0           0.0  \n",
       "102          0           0.0  \n",
       "103          0           0.0  \n",
       "104          0           0.0  \n",
       "105          0           0.0  \n",
       "106          0           0.0  \n",
       "107          0           0.0  \n",
       "108          0           0.0  \n",
       "109          0           0.0  "
      ]
     },
     "execution_count": 74,
     "metadata": {},
     "output_type": "execute_result"
    }
   ],
   "source": [
    "# With df.iloc we can do the same selections using integer position:\n",
    "df.iloc[100:110]"
   ]
  },
  {
   "cell_type": "code",
   "execution_count": 75,
   "id": "bd9f7c02",
   "metadata": {},
   "outputs": [
    {
     "data": {
      "text/html": [
       "<div>\n",
       "<style scoped>\n",
       "    .dataframe tbody tr th:only-of-type {\n",
       "        vertical-align: middle;\n",
       "    }\n",
       "\n",
       "    .dataframe tbody tr th {\n",
       "        vertical-align: top;\n",
       "    }\n",
       "\n",
       "    .dataframe thead th {\n",
       "        text-align: right;\n",
       "    }\n",
       "</style>\n",
       "<table border=\"1\" class=\"dataframe\">\n",
       "  <thead>\n",
       "    <tr style=\"text-align: right;\">\n",
       "      <th></th>\n",
       "      <th>Low</th>\n",
       "      <th>Close</th>\n",
       "    </tr>\n",
       "  </thead>\n",
       "  <tbody>\n",
       "    <tr>\n",
       "      <th>100</th>\n",
       "      <td>49.362000</td>\n",
       "      <td>49.577999</td>\n",
       "    </tr>\n",
       "    <tr>\n",
       "      <th>101</th>\n",
       "      <td>49.425999</td>\n",
       "      <td>51.391998</td>\n",
       "    </tr>\n",
       "    <tr>\n",
       "      <th>102</th>\n",
       "      <td>50.824001</td>\n",
       "      <td>51.577999</td>\n",
       "    </tr>\n",
       "    <tr>\n",
       "      <th>103</th>\n",
       "      <td>51.383999</td>\n",
       "      <td>51.950001</td>\n",
       "    </tr>\n",
       "    <tr>\n",
       "      <th>104</th>\n",
       "      <td>52.034000</td>\n",
       "      <td>52.394001</td>\n",
       "    </tr>\n",
       "    <tr>\n",
       "      <th>105</th>\n",
       "      <td>51.020000</td>\n",
       "      <td>51.389999</td>\n",
       "    </tr>\n",
       "    <tr>\n",
       "      <th>106</th>\n",
       "      <td>50.035999</td>\n",
       "      <td>50.700001</td>\n",
       "    </tr>\n",
       "    <tr>\n",
       "      <th>107</th>\n",
       "      <td>50.169998</td>\n",
       "      <td>51.116001</td>\n",
       "    </tr>\n",
       "    <tr>\n",
       "      <th>108</th>\n",
       "      <td>50.270000</td>\n",
       "      <td>50.936001</td>\n",
       "    </tr>\n",
       "    <tr>\n",
       "      <th>109</th>\n",
       "      <td>57.840000</td>\n",
       "      <td>59.936001</td>\n",
       "    </tr>\n",
       "  </tbody>\n",
       "</table>\n",
       "</div>"
      ],
      "text/plain": [
       "           Low      Close\n",
       "100  49.362000  49.577999\n",
       "101  49.425999  51.391998\n",
       "102  50.824001  51.577999\n",
       "103  51.383999  51.950001\n",
       "104  52.034000  52.394001\n",
       "105  51.020000  51.389999\n",
       "106  50.035999  50.700001\n",
       "107  50.169998  51.116001\n",
       "108  50.270000  50.936001\n",
       "109  57.840000  59.936001"
      ]
     },
     "execution_count": 75,
     "metadata": {},
     "output_type": "execute_result"
    }
   ],
   "source": [
    "# In the last example, we used the index as an integer position rather than by label.\n",
    "# We can select a set of rows and columns like before:\n",
    "df.iloc[100:110, [3,4]]"
   ]
  },
  {
   "cell_type": "markdown",
   "id": "999e098a",
   "metadata": {},
   "source": [
    "# 11.6.6 Boolean indexing"
   ]
  },
  {
   "cell_type": "code",
   "execution_count": 76,
   "id": "2cca9814",
   "metadata": {},
   "outputs": [
    {
     "data": {
      "text/html": [
       "<div>\n",
       "<style scoped>\n",
       "    .dataframe tbody tr th:only-of-type {\n",
       "        vertical-align: middle;\n",
       "    }\n",
       "\n",
       "    .dataframe tbody tr th {\n",
       "        vertical-align: top;\n",
       "    }\n",
       "\n",
       "    .dataframe thead th {\n",
       "        text-align: right;\n",
       "    }\n",
       "</style>\n",
       "<table border=\"1\" class=\"dataframe\">\n",
       "  <thead>\n",
       "    <tr style=\"text-align: right;\">\n",
       "      <th></th>\n",
       "      <th>Date</th>\n",
       "      <th>Open</th>\n",
       "      <th>High</th>\n",
       "      <th>Low</th>\n",
       "      <th>Close</th>\n",
       "      <th>Volume</th>\n",
       "      <th>Dividends</th>\n",
       "      <th>Stock Splits</th>\n",
       "    </tr>\n",
       "  </thead>\n",
       "  <tbody>\n",
       "    <tr>\n",
       "      <th>169</th>\n",
       "      <td>2020-01-22</td>\n",
       "      <td>114.377998</td>\n",
       "      <td>118.900002</td>\n",
       "      <td>111.820000</td>\n",
       "      <td>113.912003</td>\n",
       "      <td>156845000</td>\n",
       "      <td>0</td>\n",
       "      <td>0.0</td>\n",
       "    </tr>\n",
       "    <tr>\n",
       "      <th>170</th>\n",
       "      <td>2020-01-23</td>\n",
       "      <td>112.849998</td>\n",
       "      <td>116.400002</td>\n",
       "      <td>111.120003</td>\n",
       "      <td>114.440002</td>\n",
       "      <td>98255000</td>\n",
       "      <td>0</td>\n",
       "      <td>0.0</td>\n",
       "    </tr>\n",
       "    <tr>\n",
       "      <th>171</th>\n",
       "      <td>2020-01-24</td>\n",
       "      <td>114.125999</td>\n",
       "      <td>114.772003</td>\n",
       "      <td>110.851997</td>\n",
       "      <td>112.963997</td>\n",
       "      <td>71768000</td>\n",
       "      <td>0</td>\n",
       "      <td>0.0</td>\n",
       "    </tr>\n",
       "    <tr>\n",
       "      <th>172</th>\n",
       "      <td>2020-01-27</td>\n",
       "      <td>108.398003</td>\n",
       "      <td>112.888000</td>\n",
       "      <td>107.856003</td>\n",
       "      <td>111.603996</td>\n",
       "      <td>68040500</td>\n",
       "      <td>0</td>\n",
       "      <td>0.0</td>\n",
       "    </tr>\n",
       "    <tr>\n",
       "      <th>173</th>\n",
       "      <td>2020-01-28</td>\n",
       "      <td>113.697998</td>\n",
       "      <td>115.362000</td>\n",
       "      <td>111.615997</td>\n",
       "      <td>113.379997</td>\n",
       "      <td>58942500</td>\n",
       "      <td>0</td>\n",
       "      <td>0.0</td>\n",
       "    </tr>\n",
       "    <tr>\n",
       "      <th>...</th>\n",
       "      <td>...</td>\n",
       "      <td>...</td>\n",
       "      <td>...</td>\n",
       "      <td>...</td>\n",
       "      <td>...</td>\n",
       "      <td>...</td>\n",
       "      <td>...</td>\n",
       "      <td>...</td>\n",
       "    </tr>\n",
       "    <tr>\n",
       "      <th>753</th>\n",
       "      <td>2022-05-16</td>\n",
       "      <td>767.159973</td>\n",
       "      <td>769.760010</td>\n",
       "      <td>719.090027</td>\n",
       "      <td>724.369995</td>\n",
       "      <td>28699500</td>\n",
       "      <td>0</td>\n",
       "      <td>0.0</td>\n",
       "    </tr>\n",
       "    <tr>\n",
       "      <th>754</th>\n",
       "      <td>2022-05-17</td>\n",
       "      <td>747.359985</td>\n",
       "      <td>764.479980</td>\n",
       "      <td>728.849976</td>\n",
       "      <td>761.609985</td>\n",
       "      <td>26745400</td>\n",
       "      <td>0</td>\n",
       "      <td>0.0</td>\n",
       "    </tr>\n",
       "    <tr>\n",
       "      <th>755</th>\n",
       "      <td>2022-05-18</td>\n",
       "      <td>744.520020</td>\n",
       "      <td>760.500000</td>\n",
       "      <td>700.809998</td>\n",
       "      <td>709.809998</td>\n",
       "      <td>29270600</td>\n",
       "      <td>0</td>\n",
       "      <td>0.0</td>\n",
       "    </tr>\n",
       "    <tr>\n",
       "      <th>756</th>\n",
       "      <td>2022-05-19</td>\n",
       "      <td>707.000000</td>\n",
       "      <td>734.000000</td>\n",
       "      <td>694.109985</td>\n",
       "      <td>709.419983</td>\n",
       "      <td>30098900</td>\n",
       "      <td>0</td>\n",
       "      <td>0.0</td>\n",
       "    </tr>\n",
       "    <tr>\n",
       "      <th>757</th>\n",
       "      <td>2022-05-20</td>\n",
       "      <td>713.989990</td>\n",
       "      <td>721.580017</td>\n",
       "      <td>633.000000</td>\n",
       "      <td>663.900024</td>\n",
       "      <td>48190600</td>\n",
       "      <td>0</td>\n",
       "      <td>0.0</td>\n",
       "    </tr>\n",
       "  </tbody>\n",
       "</table>\n",
       "<p>570 rows × 8 columns</p>\n",
       "</div>"
      ],
      "text/plain": [
       "           Date        Open        High         Low       Close     Volume  \\\n",
       "169  2020-01-22  114.377998  118.900002  111.820000  113.912003  156845000   \n",
       "170  2020-01-23  112.849998  116.400002  111.120003  114.440002   98255000   \n",
       "171  2020-01-24  114.125999  114.772003  110.851997  112.963997   71768000   \n",
       "172  2020-01-27  108.398003  112.888000  107.856003  111.603996   68040500   \n",
       "173  2020-01-28  113.697998  115.362000  111.615997  113.379997   58942500   \n",
       "..          ...         ...         ...         ...         ...        ...   \n",
       "753  2022-05-16  767.159973  769.760010  719.090027  724.369995   28699500   \n",
       "754  2022-05-17  747.359985  764.479980  728.849976  761.609985   26745400   \n",
       "755  2022-05-18  744.520020  760.500000  700.809998  709.809998   29270600   \n",
       "756  2022-05-19  707.000000  734.000000  694.109985  709.419983   30098900   \n",
       "757  2022-05-20  713.989990  721.580017  633.000000  663.900024   48190600   \n",
       "\n",
       "     Dividends  Stock Splits  \n",
       "169          0           0.0  \n",
       "170          0           0.0  \n",
       "171          0           0.0  \n",
       "172          0           0.0  \n",
       "173          0           0.0  \n",
       "..         ...           ...  \n",
       "753          0           0.0  \n",
       "754          0           0.0  \n",
       "755          0           0.0  \n",
       "756          0           0.0  \n",
       "757          0           0.0  \n",
       "\n",
       "[570 rows x 8 columns]"
      ]
     },
     "execution_count": 76,
     "metadata": {},
     "output_type": "execute_result"
    }
   ],
   "source": [
    "# So far, we have sliced subsets of data by label or by position. Now let’s\n",
    "# see how to select data that meet some criteria. We do this with Boolean\n",
    "# indexing. We can use the same criteria similar to what we have seen with\n",
    "# Numpy arrays. We show you just two illustrative examples here. This is by\n",
    "# no means enough to get comfortable with it and so would encourage you\n",
    "# to check the documentation and further readings at the end of this chapter\n",
    "# to learn more.\n",
    "# • We can filter data that is greater (less) than a number.\n",
    "\n",
    "df[df.Close > 110]"
   ]
  },
  {
   "cell_type": "code",
   "execution_count": 77,
   "id": "601a6d4b",
   "metadata": {},
   "outputs": [
    {
     "data": {
      "text/html": [
       "<div>\n",
       "<style scoped>\n",
       "    .dataframe tbody tr th:only-of-type {\n",
       "        vertical-align: middle;\n",
       "    }\n",
       "\n",
       "    .dataframe tbody tr th {\n",
       "        vertical-align: top;\n",
       "    }\n",
       "\n",
       "    .dataframe thead th {\n",
       "        text-align: right;\n",
       "    }\n",
       "</style>\n",
       "<table border=\"1\" class=\"dataframe\">\n",
       "  <thead>\n",
       "    <tr style=\"text-align: right;\">\n",
       "      <th></th>\n",
       "      <th>Date</th>\n",
       "      <th>Open</th>\n",
       "      <th>High</th>\n",
       "      <th>Low</th>\n",
       "      <th>Close</th>\n",
       "      <th>Volume</th>\n",
       "      <th>Dividends</th>\n",
       "      <th>Stock Splits</th>\n",
       "    </tr>\n",
       "  </thead>\n",
       "  <tbody>\n",
       "    <tr>\n",
       "      <th>0</th>\n",
       "      <td>2019-05-21</td>\n",
       "      <td>39.551998</td>\n",
       "      <td>41.480000</td>\n",
       "      <td>39.208000</td>\n",
       "      <td>41.015999</td>\n",
       "      <td>90019500</td>\n",
       "      <td>0</td>\n",
       "      <td>0.0</td>\n",
       "    </tr>\n",
       "    <tr>\n",
       "      <th>1</th>\n",
       "      <td>2019-05-22</td>\n",
       "      <td>39.820000</td>\n",
       "      <td>40.787998</td>\n",
       "      <td>38.355999</td>\n",
       "      <td>38.546001</td>\n",
       "      <td>93426000</td>\n",
       "      <td>0</td>\n",
       "      <td>0.0</td>\n",
       "    </tr>\n",
       "    <tr>\n",
       "      <th>2</th>\n",
       "      <td>2019-05-23</td>\n",
       "      <td>38.868000</td>\n",
       "      <td>39.894001</td>\n",
       "      <td>37.243999</td>\n",
       "      <td>39.098000</td>\n",
       "      <td>132735500</td>\n",
       "      <td>0</td>\n",
       "      <td>0.0</td>\n",
       "    </tr>\n",
       "    <tr>\n",
       "      <th>3</th>\n",
       "      <td>2019-05-24</td>\n",
       "      <td>39.966000</td>\n",
       "      <td>39.995998</td>\n",
       "      <td>37.750000</td>\n",
       "      <td>38.125999</td>\n",
       "      <td>70683000</td>\n",
       "      <td>0</td>\n",
       "      <td>0.0</td>\n",
       "    </tr>\n",
       "    <tr>\n",
       "      <th>4</th>\n",
       "      <td>2019-05-28</td>\n",
       "      <td>38.240002</td>\n",
       "      <td>39.000000</td>\n",
       "      <td>37.570000</td>\n",
       "      <td>37.740002</td>\n",
       "      <td>51564500</td>\n",
       "      <td>0</td>\n",
       "      <td>0.0</td>\n",
       "    </tr>\n",
       "    <tr>\n",
       "      <th>...</th>\n",
       "      <td>...</td>\n",
       "      <td>...</td>\n",
       "      <td>...</td>\n",
       "      <td>...</td>\n",
       "      <td>...</td>\n",
       "      <td>...</td>\n",
       "      <td>...</td>\n",
       "      <td>...</td>\n",
       "    </tr>\n",
       "    <tr>\n",
       "      <th>753</th>\n",
       "      <td>2022-05-16</td>\n",
       "      <td>767.159973</td>\n",
       "      <td>769.760010</td>\n",
       "      <td>719.090027</td>\n",
       "      <td>724.369995</td>\n",
       "      <td>28699500</td>\n",
       "      <td>0</td>\n",
       "      <td>0.0</td>\n",
       "    </tr>\n",
       "    <tr>\n",
       "      <th>754</th>\n",
       "      <td>2022-05-17</td>\n",
       "      <td>747.359985</td>\n",
       "      <td>764.479980</td>\n",
       "      <td>728.849976</td>\n",
       "      <td>761.609985</td>\n",
       "      <td>26745400</td>\n",
       "      <td>0</td>\n",
       "      <td>0.0</td>\n",
       "    </tr>\n",
       "    <tr>\n",
       "      <th>755</th>\n",
       "      <td>2022-05-18</td>\n",
       "      <td>744.520020</td>\n",
       "      <td>760.500000</td>\n",
       "      <td>700.809998</td>\n",
       "      <td>709.809998</td>\n",
       "      <td>29270600</td>\n",
       "      <td>0</td>\n",
       "      <td>0.0</td>\n",
       "    </tr>\n",
       "    <tr>\n",
       "      <th>756</th>\n",
       "      <td>2022-05-19</td>\n",
       "      <td>707.000000</td>\n",
       "      <td>734.000000</td>\n",
       "      <td>694.109985</td>\n",
       "      <td>709.419983</td>\n",
       "      <td>30098900</td>\n",
       "      <td>0</td>\n",
       "      <td>0.0</td>\n",
       "    </tr>\n",
       "    <tr>\n",
       "      <th>757</th>\n",
       "      <td>2022-05-20</td>\n",
       "      <td>713.989990</td>\n",
       "      <td>721.580017</td>\n",
       "      <td>633.000000</td>\n",
       "      <td>663.900024</td>\n",
       "      <td>48190600</td>\n",
       "      <td>0</td>\n",
       "      <td>0.0</td>\n",
       "    </tr>\n",
       "  </tbody>\n",
       "</table>\n",
       "<p>758 rows × 8 columns</p>\n",
       "</div>"
      ],
      "text/plain": [
       "           Date        Open        High         Low       Close     Volume  \\\n",
       "0    2019-05-21   39.551998   41.480000   39.208000   41.015999   90019500   \n",
       "1    2019-05-22   39.820000   40.787998   38.355999   38.546001   93426000   \n",
       "2    2019-05-23   38.868000   39.894001   37.243999   39.098000  132735500   \n",
       "3    2019-05-24   39.966000   39.995998   37.750000   38.125999   70683000   \n",
       "4    2019-05-28   38.240002   39.000000   37.570000   37.740002   51564500   \n",
       "..          ...         ...         ...         ...         ...        ...   \n",
       "753  2022-05-16  767.159973  769.760010  719.090027  724.369995   28699500   \n",
       "754  2022-05-17  747.359985  764.479980  728.849976  761.609985   26745400   \n",
       "755  2022-05-18  744.520020  760.500000  700.809998  709.809998   29270600   \n",
       "756  2022-05-19  707.000000  734.000000  694.109985  709.419983   30098900   \n",
       "757  2022-05-20  713.989990  721.580017  633.000000  663.900024   48190600   \n",
       "\n",
       "     Dividends  Stock Splits  \n",
       "0            0           0.0  \n",
       "1            0           0.0  \n",
       "2            0           0.0  \n",
       "3            0           0.0  \n",
       "4            0           0.0  \n",
       "..         ...           ...  \n",
       "753          0           0.0  \n",
       "754          0           0.0  \n",
       "755          0           0.0  \n",
       "756          0           0.0  \n",
       "757          0           0.0  \n",
       "\n",
       "[758 rows x 8 columns]"
      ]
     },
     "execution_count": 77,
     "metadata": {},
     "output_type": "execute_result"
    }
   ],
   "source": [
    "df[(df['Close'] > 110) | (df['Close'] < 120)]"
   ]
  },
  {
   "cell_type": "markdown",
   "id": "99cb9397",
   "metadata": {},
   "source": []
  },
  {
   "cell_type": "markdown",
   "id": "a12560bd",
   "metadata": {},
   "source": [
    "# 11.7 Manipulating a DataFrame"
   ]
  },
  {
   "cell_type": "code",
   "execution_count": null,
   "id": "38852d8a",
   "metadata": {},
   "outputs": [],
   "source": [
    "# When we are working with data, the most common structure is the\n",
    "# DataFrame. Until now we have seen how to create them, make selections\n",
    "# and find data. We are now going to see how to manipulate the DataFrame\n",
    "# to transform it into another DataFrame that has the form that our problem\n",
    "# requires.\n",
    "\n",
    "# We’ll see how to sort it, re-index it, eliminate unwanted (or spurious) data,\n",
    "# add or remove columns and update values."
   ]
  },
  {
   "cell_type": "markdown",
   "id": "a13e5e20",
   "metadata": {},
   "source": [
    "# 11.7.1 Transpose using .T"
   ]
  },
  {
   "cell_type": "code",
   "execution_count": 78,
   "id": "4e437e03",
   "metadata": {},
   "outputs": [
    {
     "data": {
      "text/html": [
       "<div>\n",
       "<style scoped>\n",
       "    .dataframe tbody tr th:only-of-type {\n",
       "        vertical-align: middle;\n",
       "    }\n",
       "\n",
       "    .dataframe tbody tr th {\n",
       "        vertical-align: top;\n",
       "    }\n",
       "\n",
       "    .dataframe thead th {\n",
       "        text-align: right;\n",
       "    }\n",
       "</style>\n",
       "<table border=\"1\" class=\"dataframe\">\n",
       "  <thead>\n",
       "    <tr style=\"text-align: right;\">\n",
       "      <th></th>\n",
       "      <th>100</th>\n",
       "      <th>101</th>\n",
       "      <th>102</th>\n",
       "      <th>103</th>\n",
       "      <th>104</th>\n",
       "      <th>105</th>\n",
       "      <th>106</th>\n",
       "      <th>107</th>\n",
       "      <th>108</th>\n",
       "      <th>109</th>\n",
       "    </tr>\n",
       "  </thead>\n",
       "  <tbody>\n",
       "    <tr>\n",
       "      <th>Close</th>\n",
       "      <td>4.957800e+01</td>\n",
       "      <td>5.139200e+01</td>\n",
       "      <td>5.157800e+01</td>\n",
       "      <td>5.195000e+01</td>\n",
       "      <td>5.239400e+01</td>\n",
       "      <td>5.139000e+01</td>\n",
       "      <td>5.070000e+01</td>\n",
       "      <td>5.111600e+01</td>\n",
       "      <td>5.093600e+01</td>\n",
       "      <td>5.993600e+01</td>\n",
       "    </tr>\n",
       "    <tr>\n",
       "      <th>Volume</th>\n",
       "      <td>4.237700e+07</td>\n",
       "      <td>5.102500e+07</td>\n",
       "      <td>3.216400e+07</td>\n",
       "      <td>3.342050e+07</td>\n",
       "      <td>2.384650e+07</td>\n",
       "      <td>2.874900e+07</td>\n",
       "      <td>2.510150e+07</td>\n",
       "      <td>2.300400e+07</td>\n",
       "      <td>2.630550e+07</td>\n",
       "      <td>1.486045e+08</td>\n",
       "    </tr>\n",
       "  </tbody>\n",
       "</table>\n",
       "</div>"
      ],
      "text/plain": [
       "                 100           101           102           103           104  \\\n",
       "Close   4.957800e+01  5.139200e+01  5.157800e+01  5.195000e+01  5.239400e+01   \n",
       "Volume  4.237700e+07  5.102500e+07  3.216400e+07  3.342050e+07  2.384650e+07   \n",
       "\n",
       "                 105           106           107           108           109  \n",
       "Close   5.139000e+01  5.070000e+01  5.111600e+01  5.093600e+01  5.993600e+01  \n",
       "Volume  2.874900e+07  2.510150e+07  2.300400e+07  2.630550e+07  1.486045e+08  "
      ]
     },
     "execution_count": 78,
     "metadata": {},
     "output_type": "execute_result"
    }
   ],
   "source": [
    "# The Pandas DataFrame transpose function T allows us to transpose the\n",
    "# rows as columns, and logically the columns as rows:\n",
    "\n",
    "import pandas as pd\n",
    "df = pd.read_csv('/home/bipinhyoju/Downloads/csv files/TSLA.csv')\n",
    "df2 = df[100:110][['Close', 'Volume']]\n",
    "df2.T"
   ]
  },
  {
   "cell_type": "markdown",
   "id": "36ad7780",
   "metadata": {},
   "source": [
    "# 11.7.2 The .sort_index() method"
   ]
  },
  {
   "cell_type": "code",
   "execution_count": 79,
   "id": "74931376",
   "metadata": {},
   "outputs": [
    {
     "data": {
      "text/html": [
       "<div>\n",
       "<style scoped>\n",
       "    .dataframe tbody tr th:only-of-type {\n",
       "        vertical-align: middle;\n",
       "    }\n",
       "\n",
       "    .dataframe tbody tr th {\n",
       "        vertical-align: top;\n",
       "    }\n",
       "\n",
       "    .dataframe thead th {\n",
       "        text-align: right;\n",
       "    }\n",
       "</style>\n",
       "<table border=\"1\" class=\"dataframe\">\n",
       "  <thead>\n",
       "    <tr style=\"text-align: right;\">\n",
       "      <th></th>\n",
       "      <th>Date</th>\n",
       "      <th>Open</th>\n",
       "      <th>High</th>\n",
       "      <th>Low</th>\n",
       "      <th>Close</th>\n",
       "      <th>Volume</th>\n",
       "      <th>Dividends</th>\n",
       "      <th>Stock Splits</th>\n",
       "    </tr>\n",
       "  </thead>\n",
       "  <tbody>\n",
       "    <tr>\n",
       "      <th>0</th>\n",
       "      <td>2019-05-21</td>\n",
       "      <td>39.551998</td>\n",
       "      <td>41.480000</td>\n",
       "      <td>39.208000</td>\n",
       "      <td>41.015999</td>\n",
       "      <td>90019500</td>\n",
       "      <td>0</td>\n",
       "      <td>0.0</td>\n",
       "    </tr>\n",
       "    <tr>\n",
       "      <th>1</th>\n",
       "      <td>2019-05-22</td>\n",
       "      <td>39.820000</td>\n",
       "      <td>40.787998</td>\n",
       "      <td>38.355999</td>\n",
       "      <td>38.546001</td>\n",
       "      <td>93426000</td>\n",
       "      <td>0</td>\n",
       "      <td>0.0</td>\n",
       "    </tr>\n",
       "    <tr>\n",
       "      <th>2</th>\n",
       "      <td>2019-05-23</td>\n",
       "      <td>38.868000</td>\n",
       "      <td>39.894001</td>\n",
       "      <td>37.243999</td>\n",
       "      <td>39.098000</td>\n",
       "      <td>132735500</td>\n",
       "      <td>0</td>\n",
       "      <td>0.0</td>\n",
       "    </tr>\n",
       "    <tr>\n",
       "      <th>3</th>\n",
       "      <td>2019-05-24</td>\n",
       "      <td>39.966000</td>\n",
       "      <td>39.995998</td>\n",
       "      <td>37.750000</td>\n",
       "      <td>38.125999</td>\n",
       "      <td>70683000</td>\n",
       "      <td>0</td>\n",
       "      <td>0.0</td>\n",
       "    </tr>\n",
       "    <tr>\n",
       "      <th>4</th>\n",
       "      <td>2019-05-28</td>\n",
       "      <td>38.240002</td>\n",
       "      <td>39.000000</td>\n",
       "      <td>37.570000</td>\n",
       "      <td>37.740002</td>\n",
       "      <td>51564500</td>\n",
       "      <td>0</td>\n",
       "      <td>0.0</td>\n",
       "    </tr>\n",
       "    <tr>\n",
       "      <th>...</th>\n",
       "      <td>...</td>\n",
       "      <td>...</td>\n",
       "      <td>...</td>\n",
       "      <td>...</td>\n",
       "      <td>...</td>\n",
       "      <td>...</td>\n",
       "      <td>...</td>\n",
       "      <td>...</td>\n",
       "    </tr>\n",
       "    <tr>\n",
       "      <th>753</th>\n",
       "      <td>2022-05-16</td>\n",
       "      <td>767.159973</td>\n",
       "      <td>769.760010</td>\n",
       "      <td>719.090027</td>\n",
       "      <td>724.369995</td>\n",
       "      <td>28699500</td>\n",
       "      <td>0</td>\n",
       "      <td>0.0</td>\n",
       "    </tr>\n",
       "    <tr>\n",
       "      <th>754</th>\n",
       "      <td>2022-05-17</td>\n",
       "      <td>747.359985</td>\n",
       "      <td>764.479980</td>\n",
       "      <td>728.849976</td>\n",
       "      <td>761.609985</td>\n",
       "      <td>26745400</td>\n",
       "      <td>0</td>\n",
       "      <td>0.0</td>\n",
       "    </tr>\n",
       "    <tr>\n",
       "      <th>755</th>\n",
       "      <td>2022-05-18</td>\n",
       "      <td>744.520020</td>\n",
       "      <td>760.500000</td>\n",
       "      <td>700.809998</td>\n",
       "      <td>709.809998</td>\n",
       "      <td>29270600</td>\n",
       "      <td>0</td>\n",
       "      <td>0.0</td>\n",
       "    </tr>\n",
       "    <tr>\n",
       "      <th>756</th>\n",
       "      <td>2022-05-19</td>\n",
       "      <td>707.000000</td>\n",
       "      <td>734.000000</td>\n",
       "      <td>694.109985</td>\n",
       "      <td>709.419983</td>\n",
       "      <td>30098900</td>\n",
       "      <td>0</td>\n",
       "      <td>0.0</td>\n",
       "    </tr>\n",
       "    <tr>\n",
       "      <th>757</th>\n",
       "      <td>2022-05-20</td>\n",
       "      <td>713.989990</td>\n",
       "      <td>721.580017</td>\n",
       "      <td>633.000000</td>\n",
       "      <td>663.900024</td>\n",
       "      <td>48190600</td>\n",
       "      <td>0</td>\n",
       "      <td>0.0</td>\n",
       "    </tr>\n",
       "  </tbody>\n",
       "</table>\n",
       "<p>758 rows × 8 columns</p>\n",
       "</div>"
      ],
      "text/plain": [
       "           Date        Open        High         Low       Close     Volume  \\\n",
       "0    2019-05-21   39.551998   41.480000   39.208000   41.015999   90019500   \n",
       "1    2019-05-22   39.820000   40.787998   38.355999   38.546001   93426000   \n",
       "2    2019-05-23   38.868000   39.894001   37.243999   39.098000  132735500   \n",
       "3    2019-05-24   39.966000   39.995998   37.750000   38.125999   70683000   \n",
       "4    2019-05-28   38.240002   39.000000   37.570000   37.740002   51564500   \n",
       "..          ...         ...         ...         ...         ...        ...   \n",
       "753  2022-05-16  767.159973  769.760010  719.090027  724.369995   28699500   \n",
       "754  2022-05-17  747.359985  764.479980  728.849976  761.609985   26745400   \n",
       "755  2022-05-18  744.520020  760.500000  700.809998  709.809998   29270600   \n",
       "756  2022-05-19  707.000000  734.000000  694.109985  709.419983   30098900   \n",
       "757  2022-05-20  713.989990  721.580017  633.000000  663.900024   48190600   \n",
       "\n",
       "     Dividends  Stock Splits  \n",
       "0            0           0.0  \n",
       "1            0           0.0  \n",
       "2            0           0.0  \n",
       "3            0           0.0  \n",
       "4            0           0.0  \n",
       "..         ...           ...  \n",
       "753          0           0.0  \n",
       "754          0           0.0  \n",
       "755          0           0.0  \n",
       "756          0           0.0  \n",
       "757          0           0.0  \n",
       "\n",
       "[758 rows x 8 columns]"
      ]
     },
     "execution_count": 79,
     "metadata": {},
     "output_type": "execute_result"
    }
   ],
   "source": [
    "# When we are working with Pandas Dataframe it is usual to add or remove\n",
    "# rows, order by columns, etc. That’s why it’s important to have a function\n",
    "# that allows us to easily and comfortably sort the DataFrame by its index.\n",
    "# We do this with the sort_index function of Pandas DataFrame.\n",
    "\n",
    "df.sort_index()"
   ]
  },
  {
   "cell_type": "markdown",
   "id": "d92c707f",
   "metadata": {},
   "source": [
    "# 11.7.3 The .sort_values() method"
   ]
  },
  {
   "cell_type": "code",
   "execution_count": 80,
   "id": "d4ce8fac",
   "metadata": {},
   "outputs": [
    {
     "data": {
      "text/html": [
       "<div>\n",
       "<style scoped>\n",
       "    .dataframe tbody tr th:only-of-type {\n",
       "        vertical-align: middle;\n",
       "    }\n",
       "\n",
       "    .dataframe tbody tr th {\n",
       "        vertical-align: top;\n",
       "    }\n",
       "\n",
       "    .dataframe thead th {\n",
       "        text-align: right;\n",
       "    }\n",
       "</style>\n",
       "<table border=\"1\" class=\"dataframe\">\n",
       "  <thead>\n",
       "    <tr style=\"text-align: right;\">\n",
       "      <th></th>\n",
       "      <th>Date</th>\n",
       "      <th>Open</th>\n",
       "      <th>High</th>\n",
       "      <th>Low</th>\n",
       "      <th>Close</th>\n",
       "      <th>Volume</th>\n",
       "      <th>Dividends</th>\n",
       "      <th>Stock Splits</th>\n",
       "    </tr>\n",
       "  </thead>\n",
       "  <tbody>\n",
       "    <tr>\n",
       "      <th>8</th>\n",
       "      <td>2019-06-03</td>\n",
       "      <td>37.102001</td>\n",
       "      <td>37.335999</td>\n",
       "      <td>35.397999</td>\n",
       "      <td>35.793999</td>\n",
       "      <td>65322000</td>\n",
       "      <td>0</td>\n",
       "      <td>0.0</td>\n",
       "    </tr>\n",
       "    <tr>\n",
       "      <th>7</th>\n",
       "      <td>2019-05-31</td>\n",
       "      <td>37.020000</td>\n",
       "      <td>37.984001</td>\n",
       "      <td>36.820000</td>\n",
       "      <td>37.032001</td>\n",
       "      <td>52033500</td>\n",
       "      <td>0</td>\n",
       "      <td>0.0</td>\n",
       "    </tr>\n",
       "    <tr>\n",
       "      <th>6</th>\n",
       "      <td>2019-05-30</td>\n",
       "      <td>37.750000</td>\n",
       "      <td>38.452000</td>\n",
       "      <td>37.403999</td>\n",
       "      <td>37.644001</td>\n",
       "      <td>39632500</td>\n",
       "      <td>0</td>\n",
       "      <td>0.0</td>\n",
       "    </tr>\n",
       "    <tr>\n",
       "      <th>4</th>\n",
       "      <td>2019-05-28</td>\n",
       "      <td>38.240002</td>\n",
       "      <td>39.000000</td>\n",
       "      <td>37.570000</td>\n",
       "      <td>37.740002</td>\n",
       "      <td>51564500</td>\n",
       "      <td>0</td>\n",
       "      <td>0.0</td>\n",
       "    </tr>\n",
       "    <tr>\n",
       "      <th>5</th>\n",
       "      <td>2019-05-29</td>\n",
       "      <td>37.419998</td>\n",
       "      <td>38.478001</td>\n",
       "      <td>37.007999</td>\n",
       "      <td>37.972000</td>\n",
       "      <td>59843000</td>\n",
       "      <td>0</td>\n",
       "      <td>0.0</td>\n",
       "    </tr>\n",
       "    <tr>\n",
       "      <th>...</th>\n",
       "      <td>...</td>\n",
       "      <td>...</td>\n",
       "      <td>...</td>\n",
       "      <td>...</td>\n",
       "      <td>...</td>\n",
       "      <td>...</td>\n",
       "      <td>...</td>\n",
       "      <td>...</td>\n",
       "    </tr>\n",
       "    <tr>\n",
       "      <th>661</th>\n",
       "      <td>2022-01-03</td>\n",
       "      <td>1147.750000</td>\n",
       "      <td>1201.069946</td>\n",
       "      <td>1136.040039</td>\n",
       "      <td>1199.780029</td>\n",
       "      <td>34643800</td>\n",
       "      <td>0</td>\n",
       "      <td>0.0</td>\n",
       "    </tr>\n",
       "    <tr>\n",
       "      <th>618</th>\n",
       "      <td>2021-11-01</td>\n",
       "      <td>1145.000000</td>\n",
       "      <td>1209.750000</td>\n",
       "      <td>1118.660034</td>\n",
       "      <td>1208.589966</td>\n",
       "      <td>56048700</td>\n",
       "      <td>0</td>\n",
       "      <td>0.0</td>\n",
       "    </tr>\n",
       "    <tr>\n",
       "      <th>620</th>\n",
       "      <td>2021-11-03</td>\n",
       "      <td>1177.329956</td>\n",
       "      <td>1215.390015</td>\n",
       "      <td>1152.619995</td>\n",
       "      <td>1213.859985</td>\n",
       "      <td>34628500</td>\n",
       "      <td>0</td>\n",
       "      <td>0.0</td>\n",
       "    </tr>\n",
       "    <tr>\n",
       "      <th>622</th>\n",
       "      <td>2021-11-05</td>\n",
       "      <td>1228.000000</td>\n",
       "      <td>1239.869995</td>\n",
       "      <td>1208.000000</td>\n",
       "      <td>1222.089966</td>\n",
       "      <td>21628800</td>\n",
       "      <td>0</td>\n",
       "      <td>0.0</td>\n",
       "    </tr>\n",
       "    <tr>\n",
       "      <th>621</th>\n",
       "      <td>2021-11-04</td>\n",
       "      <td>1234.410034</td>\n",
       "      <td>1243.489990</td>\n",
       "      <td>1217.000000</td>\n",
       "      <td>1229.910034</td>\n",
       "      <td>25397400</td>\n",
       "      <td>0</td>\n",
       "      <td>0.0</td>\n",
       "    </tr>\n",
       "  </tbody>\n",
       "</table>\n",
       "<p>758 rows × 8 columns</p>\n",
       "</div>"
      ],
      "text/plain": [
       "           Date         Open         High          Low        Close    Volume  \\\n",
       "8    2019-06-03    37.102001    37.335999    35.397999    35.793999  65322000   \n",
       "7    2019-05-31    37.020000    37.984001    36.820000    37.032001  52033500   \n",
       "6    2019-05-30    37.750000    38.452000    37.403999    37.644001  39632500   \n",
       "4    2019-05-28    38.240002    39.000000    37.570000    37.740002  51564500   \n",
       "5    2019-05-29    37.419998    38.478001    37.007999    37.972000  59843000   \n",
       "..          ...          ...          ...          ...          ...       ...   \n",
       "661  2022-01-03  1147.750000  1201.069946  1136.040039  1199.780029  34643800   \n",
       "618  2021-11-01  1145.000000  1209.750000  1118.660034  1208.589966  56048700   \n",
       "620  2021-11-03  1177.329956  1215.390015  1152.619995  1213.859985  34628500   \n",
       "622  2021-11-05  1228.000000  1239.869995  1208.000000  1222.089966  21628800   \n",
       "621  2021-11-04  1234.410034  1243.489990  1217.000000  1229.910034  25397400   \n",
       "\n",
       "     Dividends  Stock Splits  \n",
       "8            0           0.0  \n",
       "7            0           0.0  \n",
       "6            0           0.0  \n",
       "4            0           0.0  \n",
       "5            0           0.0  \n",
       "..         ...           ...  \n",
       "661          0           0.0  \n",
       "618          0           0.0  \n",
       "620          0           0.0  \n",
       "622          0           0.0  \n",
       "621          0           0.0  \n",
       "\n",
       "[758 rows x 8 columns]"
      ]
     },
     "execution_count": 80,
     "metadata": {},
     "output_type": "execute_result"
    }
   ],
   "source": [
    "# Sometimes, we may be interested in sorting the DataFrame by some column\n",
    "# or even with several columns as criteria. For example, sort the column by\n",
    "# first names and the second criterion by last names. We do this with the\n",
    "# sort_values function of Pandas DataFrame.\n",
    "\n",
    "df.sort_values(by= 'Close')"
   ]
  },
  {
   "cell_type": "code",
   "execution_count": 81,
   "id": "1a9736af",
   "metadata": {},
   "outputs": [
    {
     "data": {
      "text/html": [
       "<div>\n",
       "<style scoped>\n",
       "    .dataframe tbody tr th:only-of-type {\n",
       "        vertical-align: middle;\n",
       "    }\n",
       "\n",
       "    .dataframe tbody tr th {\n",
       "        vertical-align: top;\n",
       "    }\n",
       "\n",
       "    .dataframe thead th {\n",
       "        text-align: right;\n",
       "    }\n",
       "</style>\n",
       "<table border=\"1\" class=\"dataframe\">\n",
       "  <thead>\n",
       "    <tr style=\"text-align: right;\">\n",
       "      <th></th>\n",
       "      <th>Date</th>\n",
       "      <th>Open</th>\n",
       "      <th>High</th>\n",
       "      <th>Low</th>\n",
       "      <th>Close</th>\n",
       "      <th>Volume</th>\n",
       "      <th>Dividends</th>\n",
       "      <th>Stock Splits</th>\n",
       "    </tr>\n",
       "  </thead>\n",
       "  <tbody>\n",
       "    <tr>\n",
       "      <th>9</th>\n",
       "      <td>2019-06-04</td>\n",
       "      <td>36.220001</td>\n",
       "      <td>38.796001</td>\n",
       "      <td>35.922001</td>\n",
       "      <td>38.720001</td>\n",
       "      <td>69037500</td>\n",
       "      <td>0</td>\n",
       "      <td>0.0</td>\n",
       "    </tr>\n",
       "    <tr>\n",
       "      <th>7</th>\n",
       "      <td>2019-05-31</td>\n",
       "      <td>37.020000</td>\n",
       "      <td>37.984001</td>\n",
       "      <td>36.820000</td>\n",
       "      <td>37.032001</td>\n",
       "      <td>52033500</td>\n",
       "      <td>0</td>\n",
       "      <td>0.0</td>\n",
       "    </tr>\n",
       "    <tr>\n",
       "      <th>8</th>\n",
       "      <td>2019-06-03</td>\n",
       "      <td>37.102001</td>\n",
       "      <td>37.335999</td>\n",
       "      <td>35.397999</td>\n",
       "      <td>35.793999</td>\n",
       "      <td>65322000</td>\n",
       "      <td>0</td>\n",
       "      <td>0.0</td>\n",
       "    </tr>\n",
       "    <tr>\n",
       "      <th>5</th>\n",
       "      <td>2019-05-29</td>\n",
       "      <td>37.419998</td>\n",
       "      <td>38.478001</td>\n",
       "      <td>37.007999</td>\n",
       "      <td>37.972000</td>\n",
       "      <td>59843000</td>\n",
       "      <td>0</td>\n",
       "      <td>0.0</td>\n",
       "    </tr>\n",
       "    <tr>\n",
       "      <th>6</th>\n",
       "      <td>2019-05-30</td>\n",
       "      <td>37.750000</td>\n",
       "      <td>38.452000</td>\n",
       "      <td>37.403999</td>\n",
       "      <td>37.644001</td>\n",
       "      <td>39632500</td>\n",
       "      <td>0</td>\n",
       "      <td>0.0</td>\n",
       "    </tr>\n",
       "    <tr>\n",
       "      <th>...</th>\n",
       "      <td>...</td>\n",
       "      <td>...</td>\n",
       "      <td>...</td>\n",
       "      <td>...</td>\n",
       "      <td>...</td>\n",
       "      <td>...</td>\n",
       "      <td>...</td>\n",
       "      <td>...</td>\n",
       "    </tr>\n",
       "    <tr>\n",
       "      <th>624</th>\n",
       "      <td>2021-11-09</td>\n",
       "      <td>1173.599976</td>\n",
       "      <td>1174.500000</td>\n",
       "      <td>1011.520020</td>\n",
       "      <td>1023.500000</td>\n",
       "      <td>59105800</td>\n",
       "      <td>0</td>\n",
       "      <td>0.0</td>\n",
       "    </tr>\n",
       "    <tr>\n",
       "      <th>620</th>\n",
       "      <td>2021-11-03</td>\n",
       "      <td>1177.329956</td>\n",
       "      <td>1215.390015</td>\n",
       "      <td>1152.619995</td>\n",
       "      <td>1213.859985</td>\n",
       "      <td>34628500</td>\n",
       "      <td>0</td>\n",
       "      <td>0.0</td>\n",
       "    </tr>\n",
       "    <tr>\n",
       "      <th>662</th>\n",
       "      <td>2022-01-04</td>\n",
       "      <td>1189.550049</td>\n",
       "      <td>1208.000000</td>\n",
       "      <td>1123.050049</td>\n",
       "      <td>1149.589966</td>\n",
       "      <td>33416100</td>\n",
       "      <td>0</td>\n",
       "      <td>0.0</td>\n",
       "    </tr>\n",
       "    <tr>\n",
       "      <th>622</th>\n",
       "      <td>2021-11-05</td>\n",
       "      <td>1228.000000</td>\n",
       "      <td>1239.869995</td>\n",
       "      <td>1208.000000</td>\n",
       "      <td>1222.089966</td>\n",
       "      <td>21628800</td>\n",
       "      <td>0</td>\n",
       "      <td>0.0</td>\n",
       "    </tr>\n",
       "    <tr>\n",
       "      <th>621</th>\n",
       "      <td>2021-11-04</td>\n",
       "      <td>1234.410034</td>\n",
       "      <td>1243.489990</td>\n",
       "      <td>1217.000000</td>\n",
       "      <td>1229.910034</td>\n",
       "      <td>25397400</td>\n",
       "      <td>0</td>\n",
       "      <td>0.0</td>\n",
       "    </tr>\n",
       "  </tbody>\n",
       "</table>\n",
       "<p>758 rows × 8 columns</p>\n",
       "</div>"
      ],
      "text/plain": [
       "           Date         Open         High          Low        Close    Volume  \\\n",
       "9    2019-06-04    36.220001    38.796001    35.922001    38.720001  69037500   \n",
       "7    2019-05-31    37.020000    37.984001    36.820000    37.032001  52033500   \n",
       "8    2019-06-03    37.102001    37.335999    35.397999    35.793999  65322000   \n",
       "5    2019-05-29    37.419998    38.478001    37.007999    37.972000  59843000   \n",
       "6    2019-05-30    37.750000    38.452000    37.403999    37.644001  39632500   \n",
       "..          ...          ...          ...          ...          ...       ...   \n",
       "624  2021-11-09  1173.599976  1174.500000  1011.520020  1023.500000  59105800   \n",
       "620  2021-11-03  1177.329956  1215.390015  1152.619995  1213.859985  34628500   \n",
       "662  2022-01-04  1189.550049  1208.000000  1123.050049  1149.589966  33416100   \n",
       "622  2021-11-05  1228.000000  1239.869995  1208.000000  1222.089966  21628800   \n",
       "621  2021-11-04  1234.410034  1243.489990  1217.000000  1229.910034  25397400   \n",
       "\n",
       "     Dividends  Stock Splits  \n",
       "9            0           0.0  \n",
       "7            0           0.0  \n",
       "8            0           0.0  \n",
       "5            0           0.0  \n",
       "6            0           0.0  \n",
       "..         ...           ...  \n",
       "624          0           0.0  \n",
       "620          0           0.0  \n",
       "662          0           0.0  \n",
       "622          0           0.0  \n",
       "621          0           0.0  \n",
       "\n",
       "[758 rows x 8 columns]"
      ]
     },
     "execution_count": 81,
     "metadata": {},
     "output_type": "execute_result"
    }
   ],
   "source": [
    "df.sort_values(by= ['Open', 'Close'])"
   ]
  },
  {
   "cell_type": "markdown",
   "id": "e70d291b",
   "metadata": {},
   "source": [
    "# 11.7.4 The .reindex() function "
   ]
  },
  {
   "cell_type": "code",
   "execution_count": null,
   "id": "6a8a5b52",
   "metadata": {},
   "outputs": [],
   "source": [
    "# The Pandas’ reindex funtion let us to realign the index of the Series or\n",
    "# DataFrame, it’s useful when we need to reorganize the index to meet some\n",
    "# criteria. For example, we can play with the Series or DataFrame that we\n",
    "# create before to alter the original index. For example, when the index is a\n",
    "# label, we can reorganize as we need:"
   ]
  },
  {
   "cell_type": "code",
   "execution_count": 82,
   "id": "745e8929",
   "metadata": {},
   "outputs": [
    {
     "data": {
      "text/html": [
       "<div>\n",
       "<style scoped>\n",
       "    .dataframe tbody tr th:only-of-type {\n",
       "        vertical-align: middle;\n",
       "    }\n",
       "\n",
       "    .dataframe tbody tr th {\n",
       "        vertical-align: top;\n",
       "    }\n",
       "\n",
       "    .dataframe thead th {\n",
       "        text-align: right;\n",
       "    }\n",
       "</style>\n",
       "<table border=\"1\" class=\"dataframe\">\n",
       "  <thead>\n",
       "    <tr style=\"text-align: right;\">\n",
       "      <th></th>\n",
       "      <th>0</th>\n",
       "    </tr>\n",
       "  </thead>\n",
       "  <tbody>\n",
       "    <tr>\n",
       "      <th>a</th>\n",
       "      <td>-0.041193</td>\n",
       "    </tr>\n",
       "    <tr>\n",
       "      <th>b</th>\n",
       "      <td>-0.278919</td>\n",
       "    </tr>\n",
       "    <tr>\n",
       "      <th>c</th>\n",
       "      <td>-1.485945</td>\n",
       "    </tr>\n",
       "    <tr>\n",
       "      <th>d</th>\n",
       "      <td>0.813617</td>\n",
       "    </tr>\n",
       "    <tr>\n",
       "      <th>e</th>\n",
       "      <td>-0.135042</td>\n",
       "    </tr>\n",
       "  </tbody>\n",
       "</table>\n",
       "</div>"
      ],
      "text/plain": [
       "          0\n",
       "a -0.041193\n",
       "b -0.278919\n",
       "c -1.485945\n",
       "d  0.813617\n",
       "e -0.135042"
      ]
     },
     "execution_count": 82,
     "metadata": {},
     "output_type": "execute_result"
    }
   ],
   "source": [
    "import pandas as pd\n",
    "import numpy as np\n",
    "df = pd.DataFrame(np.random.randn(5), index= ['a', 'b', 'c', 'd', 'e'])\n",
    "df"
   ]
  },
  {
   "cell_type": "code",
   "execution_count": 83,
   "id": "9d3d62f2",
   "metadata": {},
   "outputs": [
    {
     "data": {
      "text/html": [
       "<div>\n",
       "<style scoped>\n",
       "    .dataframe tbody tr th:only-of-type {\n",
       "        vertical-align: middle;\n",
       "    }\n",
       "\n",
       "    .dataframe tbody tr th {\n",
       "        vertical-align: top;\n",
       "    }\n",
       "\n",
       "    .dataframe thead th {\n",
       "        text-align: right;\n",
       "    }\n",
       "</style>\n",
       "<table border=\"1\" class=\"dataframe\">\n",
       "  <thead>\n",
       "    <tr style=\"text-align: right;\">\n",
       "      <th></th>\n",
       "      <th>0</th>\n",
       "    </tr>\n",
       "  </thead>\n",
       "  <tbody>\n",
       "    <tr>\n",
       "      <th>b</th>\n",
       "      <td>-0.278919</td>\n",
       "    </tr>\n",
       "    <tr>\n",
       "      <th>a</th>\n",
       "      <td>-0.041193</td>\n",
       "    </tr>\n",
       "    <tr>\n",
       "      <th>d</th>\n",
       "      <td>0.813617</td>\n",
       "    </tr>\n",
       "    <tr>\n",
       "      <th>c</th>\n",
       "      <td>-1.485945</td>\n",
       "    </tr>\n",
       "    <tr>\n",
       "      <th>e</th>\n",
       "      <td>-0.135042</td>\n",
       "    </tr>\n",
       "  </tbody>\n",
       "</table>\n",
       "</div>"
      ],
      "text/plain": [
       "          0\n",
       "b -0.278919\n",
       "a -0.041193\n",
       "d  0.813617\n",
       "c -1.485945\n",
       "e -0.135042"
      ]
     },
     "execution_count": 83,
     "metadata": {},
     "output_type": "execute_result"
    }
   ],
   "source": [
    "# Now, we can reorganize the index as follows:\n",
    "df.reindex(['b', 'a', 'd', 'c', 'e'])"
   ]
  },
  {
   "cell_type": "code",
   "execution_count": 84,
   "id": "a889a868",
   "metadata": {},
   "outputs": [
    {
     "data": {
      "text/html": [
       "<div>\n",
       "<style scoped>\n",
       "    .dataframe tbody tr th:only-of-type {\n",
       "        vertical-align: middle;\n",
       "    }\n",
       "\n",
       "    .dataframe tbody tr th {\n",
       "        vertical-align: top;\n",
       "    }\n",
       "\n",
       "    .dataframe thead th {\n",
       "        text-align: right;\n",
       "    }\n",
       "</style>\n",
       "<table border=\"1\" class=\"dataframe\">\n",
       "  <thead>\n",
       "    <tr style=\"text-align: right;\">\n",
       "      <th></th>\n",
       "      <th>0</th>\n",
       "    </tr>\n",
       "  </thead>\n",
       "  <tbody>\n",
       "    <tr>\n",
       "      <th>4</th>\n",
       "      <td>1.024558</td>\n",
       "    </tr>\n",
       "    <tr>\n",
       "      <th>3</th>\n",
       "      <td>0.776286</td>\n",
       "    </tr>\n",
       "    <tr>\n",
       "      <th>2</th>\n",
       "      <td>0.466289</td>\n",
       "    </tr>\n",
       "    <tr>\n",
       "      <th>1</th>\n",
       "      <td>0.226481</td>\n",
       "    </tr>\n",
       "    <tr>\n",
       "      <th>0</th>\n",
       "      <td>0.440921</td>\n",
       "    </tr>\n",
       "  </tbody>\n",
       "</table>\n",
       "</div>"
      ],
      "text/plain": [
       "          0\n",
       "4  1.024558\n",
       "3  0.776286\n",
       "2  0.466289\n",
       "1  0.226481\n",
       "0  0.440921"
      ]
     },
     "execution_count": 84,
     "metadata": {},
     "output_type": "execute_result"
    }
   ],
   "source": [
    "# When the index is numeric we can use the same function to order by hand\n",
    "# the index:\n",
    "\n",
    "import pandas as pd\n",
    "import numpy as np\n",
    "df = pd.DataFrame(np.random.randn(5))\n",
    "df.reindex([4, 3, 2, 1, 0])"
   ]
  },
  {
   "cell_type": "code",
   "execution_count": 85,
   "id": "7ba1269d",
   "metadata": {},
   "outputs": [],
   "source": [
    "# Later in this section, we’ll see how to work and reorganize date and time\n",
    "# indices."
   ]
  },
  {
   "cell_type": "markdown",
   "id": "7b5133b5",
   "metadata": {},
   "source": [
    "# 11.7.5 Adding a new column"
   ]
  },
  {
   "cell_type": "code",
   "execution_count": null,
   "id": "1dd6108a",
   "metadata": {},
   "outputs": [],
   "source": [
    "# Another interesting feature of DataFrames is the possibility of adding new\n",
    "# columns to an existing DataFrame.\n",
    "# For example, we can add a new column to the random DataFrame that we\n",
    "# have created before:"
   ]
  },
  {
   "cell_type": "code",
   "execution_count": 88,
   "id": "c005b42f",
   "metadata": {},
   "outputs": [
    {
     "name": "stdout",
     "output_type": "stream",
     "text": [
      "          0\n",
      "0 -1.120573\n",
      "1 -0.023396\n",
      "2  0.898813\n",
      "3  0.184526\n",
      "4 -0.190831\n"
     ]
    }
   ],
   "source": [
    "import pandas as pd\n",
    "import numpy as np\n",
    "df = pd.DataFrame(np.random.randn(5))\n",
    "print(df)"
   ]
  },
  {
   "cell_type": "code",
   "execution_count": 89,
   "id": "0ef08cfd",
   "metadata": {},
   "outputs": [],
   "source": [
    "# To add a new column, we only need to include the new column name in the\n",
    "# DataFrame and assign a initialization value, or assign to the new column a\n",
    "# Pandas Series or another column from other DataFrame."
   ]
  },
  {
   "cell_type": "code",
   "execution_count": 90,
   "id": "2684815f",
   "metadata": {},
   "outputs": [
    {
     "data": {
      "text/html": [
       "<div>\n",
       "<style scoped>\n",
       "    .dataframe tbody tr th:only-of-type {\n",
       "        vertical-align: middle;\n",
       "    }\n",
       "\n",
       "    .dataframe tbody tr th {\n",
       "        vertical-align: top;\n",
       "    }\n",
       "\n",
       "    .dataframe thead th {\n",
       "        text-align: right;\n",
       "    }\n",
       "</style>\n",
       "<table border=\"1\" class=\"dataframe\">\n",
       "  <thead>\n",
       "    <tr style=\"text-align: right;\">\n",
       "      <th></th>\n",
       "      <th>0</th>\n",
       "      <th>new</th>\n",
       "    </tr>\n",
       "  </thead>\n",
       "  <tbody>\n",
       "    <tr>\n",
       "      <th>0</th>\n",
       "      <td>-1.120573</td>\n",
       "      <td>1</td>\n",
       "    </tr>\n",
       "    <tr>\n",
       "      <th>1</th>\n",
       "      <td>-0.023396</td>\n",
       "      <td>1</td>\n",
       "    </tr>\n",
       "    <tr>\n",
       "      <th>2</th>\n",
       "      <td>0.898813</td>\n",
       "      <td>1</td>\n",
       "    </tr>\n",
       "    <tr>\n",
       "      <th>3</th>\n",
       "      <td>0.184526</td>\n",
       "      <td>1</td>\n",
       "    </tr>\n",
       "    <tr>\n",
       "      <th>4</th>\n",
       "      <td>-0.190831</td>\n",
       "      <td>1</td>\n",
       "    </tr>\n",
       "  </tbody>\n",
       "</table>\n",
       "</div>"
      ],
      "text/plain": [
       "          0  new\n",
       "0 -1.120573    1\n",
       "1 -0.023396    1\n",
       "2  0.898813    1\n",
       "3  0.184526    1\n",
       "4 -0.190831    1"
      ]
     },
     "execution_count": 90,
     "metadata": {},
     "output_type": "execute_result"
    }
   ],
   "source": [
    "df['new'] = 1\n",
    "df"
   ]
  },
  {
   "cell_type": "markdown",
   "id": "668d9166",
   "metadata": {},
   "source": [
    "# 11.7.6 Delete an existing column"
   ]
  },
  {
   "cell_type": "markdown",
   "id": "c2158407",
   "metadata": {},
   "source": []
  },
  {
   "cell_type": "code",
   "execution_count": 92,
   "id": "59ba7f9c",
   "metadata": {},
   "outputs": [
    {
     "name": "stdout",
     "output_type": "stream",
     "text": [
      "          0         1         2         3\n",
      "0 -1.235728 -0.933597  2.210822 -0.335639\n",
      "1 -0.064719 -0.703728 -0.086935 -1.016960\n",
      "2  0.128844 -0.412476 -0.136359  1.071411\n",
      "3  1.184168 -0.280952 -0.823022  1.465083\n",
      "4 -1.447368 -1.485056  1.693150 -1.378049\n"
     ]
    }
   ],
   "source": [
    "import pandas as pd\n",
    "import numpy as np\n",
    "df = pd.DataFrame(np.random.randn(5,4))\n",
    "print(df)"
   ]
  },
  {
   "cell_type": "code",
   "execution_count": 98,
   "id": "5917f94a",
   "metadata": {},
   "outputs": [
    {
     "name": "stdout",
     "output_type": "stream",
     "text": [
      "          1         2         3\n",
      "0 -0.605802 -0.128698 -0.507866\n",
      "1  0.567823 -0.765911 -0.810481\n",
      "2 -0.808014  0.709900 -0.667111\n",
      "3 -0.535651 -0.386829 -0.806992\n",
      "4  0.051919 -0.389748  0.533185\n"
     ]
    }
   ],
   "source": [
    "# Now, we can delete the column that we specify by index or by label if any:\n",
    "import pandas as pd\n",
    "import numpy as np\n",
    "df = pd.DataFrame(np.random.randn(5,4))\n",
    "\n",
    "del df[0]\n",
    "\n",
    "print(df)"
   ]
  },
  {
   "cell_type": "code",
   "execution_count": 103,
   "id": "362c1e7f",
   "metadata": {},
   "outputs": [
    {
     "name": "stdout",
     "output_type": "stream",
     "text": [
      "          1         2         3\n",
      "0 -2.608111 -1.563082  0.248908\n",
      "1  0.608884  0.643929  1.387672\n",
      "2 -0.526858  0.593489  1.014612\n",
      "3  1.399404 -0.819057 -0.907332\n",
      "4  0.178634 -0.033514  1.141882\n"
     ]
    }
   ],
   "source": [
    "import pandas as pd\n",
    "import numpy as np\n",
    "\n",
    "df = pd.DataFrame(np.random.randn(5,4))\n",
    "\n",
    "del df[0]\n",
    "\n",
    "print(df)"
   ]
  },
  {
   "cell_type": "code",
   "execution_count": 104,
   "id": "642dc805",
   "metadata": {},
   "outputs": [
    {
     "data": {
      "text/html": [
       "<div>\n",
       "<style scoped>\n",
       "    .dataframe tbody tr th:only-of-type {\n",
       "        vertical-align: middle;\n",
       "    }\n",
       "\n",
       "    .dataframe tbody tr th {\n",
       "        vertical-align: top;\n",
       "    }\n",
       "\n",
       "    .dataframe thead th {\n",
       "        text-align: right;\n",
       "    }\n",
       "</style>\n",
       "<table border=\"1\" class=\"dataframe\">\n",
       "  <thead>\n",
       "    <tr style=\"text-align: right;\">\n",
       "      <th></th>\n",
       "      <th>1</th>\n",
       "      <th>2</th>\n",
       "      <th>3</th>\n",
       "      <th>new</th>\n",
       "    </tr>\n",
       "  </thead>\n",
       "  <tbody>\n",
       "    <tr>\n",
       "      <th>0</th>\n",
       "      <td>-2.608111</td>\n",
       "      <td>-1.563082</td>\n",
       "      <td>0.248908</td>\n",
       "      <td>1</td>\n",
       "    </tr>\n",
       "    <tr>\n",
       "      <th>1</th>\n",
       "      <td>0.608884</td>\n",
       "      <td>0.643929</td>\n",
       "      <td>1.387672</td>\n",
       "      <td>1</td>\n",
       "    </tr>\n",
       "    <tr>\n",
       "      <th>2</th>\n",
       "      <td>-0.526858</td>\n",
       "      <td>0.593489</td>\n",
       "      <td>1.014612</td>\n",
       "      <td>1</td>\n",
       "    </tr>\n",
       "    <tr>\n",
       "      <th>3</th>\n",
       "      <td>1.399404</td>\n",
       "      <td>-0.819057</td>\n",
       "      <td>-0.907332</td>\n",
       "      <td>1</td>\n",
       "    </tr>\n",
       "    <tr>\n",
       "      <th>4</th>\n",
       "      <td>0.178634</td>\n",
       "      <td>-0.033514</td>\n",
       "      <td>1.141882</td>\n",
       "      <td>1</td>\n",
       "    </tr>\n",
       "  </tbody>\n",
       "</table>\n",
       "</div>"
      ],
      "text/plain": [
       "          1         2         3  new\n",
       "0 -2.608111 -1.563082  0.248908    1\n",
       "1  0.608884  0.643929  1.387672    1\n",
       "2 -0.526858  0.593489  1.014612    1\n",
       "3  1.399404 -0.819057 -0.907332    1\n",
       "4  0.178634 -0.033514  1.141882    1"
      ]
     },
     "execution_count": 104,
     "metadata": {},
     "output_type": "execute_result"
    }
   ],
   "source": [
    "df['new'] = 1\n",
    "df"
   ]
  },
  {
   "cell_type": "code",
   "execution_count": 105,
   "id": "4eef50da",
   "metadata": {},
   "outputs": [
    {
     "name": "stdout",
     "output_type": "stream",
     "text": [
      "          1         2         3\n",
      "0 -2.608111 -1.563082  0.248908\n",
      "1  0.608884  0.643929  1.387672\n",
      "2 -0.526858  0.593489  1.014612\n",
      "3  1.399404 -0.819057 -0.907332\n",
      "4  0.178634 -0.033514  1.141882\n"
     ]
    }
   ],
   "source": [
    "del df['new']\n",
    "print(df)"
   ]
  },
  {
   "cell_type": "markdown",
   "id": "176960b9",
   "metadata": {},
   "source": [
    "# 11.7.7 The .at[] (By label)"
   ]
  },
  {
   "cell_type": "code",
   "execution_count": 108,
   "id": "de90ec07",
   "metadata": {},
   "outputs": [
    {
     "name": "stdout",
     "output_type": "stream",
     "text": [
      "          A         B         C         D\n",
      "a -1.514532 -1.453528 -0.977419 -0.268328\n",
      "b  1.049319  0.892570 -1.053792  0.796351\n",
      "c -0.505621 -1.216863  0.049326  1.228823\n",
      "d  0.201838  0.634439  1.205004 -0.301553\n",
      "e -0.252906 -2.115498  0.383046  0.597465\n"
     ]
    }
   ],
   "source": [
    "# With at we can to locate a specific value by row and column labels as follows:\n",
    "\n",
    "import pandas as pd\n",
    "import numpy as np\n",
    "\n",
    "df = pd.DataFrame(np.random.randn(5,4), index= ['a', 'b', 'c', 'd', 'e'], columns= [ 'A', 'B', 'C', 'D'])\n",
    "\n",
    "print(df)"
   ]
  },
  {
   "cell_type": "code",
   "execution_count": 109,
   "id": "d7205dfc",
   "metadata": {},
   "outputs": [
    {
     "data": {
      "text/plain": [
       "np.float64(-1.5145317062751684)"
      ]
     },
     "execution_count": 109,
     "metadata": {},
     "output_type": "execute_result"
    }
   ],
   "source": [
    "df.at['a', 'A']"
   ]
  },
  {
   "cell_type": "code",
   "execution_count": 111,
   "id": "0bc43818",
   "metadata": {},
   "outputs": [
    {
     "name": "stdout",
     "output_type": "stream",
     "text": [
      "          A         B         C         D\n",
      "a  0.000000 -1.453528 -0.977419 -0.268328\n",
      "b  1.049319  0.892570 -1.053792  0.796351\n",
      "c -0.505621 -1.216863  0.049326  1.228823\n",
      "d  0.201838  0.634439  1.205004 -0.301553\n",
      "e -0.252906 -2.115498  0.383046  0.597465\n"
     ]
    }
   ],
   "source": [
    "# It is possible to assign a new value with the same funcion too:\n",
    "\n",
    "df.at['a', 'A'] = 0\n",
    "print(df)"
   ]
  },
  {
   "cell_type": "code",
   "execution_count": 112,
   "id": "4a34169a",
   "metadata": {},
   "outputs": [
    {
     "name": "stdout",
     "output_type": "stream",
     "text": [
      "          A         B         C         D\n",
      "a  0.506090  0.572871 -1.107777  0.413748\n",
      "b  1.892530  1.180991 -0.292931  0.932159\n",
      "c -0.251947 -1.542861  0.723294 -0.106190\n",
      "d -0.140188 -0.165274 -1.265350 -1.921790\n",
      "e -2.055474  0.577440  0.623161  0.410043\n"
     ]
    },
    {
     "data": {
      "text/plain": [
       "np.float64(0.5060901254055061)"
      ]
     },
     "execution_count": 112,
     "metadata": {},
     "output_type": "execute_result"
    }
   ],
   "source": [
    "# 11.7.8 the .iat (By position)\n",
    "\n",
    "# With iat we can locate a specific value by row and index as follow:\n",
    "import pandas as pd\n",
    "import numpy as np\n",
    "df = pd.DataFrame(np.random.randn(5, 4), index= ['a', 'b', 'c', 'd', 'e'], columns= ['A', 'B', 'C', 'D'])\n",
    "print(df)\n",
    "df.iat[0, 0]"
   ]
  },
  {
   "cell_type": "code",
   "execution_count": 114,
   "id": "5469bfbb",
   "metadata": {},
   "outputs": [
    {
     "name": "stdout",
     "output_type": "stream",
     "text": [
      "          A         B         C         D\n",
      "a -0.779212  0.595685  1.556587 -0.386736\n",
      "b -0.806039 -0.086528  2.006485  0.460853\n",
      "c -1.314368  1.183854  0.233083  1.232674\n",
      "d -0.625835 -1.194173 -0.613656  1.656818\n",
      "e  0.616713 -0.902465  1.736280  0.898451\n"
     ]
    }
   ],
   "source": [
    "# It is possible to assign a new value with the same funcion too:\n",
    "import pandas as pd\n",
    "import numpy as np\n",
    "df = pd.DataFrame(np.random.randn(5, 4), index= ['a', 'b', 'c', 'd', 'e'], columns= ['A', 'B', 'C', 'D'])\n",
    "print(df)\n",
    "df.iat[0, 0] = 0"
   ]
  },
  {
   "cell_type": "markdown",
   "id": "88375b63",
   "metadata": {},
   "source": [
    "# 11.7.9 Conditional updating of values"
   ]
  },
  {
   "cell_type": "code",
   "execution_count": 116,
   "id": "cd64e62b",
   "metadata": {},
   "outputs": [
    {
     "name": "stdout",
     "output_type": "stream",
     "text": [
      "           A         B         C         D\n",
      "a  -0.359276 -0.628395  1.545207 -0.160583\n",
      "b  -1.306404 -0.735481  0.277592  0.071221\n",
      "c  -1.385012 -1.175592  0.704724 -0.026375\n",
      "d   0.011522  0.227885  0.539219 -0.813117\n",
      " e  0.361406  2.246456  0.656841  0.431706\n"
     ]
    }
   ],
   "source": [
    "# Another useful function is to update values that meet some criteria, for\n",
    "# example, update values whose values are greater than 0:\n",
    "\n",
    "import pandas as pd\n",
    "import numpy as np\n",
    "df = pd.DataFrame(np.random.randn(5,4), index= ['a', 'b', 'c', 'd', ' e'], columns= ['A', 'B', 'C', 'D'])\n",
    "print(df)"
   ]
  },
  {
   "cell_type": "code",
   "execution_count": 117,
   "id": "448903c7",
   "metadata": {},
   "outputs": [
    {
     "data": {
      "text/html": [
       "<div>\n",
       "<style scoped>\n",
       "    .dataframe tbody tr th:only-of-type {\n",
       "        vertical-align: middle;\n",
       "    }\n",
       "\n",
       "    .dataframe tbody tr th {\n",
       "        vertical-align: top;\n",
       "    }\n",
       "\n",
       "    .dataframe thead th {\n",
       "        text-align: right;\n",
       "    }\n",
       "</style>\n",
       "<table border=\"1\" class=\"dataframe\">\n",
       "  <thead>\n",
       "    <tr style=\"text-align: right;\">\n",
       "      <th></th>\n",
       "      <th>A</th>\n",
       "      <th>B</th>\n",
       "      <th>C</th>\n",
       "      <th>D</th>\n",
       "    </tr>\n",
       "  </thead>\n",
       "  <tbody>\n",
       "    <tr>\n",
       "      <th>a</th>\n",
       "      <td>-0.359276</td>\n",
       "      <td>-0.628395</td>\n",
       "      <td>1.0</td>\n",
       "      <td>-0.160583</td>\n",
       "    </tr>\n",
       "    <tr>\n",
       "      <th>b</th>\n",
       "      <td>-1.306404</td>\n",
       "      <td>-0.735481</td>\n",
       "      <td>1.0</td>\n",
       "      <td>1.000000</td>\n",
       "    </tr>\n",
       "    <tr>\n",
       "      <th>c</th>\n",
       "      <td>-1.385012</td>\n",
       "      <td>-1.175592</td>\n",
       "      <td>1.0</td>\n",
       "      <td>-0.026375</td>\n",
       "    </tr>\n",
       "    <tr>\n",
       "      <th>d</th>\n",
       "      <td>1.000000</td>\n",
       "      <td>1.000000</td>\n",
       "      <td>1.0</td>\n",
       "      <td>-0.813117</td>\n",
       "    </tr>\n",
       "    <tr>\n",
       "      <th>e</th>\n",
       "      <td>1.000000</td>\n",
       "      <td>1.000000</td>\n",
       "      <td>1.0</td>\n",
       "      <td>1.000000</td>\n",
       "    </tr>\n",
       "  </tbody>\n",
       "</table>\n",
       "</div>"
      ],
      "text/plain": [
       "           A         B    C         D\n",
       "a  -0.359276 -0.628395  1.0 -0.160583\n",
       "b  -1.306404 -0.735481  1.0  1.000000\n",
       "c  -1.385012 -1.175592  1.0 -0.026375\n",
       "d   1.000000  1.000000  1.0 -0.813117\n",
       " e  1.000000  1.000000  1.0  1.000000"
      ]
     },
     "execution_count": 117,
     "metadata": {},
     "output_type": "execute_result"
    }
   ],
   "source": [
    "df[df > 0] = 1\n",
    "df"
   ]
  },
  {
   "cell_type": "code",
   "execution_count": 121,
   "id": "a0329f2e",
   "metadata": {},
   "outputs": [
    {
     "name": "stdout",
     "output_type": "stream",
     "text": [
      "      A         B    C         D\n",
      "a   1.0 -0.628395  1.0 -0.160583\n",
      "b   1.0 -0.735481  1.0  1.000000\n",
      "c   1.0 -1.175592  1.0 -0.026375\n",
      "d   1.0  1.000000  1.0 -0.813117\n",
      " e  1.0  1.000000  1.0  1.000000\n"
     ]
    },
    {
     "name": "stderr",
     "output_type": "stream",
     "text": [
      "/tmp/ipykernel_7652/3597219185.py:3: FutureWarning: ChainedAssignmentError: behaviour will change in pandas 3.0!\n",
      "You are setting values through chained assignment. Currently this works in certain cases, but when using Copy-on-Write (which will become the default behaviour in pandas 3.0) this will never work to update the original DataFrame or Series, because the intermediate object on which we are setting values will behave as a copy.\n",
      "A typical example is when you are setting values in a column of a DataFrame, like:\n",
      "\n",
      "df[\"col\"][row_indexer] = value\n",
      "\n",
      "Use `df.loc[row_indexer, \"col\"] = values` instead, to perform the assignment in a single step and ensure this keeps updating the original `df`.\n",
      "\n",
      "See the caveats in the documentation: https://pandas.pydata.org/pandas-docs/stable/user_guide/indexing.html#returning-a-view-versus-a-copy\n",
      "\n",
      "  df['A'][df['A'] < 0] = 1\n"
     ]
    }
   ],
   "source": [
    "# We can also update the values of a specific column that meet some criteria,\n",
    "# or even work with several columns as criteria and update a specific column.\n",
    "df['A'][df['A'] < 0] = 1\n",
    "print(df)"
   ]
  },
  {
   "cell_type": "code",
   "execution_count": 128,
   "id": "6b282b4b",
   "metadata": {},
   "outputs": [
    {
     "name": "stdout",
     "output_type": "stream",
     "text": [
      "          A         B         C         D\n",
      "a -1.707397  0.239532 -1.032637  0.728915\n",
      "b -0.302534  1.184338 -0.042914 -1.221639\n",
      "c  1.472746 -2.164597  0.724124  1.202819\n",
      "d  0.227614  0.134702  1.250992  0.560247\n",
      "e  9.000000 -0.354181 -0.411484  0.374263\n"
     ]
    }
   ],
   "source": [
    "df.loc[(df['B'] < 0) & (df['C'] < 0), 'A'] = 9\n",
    "\n",
    "print(df)"
   ]
  },
  {
   "cell_type": "markdown",
   "id": "76361c92",
   "metadata": {},
   "source": [
    "# 11.7.10 The .dropna() method"
   ]
  },
  {
   "cell_type": "code",
   "execution_count": 123,
   "id": "84288344",
   "metadata": {},
   "outputs": [],
   "source": [
    "# Occasionally, we may have a DataFrame that, for whatever reason, includes\n",
    "# NA values. This type of values is usually problematic when we are making\n",
    "# calculations or operations and must be treated properly before proceeding\n",
    "# with them. The easiest way to eliminate NA values is to remove the row\n",
    "# that contains it."
   ]
  },
  {
   "cell_type": "code",
   "execution_count": 125,
   "id": "eae04b81",
   "metadata": {},
   "outputs": [
    {
     "name": "stdout",
     "output_type": "stream",
     "text": [
      "          A         B         C         D\n",
      "a -1.707397  0.239532 -1.032637  0.728915\n",
      "b -0.302534  1.184338 -0.042914 -1.221639\n",
      "c  1.472746 -2.164597  0.724124  1.202819\n",
      "d  0.227614  0.134702  1.250992  0.560247\n",
      "e  0.374880 -0.354181 -0.411484  0.374263\n"
     ]
    }
   ],
   "source": [
    "import pandas as pd\n",
    "import numpy as np\n",
    "\n",
    "df = pd.DataFrame(np.random.randn(5, 4), index= ['a', 'b', 'c', 'd', 'e'], columns= ['A', 'B', 'C', 'D'])\n",
    "print(df)"
   ]
  },
  {
   "cell_type": "code",
   "execution_count": 127,
   "id": "4f80d22b",
   "metadata": {},
   "outputs": [
    {
     "name": "stdout",
     "output_type": "stream",
     "text": [
      "          A         B         C         D\n",
      "a -1.707397  0.239532 -1.032637  0.728915\n",
      "b -0.302534  1.184338 -0.042914 -1.221639\n",
      "c  1.472746 -2.164597  0.724124  1.202819\n",
      "d  0.227614  0.134702  1.250992  0.560247\n",
      "e       NaN -0.354181 -0.411484  0.374263\n"
     ]
    }
   ],
   "source": [
    "df.loc[(df['B'] < 0) & (df['C'] < 0), 'A'] = np.nan\n",
    "\n",
    "print(df)\n"
   ]
  },
  {
   "cell_type": "code",
   "execution_count": 129,
   "id": "f1df4b2b",
   "metadata": {},
   "outputs": [
    {
     "name": "stdout",
     "output_type": "stream",
     "text": [
      "          A         B         C         D\n",
      "a -1.707397  0.239532 -1.032637  0.728915\n",
      "b -0.302534  1.184338 -0.042914 -1.221639\n",
      "c  1.472746 -2.164597  0.724124  1.202819\n",
      "d  0.227614  0.134702  1.250992  0.560247\n",
      "e  9.000000 -0.354181 -0.411484  0.374263\n"
     ]
    }
   ],
   "source": [
    "df = df.dropna()\n",
    "print(df)"
   ]
  },
  {
   "cell_type": "code",
   "execution_count": 130,
   "id": "59666269",
   "metadata": {},
   "outputs": [
    {
     "name": "stdout",
     "output_type": "stream",
     "text": [
      "          A         B         C         D\n",
      "a -1.707397  0.239532 -1.032637  0.728915\n",
      "b -0.302534  1.184338 -0.042914 -1.221639\n",
      "c  1.472746 -2.164597  0.724124  1.202819\n",
      "d  0.227614  0.134702  1.250992  0.560247\n",
      "e  9.000000 -0.354181 -0.411484  0.374263\n"
     ]
    }
   ],
   "source": [
    "# Here we are deleting the whole row that has, in any of its columns, a NaN\n",
    "# value, but we can also specify that it deletes the column that any of its\n",
    "# values is NaN:\n",
    "\n",
    "df = df.dropna(axis=1)\n",
    "print(df)"
   ]
  },
  {
   "cell_type": "code",
   "execution_count": 131,
   "id": "8cbe44c9",
   "metadata": {},
   "outputs": [],
   "source": [
    "# We can specify if a single NaN value is enough to delete the row or column,\n",
    "# or if the whole row or column must have NaN to delete it.\n",
    "# pythonpython df=df.dropna(how=’all’) print(df) “‘"
   ]
  },
  {
   "cell_type": "markdown",
   "id": "89b5e475",
   "metadata": {},
   "source": [
    "# 11.7.11 The .fillna() method"
   ]
  },
  {
   "cell_type": "code",
   "execution_count": 132,
   "id": "09e19830",
   "metadata": {},
   "outputs": [
    {
     "name": "stdout",
     "output_type": "stream",
     "text": [
      "          A         B         C         D\n",
      "a -0.666892  0.182337  0.242420  0.516539\n",
      "b -0.521460  0.293415  0.229360  1.433807\n",
      "c -2.094678  0.891222 -1.643587  2.623666\n",
      "d -0.408668 -0.852653  0.914910  0.301023\n",
      "e -0.981643  1.256216  0.710291 -1.171743\n"
     ]
    }
   ],
   "source": [
    "# With the previous function we have seen how to eliminate a complete row\n",
    "# or column that contains one or all the values to NaN, this operation can be\n",
    "# a little drastic if we have valid values in the row or column.\n",
    "# For this, it is interesting to use the fillna function that substitutes the NaN\n",
    "# values with some fixed value.\n",
    "\n",
    "import pandas as pd\n",
    "import numpy as np\n",
    "df = pd.DataFrame(np.random.randn(5, 4), index= ['a', 'b', 'c', 'd', 'e'], columns = ['A', 'B', 'C', 'D'])\n",
    "print(df)"
   ]
  },
  {
   "cell_type": "code",
   "execution_count": 134,
   "id": "0a0b6960",
   "metadata": {},
   "outputs": [
    {
     "name": "stdout",
     "output_type": "stream",
     "text": [
      "          A         B         C         D\n",
      "a -0.666892  0.182337  0.242420  0.516539\n",
      "b -0.521460  0.293415  0.229360  1.433807\n",
      "c -2.094678  0.891222 -1.643587  2.623666\n",
      "d -0.408668 -0.852653  0.914910  0.301023\n",
      "e -0.981643  1.256216  0.710291 -1.171743\n"
     ]
    }
   ],
   "source": [
    "df.loc[(df['B'] < 0) & (df['C'] < 0), 'A'] = np.nan\n",
    "\n",
    "print(df)"
   ]
  },
  {
   "cell_type": "code",
   "execution_count": 135,
   "id": "a32b8ec6",
   "metadata": {},
   "outputs": [
    {
     "name": "stdout",
     "output_type": "stream",
     "text": [
      "          A         B         C         D\n",
      "a -0.666892  0.182337  0.242420  0.516539\n",
      "b -0.521460  0.293415  0.229360  1.433807\n",
      "c -2.094678  0.891222 -1.643587  2.623666\n",
      "d -0.408668 -0.852653  0.914910  0.301023\n",
      "e -0.981643  1.256216  0.710291 -1.171743\n"
     ]
    }
   ],
   "source": [
    "df.fillna(999)\n",
    "print(df)"
   ]
  },
  {
   "cell_type": "markdown",
   "id": "6b9137c4",
   "metadata": {},
   "source": [
    "# 11.7.12 The .apply() method"
   ]
  },
  {
   "cell_type": "code",
   "execution_count": 137,
   "id": "2f20cd80",
   "metadata": {},
   "outputs": [],
   "source": [
    "# The apply is a very useful way to use functions or methods in a DataFrame\n",
    "# without having to loop through it. We can apply the apply method to\n",
    "# a Series or DataFrame to apply a function to all rows or columns of the\n",
    "# DataFrame. Let’s see some examples."
   ]
  },
  {
   "cell_type": "code",
   "execution_count": 136,
   "id": "3d66b1de",
   "metadata": {},
   "outputs": [],
   "source": [
    "# Suppose we are working with the randomly generated DataFrame and\n",
    "# need to apply a function. In this example, for simplicity’s sake, we’re going\n",
    "# to create a custom function to square a number."
   ]
  },
  {
   "cell_type": "code",
   "execution_count": 140,
   "id": "91f3f7d6",
   "metadata": {},
   "outputs": [
    {
     "name": "stdout",
     "output_type": "stream",
     "text": [
      "          A         B         C         D\n",
      "a -1.999750 -0.321757  1.646261  1.515571\n",
      "b -1.355018 -0.836474 -0.130086 -0.317066\n",
      "c  0.964877  0.200072  0.846015 -0.059308\n",
      "d -0.875499  4.311572  1.615793 -0.612616\n",
      "e  0.888267  0.036184 -0.107126  0.331851\n"
     ]
    }
   ],
   "source": [
    "import pandas as pd\n",
    "import numpy as np\n",
    "\n",
    "df = pd.DataFrame(np.random.randn(5, 4), index= ['a', 'b', 'c', 'd', 'e'], columns= ['A', 'B', 'C', 'D'])\n",
    "print(df)"
   ]
  },
  {
   "cell_type": "code",
   "execution_count": 141,
   "id": "f7adad64",
   "metadata": {},
   "outputs": [
    {
     "data": {
      "text/plain": [
       "4"
      ]
     },
     "execution_count": 141,
     "metadata": {},
     "output_type": "execute_result"
    }
   ],
   "source": [
    "def square_number(number):\n",
    "    return number**2\n",
    "\n",
    "# Test the function\n",
    "square_number(2)"
   ]
  },
  {
   "cell_type": "code",
   "execution_count": 142,
   "id": "52be7fe8",
   "metadata": {},
   "outputs": [],
   "source": [
    "# Now, let’s use the custom function through Apply:"
   ]
  },
  {
   "cell_type": "code",
   "execution_count": 143,
   "id": "6affcadd",
   "metadata": {},
   "outputs": [
    {
     "data": {
      "text/html": [
       "<div>\n",
       "<style scoped>\n",
       "    .dataframe tbody tr th:only-of-type {\n",
       "        vertical-align: middle;\n",
       "    }\n",
       "\n",
       "    .dataframe tbody tr th {\n",
       "        vertical-align: top;\n",
       "    }\n",
       "\n",
       "    .dataframe thead th {\n",
       "        text-align: right;\n",
       "    }\n",
       "</style>\n",
       "<table border=\"1\" class=\"dataframe\">\n",
       "  <thead>\n",
       "    <tr style=\"text-align: right;\">\n",
       "      <th></th>\n",
       "      <th>A</th>\n",
       "      <th>B</th>\n",
       "      <th>C</th>\n",
       "      <th>D</th>\n",
       "    </tr>\n",
       "  </thead>\n",
       "  <tbody>\n",
       "    <tr>\n",
       "      <th>a</th>\n",
       "      <td>3.999000</td>\n",
       "      <td>0.103527</td>\n",
       "      <td>2.710174</td>\n",
       "      <td>2.296955</td>\n",
       "    </tr>\n",
       "    <tr>\n",
       "      <th>b</th>\n",
       "      <td>1.836074</td>\n",
       "      <td>0.699689</td>\n",
       "      <td>0.016922</td>\n",
       "      <td>0.100531</td>\n",
       "    </tr>\n",
       "    <tr>\n",
       "      <th>c</th>\n",
       "      <td>0.930988</td>\n",
       "      <td>0.040029</td>\n",
       "      <td>0.715742</td>\n",
       "      <td>0.003517</td>\n",
       "    </tr>\n",
       "    <tr>\n",
       "      <th>d</th>\n",
       "      <td>0.766498</td>\n",
       "      <td>18.589652</td>\n",
       "      <td>2.610787</td>\n",
       "      <td>0.375298</td>\n",
       "    </tr>\n",
       "    <tr>\n",
       "      <th>e</th>\n",
       "      <td>0.789019</td>\n",
       "      <td>0.001309</td>\n",
       "      <td>0.011476</td>\n",
       "      <td>0.110125</td>\n",
       "    </tr>\n",
       "  </tbody>\n",
       "</table>\n",
       "</div>"
      ],
      "text/plain": [
       "          A          B         C         D\n",
       "a  3.999000   0.103527  2.710174  2.296955\n",
       "b  1.836074   0.699689  0.016922  0.100531\n",
       "c  0.930988   0.040029  0.715742  0.003517\n",
       "d  0.766498  18.589652  2.610787  0.375298\n",
       "e  0.789019   0.001309  0.011476  0.110125"
      ]
     },
     "execution_count": 143,
     "metadata": {},
     "output_type": "execute_result"
    }
   ],
   "source": [
    "df.apply(square_number, axis= 1)"
   ]
  },
  {
   "cell_type": "code",
   "execution_count": 144,
   "id": "ece24aad",
   "metadata": {},
   "outputs": [],
   "source": [
    "# This method apply the funcion square_number to all rows of the DataFrame."
   ]
  },
  {
   "cell_type": "markdown",
   "id": "be1682cc",
   "metadata": {},
   "source": [
    "# 11.7.13 The .shift() function"
   ]
  },
  {
   "cell_type": "code",
   "execution_count": null,
   "id": "43354e7f",
   "metadata": {},
   "outputs": [],
   "source": [
    "# The shift function allows us to move a row to the right or left and/or to\n",
    "# move a column up or down. Let’s look at some examples.\n",
    "# First, we are going to move the values of a column downwards:"
   ]
  },
  {
   "cell_type": "code",
   "execution_count": 145,
   "id": "10414ec1",
   "metadata": {},
   "outputs": [
    {
     "name": "stdout",
     "output_type": "stream",
     "text": [
      "          A         B         C         D\n",
      "a -0.894558 -0.127453 -1.853428 -0.494429\n",
      "b  0.622906  0.076646  1.038970 -0.271096\n",
      "c  2.158347 -0.416885 -1.011095 -0.062685\n",
      "d  0.084026 -0.143759 -0.212151 -0.128605\n",
      "e -1.681603 -0.851444  0.693567 -0.257140\n"
     ]
    }
   ],
   "source": [
    "import pandas as pd\n",
    "import numpy as np\n",
    "\n",
    "df = pd.DataFrame(np.random.randn(5, 4), index= ['a', 'b', 'c', 'd', 'e'], columns= ['A', 'B', 'C', 'D'])\n",
    "print(df)"
   ]
  },
  {
   "cell_type": "code",
   "execution_count": 147,
   "id": "61889bc1",
   "metadata": {},
   "outputs": [
    {
     "data": {
      "text/plain": [
       "a         NaN\n",
       "b   -0.494429\n",
       "c   -0.271096\n",
       "d   -0.062685\n",
       "e   -0.128605\n",
       "Name: D, dtype: float64"
      ]
     },
     "execution_count": 147,
     "metadata": {},
     "output_type": "execute_result"
    }
   ],
   "source": [
    "df['D'].shift(1)"
   ]
  },
  {
   "cell_type": "code",
   "execution_count": 148,
   "id": "8b641b88",
   "metadata": {},
   "outputs": [],
   "source": [
    "df['shift'] = df['D'].shift(-1)"
   ]
  },
  {
   "cell_type": "code",
   "execution_count": 149,
   "id": "2068b2fc",
   "metadata": {},
   "outputs": [],
   "source": [
    "# This is very useful for comparing the current value with the previous value."
   ]
  },
  {
   "cell_type": "markdown",
   "id": "554081aa",
   "metadata": {},
   "source": [
    "# 11.8 Statistical Exploratory data analysis"
   ]
  },
  {
   "cell_type": "markdown",
   "id": "6c685a3f",
   "metadata": {},
   "source": []
  },
  {
   "cell_type": "code",
   "execution_count": 150,
   "id": "f6dcbe6a",
   "metadata": {},
   "outputs": [],
   "source": [
    "# Pandas DataFrame allows us to make some descriptive statistics calcula-\n",
    "# tions, which are very useful to make a first analysis of the data we are han-\n",
    "# dling. Let’s see some useful functions."
   ]
  },
  {
   "cell_type": "markdown",
   "id": "4ef3f330",
   "metadata": {},
   "source": [
    "# 11.8.1 The info() function"
   ]
  },
  {
   "cell_type": "markdown",
   "id": "2b1d6b70",
   "metadata": {},
   "source": [
    "It is a good practice to know the structure and format of our DataDrame, the Info function offers us just that:\n"
   ]
  },
  {
   "cell_type": "code",
   "execution_count": 1,
   "id": "19a7f3f9",
   "metadata": {},
   "outputs": [],
   "source": [
    "# It is a good practice to know the structure and format of our DataFrame,\n",
    "# the Info function offers us just that:"
   ]
  },
  {
   "cell_type": "code",
   "execution_count": 2,
   "id": "769c5228",
   "metadata": {},
   "outputs": [
    {
     "name": "stdout",
     "output_type": "stream",
     "text": [
      "          A         B         C         D\n",
      "a -1.116430  0.968136 -1.303837  1.085266\n",
      "b -0.194535  0.694252  1.648532 -0.561602\n",
      "c -0.713545  0.347617  0.851690 -1.243066\n",
      "d  0.914486 -0.119410 -0.014373 -1.769090\n",
      "e -2.166153  1.066452 -0.168732  0.099575\n"
     ]
    }
   ],
   "source": [
    "import pandas as pd\n",
    "import numpy as np\n",
    "df = pd.DataFrame(np.random.randn(5, 4), index=['a', 'b', 'c', 'd', 'e'], columns= ['A', 'B', 'C', 'D'])\n",
    "print(df)"
   ]
  },
  {
   "cell_type": "code",
   "execution_count": 3,
   "id": "fd7f1311",
   "metadata": {},
   "outputs": [
    {
     "name": "stdout",
     "output_type": "stream",
     "text": [
      "<class 'pandas.core.frame.DataFrame'>\n",
      "Index: 5 entries, a to e\n",
      "Data columns (total 4 columns):\n",
      " #   Column  Non-Null Count  Dtype  \n",
      "---  ------  --------------  -----  \n",
      " 0   A       5 non-null      float64\n",
      " 1   B       5 non-null      float64\n",
      " 2   C       5 non-null      float64\n",
      " 3   D       5 non-null      float64\n",
      "dtypes: float64(4)\n",
      "memory usage: 372.0+ bytes\n"
     ]
    }
   ],
   "source": [
    "df.info()"
   ]
  },
  {
   "cell_type": "markdown",
   "id": "eb729e1b",
   "metadata": {},
   "source": [
    "# 11.8.2 The describe() function"
   ]
  },
  {
   "cell_type": "code",
   "execution_count": 4,
   "id": "ade44557",
   "metadata": {},
   "outputs": [],
   "source": [
    "# We can obtain a statistical overview of the DataFrame with the ‘describe\n",
    "# function, which gives us the mean, median, standard deviation, maximum,\n",
    "# minimum, quartiles, etc. of each DataFrame column."
   ]
  },
  {
   "cell_type": "code",
   "execution_count": 5,
   "id": "149b5ef9",
   "metadata": {},
   "outputs": [
    {
     "name": "stdout",
     "output_type": "stream",
     "text": [
      "          A         B         C         D\n",
      "a  0.583552  1.091753 -0.013465  1.379078\n",
      "b  0.014346  0.267056  1.766092  0.105149\n",
      "c  0.809989  1.125887 -0.649294  0.108232\n",
      "d -0.780958  0.085224 -0.689080  0.318204\n",
      "e  1.355052 -0.571481 -0.285292 -1.439263\n"
     ]
    }
   ],
   "source": [
    "import pandas as pd\n",
    "import numpy as np\n",
    "df = pd.DataFrame(np.random.randn(5, 4), index= ['a', 'b', 'c', 'd', 'e'], columns= ['A', 'B', 'C', 'D'])\n",
    "print(df)"
   ]
  },
  {
   "cell_type": "code",
   "execution_count": 6,
   "id": "7d8bd7d3",
   "metadata": {},
   "outputs": [
    {
     "data": {
      "text/html": [
       "<div>\n",
       "<style scoped>\n",
       "    .dataframe tbody tr th:only-of-type {\n",
       "        vertical-align: middle;\n",
       "    }\n",
       "\n",
       "    .dataframe tbody tr th {\n",
       "        vertical-align: top;\n",
       "    }\n",
       "\n",
       "    .dataframe thead th {\n",
       "        text-align: right;\n",
       "    }\n",
       "</style>\n",
       "<table border=\"1\" class=\"dataframe\">\n",
       "  <thead>\n",
       "    <tr style=\"text-align: right;\">\n",
       "      <th></th>\n",
       "      <th>A</th>\n",
       "      <th>B</th>\n",
       "      <th>C</th>\n",
       "      <th>D</th>\n",
       "    </tr>\n",
       "  </thead>\n",
       "  <tbody>\n",
       "    <tr>\n",
       "      <th>count</th>\n",
       "      <td>5.000000</td>\n",
       "      <td>5.000000</td>\n",
       "      <td>5.000000</td>\n",
       "      <td>5.000000</td>\n",
       "    </tr>\n",
       "    <tr>\n",
       "      <th>mean</th>\n",
       "      <td>0.396396</td>\n",
       "      <td>0.399688</td>\n",
       "      <td>0.025792</td>\n",
       "      <td>0.094280</td>\n",
       "    </tr>\n",
       "    <tr>\n",
       "      <th>std</th>\n",
       "      <td>0.815051</td>\n",
       "      <td>0.718674</td>\n",
       "      <td>1.011650</td>\n",
       "      <td>1.006592</td>\n",
       "    </tr>\n",
       "    <tr>\n",
       "      <th>min</th>\n",
       "      <td>-0.780958</td>\n",
       "      <td>-0.571481</td>\n",
       "      <td>-0.689080</td>\n",
       "      <td>-1.439263</td>\n",
       "    </tr>\n",
       "    <tr>\n",
       "      <th>25%</th>\n",
       "      <td>0.014346</td>\n",
       "      <td>0.085224</td>\n",
       "      <td>-0.649294</td>\n",
       "      <td>0.105149</td>\n",
       "    </tr>\n",
       "    <tr>\n",
       "      <th>50%</th>\n",
       "      <td>0.583552</td>\n",
       "      <td>0.267056</td>\n",
       "      <td>-0.285292</td>\n",
       "      <td>0.108232</td>\n",
       "    </tr>\n",
       "    <tr>\n",
       "      <th>75%</th>\n",
       "      <td>0.809989</td>\n",
       "      <td>1.091753</td>\n",
       "      <td>-0.013465</td>\n",
       "      <td>0.318204</td>\n",
       "    </tr>\n",
       "    <tr>\n",
       "      <th>max</th>\n",
       "      <td>1.355052</td>\n",
       "      <td>1.125887</td>\n",
       "      <td>1.766092</td>\n",
       "      <td>1.379078</td>\n",
       "    </tr>\n",
       "  </tbody>\n",
       "</table>\n",
       "</div>"
      ],
      "text/plain": [
       "              A         B         C         D\n",
       "count  5.000000  5.000000  5.000000  5.000000\n",
       "mean   0.396396  0.399688  0.025792  0.094280\n",
       "std    0.815051  0.718674  1.011650  1.006592\n",
       "min   -0.780958 -0.571481 -0.689080 -1.439263\n",
       "25%    0.014346  0.085224 -0.649294  0.105149\n",
       "50%    0.583552  0.267056 -0.285292  0.108232\n",
       "75%    0.809989  1.091753 -0.013465  0.318204\n",
       "max    1.355052  1.125887  1.766092  1.379078"
      ]
     },
     "execution_count": 6,
     "metadata": {},
     "output_type": "execute_result"
    }
   ],
   "source": [
    "df.describe()"
   ]
  },
  {
   "cell_type": "markdown",
   "id": "ad17be5a",
   "metadata": {},
   "source": [
    "# 11.8.3 The value_counts() function"
   ]
  },
  {
   "cell_type": "code",
   "execution_count": 7,
   "id": "02c1d142",
   "metadata": {},
   "outputs": [],
   "source": [
    "# The function value_counts counts the repeated values of the specified column:"
   ]
  },
  {
   "cell_type": "markdown",
   "id": "a44e3f92",
   "metadata": {},
   "source": []
  },
  {
   "cell_type": "code",
   "execution_count": 8,
   "id": "fb19e9ae",
   "metadata": {},
   "outputs": [
    {
     "data": {
      "text/plain": [
       "A\n",
       " 0.583552    1\n",
       " 0.014346    1\n",
       " 0.809989    1\n",
       "-0.780958    1\n",
       " 1.355052    1\n",
       "Name: count, dtype: int64"
      ]
     },
     "execution_count": 8,
     "metadata": {},
     "output_type": "execute_result"
    }
   ],
   "source": [
    "df['A'].value_counts()"
   ]
  },
  {
   "cell_type": "markdown",
   "id": "f6943fe2",
   "metadata": {},
   "source": [
    "# 11.8.4 The mean() function"
   ]
  },
  {
   "cell_type": "code",
   "execution_count": 9,
   "id": "c25329a5",
   "metadata": {},
   "outputs": [
    {
     "data": {
      "text/plain": [
       "np.float64(0.3963960175775919)"
      ]
     },
     "execution_count": 9,
     "metadata": {},
     "output_type": "execute_result"
    }
   ],
   "source": [
    "# We can obtain the mean of a specific column or row by means of the mean function.\n",
    "\n",
    "df['A'].mean() # Specifying a column "
   ]
  },
  {
   "cell_type": "code",
   "execution_count": 10,
   "id": "f5e6c263",
   "metadata": {},
   "outputs": [
    {
     "data": {
      "text/plain": [
       "A    0.396396\n",
       "B    0.399688\n",
       "C    0.025792\n",
       "D    0.094280\n",
       "dtype: float64"
      ]
     },
     "execution_count": 10,
     "metadata": {},
     "output_type": "execute_result"
    }
   ],
   "source": [
    "df.mean() # By column\n",
    "df.mean(axis= 0) # By column"
   ]
  },
  {
   "cell_type": "markdown",
   "id": "4f3af4b0",
   "metadata": {},
   "source": []
  },
  {
   "cell_type": "code",
   "execution_count": 11,
   "id": "2c42de03",
   "metadata": {},
   "outputs": [
    {
     "data": {
      "text/plain": [
       "a    0.760230\n",
       "b    0.538161\n",
       "c    0.348704\n",
       "d   -0.266653\n",
       "e   -0.235246\n",
       "dtype: float64"
      ]
     },
     "execution_count": 11,
     "metadata": {},
     "output_type": "execute_result"
    }
   ],
   "source": [
    "df.mean(axis= 1) # By row"
   ]
  },
  {
   "cell_type": "markdown",
   "id": "d87f0456",
   "metadata": {},
   "source": [
    "# 11.8.5 The std() function"
   ]
  },
  {
   "cell_type": "code",
   "execution_count": 12,
   "id": "4ad454df",
   "metadata": {},
   "outputs": [],
   "source": [
    "# We can obtain the standard deviation of a specific column or row by means of the std function."
   ]
  },
  {
   "cell_type": "code",
   "execution_count": 13,
   "id": "37826f1d",
   "metadata": {},
   "outputs": [
    {
     "data": {
      "text/plain": [
       "A    0.815051\n",
       "B    0.718674\n",
       "C    1.011650\n",
       "D    1.006592\n",
       "dtype: float64"
      ]
     },
     "execution_count": 13,
     "metadata": {},
     "output_type": "execute_result"
    }
   ],
   "source": [
    "df['A'].std() # Specifying a column\n",
    "df.std(axis= 0) # By column"
   ]
  },
  {
   "cell_type": "code",
   "execution_count": 14,
   "id": "fd8bafa1",
   "metadata": {},
   "outputs": [
    {
     "data": {
      "text/plain": [
       "a    0.611746\n",
       "b    0.825266\n",
       "c    0.789646\n",
       "d    0.550403\n",
       "e    1.168227\n",
       "dtype: float64"
      ]
     },
     "execution_count": 14,
     "metadata": {},
     "output_type": "execute_result"
    }
   ],
   "source": [
    "df.std(axis=1) # By row"
   ]
  },
  {
   "cell_type": "markdown",
   "id": "aafb2361",
   "metadata": {},
   "source": [
    "# 11.9 Filtering Pandas DataFrame"
   ]
  },
  {
   "cell_type": "code",
   "execution_count": 16,
   "id": "22871397",
   "metadata": {},
   "outputs": [
    {
     "name": "stdout",
     "output_type": "stream",
     "text": [
      "          A         B         C         D\n",
      "a -0.123359  1.702449  0.140293  0.583011\n",
      "b -0.894165  0.406148 -1.746094 -0.418879\n",
      "c -1.343669 -0.451678 -1.257567  0.693560\n",
      "d -0.622645  1.640728  2.406022 -1.617197\n",
      "e -1.521752  0.137332 -0.888076  0.957745\n"
     ]
    }
   ],
   "source": [
    "# We have already seen how to filter data in a DataFrame, including logical\n",
    "# statements to filter rows or columns with some logical criteria. For example,\n",
    "# we will filter rows whose column ’A’ is greater than zero:\n",
    "\n",
    "import pandas as pd\n",
    "import numpy as np\n",
    "\n",
    "df = pd.DataFrame(np.random.randn(5,4), index= ['a', 'b', 'c', 'd', 'e'], columns= ['A', 'B', 'C', 'D'])\n",
    "print(df)"
   ]
  },
  {
   "cell_type": "code",
   "execution_count": 17,
   "id": "fd6d23eb",
   "metadata": {},
   "outputs": [
    {
     "name": "stdout",
     "output_type": "stream",
     "text": [
      "Empty DataFrame\n",
      "Columns: [A, B, C, D]\n",
      "Index: []\n"
     ]
    }
   ],
   "source": [
    "df_filtered = df[df['A'] > 0]\n",
    "print(df_filtered)"
   ]
  },
  {
   "cell_type": "code",
   "execution_count": 18,
   "id": "9a3e04f2",
   "metadata": {},
   "outputs": [],
   "source": [
    "# We can also combine logical statements, we will filter all rows whose column \n",
    "# ’A’ and ’B’ have their values greater than zero. We can also combine logical statements, we will filter all rows whose\n",
    "# column 'A' and 'B' have their values greater than zero."
   ]
  },
  {
   "cell_type": "code",
   "execution_count": 19,
   "id": "ea0d5f12",
   "metadata": {},
   "outputs": [
    {
     "name": "stdout",
     "output_type": "stream",
     "text": [
      "Empty DataFrame\n",
      "Columns: [A, B, C, D]\n",
      "Index: []\n"
     ]
    }
   ],
   "source": [
    "df_filtered = df[(df['A']) > 0 & (df['B'] > 0)]\n",
    "print(df_filtered)"
   ]
  },
  {
   "cell_type": "markdown",
   "id": "7f9bba02",
   "metadata": {},
   "source": [
    "# 11.10 Iterating Pandas DataFrame"
   ]
  },
  {
   "cell_type": "code",
   "execution_count": 20,
   "id": "6d2c0a30",
   "metadata": {},
   "outputs": [],
   "source": [
    "# We can go through the DataFrame row by row to do operations in each\n",
    "# iteration, let’s see some examples."
   ]
  },
  {
   "cell_type": "markdown",
   "id": "47609970",
   "metadata": {},
   "source": []
  },
  {
   "cell_type": "code",
   "execution_count": 21,
   "id": "6e623a58",
   "metadata": {},
   "outputs": [
    {
     "name": "stdout",
     "output_type": "stream",
     "text": [
      "('a', A   -0.123359\n",
      "B    1.702449\n",
      "C    0.140293\n",
      "D    0.583011\n",
      "Name: a, dtype: float64)\n",
      "('b', A   -0.894165\n",
      "B    0.406148\n",
      "C   -1.746094\n",
      "D   -0.418879\n",
      "Name: b, dtype: float64)\n",
      "('c', A   -1.343669\n",
      "B   -0.451678\n",
      "C   -1.257567\n",
      "D    0.693560\n",
      "Name: c, dtype: float64)\n",
      "('d', A   -0.622645\n",
      "B    1.640728\n",
      "C    2.406022\n",
      "D   -1.617197\n",
      "Name: d, dtype: float64)\n",
      "('e', A   -1.521752\n",
      "B    0.137332\n",
      "C   -0.888076\n",
      "D    0.957745\n",
      "Name: e, dtype: float64)\n"
     ]
    }
   ],
   "source": [
    "for item in df.iterrows():\n",
    "    print(item)"
   ]
  },
  {
   "cell_type": "markdown",
   "id": "d2e0b86d",
   "metadata": {},
   "source": [
    "# 11.11 Merge, Append and Concat Pandas DataFrame"
   ]
  },
  {
   "cell_type": "code",
   "execution_count": 23,
   "id": "2d9023d0",
   "metadata": {},
   "outputs": [
    {
     "name": "stdout",
     "output_type": "stream",
     "text": [
      "         A         B         C         D\n",
      "a -0.69038  0.930891  0.410371 -1.367598\n",
      "b -0.22892 -1.624499  0.130884 -1.283155\n",
      "c -0.06332 -0.035429 -0.289605  1.485417\n",
      "d  0.46303  0.469515  3.275970  1.198276\n",
      "e  0.03028  0.857790  0.297989 -1.436928\n"
     ]
    }
   ],
   "source": [
    "# Another interesting feature of DataFrames is that we can merge, concatenate them and add new values,\n",
    "#  let’s see how to do each of these operations.\n",
    "# • merge function allows us to merge two DataFrame by rows:\n",
    "\n",
    "import pandas as pd \n",
    "import numpy as np\n",
    "\n",
    "df = pd.DataFrame(np.random.randn(5, 4),\n",
    "                   index= ['a', 'b', 'c', 'd', 'e'], \n",
    "                   columns= ['A', 'B', 'C', 'D'])\n",
    "\n",
    "print(df)"
   ]
  },
  {
   "cell_type": "code",
   "execution_count": 25,
   "id": "48bffb84",
   "metadata": {},
   "outputs": [
    {
     "name": "stdout",
     "output_type": "stream",
     "text": [
      "          A         B         C         D\n",
      "a -0.187179  0.038463 -0.429839  0.603189\n",
      "b  0.405124 -0.417968  0.747288 -0.102104\n",
      "c  0.660534 -0.472995  0.399894 -1.129453\n",
      "d  0.376409 -1.262327  0.967231  0.903683\n",
      "e  0.887852  0.838535 -0.906610 -1.258117\n"
     ]
    }
   ],
   "source": [
    "import pandas as pd\n",
    "import numpy as np\n",
    "\n",
    "df = pd.DataFrame(np.random.randn(5, 4), index= ['a', 'b', 'c', 'd', 'e'], columns= ['A', 'B', 'C', 'D'])\n",
    "\n",
    "print(df)"
   ]
  },
  {
   "cell_type": "code",
   "execution_count": 27,
   "id": "36a354d6",
   "metadata": {},
   "outputs": [],
   "source": [
    "import pandas as pd\n",
    "import numpy as np\n",
    "df1=pd.DataFrame(np.random.randn(5, 4),\n",
    "index=['a','b','c','d','e'],\n",
    "columns=['A', 'B', 'C', 'D'])"
   ]
  },
  {
   "cell_type": "code",
   "execution_count": 28,
   "id": "bce35db6",
   "metadata": {},
   "outputs": [],
   "source": [
    "df2=pd.DataFrame(np.random.randn(5, 4),\n",
    "index=['a','b','c','d','e'],\n",
    "columns=['A', 'B', 'C', 'D'])"
   ]
  },
  {
   "cell_type": "code",
   "execution_count": 29,
   "id": "ec0ebb55",
   "metadata": {},
   "outputs": [
    {
     "name": "stdout",
     "output_type": "stream",
     "text": [
      "Empty DataFrame\n",
      "Columns: [A, B, C, D]\n",
      "Index: []\n"
     ]
    }
   ],
   "source": [
    "df3 = pd.merge(df1, df2)\n",
    "print(df3)"
   ]
  },
  {
   "cell_type": "code",
   "execution_count": 31,
   "id": "787cf181",
   "metadata": {},
   "outputs": [],
   "source": [
    "# append function allows us to append rows from one DataFrame to\n",
    "# another DataFrame by rows:\n",
    "\n",
    "import pandas as pd\n",
    "import numpy as np\n",
    "df1=pd.DataFrame(np.random.randn(5, 4),\n",
    "index=['a','b','c','d','e'],\n",
    "columns=['A', 'B', 'C', 'D'])\n",
    "\n",
    "\n",
    "df2=pd.DataFrame(np.random.randn(5, 4),\n",
    "index=['a','b','c','d','e'],\n",
    "columns=['A', 'B', 'C', 'D'])"
   ]
  },
  {
   "cell_type": "code",
   "execution_count": 32,
   "id": "39e0da0e",
   "metadata": {},
   "outputs": [
    {
     "ename": "AttributeError",
     "evalue": "'DataFrame' object has no attribute 'append'",
     "output_type": "error",
     "traceback": [
      "\u001b[31m---------------------------------------------------------------------------\u001b[39m",
      "\u001b[31mAttributeError\u001b[39m                            Traceback (most recent call last)",
      "\u001b[32m/tmp/ipykernel_192386/2858898568.py\u001b[39m in \u001b[36m?\u001b[39m\u001b[34m()\u001b[39m\n\u001b[32m----> \u001b[39m\u001b[32m1\u001b[39m df3 = df1.append(df2)\n\u001b[32m      2\u001b[39m print(df3)\n",
      "\u001b[32m~/virtual_environment_directory/venv/lib/python3.12/site-packages/pandas/core/generic.py\u001b[39m in \u001b[36m?\u001b[39m\u001b[34m(self, name)\u001b[39m\n\u001b[32m   6295\u001b[39m             \u001b[38;5;28;01mand\u001b[39;00m name \u001b[38;5;28;01mnot\u001b[39;00m \u001b[38;5;28;01min\u001b[39;00m self._accessors\n\u001b[32m   6296\u001b[39m             \u001b[38;5;28;01mand\u001b[39;00m self._info_axis._can_hold_identifiers_and_holds_name(name)\n\u001b[32m   6297\u001b[39m         ):\n\u001b[32m   6298\u001b[39m             \u001b[38;5;28;01mreturn\u001b[39;00m self[name]\n\u001b[32m-> \u001b[39m\u001b[32m6299\u001b[39m         \u001b[38;5;28;01mreturn\u001b[39;00m object.__getattribute__(self, name)\n",
      "\u001b[31mAttributeError\u001b[39m: 'DataFrame' object has no attribute 'append'"
     ]
    }
   ],
   "source": [
    "df3 = df1.append(df2)\n",
    "print(df3)"
   ]
  },
  {
   "cell_type": "code",
   "execution_count": 34,
   "id": "b2b3992d",
   "metadata": {},
   "outputs": [
    {
     "name": "stdout",
     "output_type": "stream",
     "text": [
      "          A         B         C         D\n",
      "0 -0.476490 -1.143196  1.749373  2.072065\n",
      "1 -0.484795  0.029927  1.616818 -0.857582\n",
      "2 -0.702967 -1.972064 -1.372123  0.040266\n",
      "3  0.399794  0.084738  0.720785 -0.615648\n",
      "4 -0.254511 -0.677559 -0.129793  1.649060\n",
      "5  0.687133  0.135693  0.773587 -1.184200\n",
      "6 -1.293331  0.586432  0.430087  0.190466\n",
      "7 -1.099503 -1.250231  0.168092 -1.235777\n",
      "8  1.063069  0.283184 -0.600711  1.679216\n",
      "9  0.683213 -0.581257 -1.863775  0.791107\n"
     ]
    }
   ],
   "source": [
    "import pandas as pd\n",
    "\n",
    "df3 = pd.concat([df1, df2], ignore_index=True)  # Use ignore_index if you want a clean index\n",
    "print(df3)"
   ]
  },
  {
   "cell_type": "code",
   "execution_count": null,
   "id": "6ac45f6a",
   "metadata": {},
   "outputs": [],
   "source": []
  }
 ],
 "metadata": {
  "kernelspec": {
   "display_name": "venv",
   "language": "python",
   "name": "python3"
  },
  "language_info": {
   "codemirror_mode": {
    "name": "ipython",
    "version": 3
   },
   "file_extension": ".py",
   "mimetype": "text/x-python",
   "name": "python",
   "nbconvert_exporter": "python",
   "pygments_lexer": "ipython3",
   "version": "3.12.3"
  }
 },
 "nbformat": 4,
 "nbformat_minor": 5
}
