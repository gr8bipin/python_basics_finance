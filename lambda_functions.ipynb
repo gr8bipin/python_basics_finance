{
 "cells": [
  {
   "cell_type": "markdown",
   "id": "bc5377af",
   "metadata": {},
   "source": [
    "# 9.4 Lambda functions"
   ]
  },
  {
   "cell_type": "code",
   "execution_count": 9,
   "id": "84022e5b",
   "metadata": {},
   "outputs": [
    {
     "data": {
      "text/plain": [
       "<function __main__.<lambda>(arguments)>"
      ]
     },
     "execution_count": 9,
     "metadata": {},
     "output_type": "execute_result"
    }
   ],
   "source": [
    "# We have written functions above using the def keyword, function headers,\n",
    "# DocStrings and function bodies. There’s a quicker way to write on-the-fly\n",
    "# functions in Python and they are known as lambda functions. They are\n",
    "# also referred to as anonymous functions sometimes. We use the keyword\n",
    "# lambda to write such functions. The syntax for lambda functions is as follows:\n",
    "\n",
    "lambda arguments: expression"
   ]
  },
  {
   "cell_type": "code",
   "execution_count": 10,
   "id": "dc1dfa6e",
   "metadata": {},
   "outputs": [],
   "source": [
    "# Firstly, the syntax shows that there is no function name. Secondly, argu-\n",
    "# ments refers to parameters, and finally, expression depicts the function body.\n",
    "# Let us create a function square which squares the argument provided to it\n",
    "# and returns the result. We create this function using the def keyword."
   ]
  },
  {
   "cell_type": "code",
   "execution_count": 11,
   "id": "734bd490",
   "metadata": {},
   "outputs": [
    {
     "name": "stdout",
     "output_type": "stream",
     "text": [
      "9\n"
     ]
    }
   ],
   "source": [
    "# Function definition\n",
    "def square(arg):\n",
    "    \"\"\"\n",
    "    Computes the square of an argument and returns the result.\n",
    "\n",
    "    It does not implement the print statement.\n",
    "    \"\"\"\n",
    "    result = arg * arg\n",
    "    return result\n",
    "\n",
    "# Calling the function and printing its output\n",
    "print(square(3))"
   ]
  },
  {
   "cell_type": "code",
   "execution_count": 12,
   "id": "a418e056",
   "metadata": {},
   "outputs": [
    {
     "name": "stdout",
     "output_type": "stream",
     "text": [
      "9\n"
     ]
    }
   ],
   "source": [
    "# The function square defined above can be re-written in a single line using\n",
    "# the lambda keyword as shown below:\n",
    "\n",
    "# Creating a lambda function and assigning it to square\n",
    "square = lambda arg: arg * arg \n",
    "\n",
    "# Calling the lambda function using the name 'square'\n",
    "print(square(3))"
   ]
  },
  {
   "cell_type": "code",
   "execution_count": 13,
   "id": "f6812a9d",
   "metadata": {},
   "outputs": [
    {
     "name": "stdout",
     "output_type": "stream",
     "text": [
      "8\n"
     ]
    }
   ],
   "source": [
    "# In the above lambda function, it takes one argument denoted by arg and\n",
    "# returns its square. Lambda functions can have as many number of argu-\n",
    "# ments as we want after the lambda keyword during its definition. We will\n",
    "# restrict our discussion up to two arguments to understand how multiple\n",
    "# arguments work. We create another lambda function to raise the first argu-\n",
    "# ment to the power of the second argument.\n",
    "\n",
    "# Creating a lambda function to mimic 'raise to power'\n",
    "# operation\n",
    "power = lambda a, b: a ** b\n",
    "# Calling the lambda function using the name 'power'\n",
    "print(power(2, 3))"
   ]
  },
  {
   "cell_type": "code",
   "execution_count": 14,
   "id": "4819c867",
   "metadata": {},
   "outputs": [],
   "source": [
    "# Lambda functions are extensively used along with built-in map and filter\n",
    "# functions."
   ]
  },
  {
   "cell_type": "markdown",
   "id": "15b88a04",
   "metadata": {},
   "source": [
    "# 9.4.1 map() Function"
   ]
  },
  {
   "cell_type": "code",
   "execution_count": 15,
   "id": "01746f74",
   "metadata": {},
   "outputs": [],
   "source": [
    "# The map function takes two arguments: a function and a sequence such as\n",
    "# a list. This function makes an iterator that applies the function to each el-\n",
    "# ement of a sequence. We can pass lambda function to this map function\n",
    "# without even naming it. In this case, we refer to lambda functions as an\n",
    "# anonymous function. In the following example, we create a list nums con-\n",
    "# sisting of numbers and pass it to a map function along with the lambda\n",
    "# function which will square each element of the list."
   ]
  },
  {
   "cell_type": "code",
   "execution_count": 16,
   "id": "e659cded",
   "metadata": {},
   "outputs": [
    {
     "name": "stdout",
     "output_type": "stream",
     "text": [
      "<map object at 0x73ec31649150>\n"
     ]
    }
   ],
   "source": [
    "# Creating a list of all numbers\n",
    "nums = [1, 2, 3, 4, 5]\n",
    "\n",
    "# Defining a lambda function to square each number and\n",
    "# passing it as an argument to map function\n",
    "squares = map(lambda num: num ** 2, nums)\n",
    "\n",
    "# The lambda function in the above example will square each element of the list nums and the map function will map each output \n",
    "# to the corresponding elements in the original list. We then store the result into a variable called squares. If we print the \n",
    "# squares variable, Python will reveal us that it is a map object.\n",
    "\n",
    "# Printing squares\n",
    "print(squares)"
   ]
  },
  {
   "cell_type": "code",
   "execution_count": 17,
   "id": "cebce3ee",
   "metadata": {},
   "outputs": [
    {
     "name": "stdout",
     "output_type": "stream",
     "text": [
      "[1, 4, 9, 16, 25]\n"
     ]
    }
   ],
   "source": [
    "# To see what this object contains, we need to cast it to list using the list function as shown below:\n",
    "\n",
    "# Casting map object squares to a list and printing it\n",
    "print(list(squares))"
   ]
  },
  {
   "cell_type": "markdown",
   "id": "6b6b9b77",
   "metadata": {},
   "source": [
    "# 9.4.2 filter() Function"
   ]
  },
  {
   "cell_type": "code",
   "execution_count": 18,
   "id": "8c202fb8",
   "metadata": {},
   "outputs": [],
   "source": [
    "# The filter function takes two arguments: a function or None and a se-\n",
    "# quence. This function offers a way to filter out elements from a list that\n",
    "# don’t satisfy certain criteria. Before we embed a lambda function with it,\n",
    "# let’s understand how it works."
   ]
  },
  {
   "cell_type": "code",
   "execution_count": 19,
   "id": "7884d8d1",
   "metadata": {},
   "outputs": [
    {
     "name": "stdout",
     "output_type": "stream",
     "text": [
      "[True, True, True]\n"
     ]
    }
   ],
   "source": [
    "# Creating a list of booleans\n",
    "booleans = [False, True, True, False, True]\n",
    "\n",
    "# Filtering 'booleans', casting it to a list, and finally\n",
    "# printing it\n",
    "print(list(filter(None, booleans)))"
   ]
  },
  {
   "cell_type": "code",
   "execution_count": 20,
   "id": "3db7332f",
   "metadata": {},
   "outputs": [
    {
     "name": "stdout",
     "output_type": "stream",
     "text": [
      "['three', 'four', 'five']\n"
     ]
    }
   ],
   "source": [
    "# In the above example, we first create a list of random boolean values. Next,\n",
    "# we pass it to the filter function along with the None which specifies to\n",
    "# return the items that are true. Lastly, we cast the output of the filter func-\n",
    "# tion to a list as it outputs a filter object. In a more advanced scenario, we\n",
    "# can embed a lambda function in the filter function. Consider that we\n",
    "# have been given a scenario where we need to filter all strings whose length\n",
    "# is greater than 3 from a given set of strings. We can use filter and lambda\n",
    "# functions together to achieve this. This is illustrated below:\n",
    "\n",
    "# Creating a pool of random strings\n",
    "strings = ['one', 'two', 'three', 'four', 'five', 'six']\n",
    "\n",
    "# Filtering strings using a lambda and filter functions\n",
    "filtered_strings = filter(lambda string: len(string) > 3, strings)\n",
    "\n",
    "# Casting 'filtered_strings' to a list and printing it\n",
    "print(list(filtered_strings))"
   ]
  },
  {
   "cell_type": "code",
   "execution_count": 21,
   "id": "508c856f",
   "metadata": {},
   "outputs": [],
   "source": [
    "# In the above example, a lambda function is used within the filter function\n",
    "# which checks for the length of each string in the strings list. And the\n",
    "# filter function will then filter out the strings which match the criteria\n",
    "# defined by the lambda function."
   ]
  },
  {
   "cell_type": "code",
   "execution_count": 22,
   "id": "e11a3e79",
   "metadata": {},
   "outputs": [],
   "source": [
    "# Apart from the map and filter functions discussed above, now we will learn another handy \n",
    "# function zip which can be used for iterating through multiple sequences simultaneously."
   ]
  },
  {
   "cell_type": "markdown",
   "id": "de1036c4",
   "metadata": {},
   "source": [
    "# 9.4.3 zip() Function"
   ]
  },
  {
   "cell_type": "code",
   "execution_count": 23,
   "id": "1d13860f",
   "metadata": {},
   "outputs": [],
   "source": [
    "# As regular computer users, we often come across a file with .zip extension\n",
    "# aka zip files. Basically, these files are the files which have zipped other files\n",
    "# within them. In other words, zip files work as a container to hold other files."
   ]
  },
  {
   "cell_type": "code",
   "execution_count": 28,
   "id": "6c4425b5",
   "metadata": {},
   "outputs": [
    {
     "name": "stdout",
     "output_type": "stream",
     "text": [
      "[('AAPL', 'Apple Inc'), ('MSFT', 'Microsoft Corporation'), ('GOOG', 'Alphabet Inc')]\n"
     ]
    }
   ],
   "source": [
    "# In the Python world, the zip function works more or less as a container for\n",
    "# iterables instead of real files. The syntax for the zip is shown below:\n",
    "\n",
    "# zip(*iterables)\n",
    "\n",
    "# It takes an iterable as an input and returns the iterator that aggregates ele-\n",
    "# ments from each of the iterable. The output contains the iterator of a tuple.\n",
    "# The i-th element in the iterator is the tuple consisting the i-th element from\n",
    "# each input. If the iterables in the input are of unequal sizes, the output it-\n",
    "# erator stops when the shortest input iterable is exhausted. With no input,\n",
    "# it returns an empty iterator. Let us understand the working of zip with the\n",
    "# help of an example.\n",
    "\n",
    "# Defining iterables for the input\n",
    "tickers = ['AAPL', 'MSFT', 'GOOG']\n",
    "companies = ['Apple Inc', 'Microsoft Corporation', 'Alphabet Inc']\n",
    "\n",
    "# Zipping the above defined iterables using the 'zip'\n",
    "zipped = zip(tickers, companies)\n",
    "\n",
    "print(list(zipped))"
   ]
  },
  {
   "cell_type": "code",
   "execution_count": 25,
   "id": "8b085165",
   "metadata": {},
   "outputs": [
    {
     "name": "stdout",
     "output_type": "stream",
     "text": [
      "Ticker name of AAPL is Apple Inc.\n",
      "Ticker name of MSFT is Microsoft Corporation.\n",
      "Ticker name of GOOG is Alphabet Inc.\n"
     ]
    }
   ],
   "source": [
    "# We define two lists tickers and companies which are used as an input to\n",
    "# the zip. The zipped object is the iterator of type zip and hence we can\n",
    "# iterate either over it using a looping technique to print its content:\n",
    "\n",
    "# Iterating over a zipped object\n",
    "for ticker, company in zipped:\n",
    "    print('Ticker name of {} is {}.'.format(ticker, company))"
   ]
  },
  {
   "cell_type": "code",
   "execution_count": 26,
   "id": "604cae05",
   "metadata": {},
   "outputs": [],
   "source": [
    "# or cast it to sequential data structures such as list or tuple easily."
   ]
  },
  {
   "cell_type": "code",
   "execution_count": 27,
   "id": "98edd211",
   "metadata": {},
   "outputs": [
    {
     "name": "stdout",
     "output_type": "stream",
     "text": [
      "[]\n"
     ]
    }
   ],
   "source": [
    "# Casting the zip object to a list and printing it\n",
    "print(list(zipped))"
   ]
  },
  {
   "cell_type": "markdown",
   "id": "b8636603",
   "metadata": {},
   "source": [
    "# 9.5 Key Takeaways"
   ]
  },
  {
   "cell_type": "code",
   "execution_count": 29,
   "id": "d9bea568",
   "metadata": {},
   "outputs": [],
   "source": [
    "# 1. A function is a block of statements that can be reused as and when\n",
    "# required.\n",
    "# 2. There are three types of functions available in Python: Built-in func-\n",
    "# tions, User-defined functions and anonymous functions using the\n",
    "# lambda keyword.\n",
    "# 3. Python provides various built-in functions to perform common pro-\n",
    "# gramming tasks such as print(), len(), dir(), type(), etc\n",
    "# 4. User-defined functions are defined using the keyword def.\n",
    "# 5. Functions may take zero or more arguments. Arguments are specified\n",
    "# while defining a function within parentheses ().\n",
    "# 6. It is possible that arguments take some default value in the function\n",
    "# definition. Such arguments are called default arguments.\n",
    "# 7. Functions can return a value using the keyword return.\n",
    "# 8. Functions can have variable-length arguments. There are two types\n",
    "# of such arguments:\n",
    "# (a) An argument that is preceded by * in the function definition can\n",
    "# have a flexible number of values within it. And gets unpacked\n",
    "# to a tuple inside a function.\n",
    "# (b) An argument that is preceded by ** in the function definition can\n",
    "# have a flexible number of key-value pairs and gets unpacked to\n",
    "# a dictionary inside a function.\n",
    "# 9. A docstring is used to document a function and is written within\n",
    "# triple single/double quotes. It can be accessed by the __doc__ at-\n",
    "# tribute on the function name.\n",
    "# 10. Docstrings can be used to document modules and classes as well.\n",
    "# 11. A namespace is a naming system in Python to avoid ambiguity be-\n",
    "# tween names (variable names, object names, module names, class\n",
    "# names, etc.).\n",
    "# 12. A scope is a region of a Python program where a namespace is directly\n",
    "# accessible.\n",
    "# 13. The global keyword is used when a variable that is defined outside a\n",
    "# function and needs to be accessed from within a function.\n",
    "# 14. The lambda keyword is used to create anonymous functions. Such\n",
    "# functions are created during the run time and do not have any name\n",
    "# associated with them.\n",
    "# 15. map(), filter() and zip() functions are often used with anonymous\n",
    "# functions."
   ]
  }
 ],
 "metadata": {
  "kernelspec": {
   "display_name": "venv",
   "language": "python",
   "name": "python3"
  },
  "language_info": {
   "codemirror_mode": {
    "name": "ipython",
    "version": 3
   },
   "file_extension": ".py",
   "mimetype": "text/x-python",
   "name": "python",
   "nbconvert_exporter": "python",
   "pygments_lexer": "ipython3",
   "version": "3.12.3"
  }
 },
 "nbformat": 4,
 "nbformat_minor": 5
}
