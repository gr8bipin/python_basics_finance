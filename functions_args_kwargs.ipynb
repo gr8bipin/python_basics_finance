{
 "cells": [
  {
   "cell_type": "markdown",
   "id": "7ad23bab",
   "metadata": {},
   "source": [
    "# 9.2.4 Functions with variable length arguments"
   ]
  },
  {
   "cell_type": "markdown",
   "id": "73d56a9f",
   "metadata": {},
   "source": []
  },
  {
   "cell_type": "code",
   "execution_count": 1,
   "id": "679ec1bb",
   "metadata": {},
   "outputs": [],
   "source": [
    "# Let’s consider a scenario where we as developers aren’t sure about how\n",
    "# many arguments a user will want to pass while calling a function. For example, a function that takes floats or integers \n",
    "# (irrespective of how many they are) as arguments and returns the sum of all of them. \n",
    "# We can implement this scenario as shown below:"
   ]
  },
  {
   "cell_type": "code",
   "execution_count": null,
   "id": "0ddc098e",
   "metadata": {},
   "outputs": [
    {
     "name": "stdout",
     "output_type": "stream",
     "text": [
      "15\n"
     ]
    }
   ],
   "source": [
    "def sum_all(*args): # The parameter args preceded by * denotes that this parameter is of variable length.\n",
    "    \"\"\"Sum all values in the *args.\"\"\"\n",
    "\n",
    "    # Initialize result to 0\n",
    "    result = 0\n",
    "\n",
    "    # Sum all values\n",
    "    for i in args: # We then loop over the args to compute a sum and update the result with each iteration.\n",
    "        result += i\n",
    "\n",
    "    # Return the result\n",
    "    return result # Finally, we return the sum to the calling statement.\n",
    "\n",
    "# Calling the sum_all function with arbitrary number of arguments\n",
    "print(sum_all(1, 2, 3, 4, 5)) # The sum_all function can be called with any number of arguments and it will add them all up."
   ]
  },
  {
   "cell_type": "code",
   "execution_count": 4,
   "id": "87f50c17",
   "metadata": {},
   "outputs": [],
   "source": [
    "# Python provides another flavor of flexible arguments which are preceded by double asterisk marks. \n",
    "# When used, they are unpacked to dictionaries (with the same name) by the interpreter \n",
    "# and are available to use within the function."
   ]
  },
  {
   "cell_type": "code",
   "execution_count": 7,
   "id": "c1fddf5b",
   "metadata": {},
   "outputs": [
    {
     "name": "stdout",
     "output_type": "stream",
     "text": [
      "ticker: AAPL\n",
      "price: 146.83\n",
      "name: Apple Inc.\n",
      "country: US\n",
      "None\n"
     ]
    }
   ],
   "source": [
    "def info(**kwargs):\n",
    "    \"\"\"Print out key-value pairs in **kwargs.\"\"\"\n",
    "\n",
    "    # Run for loop to print dictionary items\n",
    "    for key, value in kwargs.items():\n",
    "        print(key + ': ' + value)\n",
    "\n",
    "# Calling the function \n",
    "print(info(ticker= 'AAPL', price= '146.83', name= 'Apple Inc.', country= 'US'))"
   ]
  }
 ],
 "metadata": {
  "kernelspec": {
   "display_name": "venv",
   "language": "python",
   "name": "python3"
  },
  "language_info": {
   "codemirror_mode": {
    "name": "ipython",
    "version": 3
   },
   "file_extension": ".py",
   "mimetype": "text/x-python",
   "name": "python",
   "nbconvert_exporter": "python",
   "pygments_lexer": "ipython3",
   "version": "3.12.3"
  }
 },
 "nbformat": 4,
 "nbformat_minor": 5
}
