{
 "cells": [
  {
   "cell_type": "markdown",
   "id": "043c365a",
   "metadata": {},
   "source": [
    "# 8.1.4 Creating a custom iterator"
   ]
  },
  {
   "cell_type": "code",
   "execution_count": 2,
   "id": "93fee518",
   "metadata": {},
   "outputs": [],
   "source": [
    "# Let’s see how an iterator works internally to produce the next element in\n",
    "# a sequence when asked for. Python iterator objects are required to support\n",
    "# two methods while following the iterator protocol. They are __iter__()\n",
    "# and __next__(). The custom iterator coded below returns a series of numbers:"
   ]
  },
  {
   "cell_type": "markdown",
   "id": "07a35a00",
   "metadata": {},
   "source": []
  },
  {
   "cell_type": "code",
   "execution_count": null,
   "id": "56281783",
   "metadata": {},
   "outputs": [],
   "source": [
    "class Counter(object): # This defines a class named Counter. It inherits from Python’s base object class.\n",
    "    \n",
    "\n",
    "    def __init__(self, start, end): # When a Counter object is created, it is initialized with a start and end value.\n",
    "        \"\"\"Initialize the object\"\"\"\n",
    "        self.current = start # self.current keeps track of the current number in the sequence.\n",
    "        self.end = end # self.end is the final number the counter should reach.\n",
    "\n",
    "\n",
    "    def __iter__(self): # __iter__ is a special method that makes the object itself iterable.\n",
    "        \"\"\"Returns itself as an iterator object\"\"\"\n",
    "        return self # It returns self because this object will also implement the __next__ method.\n",
    "    \n",
    "\n",
    "    def __next__(self): # This method is called on each iteration (like in a for loop).\n",
    "        \"\"\"Returns the next element in the series\"\"\"\n",
    "        if self.current > self.end: # If current exceeds end, iteration stops with StopIteration.\n",
    "            raise StopIteration\n",
    "        else:\n",
    "            self.current += 1 # Otherwise, it increments current and returns the number just before the increment (self.current - 1).\n",
    "            return self.current - 1"
   ]
  },
  {
   "cell_type": "code",
   "execution_count": 4,
   "id": "e7b9eb20",
   "metadata": {},
   "outputs": [],
   "source": [
    "# We created a Counter class which takes two arguments start (depicts the\n",
    "# start of a counter) and end (the end of the counter). The __init__() method\n",
    "# is a constructor method which initializes the object with the start and end\n",
    "# parameters received. The __iter__() method returns the iterator object\n",
    "# and the __next__() method computes the next element within the series\n",
    "# and returns it. Now we can use the above-defined iterator in our code as\n",
    "# shown below:"
   ]
  },
  {
   "cell_type": "code",
   "execution_count": null,
   "id": "40a2fec9",
   "metadata": {},
   "outputs": [
    {
     "name": "stdout",
     "output_type": "stream",
     "text": [
      "1\n",
      "2\n",
      "3\n",
      "4\n",
      "5\n"
     ]
    }
   ],
   "source": [
    "# Creates a new instance of the class 'Counter' and\n",
    "# initializes it with start and end values\n",
    "counter = Counter(1, 5) # A Counter object is created to count from 1 to 5.\n",
    "\n",
    "# Run a loop over the newly created object and print its values\n",
    "for element in counter: # The for loop uses the iterator protocol: Calls __iter__() once at the start.\n",
    "    print(element) # Repeatedly calls __next__() to get values until StopIteration is raised."
   ]
  }
 ],
 "metadata": {
  "kernelspec": {
   "display_name": "venv",
   "language": "python",
   "name": "python3"
  },
  "language_info": {
   "codemirror_mode": {
    "name": "ipython",
    "version": 3
   },
   "file_extension": ".py",
   "mimetype": "text/x-python",
   "name": "python",
   "nbconvert_exporter": "python",
   "pygments_lexer": "ipython3",
   "version": "3.12.3"
  }
 },
 "nbformat": 4,
 "nbformat_minor": 5
}
