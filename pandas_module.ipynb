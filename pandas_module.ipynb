{
 "cells": [
  {
   "cell_type": "markdown",
   "id": "d3ce3404",
   "metadata": {},
   "source": [
    "# Chapter 11 Pandas Module"
   ]
  },
  {
   "cell_type": "code",
   "execution_count": 1,
   "id": "5c4b627e",
   "metadata": {},
   "outputs": [],
   "source": [
    "# Pandas is a Python library to deal with sequential and tabular data. It in-\n",
    "# cludes many tools to manage, analyze and manipulate data in a convenient\n",
    "# and efficient manner. We can think of its data structures as akin to database\n",
    "# tables or spreadsheets. "
   ]
  },
  {
   "cell_type": "code",
   "execution_count": 2,
   "id": "31bf188d",
   "metadata": {},
   "outputs": [],
   "source": [
    "# Pandas is built on top of the Numpy library and has two primary data struc-\n",
    "# tures viz. Series (1-dimensional) and DataFrame (2- dimensional). It can\n",
    "# handle both homogeneous and heterogeneous data, and some of its many\n",
    "# capabilities are:\n",
    "# • ETL tools (Extraction, Transformation and Load tools)\n",
    "# • Dealing with missing data (NaN)\n",
    "# • Dealing with data files (csv, xls, db, hdf5, etc.)\n",
    "# • Time-series manipulation tools\n",
    "# In the Python ecosystem, Pandas is the best choice to retrieve, manipulate,\n",
    "# analyze and transform financial data."
   ]
  },
  {
   "cell_type": "markdown",
   "id": "92273293",
   "metadata": {},
   "source": [
    "# 11.1 Pandas Installation"
   ]
  },
  {
   "cell_type": "code",
   "execution_count": null,
   "id": "fe08ee24",
   "metadata": {},
   "outputs": [],
   "source": [
    "# The official documentation1 has a detailed explanation that spans over sev-\n",
    "# eral pages on installing Pandas. We summarize it below."
   ]
  },
  {
   "cell_type": "markdown",
   "id": "5eb13c78",
   "metadata": {},
   "source": [
    "# 11.1.1 Installing with pip"
   ]
  },
  {
   "cell_type": "code",
   "execution_count": null,
   "id": "7129e840",
   "metadata": {},
   "outputs": [],
   "source": [
    "# The simplest way to install Pandas is from PyPI.\n",
    "# In a terminal window, run the following command.\n",
    "\n",
    "## pip install pandas\n",
    "\n",
    "# In your code, you can use the escape character ’!’ to install pandas directly\n",
    "# from your Python console.\n",
    "\n",
    "## !pip install pandas\n",
    "\n",
    "# Pip is a useful tool to manage Python’s packages and it is worth investing\n",
    "# some time in knowing it better.\n",
    "\n",
    "## pip help"
   ]
  },
  {
   "cell_type": "markdown",
   "id": "ebe7bd15",
   "metadata": {},
   "source": [
    "# 11.1.2 Installing with Conda environments"
   ]
  },
  {
   "cell_type": "code",
   "execution_count": null,
   "id": "19e80e7f",
   "metadata": {},
   "outputs": [],
   "source": [
    "# For advanced users, who like to work with Python environments for each\n",
    "# project, you can create a new environment and install pandas as shown\n",
    "# below.\n",
    "\n",
    "## conda create -n EPAT python\n",
    "## source activate EPAT\n",
    "## conda install pandas"
   ]
  },
  {
   "cell_type": "markdown",
   "id": "4f0cac2d",
   "metadata": {},
   "source": [
    "# 11.1.3 Testing Pandas installation"
   ]
  },
  {
   "cell_type": "code",
   "execution_count": null,
   "id": "15221d15",
   "metadata": {},
   "outputs": [],
   "source": [
    "# To check the installation, Pandas comes with a test suite to test almost all of\n",
    "# the codebase and verify that everything is working.\n",
    "\n",
    "## import pandas as pd\n",
    "## pd.test()"
   ]
  },
  {
   "cell_type": "markdown",
   "id": "74a4ffe1",
   "metadata": {},
   "source": [
    "# 11.2 What problem does Pandas solve?"
   ]
  },
  {
   "cell_type": "code",
   "execution_count": null,
   "id": "a3120def",
   "metadata": {},
   "outputs": [],
   "source": [
    "# Pandas works with homogeneous data series (1-Dimension) and heteroge-\n",
    "# neous tabular data series (2-Dimensions). It includes a multitude of tools to\n",
    "# work with these data types, such as:\n",
    "\n",
    "# • Indexes and labels.\n",
    "# • Searching of elements.\n",
    "# • Insertion, deletion and modification of elements.\n",
    "# • Apply set techniques, such as grouping, joining, selecting, etc.\n",
    "# • Data processing and cleaning.\n",
    "# • Work with time series.\n",
    "# • Make statistical calculations\n",
    "# • Draw graphics\n",
    "# • Connectors for multiple data file formats, such as, csv, xlsx, hdf5, etc."
   ]
  },
  {
   "cell_type": "markdown",
   "id": "4c33fa7a",
   "metadata": {},
   "source": [
    "# 11.3 Pandas Series"
   ]
  },
  {
   "cell_type": "code",
   "execution_count": 1,
   "id": "596da5d5",
   "metadata": {},
   "outputs": [],
   "source": [
    "# The first data structure in Pandas that we are going to see is the Series.\n",
    "# They are homogeneous one-dimensional objects, that is, all data are of the\n",
    "# same type and are implicitly labeled with an index."
   ]
  },
  {
   "cell_type": "code",
   "execution_count": 2,
   "id": "86daf735",
   "metadata": {},
   "outputs": [],
   "source": [
    "# For example, we can have a Series of integers, real numbers, characters,\n",
    "# strings, dictionaries, etc. We can conveniently manipulate these series\n",
    "# performing operations like adding, deleting, ordering, joining, filtering,\n",
    "# vectorized operations, statistical analysis, plotting, etc."
   ]
  },
  {
   "cell_type": "code",
   "execution_count": null,
   "id": "71ad2027",
   "metadata": {},
   "outputs": [
    {
     "name": "stdout",
     "output_type": "stream",
     "text": [
      "Series([], dtype: object)\n"
     ]
    }
   ],
   "source": [
    "# Let’s see some examples of how to create and manipulate a Pandas Series:\n",
    "import pandas as pd\n",
    "s = pd.Series()\n",
    "print(s)"
   ]
  },
  {
   "cell_type": "code",
   "execution_count": 5,
   "id": "1c994741",
   "metadata": {},
   "outputs": [
    {
     "name": "stdout",
     "output_type": "stream",
     "text": [
      "0    1\n",
      "1    2\n",
      "2    3\n",
      "3    4\n",
      "4    5\n",
      "5    6\n",
      "6    7\n",
      "dtype: int64\n"
     ]
    }
   ],
   "source": [
    "# Let’s create a Pandas Series of integers and print it:\n",
    "import pandas as pd\n",
    "s = pd.Series([1, 2, 3, 4, 5, 6, 7])\n",
    "print(s)"
   ]
  },
  {
   "cell_type": "code",
   "execution_count": 6,
   "id": "6ee7b259",
   "metadata": {},
   "outputs": [
    {
     "name": "stdout",
     "output_type": "stream",
     "text": [
      "0    a\n",
      "1    b\n",
      "2    c\n",
      "3    d\n",
      "4    e\n",
      "dtype: object\n"
     ]
    }
   ],
   "source": [
    "# Let’s create a Pandas Series of characters:\n",
    "import pandas as pd\n",
    "s = pd.Series(['a', 'b', 'c', 'd', 'e'])\n",
    "print(s)"
   ]
  },
  {
   "cell_type": "code",
   "execution_count": 7,
   "id": "93b315a7",
   "metadata": {},
   "outputs": [
    {
     "name": "stdout",
     "output_type": "stream",
     "text": [
      "0   -0.893950\n",
      "1    1.017228\n",
      "2   -1.553182\n",
      "3    1.941077\n",
      "4   -1.009861\n",
      "dtype: float64\n"
     ]
    }
   ],
   "source": [
    "# Let’s create a random Pandas Series of float numbers:\n",
    "import pandas as pd\n",
    "import numpy as np\n",
    "s = pd.Series(np.random.randn(5))\n",
    "print(s)"
   ]
  },
  {
   "cell_type": "code",
   "execution_count": 8,
   "id": "f2b2bdfe",
   "metadata": {},
   "outputs": [
    {
     "data": {
      "text/plain": [
       "RangeIndex(start=0, stop=5, step=1)"
      ]
     },
     "execution_count": 8,
     "metadata": {},
     "output_type": "execute_result"
    }
   ],
   "source": [
    "# In all these examples, we have allowed the index label to appear by default\n",
    "# (without explicitly programming it). It starts at 0, and we can check the\n",
    "# index as:\n",
    "\n",
    "s.index"
   ]
  },
  {
   "cell_type": "code",
   "execution_count": 12,
   "id": "afc1596b",
   "metadata": {},
   "outputs": [
    {
     "name": "stdout",
     "output_type": "stream",
     "text": [
      "a    0.501520\n",
      "b   -0.394926\n",
      "c   -1.359427\n",
      "d   -0.900551\n",
      "e    0.797512\n",
      "dtype: float64\n"
     ]
    }
   ],
   "source": [
    "# But we can also specify the index we need, for example:\n",
    "s = pd.Series(np.random.randn(5), index= ['a', 'b', 'c', 'd', 'e'])\n",
    "print(s)"
   ]
  },
  {
   "cell_type": "code",
   "execution_count": 13,
   "id": "0b93d235",
   "metadata": {},
   "outputs": [
    {
     "name": "stdout",
     "output_type": "stream",
     "text": [
      "a    1\n",
      "b    2\n",
      "c    3\n",
      "d    4\n",
      "e    5\n",
      "dtype: int64\n"
     ]
    }
   ],
   "source": [
    "# Let's create a Pandas Series from a dictionary:\n",
    "import pandas as pd\n",
    "dictionary = {'a':1, 'b':2, 'c':3, 'd':4, 'e':5}\n",
    "s =pd.Series(dictionary)\n",
    "print(s)"
   ]
  },
  {
   "cell_type": "code",
   "execution_count": null,
   "id": "2185321f",
   "metadata": {},
   "outputs": [],
   "source": [
    "# In this case, the Pandas Series is created with the dictonary keys as index\n",
    "# unless we specify any other index."
   ]
  },
  {
   "cell_type": "markdown",
   "id": "a82c4df2",
   "metadata": {},
   "source": [
    "# 11.3.1 Simple operations with Pandas Series"
   ]
  },
  {
   "cell_type": "code",
   "execution_count": 14,
   "id": "6b7d7173",
   "metadata": {},
   "outputs": [],
   "source": [
    "# When we have a Pandas Series, we can perform several simple operations\n",
    "# on it. For example, let’s create two Series. One from a dictionary and the\n",
    "# other from an array of integers:"
   ]
  },
  {
   "cell_type": "code",
   "execution_count": 16,
   "id": "5f2fefa2",
   "metadata": {},
   "outputs": [
    {
     "name": "stdout",
     "output_type": "stream",
     "text": [
      "a    1\n",
      "b    2\n",
      "c    3\n",
      "d    4\n",
      "e    5\n",
      "dtype: int64\n",
      "0    1\n",
      "1    2\n",
      "2    3\n",
      "3    4\n",
      "4    5\n",
      "dtype: int64\n"
     ]
    }
   ],
   "source": [
    "import pandas as pd\n",
    "dictionary = {'a': 1, 'b': 2, 'c': 3, 'd': 4, 'e': 5}\n",
    "s1 = pd.Series(dictionary)\n",
    "print(s1)\n",
    "\n",
    "array = [1, 2, 3, 4, 5]\n",
    "s2 = pd.Series(array)\n",
    "print(s2)"
   ]
  },
  {
   "cell_type": "code",
   "execution_count": 17,
   "id": "a3bfbe28",
   "metadata": {},
   "outputs": [
    {
     "name": "stderr",
     "output_type": "stream",
     "text": [
      "/tmp/ipykernel_6450/4031512513.py:4: FutureWarning: Series.__getitem__ treating keys as positions is deprecated. In a future version, integer keys will always be treated as labels (consistent with DataFrame behavior). To access a value by position, use `ser.iloc[pos]`\n",
      "  s1[0]\n"
     ]
    },
    {
     "data": {
      "text/plain": [
       "np.int64(1)"
      ]
     },
     "execution_count": 17,
     "metadata": {},
     "output_type": "execute_result"
    }
   ],
   "source": [
    "# We can perform operations similar to Numpy arrays:\n",
    "# Selecting one item from the Pandas Series by means of its index:\n",
    "\n",
    "s1[0]"
   ]
  },
  {
   "cell_type": "markdown",
   "id": "f841f807",
   "metadata": {},
   "source": []
  },
  {
   "cell_type": "code",
   "execution_count": 18,
   "id": "2d838962",
   "metadata": {},
   "outputs": [
    {
     "data": {
      "text/plain": [
       "np.int64(1)"
      ]
     },
     "execution_count": 18,
     "metadata": {},
     "output_type": "execute_result"
    }
   ],
   "source": [
    "s1['a']"
   ]
  },
  {
   "cell_type": "code",
   "execution_count": 19,
   "id": "cd5d75ec",
   "metadata": {},
   "outputs": [
    {
     "data": {
      "text/plain": [
       "np.int64(1)"
      ]
     },
     "execution_count": 19,
     "metadata": {},
     "output_type": "execute_result"
    }
   ],
   "source": [
    "s2[0]"
   ]
  },
  {
   "cell_type": "code",
   "execution_count": 20,
   "id": "9e7dd245",
   "metadata": {},
   "outputs": [
    {
     "name": "stderr",
     "output_type": "stream",
     "text": [
      "/tmp/ipykernel_6450/3810037830.py:2: FutureWarning: Series.__getitem__ treating keys as positions is deprecated. In a future version, integer keys will always be treated as labels (consistent with DataFrame behavior). To access a value by position, use `ser.iloc[pos]`\n",
      "  s1[[1, 4]]\n"
     ]
    },
    {
     "data": {
      "text/plain": [
       "b    2\n",
       "e    5\n",
       "dtype: int64"
      ]
     },
     "execution_count": 20,
     "metadata": {},
     "output_type": "execute_result"
    }
   ],
   "source": [
    "# Selecting several items from the Pandas Series by means of its index:\n",
    "s1[[1, 4]]"
   ]
  },
  {
   "cell_type": "code",
   "execution_count": 21,
   "id": "5fbc5dfc",
   "metadata": {},
   "outputs": [
    {
     "data": {
      "text/plain": [
       "b    2\n",
       "e    5\n",
       "dtype: int64"
      ]
     },
     "execution_count": 21,
     "metadata": {},
     "output_type": "execute_result"
    }
   ],
   "source": [
    "s1[['b', 'e']]"
   ]
  },
  {
   "cell_type": "code",
   "execution_count": 22,
   "id": "9a35dd44",
   "metadata": {},
   "outputs": [
    {
     "data": {
      "text/plain": [
       "1    2\n",
       "4    5\n",
       "dtype: int64"
      ]
     },
     "execution_count": 22,
     "metadata": {},
     "output_type": "execute_result"
    }
   ],
   "source": [
    "s2[[1, 4]]"
   ]
  },
  {
   "cell_type": "code",
   "execution_count": 23,
   "id": "dde36937",
   "metadata": {},
   "outputs": [
    {
     "data": {
      "text/plain": [
       "c    3\n",
       "d    4\n",
       "e    5\n",
       "dtype: int64"
      ]
     },
     "execution_count": 23,
     "metadata": {},
     "output_type": "execute_result"
    }
   ],
   "source": [
    "# Get the series starting from an element:\n",
    "s1[2:]"
   ]
  },
  {
   "cell_type": "code",
   "execution_count": 24,
   "id": "563ec468",
   "metadata": {},
   "outputs": [
    {
     "data": {
      "text/plain": [
       "2    3\n",
       "3    4\n",
       "4    5\n",
       "dtype: int64"
      ]
     },
     "execution_count": 24,
     "metadata": {},
     "output_type": "execute_result"
    }
   ],
   "source": [
    "s2[2:]"
   ]
  },
  {
   "cell_type": "code",
   "execution_count": 26,
   "id": "43998fce",
   "metadata": {},
   "outputs": [
    {
     "data": {
      "text/plain": [
       "c    3\n",
       "d    4\n",
       "e    5\n",
       "dtype: int64"
      ]
     },
     "execution_count": 26,
     "metadata": {},
     "output_type": "execute_result"
    }
   ],
   "source": [
    "# Get the series up to one element:\n",
    "s1[2:]"
   ]
  },
  {
   "cell_type": "code",
   "execution_count": 27,
   "id": "76712c3f",
   "metadata": {},
   "outputs": [
    {
     "data": {
      "text/plain": [
       "0    1\n",
       "1    2\n",
       "dtype: int64"
      ]
     },
     "execution_count": 27,
     "metadata": {},
     "output_type": "execute_result"
    }
   ],
   "source": [
    "s2[:2]"
   ]
  },
  {
   "cell_type": "code",
   "execution_count": 28,
   "id": "2f5f023b",
   "metadata": {},
   "outputs": [],
   "source": [
    "# We can perform operations like a dictionary:"
   ]
  },
  {
   "cell_type": "code",
   "execution_count": 42,
   "id": "be38d9a9",
   "metadata": {},
   "outputs": [
    {
     "name": "stdout",
     "output_type": "stream",
     "text": [
      "a    99\n",
      "b    99\n",
      "c     3\n",
      "d     4\n",
      "e     5\n",
      "dtype: int64\n"
     ]
    },
    {
     "name": "stderr",
     "output_type": "stream",
     "text": [
      "/tmp/ipykernel_6450/2971197163.py:2: FutureWarning: Series.__setitem__ treating keys as positions is deprecated. In a future version, integer keys will always be treated as labels (consistent with DataFrame behavior). To set a value by position, use `ser.iloc[pos] = value`\n",
      "  s1[1] = 99\n"
     ]
    }
   ],
   "source": [
    "# Assign a value:\n",
    "s1[1] = 99\n",
    "print(s1)"
   ]
  },
  {
   "cell_type": "code",
   "execution_count": 34,
   "id": "5f997d04",
   "metadata": {},
   "outputs": [
    {
     "name": "stdout",
     "output_type": "stream",
     "text": [
      "0     1\n",
      "1    99\n",
      "2     3\n",
      "3     4\n",
      "4     5\n",
      "dtype: int64\n"
     ]
    }
   ],
   "source": [
    "s2[1] = 99\n",
    "print(s2)"
   ]
  },
  {
   "cell_type": "code",
   "execution_count": 47,
   "id": "03c12561",
   "metadata": {},
   "outputs": [
    {
     "name": "stdout",
     "output_type": "stream",
     "text": [
      "a    1\n",
      "b    2\n",
      "c    3\n",
      "d    4\n",
      "e    5\n",
      "dtype: int64\n"
     ]
    },
    {
     "data": {
      "text/plain": [
       "np.int64(2)"
      ]
     },
     "execution_count": 47,
     "metadata": {},
     "output_type": "execute_result"
    }
   ],
   "source": [
    "# Get a value by index (like dictionary key):\n",
    "print(s)\n",
    "s.get('b')"
   ]
  },
  {
   "cell_type": "code",
   "execution_count": 50,
   "id": "b0ca0767",
   "metadata": {},
   "outputs": [],
   "source": [
    "# Here are some powerful vectorized operations that let us perform quickly calculations,for example:\n",
    "# Add, subtract, multiply, divide, power, and almost any NumPy function that accepts NumPy arrays.\n",
    "## s1 + 2\n",
    "## s1 - 2\n",
    "## s1 * 2\n",
    "## s1 / 2\n",
    "## s1 ** 2\n",
    "## np.exp(s1)"
   ]
  }
 ],
 "metadata": {
  "kernelspec": {
   "display_name": "venv",
   "language": "python",
   "name": "python3"
  },
  "language_info": {
   "codemirror_mode": {
    "name": "ipython",
    "version": 3
   },
   "file_extension": ".py",
   "mimetype": "text/x-python",
   "name": "python",
   "nbconvert_exporter": "python",
   "pygments_lexer": "ipython3",
   "version": "3.12.3"
  }
 },
 "nbformat": 4,
 "nbformat_minor": 5
}
